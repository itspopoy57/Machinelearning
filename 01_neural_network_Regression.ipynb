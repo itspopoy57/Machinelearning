{
  "nbformat": 4,
  "nbformat_minor": 0,
  "metadata": {
    "colab": {
      "provenance": [],
      "authorship_tag": "ABX9TyNUMOI47r++lnU9QcX68NQW",
      "include_colab_link": true
    },
    "kernelspec": {
      "name": "python3",
      "display_name": "Python 3"
    },
    "language_info": {
      "name": "python"
    }
  },
  "cells": [
    {
      "cell_type": "markdown",
      "metadata": {
        "id": "view-in-github",
        "colab_type": "text"
      },
      "source": [
        "<a href=\"https://colab.research.google.com/github/itspopoy57/Machinelearning/blob/main/01_neural_network_Regression.ipynb\" target=\"_parent\"><img src=\"https://colab.research.google.com/assets/colab-badge.svg\" alt=\"Open In Colab\"/></a>"
      ]
    },
    {
      "cell_type": "code",
      "execution_count": null,
      "metadata": {
        "id": "WealIK4IVMPG"
      },
      "outputs": [],
      "source": []
    },
    {
      "cell_type": "markdown",
      "source": [
        "# 00 Regression problems\n"
      ],
      "metadata": {
        "id": "hAfbY7XvVM1n"
      }
    },
    {
      "cell_type": "markdown",
      "source": [
        "## intro to regression"
      ],
      "metadata": {
        "id": "9-0qSBxxVlYz"
      }
    },
    {
      "cell_type": "code",
      "source": [
        "import tensorflow as tf\n",
        "tf.__version__"
      ],
      "metadata": {
        "colab": {
          "base_uri": "https://localhost:8080/",
          "height": 36
        },
        "id": "FPWAym77Vipw",
        "outputId": "7824aa88-6b02-4804-da0f-d27d184486d4"
      },
      "execution_count": 1,
      "outputs": [
        {
          "output_type": "execute_result",
          "data": {
            "text/plain": [
              "'2.12.0'"
            ],
            "application/vnd.google.colaboratory.intrinsic+json": {
              "type": "string"
            }
          },
          "metadata": {},
          "execution_count": 1
        }
      ]
    },
    {
      "cell_type": "markdown",
      "source": [
        "##Create data to view and fit\n"
      ],
      "metadata": {
        "id": "l_ehDvg-hywn"
      }
    },
    {
      "cell_type": "code",
      "source": [
        "import numpy as np\n",
        "import matplotlib.pyplot as plt\n",
        "\n",
        "\n",
        "#create the features\n",
        "#capital variables when making the matrix or tensor\n",
        "X = np.array([-7.0, -4.0 , -1.0 , 2.0, 5.0, 8.0, 11.0, 14.0 ])\n",
        "\n",
        "#creating the labels\n",
        "y = np.array([3.0, 6.0, 9.0, 12.0, 15.0, 18.0, 21.0, 24.0,])\n",
        "\n",
        "#visualize it\n",
        "plt.scatter(X,y)"
      ],
      "metadata": {
        "colab": {
          "base_uri": "https://localhost:8080/",
          "height": 452
        },
        "id": "w4X847Y_Vi33",
        "outputId": "24ee1eb7-ebf8-4cbd-d5c0-7d8749882dc9"
      },
      "execution_count": 2,
      "outputs": [
        {
          "output_type": "execute_result",
          "data": {
            "text/plain": [
              "<matplotlib.collections.PathCollection at 0x79edf293d090>"
            ]
          },
          "metadata": {},
          "execution_count": 2
        },
        {
          "output_type": "display_data",
          "data": {
            "text/plain": [
              "<Figure size 640x480 with 1 Axes>"
            ],
            "image/png": "[encoded data removed]"
          },
          "metadata": {}
        }
      ]
    },
    {
      "cell_type": "code",
      "source": [
        "y == X+10"
      ],
      "metadata": {
        "colab": {
          "base_uri": "https://localhost:8080/"
        },
        "id": "SNN5soQrVQq2",
        "outputId": "961a5dc4-8481-4164-93b0-532e8084296a"
      },
      "execution_count": 3,
      "outputs": [
        {
          "output_type": "execute_result",
          "data": {
            "text/plain": [
              "array([ True,  True,  True,  True,  True,  True,  True,  True])"
            ]
          },
          "metadata": {},
          "execution_count": 3
        }
      ]
    },
    {
      "cell_type": "code",
      "source": [
        "y.shape , X.shape"
      ],
      "metadata": {
        "colab": {
          "base_uri": "https://localhost:8080/"
        },
        "id": "LMMte0fY29sl",
        "outputId": "830abd82-7491-462a-c6cd-a2de6320eee2"
      },
      "execution_count": 4,
      "outputs": [
        {
          "output_type": "execute_result",
          "data": {
            "text/plain": [
              "((8,), (8,))"
            ]
          },
          "metadata": {},
          "execution_count": 4
        }
      ]
    },
    {
      "cell_type": "markdown",
      "source": [
        "##Input Output shapes"
      ],
      "metadata": {
        "id": "1DbGTjzF4Ov9"
      }
    },
    {
      "cell_type": "markdown",
      "source": [
        "lets create a demo tensor for our housing prediction prolbem"
      ],
      "metadata": {
        "id": "Qm6P9J9L4SQR"
      }
    },
    {
      "cell_type": "code",
      "source": [
        "house_info = tf.constant([\"bedroom\" , \"bathroom\", \"garage\"])\n",
        "house_price = tf.constant([939700])\n",
        "house_info, house_price"
      ],
      "metadata": {
        "colab": {
          "base_uri": "https://localhost:8080/"
        },
        "id": "WkWwGY8x3vTi",
        "outputId": "c485c63d-d5a1-4238-bd7f-09d01b9257a5"
      },
      "execution_count": 5,
      "outputs": [
        {
          "output_type": "execute_result",
          "data": {
            "text/plain": [
              "(<tf.Tensor: shape=(3,), dtype=string, numpy=array([b'bedroom', b'bathroom', b'garage'], dtype=object)>,\n",
              " <tf.Tensor: shape=(1,), dtype=int32, numpy=array([939700], dtype=int32)>)"
            ]
          },
          "metadata": {},
          "execution_count": 5
        }
      ]
    },
    {
      "cell_type": "code",
      "source": [
        "input_shape = X.shape\n",
        "output_shape = y.shape\n",
        "input_shape, output_shape"
      ],
      "metadata": {
        "colab": {
          "base_uri": "https://localhost:8080/"
        },
        "id": "kZj_JpLK4xj9",
        "outputId": "011cdb1a-3747-46cf-d25e-ab71e00324e3"
      },
      "execution_count": 6,
      "outputs": [
        {
          "output_type": "execute_result",
          "data": {
            "text/plain": [
              "((8,), (8,))"
            ]
          },
          "metadata": {},
          "execution_count": 6
        }
      ]
    },
    {
      "cell_type": "code",
      "source": [
        "#turn all our numpy array to tensors\n",
        "\n",
        "X = tf.cast(tf.constant(X), dtype = tf.float32)\n",
        "y = tf.cast(tf.constant(y), dtype = tf.float32)\n",
        "X.ndim, y.ndim, X.shape, y.shape"
      ],
      "metadata": {
        "colab": {
          "base_uri": "https://localhost:8080/"
        },
        "id": "vUiuTNiJ5Wi3",
        "outputId": "733b6fdf-e425-487c-ca83-fa463b79eef3"
      },
      "execution_count": 7,
      "outputs": [
        {
          "output_type": "execute_result",
          "data": {
            "text/plain": [
              "(1, 1, TensorShape([8]), TensorShape([8]))"
            ]
          },
          "metadata": {},
          "execution_count": 7
        }
      ]
    },
    {
      "cell_type": "code",
      "source": [
        "plt.scatter(X, y)"
      ],
      "metadata": {
        "colab": {
          "base_uri": "https://localhost:8080/",
          "height": 452
        },
        "id": "K_BCOB3zXMx3",
        "outputId": "dc7f93d3-7cbf-453e-fdf0-e2f372333429"
      },
      "execution_count": 8,
      "outputs": [
        {
          "output_type": "execute_result",
          "data": {
            "text/plain": [
              "<matplotlib.collections.PathCollection at 0x79edf083ffd0>"
            ]
          },
          "metadata": {},
          "execution_count": 8
        },
        {
          "output_type": "display_data",
          "data": {
            "text/plain": [
              "<Figure size 640x480 with 1 Axes>"
            ],
            "image/png": "[encoded data removed]"
          },
          "metadata": {}
        }
      ]
    },
    {
      "cell_type": "markdown",
      "source": [
        "##Steps on Modeling on tensorFlow"
      ],
      "metadata": {
        "id": "bWMKCQWyZAKl"
      }
    },
    {
      "cell_type": "markdown",
      "source": [
        "here\n",
        "1. **Creating a Model** - Define the input and output Layers, as well as\n",
        "    Hidden layers of a deep learning model\n",
        "2.** Compile the model**\n",
        "  - define the loss function ( the function that tell use how wrong it is) and the Optimizer (tells our model how to improve and patters our samples / Model) and Evaluation metrics ( to interpret the performance of our model)\n",
        "\n",
        "3. **Fitting a Model **- letting the models find patters between X & y\n",
        "  or Features and labels.\n",
        "\n"
      ],
      "metadata": {
        "id": "m-Mu1Gv6ZL_o"
      }
    },
    {
      "cell_type": "code",
      "source": [
        "from keras.engine.sequential import Sequential\n",
        "from keras.api._v2 import keras\n",
        "#set random Seed\n",
        "tf.random.set_seed(42)\n",
        "\n",
        "# 1 create model using sequential API\n",
        "model = tf.keras.Sequential([\n",
        "    tf.keras.layers.Dense(1)\n",
        "    #we put one because we want to get to predict 1 number and return 1 number\n",
        "    #or input one number then predict one number\n",
        "])\n",
        "\n",
        "#or you can do it like this\n",
        "#model = tf.keras.Sequential()\n",
        "#model.add(tf.keras.layers.Dense(1))\n",
        "\n",
        "# 2. Compile\n",
        "model.compile(loss=tf.keras.losses.mae, #mae is mean absolute error\n",
        "              optimizer=tf.keras.optimizers.SGD(), #STG is short for stochastic gradient descent\n",
        "              metrics=[\"mae\"])\n",
        "\n",
        "\n",
        "# 3. Fit the model for 5 laps\n",
        "    #model.fit(X, y , epochs=5) - have to change this because of the update 2.7+\n",
        "model.fit(tf.expand_dims(X, axis=-1), y, epochs = 5)\n"
      ],
      "metadata": {
        "colab": {
          "base_uri": "https://localhost:8080/"
        },
        "id": "aVEFK7jqY_qi",
        "outputId": "e7d5ffed-569f-4bf2-9792-5b412b4b07c6"
      },
      "execution_count": 9,
      "outputs": [
        {
          "output_type": "stream",
          "name": "stdout",
          "text": [
            "Epoch 1/5\n",
            "1/1 [==============================] - 2s 2s/step - loss: 10.2908 - mae: 10.2908\n",
            "Epoch 2/5\n",
            "1/1 [==============================] - 0s 27ms/step - loss: 10.1583 - mae: 10.1583\n",
            "Epoch 3/5\n",
            "1/1 [==============================] - 0s 14ms/step - loss: 10.0258 - mae: 10.0258\n",
            "Epoch 4/5\n",
            "1/1 [==============================] - 0s 13ms/step - loss: 9.8933 - mae: 9.8933\n",
            "Epoch 5/5\n",
            "1/1 [==============================] - 0s 11ms/step - loss: 9.7608 - mae: 9.7608\n"
          ]
        },
        {
          "output_type": "execute_result",
          "data": {
            "text/plain": [
              "<keras.callbacks.History at 0x79eded605390>"
            ]
          },
          "metadata": {},
          "execution_count": 9
        }
      ]
    },
    {
      "cell_type": "code",
      "source": [
        "#check X, y\n",
        "X, y"
      ],
      "metadata": {
        "colab": {
          "base_uri": "https://localhost:8080/"
        },
        "id": "fbRbxZIrXjmu",
        "outputId": "e1657df8-0cd6-44c6-d9ad-847e17de6970"
      },
      "execution_count": 10,
      "outputs": [
        {
          "output_type": "execute_result",
          "data": {
            "text/plain": [
              "(<tf.Tensor: shape=(8,), dtype=float32, numpy=array([-7., -4., -1.,  2.,  5.,  8., 11., 14.], dtype=float32)>,\n",
              " <tf.Tensor: shape=(8,), dtype=float32, numpy=array([ 3.,  6.,  9., 12., 15., 18., 21., 24.], dtype=float32)>)"
            ]
          },
          "metadata": {},
          "execution_count": 10
        }
      ]
    },
    {
      "cell_type": "code",
      "source": [
        "#try to make a prediction using our trained model\n",
        "# the input is X we  predicting y so the 17 is X\n",
        "y_pred  = model.predict([17.0])\n",
        "y_pred"
      ],
      "metadata": {
        "colab": {
          "base_uri": "https://localhost:8080/"
        },
        "id": "XNr3bn67lNtF",
        "outputId": "c7a37dc0-ed2e-421d-8113-71557b7634ca"
      },
      "execution_count": 11,
      "outputs": [
        {
          "output_type": "stream",
          "name": "stdout",
          "text": [
            "1/1 [==============================] - 0s 276ms/step\n"
          ]
        },
        {
          "output_type": "execute_result",
          "data": {
            "text/plain": [
              "array([[18.612425]], dtype=float32)"
            ]
          },
          "metadata": {},
          "execution_count": 11
        }
      ]
    },
    {
      "cell_type": "markdown",
      "source": [
        "now that is wrong lol\n"
      ],
      "metadata": {
        "id": "6vMZ_sRmlmPV"
      }
    },
    {
      "cell_type": "markdown",
      "source": [
        "##Now we have to know how to improve the model\n",
        "\n",
        "1. we can improve our model by altering the steps we tppk\n",
        "to create a  model.\n",
        "\n",
        "    - increase the the number of the hiddenlayers change the\n",
        "      activation fuction of each layer\n",
        "    -\n",
        "2. compiling a model\n",
        "    - we might change the optimization function or perhaps the learning rate\n",
        "\n",
        "3. fitting a model\n",
        "    - epochs -- leave it training for longer"
      ],
      "metadata": {
        "id": "lLZeW675l2ys"
      }
    },
    {
      "cell_type": "code",
      "source": [
        "from keras.engine.training import optimizer\n",
        "from keras.engine.sequential import Sequential\n",
        "from keras.api._v2 import keras\n",
        "\n",
        "# redoing it here\n",
        "\n",
        "#Step 1 :\n",
        "\n",
        "modelp2 = tf.keras.Sequential([\n",
        "    tf.keras.layers.Dense(100, activation=None),\n",
        "    tf.keras.layers.Dense(100, activation=None),\n",
        "    tf.keras.layers.Dense(100, activation=None),\n",
        "    tf.keras.layers.Dense(100, activation=None),\n",
        "    tf.keras.layers.Dense(1)\n",
        "])\n",
        "\n",
        "#step 2:\n",
        "modelp2.compile(loss=tf.keras.losses.mae,\n",
        "                #optimizer=tf.keras.optimizers.SGD(),\n",
        "                optimizer=tf.keras.optimizers.Adam(lr=0.0001),\n",
        "                metrics=[\"mae\"])\n",
        "\n",
        "#step 3\n",
        "  #x = input , y = output , epoch\n",
        "modelp2.fit(tf.expand_dims(X, axis=-1), y, epochs=500)\n",
        "\n"
      ],
      "metadata": {
        "colab": {
          "base_uri": "https://localhost:8080/"
        },
        "id": "n_bfM3nnlbKp",
        "outputId": "1e3cc656-133c-435b-90b7-a56702eadb3d"
      },
      "execution_count": 12,
      "outputs": [
        {
          "output_type": "stream",
          "name": "stderr",
          "text": [
            "WARNING:absl:`lr` is deprecated in Keras optimizer, please use `learning_rate` or use the legacy optimizer, e.g.,tf.keras.optimizers.legacy.Adam.\n"
          ]
        },
        {
          "output_type": "stream",
          "name": "stdout",
          "text": [
            "Epoch 1/500\n",
            "1/1 [==============================] - 5s 5s/step - loss: 12.7149 - mae: 12.7149\n",
            "Epoch 2/500\n",
            "1/1 [==============================] - 0s 27ms/step - loss: 11.3076 - mae: 11.3076\n",
            "Epoch 3/500\n",
            "1/1 [==============================] - 0s 17ms/step - loss: 9.8518 - mae: 9.8518\n",
            "Epoch 4/500\n",
            "1/1 [==============================] - 0s 15ms/step - loss: 8.2864 - mae: 8.2864\n",
            "Epoch 5/500\n",
            "1/1 [==============================] - 0s 27ms/step - loss: 7.4335 - mae: 7.4335\n",
            "Epoch 6/500\n",
            "1/1 [==============================] - 0s 16ms/step - loss: 8.0580 - mae: 8.0580\n",
            "Epoch 7/500\n",
            "1/1 [==============================] - 0s 19ms/step - loss: 8.1954 - mae: 8.1954\n",
            "Epoch 8/500\n",
            "1/1 [==============================] - 0s 20ms/step - loss: 7.8120 - mae: 7.8120\n",
            "Epoch 9/500\n",
            "1/1 [==============================] - 0s 32ms/step - loss: 7.2936 - mae: 7.2936\n",
            "Epoch 10/500\n",
            "1/1 [==============================] - 0s 21ms/step - loss: 7.1843 - mae: 7.1843\n",
            "Epoch 11/500\n",
            "1/1 [==============================] - 0s 22ms/step - loss: 7.7541 - mae: 7.7541\n",
            "Epoch 12/500\n",
            "1/1 [==============================] - 0s 38ms/step - loss: 7.9769 - mae: 7.9769\n",
            "Epoch 13/500\n",
            "1/1 [==============================] - 0s 16ms/step - loss: 7.9302 - mae: 7.9302\n",
            "Epoch 14/500\n",
            "1/1 [==============================] - 0s 16ms/step - loss: 7.6713 - mae: 7.6713\n",
            "Epoch 15/500\n",
            "1/1 [==============================] - 0s 23ms/step - loss: 7.2299 - mae: 7.2299\n",
            "Epoch 16/500\n",
            "1/1 [==============================] - 0s 13ms/step - loss: 6.9573 - mae: 6.9573\n",
            "Epoch 17/500\n",
            "1/1 [==============================] - 0s 24ms/step - loss: 7.0867 - mae: 7.0867\n",
            "Epoch 18/500\n",
            "1/1 [==============================] - 0s 18ms/step - loss: 7.2784 - mae: 7.2784\n",
            "Epoch 19/500\n",
            "1/1 [==============================] - 0s 14ms/step - loss: 7.3142 - mae: 7.3142\n",
            "Epoch 20/500\n",
            "1/1 [==============================] - 0s 16ms/step - loss: 7.2135 - mae: 7.2135\n",
            "Epoch 21/500\n",
            "1/1 [==============================] - 0s 15ms/step - loss: 7.0004 - mae: 7.0004\n",
            "Epoch 22/500\n",
            "1/1 [==============================] - 0s 15ms/step - loss: 6.7184 - mae: 6.7184\n",
            "Epoch 23/500\n",
            "1/1 [==============================] - 0s 18ms/step - loss: 6.6959 - mae: 6.6959\n",
            "Epoch 24/500\n",
            "1/1 [==============================] - 0s 15ms/step - loss: 6.6713 - mae: 6.6713\n",
            "Epoch 25/500\n",
            "1/1 [==============================] - 0s 14ms/step - loss: 6.8329 - mae: 6.8329\n",
            "Epoch 26/500\n",
            "1/1 [==============================] - 0s 16ms/step - loss: 6.8012 - mae: 6.8012\n",
            "Epoch 27/500\n",
            "1/1 [==============================] - 0s 16ms/step - loss: 6.5770 - mae: 6.5770\n",
            "Epoch 28/500\n",
            "1/1 [==============================] - 0s 20ms/step - loss: 6.4841 - mae: 6.4841\n",
            "Epoch 29/500\n",
            "1/1 [==============================] - 0s 19ms/step - loss: 6.4621 - mae: 6.4621\n",
            "Epoch 30/500\n",
            "1/1 [==============================] - 0s 16ms/step - loss: 6.5370 - mae: 6.5370\n",
            "Epoch 31/500\n",
            "1/1 [==============================] - 0s 18ms/step - loss: 6.4978 - mae: 6.4978\n",
            "Epoch 32/500\n",
            "1/1 [==============================] - 0s 16ms/step - loss: 6.3566 - mae: 6.3566\n",
            "Epoch 33/500\n",
            "1/1 [==============================] - 0s 16ms/step - loss: 6.2408 - mae: 6.2408\n",
            "Epoch 34/500\n",
            "1/1 [==============================] - 0s 14ms/step - loss: 6.2082 - mae: 6.2082\n",
            "Epoch 35/500\n",
            "1/1 [==============================] - 0s 21ms/step - loss: 6.1713 - mae: 6.1713\n",
            "Epoch 36/500\n",
            "1/1 [==============================] - 0s 18ms/step - loss: 6.2408 - mae: 6.2408\n",
            "Epoch 37/500\n",
            "1/1 [==============================] - 0s 15ms/step - loss: 6.1137 - mae: 6.1137\n",
            "Epoch 38/500\n",
            "1/1 [==============================] - 0s 16ms/step - loss: 5.9863 - mae: 5.9863\n",
            "Epoch 39/500\n",
            "1/1 [==============================] - 0s 19ms/step - loss: 5.8997 - mae: 5.8997\n",
            "Epoch 40/500\n",
            "1/1 [==============================] - 0s 25ms/step - loss: 5.9752 - mae: 5.9752\n",
            "Epoch 41/500\n",
            "1/1 [==============================] - 0s 26ms/step - loss: 5.9754 - mae: 5.9754\n",
            "Epoch 42/500\n",
            "1/1 [==============================] - 0s 15ms/step - loss: 5.8577 - mae: 5.8577\n",
            "Epoch 43/500\n",
            "1/1 [==============================] - 0s 14ms/step - loss: 5.6328 - mae: 5.6328\n",
            "Epoch 44/500\n",
            "1/1 [==============================] - 0s 15ms/step - loss: 5.5698 - mae: 5.5698\n",
            "Epoch 45/500\n",
            "1/1 [==============================] - 0s 15ms/step - loss: 5.6437 - mae: 5.6437\n",
            "Epoch 46/500\n",
            "1/1 [==============================] - 0s 21ms/step - loss: 5.5974 - mae: 5.5974\n",
            "Epoch 47/500\n",
            "1/1 [==============================] - 0s 28ms/step - loss: 5.3249 - mae: 5.3249\n",
            "Epoch 48/500\n",
            "1/1 [==============================] - 0s 18ms/step - loss: 5.2032 - mae: 5.2032\n",
            "Epoch 49/500\n",
            "1/1 [==============================] - 0s 16ms/step - loss: 5.1061 - mae: 5.1061\n",
            "Epoch 50/500\n",
            "1/1 [==============================] - 0s 16ms/step - loss: 5.0215 - mae: 5.0215\n",
            "Epoch 51/500\n",
            "1/1 [==============================] - 0s 16ms/step - loss: 4.8414 - mae: 4.8414\n",
            "Epoch 52/500\n",
            "1/1 [==============================] - 0s 26ms/step - loss: 4.7170 - mae: 4.7170\n",
            "Epoch 53/500\n",
            "1/1 [==============================] - 0s 16ms/step - loss: 4.5752 - mae: 4.5752\n",
            "Epoch 54/500\n",
            "1/1 [==============================] - 0s 14ms/step - loss: 4.4142 - mae: 4.4142\n",
            "Epoch 55/500\n",
            "1/1 [==============================] - 0s 24ms/step - loss: 4.2316 - mae: 4.2316\n",
            "Epoch 56/500\n",
            "1/1 [==============================] - 0s 15ms/step - loss: 4.0246 - mae: 4.0246\n",
            "Epoch 57/500\n",
            "1/1 [==============================] - 0s 15ms/step - loss: 3.7898 - mae: 3.7898\n",
            "Epoch 58/500\n",
            "1/1 [==============================] - 0s 15ms/step - loss: 3.5232 - mae: 3.5232\n",
            "Epoch 59/500\n",
            "1/1 [==============================] - 0s 25ms/step - loss: 3.2201 - mae: 3.2201\n",
            "Epoch 60/500\n",
            "1/1 [==============================] - 0s 24ms/step - loss: 2.8915 - mae: 2.8915\n",
            "Epoch 61/500\n",
            "1/1 [==============================] - 0s 17ms/step - loss: 2.6184 - mae: 2.6184\n",
            "Epoch 62/500\n",
            "1/1 [==============================] - 0s 16ms/step - loss: 2.1799 - mae: 2.1799\n",
            "Epoch 63/500\n",
            "1/1 [==============================] - 0s 14ms/step - loss: 1.6661 - mae: 1.6661\n",
            "Epoch 64/500\n",
            "1/1 [==============================] - 0s 16ms/step - loss: 1.7171 - mae: 1.7171\n",
            "Epoch 65/500\n",
            "1/1 [==============================] - 0s 20ms/step - loss: 0.9605 - mae: 0.9605\n",
            "Epoch 66/500\n",
            "1/1 [==============================] - 0s 19ms/step - loss: 1.3046 - mae: 1.3046\n",
            "Epoch 67/500\n",
            "1/1 [==============================] - 0s 19ms/step - loss: 0.8098 - mae: 0.8098\n",
            "Epoch 68/500\n",
            "1/1 [==============================] - 0s 18ms/step - loss: 2.2156 - mae: 2.2156\n",
            "Epoch 69/500\n",
            "1/1 [==============================] - 0s 20ms/step - loss: 2.1321 - mae: 2.1321\n",
            "Epoch 70/500\n",
            "1/1 [==============================] - 0s 15ms/step - loss: 1.6959 - mae: 1.6959\n",
            "Epoch 71/500\n",
            "1/1 [==============================] - 0s 28ms/step - loss: 2.0740 - mae: 2.0740\n",
            "Epoch 72/500\n",
            "1/1 [==============================] - 0s 30ms/step - loss: 1.5589 - mae: 1.5589\n",
            "Epoch 73/500\n",
            "1/1 [==============================] - 0s 25ms/step - loss: 1.5146 - mae: 1.5146\n",
            "Epoch 74/500\n",
            "1/1 [==============================] - 0s 25ms/step - loss: 1.2167 - mae: 1.2167\n",
            "Epoch 75/500\n",
            "1/1 [==============================] - 0s 23ms/step - loss: 0.7857 - mae: 0.7857\n",
            "Epoch 76/500\n",
            "1/1 [==============================] - 0s 16ms/step - loss: 0.9439 - mae: 0.9439\n",
            "Epoch 77/500\n",
            "1/1 [==============================] - 0s 17ms/step - loss: 0.2030 - mae: 0.2030\n",
            "Epoch 78/500\n",
            "1/1 [==============================] - 0s 17ms/step - loss: 0.8308 - mae: 0.8308\n",
            "Epoch 79/500\n",
            "1/1 [==============================] - 0s 25ms/step - loss: 0.8981 - mae: 0.8981\n",
            "Epoch 80/500\n",
            "1/1 [==============================] - 0s 15ms/step - loss: 0.4964 - mae: 0.4964\n",
            "Epoch 81/500\n",
            "1/1 [==============================] - 0s 30ms/step - loss: 0.9055 - mae: 0.9055\n",
            "Epoch 82/500\n",
            "1/1 [==============================] - 0s 14ms/step - loss: 0.5356 - mae: 0.5356\n",
            "Epoch 83/500\n",
            "1/1 [==============================] - 0s 22ms/step - loss: 0.7322 - mae: 0.7322\n",
            "Epoch 84/500\n",
            "1/1 [==============================] - 0s 32ms/step - loss: 0.7585 - mae: 0.7585\n",
            "Epoch 85/500\n",
            "1/1 [==============================] - 0s 25ms/step - loss: 0.2583 - mae: 0.2583\n",
            "Epoch 86/500\n",
            "1/1 [==============================] - 0s 17ms/step - loss: 0.2155 - mae: 0.2155\n",
            "Epoch 87/500\n",
            "1/1 [==============================] - 0s 17ms/step - loss: 0.7585 - mae: 0.7585\n",
            "Epoch 88/500\n",
            "1/1 [==============================] - 0s 19ms/step - loss: 0.4278 - mae: 0.4278\n",
            "Epoch 89/500\n",
            "1/1 [==============================] - 0s 32ms/step - loss: 0.8698 - mae: 0.8698\n",
            "Epoch 90/500\n",
            "1/1 [==============================] - 0s 21ms/step - loss: 0.9414 - mae: 0.9414\n",
            "Epoch 91/500\n",
            "1/1 [==============================] - 0s 32ms/step - loss: 0.0451 - mae: 0.0451\n",
            "Epoch 92/500\n",
            "1/1 [==============================] - 0s 34ms/step - loss: 1.6318 - mae: 1.6318\n",
            "Epoch 93/500\n",
            "1/1 [==============================] - 0s 14ms/step - loss: 2.2079 - mae: 2.2079\n",
            "Epoch 94/500\n",
            "1/1 [==============================] - 0s 14ms/step - loss: 1.9021 - mae: 1.9021\n",
            "Epoch 95/500\n",
            "1/1 [==============================] - 0s 18ms/step - loss: 0.8665 - mae: 0.8665\n",
            "Epoch 96/500\n",
            "1/1 [==============================] - 0s 28ms/step - loss: 0.9271 - mae: 0.9271\n",
            "Epoch 97/500\n",
            "1/1 [==============================] - 0s 33ms/step - loss: 1.6607 - mae: 1.6607\n",
            "Epoch 98/500\n",
            "1/1 [==============================] - 0s 34ms/step - loss: 1.5015 - mae: 1.5015\n",
            "Epoch 99/500\n",
            "1/1 [==============================] - 0s 29ms/step - loss: 0.6160 - mae: 0.6160\n",
            "Epoch 100/500\n",
            "1/1 [==============================] - 0s 24ms/step - loss: 1.0447 - mae: 1.0447\n",
            "Epoch 101/500\n",
            "1/1 [==============================] - 0s 25ms/step - loss: 1.7161 - mae: 1.7161\n",
            "Epoch 102/500\n",
            "1/1 [==============================] - 0s 26ms/step - loss: 1.6173 - mae: 1.6173\n",
            "Epoch 103/500\n",
            "1/1 [==============================] - 0s 36ms/step - loss: 0.8254 - mae: 0.8254\n",
            "Epoch 104/500\n",
            "1/1 [==============================] - 0s 15ms/step - loss: 0.6549 - mae: 0.6549\n",
            "Epoch 105/500\n",
            "1/1 [==============================] - 0s 15ms/step - loss: 1.2019 - mae: 1.2019\n",
            "Epoch 106/500\n",
            "1/1 [==============================] - 0s 14ms/step - loss: 0.9377 - mae: 0.9377\n",
            "Epoch 107/500\n",
            "1/1 [==============================] - 0s 16ms/step - loss: 0.0541 - mae: 0.0541\n",
            "Epoch 108/500\n",
            "1/1 [==============================] - 0s 15ms/step - loss: 0.4018 - mae: 0.4018\n",
            "Epoch 109/500\n",
            "1/1 [==============================] - 0s 22ms/step - loss: 0.0305 - mae: 0.0305\n",
            "Epoch 110/500\n",
            "1/1 [==============================] - 0s 17ms/step - loss: 0.5866 - mae: 0.5866\n",
            "Epoch 111/500\n",
            "1/1 [==============================] - 0s 26ms/step - loss: 0.4219 - mae: 0.4219\n",
            "Epoch 112/500\n",
            "1/1 [==============================] - 0s 26ms/step - loss: 0.4579 - mae: 0.4579\n",
            "Epoch 113/500\n",
            "1/1 [==============================] - 0s 43ms/step - loss: 0.6068 - mae: 0.6068\n",
            "Epoch 114/500\n",
            "1/1 [==============================] - 0s 17ms/step - loss: 0.2212 - mae: 0.2212\n",
            "Epoch 115/500\n",
            "1/1 [==============================] - 0s 23ms/step - loss: 0.7854 - mae: 0.7854\n",
            "Epoch 116/500\n",
            "1/1 [==============================] - 0s 32ms/step - loss: 0.8894 - mae: 0.8894\n",
            "Epoch 117/500\n",
            "1/1 [==============================] - 0s 22ms/step - loss: 0.3317 - mae: 0.3317\n",
            "Epoch 118/500\n",
            "1/1 [==============================] - 0s 17ms/step - loss: 0.8591 - mae: 0.8591\n",
            "Epoch 119/500\n",
            "1/1 [==============================] - 0s 15ms/step - loss: 1.2525 - mae: 1.2525\n",
            "Epoch 120/500\n",
            "1/1 [==============================] - 0s 26ms/step - loss: 0.9686 - mae: 0.9686\n",
            "Epoch 121/500\n",
            "1/1 [==============================] - 0s 24ms/step - loss: 0.1446 - mae: 0.1446\n",
            "Epoch 122/500\n",
            "1/1 [==============================] - 0s 24ms/step - loss: 0.9777 - mae: 0.9777\n",
            "Epoch 123/500\n",
            "1/1 [==============================] - 0s 19ms/step - loss: 1.2424 - mae: 1.2424\n",
            "Epoch 124/500\n",
            "1/1 [==============================] - 0s 19ms/step - loss: 0.8584 - mae: 0.8584\n",
            "Epoch 125/500\n",
            "1/1 [==============================] - 0s 32ms/step - loss: 0.2383 - mae: 0.2383\n",
            "Epoch 126/500\n",
            "1/1 [==============================] - 0s 33ms/step - loss: 0.5885 - mae: 0.5885\n",
            "Epoch 127/500\n",
            "1/1 [==============================] - 0s 16ms/step - loss: 0.4294 - mae: 0.4294\n",
            "Epoch 128/500\n",
            "1/1 [==============================] - 0s 44ms/step - loss: 0.2526 - mae: 0.2526\n",
            "Epoch 129/500\n",
            "1/1 [==============================] - 0s 27ms/step - loss: 0.2427 - mae: 0.2427\n",
            "Epoch 130/500\n",
            "1/1 [==============================] - 0s 29ms/step - loss: 0.3569 - mae: 0.3569\n",
            "Epoch 131/500\n",
            "1/1 [==============================] - 0s 20ms/step - loss: 0.3123 - mae: 0.3123\n",
            "Epoch 132/500\n",
            "1/1 [==============================] - 0s 23ms/step - loss: 0.3168 - mae: 0.3168\n",
            "Epoch 133/500\n",
            "1/1 [==============================] - 0s 36ms/step - loss: 0.2892 - mae: 0.2892\n",
            "Epoch 134/500\n",
            "1/1 [==============================] - 0s 21ms/step - loss: 0.2437 - mae: 0.2437\n",
            "Epoch 135/500\n",
            "1/1 [==============================] - 0s 31ms/step - loss: 0.1665 - mae: 0.1665\n",
            "Epoch 136/500\n",
            "1/1 [==============================] - 0s 26ms/step - loss: 0.3305 - mae: 0.3305\n",
            "Epoch 137/500\n",
            "1/1 [==============================] - 0s 19ms/step - loss: 0.1809 - mae: 0.1809\n",
            "Epoch 138/500\n",
            "1/1 [==============================] - 0s 27ms/step - loss: 0.4603 - mae: 0.4603\n",
            "Epoch 139/500\n",
            "1/1 [==============================] - 0s 22ms/step - loss: 0.4775 - mae: 0.4775\n",
            "Epoch 140/500\n",
            "1/1 [==============================] - 0s 46ms/step - loss: 0.0779 - mae: 0.0779\n",
            "Epoch 141/500\n",
            "1/1 [==============================] - 0s 41ms/step - loss: 0.1729 - mae: 0.1729\n",
            "Epoch 142/500\n",
            "1/1 [==============================] - 0s 42ms/step - loss: 0.2820 - mae: 0.2820\n",
            "Epoch 143/500\n",
            "1/1 [==============================] - 0s 42ms/step - loss: 0.1618 - mae: 0.1618\n",
            "Epoch 144/500\n",
            "1/1 [==============================] - 0s 41ms/step - loss: 0.3450 - mae: 0.3450\n",
            "Epoch 145/500\n",
            "1/1 [==============================] - 0s 39ms/step - loss: 0.2339 - mae: 0.2339\n",
            "Epoch 146/500\n",
            "1/1 [==============================] - 0s 20ms/step - loss: 0.4337 - mae: 0.4337\n",
            "Epoch 147/500\n",
            "1/1 [==============================] - 0s 42ms/step - loss: 0.4797 - mae: 0.4797\n",
            "Epoch 148/500\n",
            "1/1 [==============================] - 0s 40ms/step - loss: 0.1220 - mae: 0.1220\n",
            "Epoch 149/500\n",
            "1/1 [==============================] - 0s 42ms/step - loss: 0.1302 - mae: 0.1302\n",
            "Epoch 150/500\n",
            "1/1 [==============================] - 0s 35ms/step - loss: 0.3320 - mae: 0.3320\n",
            "Epoch 151/500\n",
            "1/1 [==============================] - 0s 47ms/step - loss: 0.2533 - mae: 0.2533\n",
            "Epoch 152/500\n",
            "1/1 [==============================] - 0s 37ms/step - loss: 0.2561 - mae: 0.2561\n",
            "Epoch 153/500\n",
            "1/1 [==============================] - 0s 38ms/step - loss: 0.1843 - mae: 0.1843\n",
            "Epoch 154/500\n",
            "1/1 [==============================] - 0s 34ms/step - loss: 0.4034 - mae: 0.4034\n",
            "Epoch 155/500\n",
            "1/1 [==============================] - 0s 44ms/step - loss: 0.4184 - mae: 0.4184\n",
            "Epoch 156/500\n",
            "1/1 [==============================] - 0s 43ms/step - loss: 0.1620 - mae: 0.1620\n",
            "Epoch 157/500\n",
            "1/1 [==============================] - 0s 37ms/step - loss: 0.2321 - mae: 0.2321\n",
            "Epoch 158/500\n",
            "1/1 [==============================] - 0s 36ms/step - loss: 0.1955 - mae: 0.1955\n",
            "Epoch 159/500\n",
            "1/1 [==============================] - 0s 33ms/step - loss: 0.0781 - mae: 0.0781\n",
            "Epoch 160/500\n",
            "1/1 [==============================] - 0s 28ms/step - loss: 0.4087 - mae: 0.4087\n",
            "Epoch 161/500\n",
            "1/1 [==============================] - 0s 31ms/step - loss: 0.3145 - mae: 0.3145\n",
            "Epoch 162/500\n",
            "1/1 [==============================] - 0s 24ms/step - loss: 0.3174 - mae: 0.3174\n",
            "Epoch 163/500\n",
            "1/1 [==============================] - 0s 24ms/step - loss: 0.3545 - mae: 0.3545\n",
            "Epoch 164/500\n",
            "1/1 [==============================] - 0s 43ms/step - loss: 0.1701 - mae: 0.1701\n",
            "Epoch 165/500\n",
            "1/1 [==============================] - 0s 25ms/step - loss: 0.2282 - mae: 0.2282\n",
            "Epoch 166/500\n",
            "1/1 [==============================] - 0s 53ms/step - loss: 0.2130 - mae: 0.2130\n",
            "Epoch 167/500\n",
            "1/1 [==============================] - 0s 16ms/step - loss: 0.1732 - mae: 0.1732\n",
            "Epoch 168/500\n",
            "1/1 [==============================] - 0s 22ms/step - loss: 0.2443 - mae: 0.2443\n",
            "Epoch 169/500\n",
            "1/1 [==============================] - 0s 34ms/step - loss: 0.0948 - mae: 0.0948\n",
            "Epoch 170/500\n",
            "1/1 [==============================] - 0s 49ms/step - loss: 0.4026 - mae: 0.4026\n",
            "Epoch 171/500\n",
            "1/1 [==============================] - 0s 43ms/step - loss: 0.3309 - mae: 0.3309\n",
            "Epoch 172/500\n",
            "1/1 [==============================] - 0s 28ms/step - loss: 0.2292 - mae: 0.2292\n",
            "Epoch 173/500\n",
            "1/1 [==============================] - 0s 36ms/step - loss: 0.2297 - mae: 0.2297\n",
            "Epoch 174/500\n",
            "1/1 [==============================] - 0s 53ms/step - loss: 0.2755 - mae: 0.2755\n",
            "Epoch 175/500\n",
            "1/1 [==============================] - 0s 36ms/step - loss: 0.2293 - mae: 0.2293\n",
            "Epoch 176/500\n",
            "1/1 [==============================] - 0s 33ms/step - loss: 0.3060 - mae: 0.3060\n",
            "Epoch 177/500\n",
            "1/1 [==============================] - 0s 32ms/step - loss: 0.2873 - mae: 0.2873\n",
            "Epoch 178/500\n",
            "1/1 [==============================] - 0s 30ms/step - loss: 0.2340 - mae: 0.2340\n",
            "Epoch 179/500\n",
            "1/1 [==============================] - 0s 35ms/step - loss: 0.2033 - mae: 0.2033\n",
            "Epoch 180/500\n",
            "1/1 [==============================] - 0s 44ms/step - loss: 0.3089 - mae: 0.3089\n",
            "Epoch 181/500\n",
            "1/1 [==============================] - 0s 34ms/step - loss: 0.2769 - mae: 0.2769\n",
            "Epoch 182/500\n",
            "1/1 [==============================] - 0s 36ms/step - loss: 0.2412 - mae: 0.2412\n",
            "Epoch 183/500\n",
            "1/1 [==============================] - 0s 23ms/step - loss: 0.2226 - mae: 0.2226\n",
            "Epoch 184/500\n",
            "1/1 [==============================] - 0s 35ms/step - loss: 0.2765 - mae: 0.2765\n",
            "Epoch 185/500\n",
            "1/1 [==============================] - 0s 29ms/step - loss: 0.2391 - mae: 0.2391\n",
            "Epoch 186/500\n",
            "1/1 [==============================] - 0s 34ms/step - loss: 0.2780 - mae: 0.2780\n",
            "Epoch 187/500\n",
            "1/1 [==============================] - 0s 26ms/step - loss: 0.2665 - mae: 0.2665\n",
            "Epoch 188/500\n",
            "1/1 [==============================] - 0s 17ms/step - loss: 0.2238 - mae: 0.2238\n",
            "Epoch 189/500\n",
            "1/1 [==============================] - 0s 31ms/step - loss: 0.1786 - mae: 0.1786\n",
            "Epoch 190/500\n",
            "1/1 [==============================] - 0s 40ms/step - loss: 0.3388 - mae: 0.3388\n",
            "Epoch 191/500\n",
            "1/1 [==============================] - 0s 21ms/step - loss: 0.3339 - mae: 0.3339\n",
            "Epoch 192/500\n",
            "1/1 [==============================] - 0s 13ms/step - loss: 0.1487 - mae: 0.1487\n",
            "Epoch 193/500\n",
            "1/1 [==============================] - 0s 34ms/step - loss: 0.1017 - mae: 0.1017\n",
            "Epoch 194/500\n",
            "1/1 [==============================] - 0s 23ms/step - loss: 0.4111 - mae: 0.4111\n",
            "Epoch 195/500\n",
            "1/1 [==============================] - 0s 20ms/step - loss: 0.4075 - mae: 0.4075\n",
            "Epoch 196/500\n",
            "1/1 [==============================] - 0s 22ms/step - loss: 0.0746 - mae: 0.0746\n",
            "Epoch 197/500\n",
            "1/1 [==============================] - 0s 18ms/step - loss: 0.1753 - mae: 0.1753\n",
            "Epoch 198/500\n",
            "1/1 [==============================] - 0s 30ms/step - loss: 0.2207 - mae: 0.2207\n",
            "Epoch 199/500\n",
            "1/1 [==============================] - 0s 23ms/step - loss: 0.1642 - mae: 0.1642\n",
            "Epoch 200/500\n",
            "1/1 [==============================] - 0s 22ms/step - loss: 0.2593 - mae: 0.2593\n",
            "Epoch 201/500\n",
            "1/1 [==============================] - 0s 23ms/step - loss: 0.1510 - mae: 0.1510\n",
            "Epoch 202/500\n",
            "1/1 [==============================] - 0s 16ms/step - loss: 0.4111 - mae: 0.4111\n",
            "Epoch 203/500\n",
            "1/1 [==============================] - 0s 27ms/step - loss: 0.4264 - mae: 0.4264\n",
            "Epoch 204/500\n",
            "1/1 [==============================] - 0s 23ms/step - loss: 0.1042 - mae: 0.1042\n",
            "Epoch 205/500\n",
            "1/1 [==============================] - 0s 25ms/step - loss: 0.1269 - mae: 0.1269\n",
            "Epoch 206/500\n",
            "1/1 [==============================] - 0s 19ms/step - loss: 0.2619 - mae: 0.2619\n",
            "Epoch 207/500\n",
            "1/1 [==============================] - 0s 25ms/step - loss: 0.2039 - mae: 0.2039\n",
            "Epoch 208/500\n",
            "1/1 [==============================] - 0s 16ms/step - loss: 0.2765 - mae: 0.2765\n",
            "Epoch 209/500\n",
            "1/1 [==============================] - 0s 17ms/step - loss: 0.1797 - mae: 0.1797\n",
            "Epoch 210/500\n",
            "1/1 [==============================] - 0s 13ms/step - loss: 0.3633 - mae: 0.3633\n",
            "Epoch 211/500\n",
            "1/1 [==============================] - 0s 12ms/step - loss: 0.4035 - mae: 0.4035\n",
            "Epoch 212/500\n",
            "1/1 [==============================] - 0s 13ms/step - loss: 0.0984 - mae: 0.0984\n",
            "Epoch 213/500\n",
            "1/1 [==============================] - 0s 28ms/step - loss: 0.1083 - mae: 0.1083\n",
            "Epoch 214/500\n",
            "1/1 [==============================] - 0s 33ms/step - loss: 0.2479 - mae: 0.2479\n",
            "Epoch 215/500\n",
            "1/1 [==============================] - 0s 27ms/step - loss: 0.1790 - mae: 0.1790\n",
            "Epoch 216/500\n",
            "1/1 [==============================] - 0s 31ms/step - loss: 0.3419 - mae: 0.3419\n",
            "Epoch 217/500\n",
            "1/1 [==============================] - 0s 22ms/step - loss: 0.2738 - mae: 0.2738\n",
            "Epoch 218/500\n",
            "1/1 [==============================] - 0s 15ms/step - loss: 0.2517 - mae: 0.2517\n",
            "Epoch 219/500\n",
            "1/1 [==============================] - 0s 13ms/step - loss: 0.2571 - mae: 0.2571\n",
            "Epoch 220/500\n",
            "1/1 [==============================] - 0s 12ms/step - loss: 0.1867 - mae: 0.1867\n",
            "Epoch 221/500\n",
            "1/1 [==============================] - 0s 13ms/step - loss: 0.1414 - mae: 0.1414\n",
            "Epoch 222/500\n",
            "1/1 [==============================] - 0s 14ms/step - loss: 0.3422 - mae: 0.3422\n",
            "Epoch 223/500\n",
            "1/1 [==============================] - 0s 25ms/step - loss: 0.3027 - mae: 0.3027\n",
            "Epoch 224/500\n",
            "1/1 [==============================] - 0s 26ms/step - loss: 0.1744 - mae: 0.1744\n",
            "Epoch 225/500\n",
            "1/1 [==============================] - 0s 19ms/step - loss: 0.1580 - mae: 0.1580\n",
            "Epoch 226/500\n",
            "1/1 [==============================] - 0s 26ms/step - loss: 0.3192 - mae: 0.3192\n",
            "Epoch 227/500\n",
            "1/1 [==============================] - 0s 50ms/step - loss: 0.2959 - mae: 0.2959\n",
            "Epoch 228/500\n",
            "1/1 [==============================] - 0s 22ms/step - loss: 0.1801 - mae: 0.1801\n",
            "Epoch 229/500\n",
            "1/1 [==============================] - 0s 25ms/step - loss: 0.1493 - mae: 0.1493\n",
            "Epoch 230/500\n",
            "1/1 [==============================] - 0s 22ms/step - loss: 0.3220 - mae: 0.3220\n",
            "Epoch 231/500\n",
            "1/1 [==============================] - 0s 15ms/step - loss: 0.3042 - mae: 0.3042\n",
            "Epoch 232/500\n",
            "1/1 [==============================] - 0s 29ms/step - loss: 0.1577 - mae: 0.1577\n",
            "Epoch 233/500\n",
            "1/1 [==============================] - 0s 25ms/step - loss: 0.1263 - mae: 0.1263\n",
            "Epoch 234/500\n",
            "1/1 [==============================] - 0s 24ms/step - loss: 0.3089 - mae: 0.3089\n",
            "Epoch 235/500\n",
            "1/1 [==============================] - 0s 13ms/step - loss: 0.2611 - mae: 0.2611\n",
            "Epoch 236/500\n",
            "1/1 [==============================] - 0s 16ms/step - loss: 0.2254 - mae: 0.2254\n",
            "Epoch 237/500\n",
            "1/1 [==============================] - 0s 12ms/step - loss: 0.2211 - mae: 0.2211\n",
            "Epoch 238/500\n",
            "1/1 [==============================] - 0s 23ms/step - loss: 0.2246 - mae: 0.2246\n",
            "Epoch 239/500\n",
            "1/1 [==============================] - 0s 25ms/step - loss: 0.1845 - mae: 0.1845\n",
            "Epoch 240/500\n",
            "1/1 [==============================] - 0s 20ms/step - loss: 0.2863 - mae: 0.2863\n",
            "Epoch 241/500\n",
            "1/1 [==============================] - 0s 26ms/step - loss: 0.2695 - mae: 0.2695\n",
            "Epoch 242/500\n",
            "1/1 [==============================] - 0s 13ms/step - loss: 0.1960 - mae: 0.1960\n",
            "Epoch 243/500\n",
            "1/1 [==============================] - 0s 13ms/step - loss: 0.1717 - mae: 0.1717\n",
            "Epoch 244/500\n",
            "1/1 [==============================] - 0s 21ms/step - loss: 0.2777 - mae: 0.2777\n",
            "Epoch 245/500\n",
            "1/1 [==============================] - 0s 25ms/step - loss: 0.2507 - mae: 0.2507\n",
            "Epoch 246/500\n",
            "1/1 [==============================] - 0s 21ms/step - loss: 0.2111 - mae: 0.2111\n",
            "Epoch 247/500\n",
            "1/1 [==============================] - 0s 20ms/step - loss: 0.1937 - mae: 0.1937\n",
            "Epoch 248/500\n",
            "1/1 [==============================] - 0s 28ms/step - loss: 0.2483 - mae: 0.2483\n",
            "Epoch 249/500\n",
            "1/1 [==============================] - 0s 43ms/step - loss: 0.2140 - mae: 0.2140\n",
            "Epoch 250/500\n",
            "1/1 [==============================] - 0s 36ms/step - loss: 0.2465 - mae: 0.2465\n",
            "Epoch 251/500\n",
            "1/1 [==============================] - 0s 24ms/step - loss: 0.2369 - mae: 0.2369\n",
            "Epoch 252/500\n",
            "1/1 [==============================] - 0s 14ms/step - loss: 0.1944 - mae: 0.1944\n",
            "Epoch 253/500\n",
            "1/1 [==============================] - 0s 56ms/step - loss: 0.1550 - mae: 0.1550\n",
            "Epoch 254/500\n",
            "1/1 [==============================] - 0s 41ms/step - loss: 0.3011 - mae: 0.3011\n",
            "Epoch 255/500\n",
            "1/1 [==============================] - 0s 29ms/step - loss: 0.2957 - mae: 0.2957\n",
            "Epoch 256/500\n",
            "1/1 [==============================] - 0s 35ms/step - loss: 0.1336 - mae: 0.1336\n",
            "Epoch 257/500\n",
            "1/1 [==============================] - 0s 27ms/step - loss: 0.0894 - mae: 0.0894\n",
            "Epoch 258/500\n",
            "1/1 [==============================] - 0s 20ms/step - loss: 0.3716 - mae: 0.3716\n",
            "Epoch 259/500\n",
            "1/1 [==============================] - 0s 26ms/step - loss: 0.3707 - mae: 0.3707\n",
            "Epoch 260/500\n",
            "1/1 [==============================] - 0s 33ms/step - loss: 0.0529 - mae: 0.0529\n",
            "Epoch 261/500\n",
            "1/1 [==============================] - 0s 27ms/step - loss: 0.0553 - mae: 0.0553\n",
            "Epoch 262/500\n",
            "1/1 [==============================] - 0s 17ms/step - loss: 0.3584 - mae: 0.3584\n",
            "Epoch 263/500\n",
            "1/1 [==============================] - 0s 17ms/step - loss: 0.3176 - mae: 0.3176\n",
            "Epoch 264/500\n",
            "1/1 [==============================] - 0s 22ms/step - loss: 0.1330 - mae: 0.1330\n",
            "Epoch 265/500\n",
            "1/1 [==============================] - 0s 20ms/step - loss: 0.1196 - mae: 0.1196\n",
            "Epoch 266/500\n",
            "1/1 [==============================] - 0s 19ms/step - loss: 0.3125 - mae: 0.3125\n",
            "Epoch 267/500\n",
            "1/1 [==============================] - 0s 27ms/step - loss: 0.2859 - mae: 0.2859\n",
            "Epoch 268/500\n",
            "1/1 [==============================] - 0s 26ms/step - loss: 0.1548 - mae: 0.1548\n",
            "Epoch 269/500\n",
            "1/1 [==============================] - 0s 26ms/step - loss: 0.1305 - mae: 0.1305\n",
            "Epoch 270/500\n",
            "1/1 [==============================] - 0s 24ms/step - loss: 0.3014 - mae: 0.3014\n",
            "Epoch 271/500\n",
            "1/1 [==============================] - 0s 22ms/step - loss: 0.2836 - mae: 0.2836\n",
            "Epoch 272/500\n",
            "1/1 [==============================] - 0s 19ms/step - loss: 0.1518 - mae: 0.1518\n",
            "Epoch 273/500\n",
            "1/1 [==============================] - 0s 15ms/step - loss: 0.1171 - mae: 0.1171\n",
            "Epoch 274/500\n",
            "1/1 [==============================] - 0s 15ms/step - loss: 0.3265 - mae: 0.3265\n",
            "Epoch 275/500\n",
            "1/1 [==============================] - 0s 13ms/step - loss: 0.3188 - mae: 0.3188\n",
            "Epoch 276/500\n",
            "1/1 [==============================] - 0s 23ms/step - loss: 0.1013 - mae: 0.1013\n",
            "Epoch 277/500\n",
            "1/1 [==============================] - 0s 17ms/step - loss: 0.0665 - mae: 0.0665\n",
            "Epoch 278/500\n",
            "1/1 [==============================] - 0s 49ms/step - loss: 0.3701 - mae: 0.3701\n",
            "Epoch 279/500\n",
            "1/1 [==============================] - 0s 33ms/step - loss: 0.3598 - mae: 0.3598\n",
            "Epoch 280/500\n",
            "1/1 [==============================] - 0s 14ms/step - loss: 0.0708 - mae: 0.0708\n",
            "Epoch 281/500\n",
            "1/1 [==============================] - 0s 14ms/step - loss: 0.1463 - mae: 0.1463\n",
            "Epoch 282/500\n",
            "1/1 [==============================] - 0s 31ms/step - loss: 0.2043 - mae: 0.2043\n",
            "Epoch 283/500\n",
            "1/1 [==============================] - 0s 19ms/step - loss: 0.1570 - mae: 0.1570\n",
            "Epoch 284/500\n",
            "1/1 [==============================] - 0s 20ms/step - loss: 0.2292 - mae: 0.2292\n",
            "Epoch 285/500\n",
            "1/1 [==============================] - 0s 35ms/step - loss: 0.1510 - mae: 0.1510\n",
            "Epoch 286/500\n",
            "1/1 [==============================] - 0s 59ms/step - loss: 0.2484 - mae: 0.2484\n",
            "Epoch 287/500\n",
            "1/1 [==============================] - 0s 39ms/step - loss: 0.1770 - mae: 0.1770\n",
            "Epoch 288/500\n",
            "1/1 [==============================] - 0s 45ms/step - loss: 0.2891 - mae: 0.2891\n",
            "Epoch 289/500\n",
            "1/1 [==============================] - 0s 27ms/step - loss: 0.3013 - mae: 0.3013\n",
            "Epoch 290/500\n",
            "1/1 [==============================] - 0s 24ms/step - loss: 0.1412 - mae: 0.1412\n",
            "Epoch 291/500\n",
            "1/1 [==============================] - 0s 32ms/step - loss: 0.1818 - mae: 0.1818\n",
            "Epoch 292/500\n",
            "1/1 [==============================] - 0s 32ms/step - loss: 0.1537 - mae: 0.1537\n",
            "Epoch 293/500\n",
            "1/1 [==============================] - 0s 31ms/step - loss: 0.0853 - mae: 0.0853\n",
            "Epoch 294/500\n",
            "1/1 [==============================] - 0s 21ms/step - loss: 0.3365 - mae: 0.3365\n",
            "Epoch 295/500\n",
            "1/1 [==============================] - 0s 28ms/step - loss: 0.2859 - mae: 0.2859\n",
            "Epoch 296/500\n",
            "1/1 [==============================] - 0s 44ms/step - loss: 0.1763 - mae: 0.1763\n",
            "Epoch 297/500\n",
            "1/1 [==============================] - 0s 29ms/step - loss: 0.2268 - mae: 0.2268\n",
            "Epoch 298/500\n",
            "1/1 [==============================] - 0s 20ms/step - loss: 0.1599 - mae: 0.1599\n",
            "Epoch 299/500\n",
            "1/1 [==============================] - 0s 13ms/step - loss: 0.1740 - mae: 0.1740\n",
            "Epoch 300/500\n",
            "1/1 [==============================] - 0s 30ms/step - loss: 0.2029 - mae: 0.2029\n",
            "Epoch 301/500\n",
            "1/1 [==============================] - 0s 29ms/step - loss: 0.1761 - mae: 0.1761\n",
            "Epoch 302/500\n",
            "1/1 [==============================] - 0s 32ms/step - loss: 0.1740 - mae: 0.1740\n",
            "Epoch 303/500\n",
            "1/1 [==============================] - 0s 30ms/step - loss: 0.1000 - mae: 0.1000\n",
            "Epoch 304/500\n",
            "1/1 [==============================] - 0s 32ms/step - loss: 0.3148 - mae: 0.3148\n",
            "Epoch 305/500\n",
            "1/1 [==============================] - 0s 32ms/step - loss: 0.2509 - mae: 0.2509\n",
            "Epoch 306/500\n",
            "1/1 [==============================] - 0s 19ms/step - loss: 0.2039 - mae: 0.2039\n",
            "Epoch 307/500\n",
            "1/1 [==============================] - 0s 25ms/step - loss: 0.2173 - mae: 0.2173\n",
            "Epoch 308/500\n",
            "1/1 [==============================] - 0s 26ms/step - loss: 0.1755 - mae: 0.1755\n",
            "Epoch 309/500\n",
            "1/1 [==============================] - 0s 20ms/step - loss: 0.1549 - mae: 0.1549\n",
            "Epoch 310/500\n",
            "1/1 [==============================] - 0s 20ms/step - loss: 0.2621 - mae: 0.2621\n",
            "Epoch 311/500\n",
            "1/1 [==============================] - 0s 27ms/step - loss: 0.2443 - mae: 0.2443\n",
            "Epoch 312/500\n",
            "1/1 [==============================] - 0s 22ms/step - loss: 0.1771 - mae: 0.1771\n",
            "Epoch 313/500\n",
            "1/1 [==============================] - 0s 13ms/step - loss: 0.1544 - mae: 0.1544\n",
            "Epoch 314/500\n",
            "1/1 [==============================] - 0s 16ms/step - loss: 0.2667 - mae: 0.2667\n",
            "Epoch 315/500\n",
            "1/1 [==============================] - 0s 25ms/step - loss: 0.2435 - mae: 0.2435\n",
            "Epoch 316/500\n",
            "1/1 [==============================] - 0s 16ms/step - loss: 0.1687 - mae: 0.1687\n",
            "Epoch 317/500\n",
            "1/1 [==============================] - 0s 20ms/step - loss: 0.1430 - mae: 0.1430\n",
            "Epoch 318/500\n",
            "1/1 [==============================] - 0s 35ms/step - loss: 0.2842 - mae: 0.2842\n",
            "Epoch 319/500\n",
            "1/1 [==============================] - 0s 16ms/step - loss: 0.2728 - mae: 0.2728\n",
            "Epoch 320/500\n",
            "1/1 [==============================] - 0s 22ms/step - loss: 0.1204 - mae: 0.1204\n",
            "Epoch 321/500\n",
            "1/1 [==============================] - 0s 21ms/step - loss: 0.0881 - mae: 0.0881\n",
            "Epoch 322/500\n",
            "1/1 [==============================] - 0s 25ms/step - loss: 0.3347 - mae: 0.3347\n",
            "Epoch 323/500\n",
            "1/1 [==============================] - 0s 22ms/step - loss: 0.3239 - mae: 0.3239\n",
            "Epoch 324/500\n",
            "1/1 [==============================] - 0s 25ms/step - loss: 0.0711 - mae: 0.0711\n",
            "Epoch 325/500\n",
            "1/1 [==============================] - 0s 21ms/step - loss: 0.0362 - mae: 0.0362\n",
            "Epoch 326/500\n",
            "1/1 [==============================] - 0s 19ms/step - loss: 0.3838 - mae: 0.3838\n",
            "Epoch 327/500\n",
            "1/1 [==============================] - 0s 21ms/step - loss: 0.3782 - mae: 0.3782\n",
            "Epoch 328/500\n",
            "1/1 [==============================] - 0s 26ms/step - loss: 0.0179 - mae: 0.0179\n",
            "Epoch 329/500\n",
            "1/1 [==============================] - 0s 21ms/step - loss: 0.0990 - mae: 0.0990\n",
            "Epoch 330/500\n",
            "1/1 [==============================] - 0s 18ms/step - loss: 0.1982 - mae: 0.1982\n",
            "Epoch 331/500\n",
            "1/1 [==============================] - 0s 19ms/step - loss: 0.1053 - mae: 0.1053\n",
            "Epoch 332/500\n",
            "1/1 [==============================] - 0s 17ms/step - loss: 0.2994 - mae: 0.2994\n",
            "Epoch 333/500\n",
            "1/1 [==============================] - 0s 22ms/step - loss: 0.2593 - mae: 0.2593\n",
            "Epoch 334/500\n",
            "1/1 [==============================] - 0s 20ms/step - loss: 0.2118 - mae: 0.2118\n",
            "Epoch 335/500\n",
            "1/1 [==============================] - 0s 17ms/step - loss: 0.2306 - mae: 0.2306\n",
            "Epoch 336/500\n",
            "1/1 [==============================] - 0s 22ms/step - loss: 0.1583 - mae: 0.1583\n",
            "Epoch 337/500\n",
            "1/1 [==============================] - 0s 20ms/step - loss: 0.1068 - mae: 0.1068\n",
            "Epoch 338/500\n",
            "1/1 [==============================] - 0s 23ms/step - loss: 0.3111 - mae: 0.3111\n",
            "Epoch 339/500\n",
            "1/1 [==============================] - 0s 31ms/step - loss: 0.3152 - mae: 0.3152\n",
            "Epoch 340/500\n",
            "1/1 [==============================] - 0s 22ms/step - loss: 0.0946 - mae: 0.0946\n",
            "Epoch 341/500\n",
            "1/1 [==============================] - 0s 20ms/step - loss: 0.1276 - mae: 0.1276\n",
            "Epoch 342/500\n",
            "1/1 [==============================] - 0s 27ms/step - loss: 0.1969 - mae: 0.1969\n",
            "Epoch 343/500\n",
            "1/1 [==============================] - 0s 25ms/step - loss: 0.1183 - mae: 0.1183\n",
            "Epoch 344/500\n",
            "1/1 [==============================] - 0s 24ms/step - loss: 0.3271 - mae: 0.3271\n",
            "Epoch 345/500\n",
            "1/1 [==============================] - 0s 34ms/step - loss: 0.3116 - mae: 0.3116\n",
            "Epoch 346/500\n",
            "1/1 [==============================] - 0s 19ms/step - loss: 0.1019 - mae: 0.1019\n",
            "Epoch 347/500\n",
            "1/1 [==============================] - 0s 23ms/step - loss: 0.0804 - mae: 0.0804\n",
            "Epoch 348/500\n",
            "1/1 [==============================] - 0s 26ms/step - loss: 0.3196 - mae: 0.3196\n",
            "Epoch 349/500\n",
            "1/1 [==============================] - 0s 26ms/step - loss: 0.2984 - mae: 0.2984\n",
            "Epoch 350/500\n",
            "1/1 [==============================] - 0s 25ms/step - loss: 0.1114 - mae: 0.1114\n",
            "Epoch 351/500\n",
            "1/1 [==============================] - 0s 26ms/step - loss: 0.1211 - mae: 0.1211\n",
            "Epoch 352/500\n",
            "1/1 [==============================] - 0s 19ms/step - loss: 0.2443 - mae: 0.2443\n",
            "Epoch 353/500\n",
            "1/1 [==============================] - 0s 19ms/step - loss: 0.1849 - mae: 0.1849\n",
            "Epoch 354/500\n",
            "1/1 [==============================] - 0s 24ms/step - loss: 0.2630 - mae: 0.2630\n",
            "Epoch 355/500\n",
            "1/1 [==============================] - 0s 52ms/step - loss: 0.2787 - mae: 0.2787\n",
            "Epoch 356/500\n",
            "1/1 [==============================] - 0s 36ms/step - loss: 0.0756 - mae: 0.0756\n",
            "Epoch 357/500\n",
            "1/1 [==============================] - 0s 42ms/step - loss: 0.0311 - mae: 0.0311\n",
            "Epoch 358/500\n",
            "1/1 [==============================] - 0s 20ms/step - loss: 0.2715 - mae: 0.2715\n",
            "Epoch 359/500\n",
            "1/1 [==============================] - 0s 31ms/step - loss: 0.1676 - mae: 0.1676\n",
            "Epoch 360/500\n",
            "1/1 [==============================] - 0s 27ms/step - loss: 0.3261 - mae: 0.3261\n",
            "Epoch 361/500\n",
            "1/1 [==============================] - 0s 23ms/step - loss: 0.3713 - mae: 0.3713\n",
            "Epoch 362/500\n",
            "1/1 [==============================] - 0s 20ms/step - loss: 0.0749 - mae: 0.0749\n",
            "Epoch 363/500\n",
            "1/1 [==============================] - 0s 12ms/step - loss: 0.5577 - mae: 0.5577\n",
            "Epoch 364/500\n",
            "1/1 [==============================] - 0s 18ms/step - loss: 0.7072 - mae: 0.7072\n",
            "Epoch 365/500\n",
            "1/1 [==============================] - 0s 25ms/step - loss: 0.4897 - mae: 0.4897\n",
            "Epoch 366/500\n",
            "1/1 [==============================] - 0s 24ms/step - loss: 0.1311 - mae: 0.1311\n",
            "Epoch 367/500\n",
            "1/1 [==============================] - 0s 26ms/step - loss: 0.4484 - mae: 0.4484\n",
            "Epoch 368/500\n",
            "1/1 [==============================] - 0s 28ms/step - loss: 0.4050 - mae: 0.4050\n",
            "Epoch 369/500\n",
            "1/1 [==============================] - 0s 27ms/step - loss: 0.0362 - mae: 0.0362\n",
            "Epoch 370/500\n",
            "1/1 [==============================] - 0s 23ms/step - loss: 0.6193 - mae: 0.6193\n",
            "Epoch 371/500\n",
            "1/1 [==============================] - 0s 19ms/step - loss: 0.8119 - mae: 0.8119\n",
            "Epoch 372/500\n",
            "1/1 [==============================] - 0s 24ms/step - loss: 0.6280 - mae: 0.6280\n",
            "Epoch 373/500\n",
            "1/1 [==============================] - 0s 22ms/step - loss: 0.1028 - mae: 0.1028\n",
            "Epoch 374/500\n",
            "1/1 [==============================] - 0s 22ms/step - loss: 0.7539 - mae: 0.7539\n",
            "Epoch 375/500\n",
            "1/1 [==============================] - 0s 42ms/step - loss: 1.1389 - mae: 1.1389\n",
            "Epoch 376/500\n",
            "1/1 [==============================] - 0s 17ms/step - loss: 1.0933 - mae: 1.0933\n",
            "Epoch 377/500\n",
            "1/1 [==============================] - 0s 23ms/step - loss: 0.6827 - mae: 0.6827\n",
            "Epoch 378/500\n",
            "1/1 [==============================] - 0s 25ms/step - loss: 0.1532 - mae: 0.1532\n",
            "Epoch 379/500\n",
            "1/1 [==============================] - 0s 33ms/step - loss: 0.4720 - mae: 0.4720\n",
            "Epoch 380/500\n",
            "1/1 [==============================] - 0s 26ms/step - loss: 0.4712 - mae: 0.4712\n",
            "Epoch 381/500\n",
            "1/1 [==============================] - 0s 24ms/step - loss: 0.1309 - mae: 0.1309\n",
            "Epoch 382/500\n",
            "1/1 [==============================] - 0s 48ms/step - loss: 0.5350 - mae: 0.5350\n",
            "Epoch 383/500\n",
            "1/1 [==============================] - 0s 26ms/step - loss: 0.7383 - mae: 0.7383\n",
            "Epoch 384/500\n",
            "1/1 [==============================] - 0s 39ms/step - loss: 0.5338 - mae: 0.5338\n",
            "Epoch 385/500\n",
            "1/1 [==============================] - 0s 25ms/step - loss: 0.0484 - mae: 0.0484\n",
            "Epoch 386/500\n",
            "1/1 [==============================] - 0s 25ms/step - loss: 0.2952 - mae: 0.2952\n",
            "Epoch 387/500\n",
            "1/1 [==============================] - 0s 31ms/step - loss: 0.2046 - mae: 0.2046\n",
            "Epoch 388/500\n",
            "1/1 [==============================] - 0s 23ms/step - loss: 0.1983 - mae: 0.1983\n",
            "Epoch 389/500\n",
            "1/1 [==============================] - 0s 21ms/step - loss: 0.1631 - mae: 0.1631\n",
            "Epoch 390/500\n",
            "1/1 [==============================] - 0s 18ms/step - loss: 0.2223 - mae: 0.2223\n",
            "Epoch 391/500\n",
            "1/1 [==============================] - 0s 18ms/step - loss: 0.2164 - mae: 0.2164\n",
            "Epoch 392/500\n",
            "1/1 [==============================] - 0s 16ms/step - loss: 0.1807 - mae: 0.1807\n",
            "Epoch 393/500\n",
            "1/1 [==============================] - 0s 14ms/step - loss: 0.2295 - mae: 0.2295\n",
            "Epoch 394/500\n",
            "1/1 [==============================] - 0s 12ms/step - loss: 0.0853 - mae: 0.0853\n",
            "Epoch 395/500\n",
            "1/1 [==============================] - 0s 17ms/step - loss: 0.0891 - mae: 0.0891\n",
            "Epoch 396/500\n",
            "1/1 [==============================] - 0s 21ms/step - loss: 0.2571 - mae: 0.2571\n",
            "Epoch 397/500\n",
            "1/1 [==============================] - 0s 19ms/step - loss: 0.2059 - mae: 0.2059\n",
            "Epoch 398/500\n",
            "1/1 [==============================] - 0s 20ms/step - loss: 0.2064 - mae: 0.2064\n",
            "Epoch 399/500\n",
            "1/1 [==============================] - 0s 23ms/step - loss: 0.2201 - mae: 0.2201\n",
            "Epoch 400/500\n",
            "1/1 [==============================] - 0s 22ms/step - loss: 0.1164 - mae: 0.1164\n",
            "Epoch 401/500\n",
            "1/1 [==============================] - 0s 21ms/step - loss: 0.0640 - mae: 0.0640\n",
            "Epoch 402/500\n",
            "1/1 [==============================] - 0s 22ms/step - loss: 0.3331 - mae: 0.3331\n",
            "Epoch 403/500\n",
            "1/1 [==============================] - 0s 24ms/step - loss: 0.3387 - mae: 0.3387\n",
            "Epoch 404/500\n",
            "1/1 [==============================] - 0s 12ms/step - loss: 0.0138 - mae: 0.0138\n",
            "Epoch 405/500\n",
            "1/1 [==============================] - 0s 12ms/step - loss: 0.0748 - mae: 0.0748\n",
            "Epoch 406/500\n",
            "1/1 [==============================] - 0s 20ms/step - loss: 0.2046 - mae: 0.2046\n",
            "Epoch 407/500\n",
            "1/1 [==============================] - 0s 30ms/step - loss: 0.1123 - mae: 0.1123\n",
            "Epoch 408/500\n",
            "1/1 [==============================] - 0s 20ms/step - loss: 0.2411 - mae: 0.2411\n",
            "Epoch 409/500\n",
            "1/1 [==============================] - 0s 18ms/step - loss: 0.2361 - mae: 0.2361\n",
            "Epoch 410/500\n",
            "1/1 [==============================] - 0s 23ms/step - loss: 0.1642 - mae: 0.1642\n",
            "Epoch 411/500\n",
            "1/1 [==============================] - 0s 22ms/step - loss: 0.1178 - mae: 0.1178\n",
            "Epoch 412/500\n",
            "1/1 [==============================] - 0s 19ms/step - loss: 0.2249 - mae: 0.2249\n",
            "Epoch 413/500\n",
            "1/1 [==============================] - 0s 26ms/step - loss: 0.1826 - mae: 0.1826\n",
            "Epoch 414/500\n",
            "1/1 [==============================] - 0s 20ms/step - loss: 0.2617 - mae: 0.2617\n",
            "Epoch 415/500\n",
            "1/1 [==============================] - 0s 16ms/step - loss: 0.3354 - mae: 0.3354\n",
            "Epoch 416/500\n",
            "1/1 [==============================] - 0s 24ms/step - loss: 0.0905 - mae: 0.0905\n",
            "Epoch 417/500\n",
            "1/1 [==============================] - 0s 18ms/step - loss: 0.4703 - mae: 0.4703\n",
            "Epoch 418/500\n",
            "1/1 [==============================] - 0s 20ms/step - loss: 0.6116 - mae: 0.6116\n",
            "Epoch 419/500\n",
            "1/1 [==============================] - 0s 19ms/step - loss: 0.3870 - mae: 0.3870\n",
            "Epoch 420/500\n",
            "1/1 [==============================] - 0s 22ms/step - loss: 0.2339 - mae: 0.2339\n",
            "Epoch 421/500\n",
            "1/1 [==============================] - 0s 15ms/step - loss: 0.3996 - mae: 0.3996\n",
            "Epoch 422/500\n",
            "1/1 [==============================] - 0s 18ms/step - loss: 0.2176 - mae: 0.2176\n",
            "Epoch 423/500\n",
            "1/1 [==============================] - 0s 28ms/step - loss: 0.2841 - mae: 0.2841\n",
            "Epoch 424/500\n",
            "1/1 [==============================] - 0s 28ms/step - loss: 0.3922 - mae: 0.3922\n",
            "Epoch 425/500\n",
            "1/1 [==============================] - 0s 26ms/step - loss: 0.1657 - mae: 0.1657\n",
            "Epoch 426/500\n",
            "1/1 [==============================] - 0s 17ms/step - loss: 0.4164 - mae: 0.4164\n",
            "Epoch 427/500\n",
            "1/1 [==============================] - 0s 20ms/step - loss: 0.5607 - mae: 0.5607\n",
            "Epoch 428/500\n",
            "1/1 [==============================] - 0s 17ms/step - loss: 0.3677 - mae: 0.3677\n",
            "Epoch 429/500\n",
            "1/1 [==============================] - 0s 12ms/step - loss: 0.1506 - mae: 0.1506\n",
            "Epoch 430/500\n",
            "1/1 [==============================] - 0s 18ms/step - loss: 0.2706 - mae: 0.2706\n",
            "Epoch 431/500\n",
            "1/1 [==============================] - 0s 21ms/step - loss: 0.0670 - mae: 0.0670\n",
            "Epoch 432/500\n",
            "1/1 [==============================] - 0s 23ms/step - loss: 0.4513 - mae: 0.4513\n",
            "Epoch 433/500\n",
            "1/1 [==============================] - 0s 34ms/step - loss: 0.5364 - mae: 0.5364\n",
            "Epoch 434/500\n",
            "1/1 [==============================] - 0s 21ms/step - loss: 0.2861 - mae: 0.2861\n",
            "Epoch 435/500\n",
            "1/1 [==============================] - 0s 31ms/step - loss: 0.2800 - mae: 0.2800\n",
            "Epoch 436/500\n",
            "1/1 [==============================] - 0s 16ms/step - loss: 0.4266 - mae: 0.4266\n",
            "Epoch 437/500\n",
            "1/1 [==============================] - 0s 26ms/step - loss: 0.2186 - mae: 0.2186\n",
            "Epoch 438/500\n",
            "1/1 [==============================] - 0s 22ms/step - loss: 0.3028 - mae: 0.3028\n",
            "Epoch 439/500\n",
            "1/1 [==============================] - 0s 46ms/step - loss: 0.4399 - mae: 0.4399\n",
            "Epoch 440/500\n",
            "1/1 [==============================] - 0s 26ms/step - loss: 0.2357 - mae: 0.2357\n",
            "Epoch 441/500\n",
            "1/1 [==============================] - 0s 27ms/step - loss: 0.2930 - mae: 0.2930\n",
            "Epoch 442/500\n",
            "1/1 [==============================] - 0s 22ms/step - loss: 0.4141 - mae: 0.4141\n",
            "Epoch 443/500\n",
            "1/1 [==============================] - 0s 18ms/step - loss: 0.1849 - mae: 0.1849\n",
            "Epoch 444/500\n",
            "1/1 [==============================] - 0s 25ms/step - loss: 0.3718 - mae: 0.3718\n",
            "Epoch 445/500\n",
            "1/1 [==============================] - 0s 20ms/step - loss: 0.5260 - mae: 0.5260\n",
            "Epoch 446/500\n",
            "1/1 [==============================] - 0s 23ms/step - loss: 0.3417 - mae: 0.3417\n",
            "Epoch 447/500\n",
            "1/1 [==============================] - 0s 24ms/step - loss: 0.1499 - mae: 0.1499\n",
            "Epoch 448/500\n",
            "1/1 [==============================] - 0s 25ms/step - loss: 0.2388 - mae: 0.2388\n",
            "Epoch 449/500\n",
            "1/1 [==============================] - 0s 13ms/step - loss: 0.0286 - mae: 0.0286\n",
            "Epoch 450/500\n",
            "1/1 [==============================] - 0s 15ms/step - loss: 0.0371 - mae: 0.0371\n",
            "Epoch 451/500\n",
            "1/1 [==============================] - 0s 38ms/step - loss: 0.2826 - mae: 0.2826\n",
            "Epoch 452/500\n",
            "1/1 [==============================] - 0s 31ms/step - loss: 0.2331 - mae: 0.2331\n",
            "Epoch 453/500\n",
            "1/1 [==============================] - 0s 31ms/step - loss: 0.1584 - mae: 0.1584\n",
            "Epoch 454/500\n",
            "1/1 [==============================] - 0s 31ms/step - loss: 0.1876 - mae: 0.1876\n",
            "Epoch 455/500\n",
            "1/1 [==============================] - 0s 31ms/step - loss: 0.1180 - mae: 0.1180\n",
            "Epoch 456/500\n",
            "1/1 [==============================] - 0s 28ms/step - loss: 0.0773 - mae: 0.0773\n",
            "Epoch 457/500\n",
            "1/1 [==============================] - 0s 31ms/step - loss: 0.2565 - mae: 0.2565\n",
            "Epoch 458/500\n",
            "1/1 [==============================] - 0s 32ms/step - loss: 0.2017 - mae: 0.2017\n",
            "Epoch 459/500\n",
            "1/1 [==============================] - 0s 13ms/step - loss: 0.1654 - mae: 0.1654\n",
            "Epoch 460/500\n",
            "1/1 [==============================] - 0s 12ms/step - loss: 0.1541 - mae: 0.1541\n",
            "Epoch 461/500\n",
            "1/1 [==============================] - 0s 21ms/step - loss: 0.1853 - mae: 0.1853\n",
            "Epoch 462/500\n",
            "1/1 [==============================] - 0s 24ms/step - loss: 0.1605 - mae: 0.1605\n",
            "Epoch 463/500\n",
            "1/1 [==============================] - 0s 29ms/step - loss: 0.2065 - mae: 0.2065\n",
            "Epoch 464/500\n",
            "1/1 [==============================] - 0s 30ms/step - loss: 0.2111 - mae: 0.2111\n",
            "Epoch 465/500\n",
            "1/1 [==============================] - 0s 29ms/step - loss: 0.1229 - mae: 0.1229\n",
            "Epoch 466/500\n",
            "1/1 [==============================] - 0s 27ms/step - loss: 0.0955 - mae: 0.0955\n",
            "Epoch 467/500\n",
            "1/1 [==============================] - 0s 34ms/step - loss: 0.2507 - mae: 0.2507\n",
            "Epoch 468/500\n",
            "1/1 [==============================] - 0s 26ms/step - loss: 0.2264 - mae: 0.2264\n",
            "Epoch 469/500\n",
            "1/1 [==============================] - 0s 28ms/step - loss: 0.1396 - mae: 0.1396\n",
            "Epoch 470/500\n",
            "1/1 [==============================] - 0s 21ms/step - loss: 0.1379 - mae: 0.1379\n",
            "Epoch 471/500\n",
            "1/1 [==============================] - 0s 21ms/step - loss: 0.1923 - mae: 0.1923\n",
            "Epoch 472/500\n",
            "1/1 [==============================] - 0s 20ms/step - loss: 0.1507 - mae: 0.1507\n",
            "Epoch 473/500\n",
            "1/1 [==============================] - 0s 15ms/step - loss: 0.2178 - mae: 0.2178\n",
            "Epoch 474/500\n",
            "1/1 [==============================] - 0s 13ms/step - loss: 0.2167 - mae: 0.2167\n",
            "Epoch 475/500\n",
            "1/1 [==============================] - 0s 17ms/step - loss: 0.1187 - mae: 0.1187\n",
            "Epoch 476/500\n",
            "1/1 [==============================] - 0s 29ms/step - loss: 0.0864 - mae: 0.0864\n",
            "Epoch 477/500\n",
            "1/1 [==============================] - 0s 27ms/step - loss: 0.2702 - mae: 0.2702\n",
            "Epoch 478/500\n",
            "1/1 [==============================] - 0s 27ms/step - loss: 0.2639 - mae: 0.2639\n",
            "Epoch 479/500\n",
            "1/1 [==============================] - 0s 22ms/step - loss: 0.0646 - mae: 0.0646\n",
            "Epoch 480/500\n",
            "1/1 [==============================] - 0s 22ms/step - loss: 0.0555 - mae: 0.0555\n",
            "Epoch 481/500\n",
            "1/1 [==============================] - 0s 27ms/step - loss: 0.2843 - mae: 0.2843\n",
            "Epoch 482/500\n",
            "1/1 [==============================] - 0s 28ms/step - loss: 0.2602 - mae: 0.2602\n",
            "Epoch 483/500\n",
            "1/1 [==============================] - 0s 32ms/step - loss: 0.0743 - mae: 0.0743\n",
            "Epoch 484/500\n",
            "1/1 [==============================] - 0s 37ms/step - loss: 0.0832 - mae: 0.0832\n",
            "Epoch 485/500\n",
            "1/1 [==============================] - 0s 22ms/step - loss: 0.2211 - mae: 0.2211\n",
            "Epoch 486/500\n",
            "1/1 [==============================] - 0s 19ms/step - loss: 0.1655 - mae: 0.1655\n",
            "Epoch 487/500\n",
            "1/1 [==============================] - 0s 34ms/step - loss: 0.2125 - mae: 0.2125\n",
            "Epoch 488/500\n",
            "1/1 [==============================] - 0s 62ms/step - loss: 0.2121 - mae: 0.2121\n",
            "Epoch 489/500\n",
            "1/1 [==============================] - 0s 71ms/step - loss: 0.1158 - mae: 0.1158\n",
            "Epoch 490/500\n",
            "1/1 [==============================] - 0s 57ms/step - loss: 0.1012 - mae: 0.1012\n",
            "Epoch 491/500\n",
            "1/1 [==============================] - 0s 28ms/step - loss: 0.2401 - mae: 0.2401\n",
            "Epoch 492/500\n",
            "1/1 [==============================] - 0s 36ms/step - loss: 0.2125 - mae: 0.2125\n",
            "Epoch 493/500\n",
            "1/1 [==============================] - 0s 60ms/step - loss: 0.1281 - mae: 0.1281\n",
            "Epoch 494/500\n",
            "1/1 [==============================] - 0s 49ms/step - loss: 0.1042 - mae: 0.1042\n",
            "Epoch 495/500\n",
            "1/1 [==============================] - 0s 36ms/step - loss: 0.2472 - mae: 0.2472\n",
            "Epoch 496/500\n",
            "1/1 [==============================] - 0s 68ms/step - loss: 0.2384 - mae: 0.2384\n",
            "Epoch 497/500\n",
            "1/1 [==============================] - 0s 56ms/step - loss: 0.1096 - mae: 0.1096\n",
            "Epoch 498/500\n",
            "1/1 [==============================] - 0s 70ms/step - loss: 0.0982 - mae: 0.0982\n",
            "Epoch 499/500\n",
            "1/1 [==============================] - 0s 61ms/step - loss: 0.2351 - mae: 0.2351\n",
            "Epoch 500/500\n",
            "1/1 [==============================] - 0s 77ms/step - loss: 0.2167 - mae: 0.2167\n"
          ]
        },
        {
          "output_type": "execute_result",
          "data": {
            "text/plain": [
              "<keras.callbacks.History at 0x79edecbfcdc0>"
            ]
          },
          "metadata": {},
          "execution_count": 12
        }
      ]
    },
    {
      "cell_type": "code",
      "source": [
        "X, y"
      ],
      "metadata": {
        "colab": {
          "base_uri": "https://localhost:8080/"
        },
        "id": "CH2cF7kzL3hN",
        "outputId": "7af52221-a9c1-4b46-9b73-8fd48414fbae"
      },
      "execution_count": 13,
      "outputs": [
        {
          "output_type": "execute_result",
          "data": {
            "text/plain": [
              "(<tf.Tensor: shape=(8,), dtype=float32, numpy=array([-7., -4., -1.,  2.,  5.,  8., 11., 14.], dtype=float32)>,\n",
              " <tf.Tensor: shape=(8,), dtype=float32, numpy=array([ 3.,  6.,  9., 12., 15., 18., 21., 24.], dtype=float32)>)"
            ]
          },
          "metadata": {},
          "execution_count": 13
        }
      ]
    },
    {
      "cell_type": "code",
      "source": [
        "y_pred123 = modelp2.predict([17.0])\n",
        "y_pred123"
      ],
      "metadata": {
        "colab": {
          "base_uri": "https://localhost:8080/"
        },
        "id": "F1GJ7ZWA-JbX",
        "outputId": "254acc4e-45d1-47eb-d2b8-26cfc42db9e7"
      },
      "execution_count": 14,
      "outputs": [
        {
          "output_type": "stream",
          "name": "stdout",
          "text": [
            "1/1 [==============================] - 0s 213ms/step\n"
          ]
        },
        {
          "output_type": "execute_result",
          "data": {
            "text/plain": [
              "array([[26.769676]], dtype=float32)"
            ]
          },
          "metadata": {},
          "execution_count": 14
        }
      ]
    },
    {
      "cell_type": "markdown",
      "source": [
        "##typical work flow with neural networks\n",
        "\n",
        "make the model -> fit it -> evaluate it\n",
        "-> twick it -> fit it -> evaluate it -> twick that model\n",
        "-> fit it -> evalua..."
      ],
      "metadata": {
        "id": "kfYwtHPcd9PP"
      }
    },
    {
      "cell_type": "markdown",
      "source": [
        "for evaluations of model --> visualize , visualize, VISUALIZE!"
      ],
      "metadata": {
        "id": "16rnSM47ex6R"
      }
    },
    {
      "cell_type": "code",
      "source": [
        "#making a bigger dataset\n",
        "\n",
        "X = tf.range(-100,100 , 4)\n",
        "#-100 to 100 by 4\n",
        "X"
      ],
      "metadata": {
        "colab": {
          "base_uri": "https://localhost:8080/"
        },
        "id": "JqfHtXcv-Nqz",
        "outputId": "c626dae3-35ba-44a4-cd2b-cf36004ed053"
      },
      "execution_count": 15,
      "outputs": [
        {
          "output_type": "execute_result",
          "data": {
            "text/plain": [
              "<tf.Tensor: shape=(50,), dtype=int32, numpy=\n",
              "array([-100,  -96,  -92,  -88,  -84,  -80,  -76,  -72,  -68,  -64,  -60,\n",
              "        -56,  -52,  -48,  -44,  -40,  -36,  -32,  -28,  -24,  -20,  -16,\n",
              "        -12,   -8,   -4,    0,    4,    8,   12,   16,   20,   24,   28,\n",
              "         32,   36,   40,   44,   48,   52,   56,   60,   64,   68,   72,\n",
              "         76,   80,   84,   88,   92,   96], dtype=int32)>"
            ]
          },
          "metadata": {},
          "execution_count": 15
        }
      ]
    },
    {
      "cell_type": "code",
      "source": [
        "#make labels for the dataset\n",
        "y = X + 10\n",
        "y"
      ],
      "metadata": {
        "colab": {
          "base_uri": "https://localhost:8080/"
        },
        "id": "tGlLGI6dmr4F",
        "outputId": "8c66b6d9-d745-4ec1-f367-df4f318a863b"
      },
      "execution_count": 16,
      "outputs": [
        {
          "output_type": "execute_result",
          "data": {
            "text/plain": [
              "<tf.Tensor: shape=(50,), dtype=int32, numpy=\n",
              "array([-90, -86, -82, -78, -74, -70, -66, -62, -58, -54, -50, -46, -42,\n",
              "       -38, -34, -30, -26, -22, -18, -14, -10,  -6,  -2,   2,   6,  10,\n",
              "        14,  18,  22,  26,  30,  34,  38,  42,  46,  50,  54,  58,  62,\n",
              "        66,  70,  74,  78,  82,  86,  90,  94,  98, 102, 106], dtype=int32)>"
            ]
          },
          "metadata": {},
          "execution_count": 16
        }
      ]
    },
    {
      "cell_type": "code",
      "source": [
        "plt.scatter(X,y)"
      ],
      "metadata": {
        "colab": {
          "base_uri": "https://localhost:8080/",
          "height": 447
        },
        "id": "ygPCBY08nhcM",
        "outputId": "b3d37fed-b38e-49b9-cc8a-cc77de47cf50"
      },
      "execution_count": 17,
      "outputs": [
        {
          "output_type": "execute_result",
          "data": {
            "text/plain": [
              "<matplotlib.collections.PathCollection at 0x79edec1cff40>"
            ]
          },
          "metadata": {},
          "execution_count": 17
        },
        {
          "output_type": "display_data",
          "data": {
            "text/plain": [
              "<Figure size 640x480 with 1 Axes>"
            ],
            "image/png": "[encoded data removed]"
          },
          "metadata": {}
        }
      ]
    },
    {
      "cell_type": "code",
      "source": [
        "plt.plot(X,y)"
      ],
      "metadata": {
        "colab": {
          "base_uri": "https://localhost:8080/",
          "height": 447
        },
        "id": "P_5diZCWnk9_",
        "outputId": "46c692c8-d494-4911-e2e2-b94363783f9b"
      },
      "execution_count": 18,
      "outputs": [
        {
          "output_type": "execute_result",
          "data": {
            "text/plain": [
              "[<matplotlib.lines.Line2D at 0x79edec202890>]"
            ]
          },
          "metadata": {},
          "execution_count": 18
        },
        {
          "output_type": "display_data",
          "data": {
            "text/plain": [
              "<Figure size 640x480 with 1 Axes>"
            ],
            "image/png": "[encoded data removed]"
          },
          "metadata": {}
        }
      ]
    },
    {
      "cell_type": "markdown",
      "source": [
        "##concepts of 3 sets\n",
        "\n",
        "1.   you can start here again\n",
        "\n"
      ],
      "metadata": {
        "id": "ha_GZqnqE3vB"
      }
    },
    {
      "cell_type": "markdown",
      "source": [
        "split X and y to 80 percent training set 10-15 percent validation set\n",
        "then 5 percent test set"
      ],
      "metadata": {
        "id": "q1KIBXIhE64Y"
      }
    },
    {
      "cell_type": "code",
      "source": [
        "import tensorflow as tf\n",
        "import numpy as np\n",
        "import matplotlib.pyplot as plt\n",
        "\n",
        "\n",
        "\n",
        "X = tf.range(-100,100 , 4)\n",
        "#-100 to 100 by 4\n",
        "#make labels for the dataset\n",
        "y = X + 10\n",
        "y\n",
        "len(X), X, y, len(y)"
      ],
      "metadata": {
        "colab": {
          "base_uri": "https://localhost:8080/"
        },
        "id": "QjC0OZc_FInZ",
        "outputId": "1e9625ea-f7aa-4170-e350-6174ca870e09"
      },
      "execution_count": 19,
      "outputs": [
        {
          "output_type": "execute_result",
          "data": {
            "text/plain": [
              "(50,\n",
              " <tf.Tensor: shape=(50,), dtype=int32, numpy=\n",
              " array([-100,  -96,  -92,  -88,  -84,  -80,  -76,  -72,  -68,  -64,  -60,\n",
              "         -56,  -52,  -48,  -44,  -40,  -36,  -32,  -28,  -24,  -20,  -16,\n",
              "         -12,   -8,   -4,    0,    4,    8,   12,   16,   20,   24,   28,\n",
              "          32,   36,   40,   44,   48,   52,   56,   60,   64,   68,   72,\n",
              "          76,   80,   84,   88,   92,   96], dtype=int32)>,\n",
              " <tf.Tensor: shape=(50,), dtype=int32, numpy=\n",
              " array([-90, -86, -82, -78, -74, -70, -66, -62, -58, -54, -50, -46, -42,\n",
              "        -38, -34, -30, -26, -22, -18, -14, -10,  -6,  -2,   2,   6,  10,\n",
              "         14,  18,  22,  26,  30,  34,  38,  42,  46,  50,  54,  58,  62,\n",
              "         66,  70,  74,  78,  82,  86,  90,  94,  98, 102, 106], dtype=int32)>,\n",
              " 50)"
            ]
          },
          "metadata": {},
          "execution_count": 19
        }
      ]
    },
    {
      "cell_type": "markdown",
      "source": [
        "###splitting the datasets"
      ],
      "metadata": {
        "id": "WMrLRQXMGs4H"
      }
    },
    {
      "cell_type": "code",
      "source": [
        "#split the data into train set and the test sets\n",
        "X_train = X[:40] #first 40 of the data 80 percent of the data\n",
        "y_train = y[:40]\n",
        "\n",
        "\n",
        "X_test = X[40:] #last 20 percent of the data from X\n",
        "y_test = y[40:]"
      ],
      "metadata": {
        "id": "RFQXBou_n1ww"
      },
      "execution_count": 20,
      "outputs": []
    },
    {
      "cell_type": "code",
      "source": [
        "len(X_train), len(X_test), len(y_train), len(y_test)"
      ],
      "metadata": {
        "colab": {
          "base_uri": "https://localhost:8080/"
        },
        "id": "vkRJfPFiH4w4",
        "outputId": "2fe4602f-01ec-4eec-e720-81aee8631d0a"
      },
      "execution_count": 21,
      "outputs": [
        {
          "output_type": "execute_result",
          "data": {
            "text/plain": [
              "(40, 10, 40, 10)"
            ]
          },
          "metadata": {},
          "execution_count": 21
        }
      ]
    },
    {
      "cell_type": "code",
      "source": [
        "### visualizing the data\n",
        "plt.figure(figsize=(10,7))\n",
        "plt.scatter(X_train, y_train, c = \"b\", label=\"Training data\")\n",
        "plt.scatter(X_test, y_test, c = \"g\", label=\"Test Data\")\n",
        "plt.legend()"
      ],
      "metadata": {
        "colab": {
          "base_uri": "https://localhost:8080/",
          "height": 616
        },
        "id": "YAdt5EtoIAGY",
        "outputId": "a210a544-c436-43a6-80ea-c1d69b9aeecf"
      },
      "execution_count": 22,
      "outputs": [
        {
          "output_type": "execute_result",
          "data": {
            "text/plain": [
              "<matplotlib.legend.Legend at 0x79eded55ad40>"
            ]
          },
          "metadata": {},
          "execution_count": 22
        },
        {
          "output_type": "display_data",
          "data": {
            "text/plain": [
              "<Figure size 1000x700 with 1 Axes>"
            ],
            "image/png": "[encoded data removed]"
          },
          "metadata": {}
        }
      ]
    },
    {
      "cell_type": "code",
      "source": [
        "#create the neural network here\n",
        "# create the model first\n",
        "\n",
        "model = tf.keras.Sequential([\n",
        "    tf.keras.layers.Dense(100, activation=None),\n",
        "    tf.keras.layers.Dense(1)\n",
        "])\n",
        "\n",
        "\n",
        "# compile model\n",
        "model.compile(optimizer=tf.keras.optimizers.Adam(lr=0.0001),\n",
        "              metrics=\"mae\",\n",
        "              loss = tf.keras.losses.MAE\n",
        "              )\n",
        "\n",
        "#model fittting\n",
        "\n",
        "#model.fit()"
      ],
      "metadata": {
        "colab": {
          "base_uri": "https://localhost:8080/"
        },
        "id": "JMFu_aL7I2S8",
        "outputId": "8f9a6ee8-bb12-4eb2-88cd-3b5141065168"
      },
      "execution_count": 23,
      "outputs": [
        {
          "output_type": "stream",
          "name": "stderr",
          "text": [
            "WARNING:absl:`lr` is deprecated in Keras optimizer, please use `learning_rate` or use the legacy optimizer, e.g.,tf.keras.optimizers.legacy.Adam.\n"
          ]
        }
      ]
    },
    {
      "cell_type": "code",
      "source": [
        "X[0], y[0], X_train, y_train"
      ],
      "metadata": {
        "colab": {
          "base_uri": "https://localhost:8080/"
        },
        "id": "uwneIapDhfOH",
        "outputId": "e65f42e3-a4a8-4354-eacd-b4b81d40779f"
      },
      "execution_count": 24,
      "outputs": [
        {
          "output_type": "execute_result",
          "data": {
            "text/plain": [
              "(<tf.Tensor: shape=(), dtype=int32, numpy=-100>,\n",
              " <tf.Tensor: shape=(), dtype=int32, numpy=-90>,\n",
              " <tf.Tensor: shape=(40,), dtype=int32, numpy=\n",
              " array([-100,  -96,  -92,  -88,  -84,  -80,  -76,  -72,  -68,  -64,  -60,\n",
              "         -56,  -52,  -48,  -44,  -40,  -36,  -32,  -28,  -24,  -20,  -16,\n",
              "         -12,   -8,   -4,    0,    4,    8,   12,   16,   20,   24,   28,\n",
              "          32,   36,   40,   44,   48,   52,   56], dtype=int32)>,\n",
              " <tf.Tensor: shape=(40,), dtype=int32, numpy=\n",
              " array([-90, -86, -82, -78, -74, -70, -66, -62, -58, -54, -50, -46, -42,\n",
              "        -38, -34, -30, -26, -22, -18, -14, -10,  -6,  -2,   2,   6,  10,\n",
              "         14,  18,  22,  26,  30,  34,  38,  42,  46,  50,  54,  58,  62,\n",
              "         66], dtype=int32)>)"
            ]
          },
          "metadata": {},
          "execution_count": 24
        }
      ]
    },
    {
      "cell_type": "code",
      "source": [
        "#same as above\n",
        "import tensorflow as tf\n",
        "from tensorflow.keras import layers\n",
        "\n",
        "tf.random.set_seed(42)\n",
        "\n",
        "model1 = tf.keras.Sequential([\n",
        "    tf.keras.layers.Dense(10, input_shape=[1], name=\"input_layer\"),\n",
        "    tf.keras.layers.Dense(1, name=\"output_layer\")\n",
        "], name = \"Model1\")\n",
        "\n",
        "model1.compile(optimizer=tf.keras.optimizers.SGD(),\n",
        "               metrics=\"mae\",\n",
        "               loss=tf.keras.losses.mae)\n"
      ],
      "metadata": {
        "id": "4c5QomW4heuO"
      },
      "execution_count": 25,
      "outputs": []
    },
    {
      "cell_type": "code",
      "source": [
        "model1.summary()\n",
        "#another term for dense is fully connected layer\n",
        "#"
      ],
      "metadata": {
        "colab": {
          "base_uri": "https://localhost:8080/"
        },
        "id": "IUtIqvcQiJKE",
        "outputId": "f4b1fb26-a0fb-403f-94d5-a111a9155362"
      },
      "execution_count": 26,
      "outputs": [
        {
          "output_type": "stream",
          "name": "stdout",
          "text": [
            "Model: \"Model1\"\n",
            "_________________________________________________________________\n",
            " Layer (type)                Output Shape              Param #   \n",
            "=================================================================\n",
            " input_layer (Dense)         (None, 10)                20        \n",
            "                                                                 \n",
            " output_layer (Dense)        (None, 1)                 11        \n",
            "                                                                 \n",
            "=================================================================\n",
            "Total params: 31\n",
            "Trainable params: 31\n",
            "Non-trainable params: 0\n",
            "_________________________________________________________________\n"
          ]
        }
      ]
    },
    {
      "cell_type": "markdown",
      "source": [
        "\n",
        "\n",
        "*   total params : total number of parameters in the model\n",
        "*  \n",
        "trainable params: parameters / paterns model can update as trains.\n",
        "\n",
        "\n",
        "*   non - trainable params : are parameters that was not updated during training\n",
        "\n",
        "\n",
        "resource for trainable\n",
        "-->\n",
        "\n",
        "\n",
        "\n"
      ],
      "metadata": {
        "id": "E97MCnR6nGPN"
      }
    },
    {
      "cell_type": "code",
      "source": [
        "model1.fit(tf.expand_dims(X_train, axis=-1), y_train, epochs=100, verbose=0)"
      ],
      "metadata": {
        "colab": {
          "base_uri": "https://localhost:8080/"
        },
        "id": "RkwRxTfsj-Od",
        "outputId": "8a8dba4d-2d30-4a14-d3e2-e9e8a11a0f9a"
      },
      "execution_count": 27,
      "outputs": [
        {
          "output_type": "execute_result",
          "data": {
            "text/plain": [
              "<keras.callbacks.History at 0x79eded401690>"
            ]
          },
          "metadata": {},
          "execution_count": 27
        }
      ]
    },
    {
      "cell_type": "code",
      "source": [
        "model1.summary()"
      ],
      "metadata": {
        "colab": {
          "base_uri": "https://localhost:8080/"
        },
        "id": "evKDmrgoDvN-",
        "outputId": "c8e9ecbf-3623-425b-9b55-164fdbdf1399"
      },
      "execution_count": 28,
      "outputs": [
        {
          "output_type": "stream",
          "name": "stdout",
          "text": [
            "Model: \"Model1\"\n",
            "_________________________________________________________________\n",
            " Layer (type)                Output Shape              Param #   \n",
            "=================================================================\n",
            " input_layer (Dense)         (None, 10)                20        \n",
            "                                                                 \n",
            " output_layer (Dense)        (None, 1)                 11        \n",
            "                                                                 \n",
            "=================================================================\n",
            "Total params: 31\n",
            "Trainable params: 31\n",
            "Non-trainable params: 0\n",
            "_________________________________________________________________\n"
          ]
        }
      ]
    },
    {
      "cell_type": "code",
      "source": [
        "from tensorflow.keras.utils import plot_model\n",
        "\n",
        "plot_model(model = model1, show_shapes=True)"
      ],
      "metadata": {
        "colab": {
          "base_uri": "https://localhost:8080/",
          "height": 312
        },
        "id": "9gK54LWhFHbU",
        "outputId": "515fc949-1b5f-40f9-9fdb-e0ee54dd43d8"
      },
      "execution_count": 29,
      "outputs": [
        {
          "output_type": "execute_result",
          "data": {
            "image/png": "[encoded data removed]",
            "text/plain": [
              "<IPython.core.display.Image object>"
            ]
          },
          "metadata": {},
          "execution_count": 29
        }
      ]
    },
    {
      "cell_type": "code",
      "source": [
        "### example problem assign\n",
        "tf.random.set_seed(42)\n",
        "\n",
        "xamp1 = tf.keras.Sequential([\n",
        "    tf.keras.layers.Dense(1000, input_shape=[1], name = \"input_layer\"),\n",
        "    #tf.keras.layers.Dense(1, input_shape=[1], name = \"input_layer2\"),\n",
        "    #tf.keras.layers.Dense(100, input_shape=[1], name = \"input_layer3\"),\n",
        "    tf.keras.layers.Dense(1, name = \"output_layer\"),\n",
        "], name = \"xamp1\")\n",
        "\n",
        "xamp1.compile(optimizer = tf.keras.optimizers.Adam(learning_rate=0.0001), loss = tf.keras.losses.mae, metrics=\"mae\")\n",
        "\n",
        "#model1.fit(tf.expand_dims(X_train, axis=-1), y_train, epochs=100, verbose=0)\n",
        "\n",
        "xamp1.fit(tf.expand_dims(X_train, axis=-1), y_train, epochs=1000,verbose=0 )\n"
      ],
      "metadata": {
        "colab": {
          "base_uri": "https://localhost:8080/"
        },
        "id": "qZHh1ocHvzPm",
        "outputId": "db961c10-94a3-4a86-d6ae-d3f889ac653c"
      },
      "execution_count": 30,
      "outputs": [
        {
          "output_type": "execute_result",
          "data": {
            "text/plain": [
              "<keras.callbacks.History at 0x79ededefd5a0>"
            ]
          },
          "metadata": {},
          "execution_count": 30
        }
      ]
    },
    {
      "cell_type": "code",
      "source": [
        "plot_model(model = xamp1, show_shapes=True)\n",
        "#this is just visualizing the layers"
      ],
      "metadata": {
        "colab": {
          "base_uri": "https://localhost:8080/",
          "height": 312
        },
        "id": "uO_En7YnxciZ",
        "outputId": "5ee52aaf-5c05-4e9a-8acc-be8f17c9893e"
      },
      "execution_count": 31,
      "outputs": [
        {
          "output_type": "execute_result",
          "data": {
            "image/png": "[encoded data removed]",
            "text/plain": [
              "<IPython.core.display.Image object>"
            ]
          },
          "metadata": {},
          "execution_count": 31
        }
      ]
    },
    {
      "cell_type": "code",
      "source": [
        "xamp1P = xamp1.predict(X_test)\n",
        "xamp1P"
      ],
      "metadata": {
        "colab": {
          "base_uri": "https://localhost:8080/"
        },
        "id": "X3cVFiZkxps-",
        "outputId": "529b4381-3d54-46ca-fd1e-b04ea8ff7052"
      },
      "execution_count": 32,
      "outputs": [
        {
          "output_type": "stream",
          "name": "stdout",
          "text": [
            "1/1 [==============================] - 0s 58ms/step\n"
          ]
        },
        {
          "output_type": "execute_result",
          "data": {
            "text/plain": [
              "array([[ 69.93824 ],\n",
              "       [ 73.93388 ],\n",
              "       [ 77.92954 ],\n",
              "       [ 81.92519 ],\n",
              "       [ 85.920845],\n",
              "       [ 89.9165  ],\n",
              "       [ 93.91214 ],\n",
              "       [ 97.907776],\n",
              "       [101.903435],\n",
              "       [105.89907 ]], dtype=float32)"
            ]
          },
          "metadata": {},
          "execution_count": 32
        }
      ]
    },
    {
      "cell_type": "code",
      "source": [
        "xamp1.predict([100])"
      ],
      "metadata": {
        "colab": {
          "base_uri": "https://localhost:8080/"
        },
        "id": "sn2IyMakiPB0",
        "outputId": "891e6eac-c1f1-4555-d042-34772b7e7734"
      },
      "execution_count": 33,
      "outputs": [
        {
          "output_type": "stream",
          "name": "stdout",
          "text": [
            "1/1 [==============================] - 0s 94ms/step\n"
          ]
        },
        {
          "output_type": "execute_result",
          "data": {
            "text/plain": [
              "array([[109.89472]], dtype=float32)"
            ]
          },
          "metadata": {},
          "execution_count": 33
        }
      ]
    },
    {
      "cell_type": "markdown",
      "source": [
        "###Visualizing the Models predictions"
      ],
      "metadata": {
        "id": "GwDr6sxlrP9H"
      }
    },
    {
      "cell_type": "code",
      "source": [
        "#ploting y_pred, vs y_test or y_true"
      ],
      "metadata": {
        "id": "ujLlWEyrF4Ah"
      },
      "execution_count": 34,
      "outputs": []
    },
    {
      "cell_type": "code",
      "source": [
        "y_test\n",
        "#this is suppose to line up to the prediction above"
      ],
      "metadata": {
        "colab": {
          "base_uri": "https://localhost:8080/"
        },
        "id": "hruwXvjzD9f3",
        "outputId": "4a0b1de2-2716-49fa-aee6-8d22af083832"
      },
      "execution_count": 35,
      "outputs": [
        {
          "output_type": "execute_result",
          "data": {
            "text/plain": [
              "<tf.Tensor: shape=(10,), dtype=int32, numpy=array([ 70,  74,  78,  82,  86,  90,  94,  98, 102, 106], dtype=int32)>"
            ]
          },
          "metadata": {},
          "execution_count": 35
        }
      ]
    },
    {
      "cell_type": "markdown",
      "source": [
        "**If you feel to make a function for plotting in the future**"
      ],
      "metadata": {
        "id": "1-QCwDhsE6oE"
      }
    },
    {
      "cell_type": "code",
      "source": [
        "def plot_predictions(train_data = X_train,\n",
        "                     train_labels = y_train,\n",
        "                     test_data = X_test,\n",
        "                     test_labels = y_test,\n",
        "                     predictions = xamp1P\n",
        "                     ):\n",
        "  \"\"\"\n",
        "  Plots Training data, test Data and compares the predictions to ground truth\n",
        "  \"\"\"\n",
        "\n",
        "  plt.figure(figsize=(10,7))\n",
        "  #plot here\n",
        "  plt.scatter(train_data, train_labels, c=\"b\", label=\"Training data\")\n",
        "  #plot the other on green for the prediction or test\n",
        "  plt.scatter(test_data, test_labels, c=\"g\", label=\"Test Data\")\n",
        "  # plot the models predictions in red\n",
        "  plt.scatter(test_data, predictions, c=\"r\", label = \"predictions\")\n",
        "  plt.legend();\n"
      ],
      "metadata": {
        "id": "0KJJpvTBEW9_"
      },
      "execution_count": 66,
      "outputs": []
    },
    {
      "cell_type": "code",
      "source": [
        "plot_predictions(train_data = X_train,\n",
        "                     train_labels = y_train,\n",
        "                     test_data = X_test,\n",
        "                     test_labels = y_test,\n",
        "                     predictions = xamp1P\n",
        "                 )"
      ],
      "metadata": {
        "colab": {
          "base_uri": "https://localhost:8080/",
          "height": 599
        },
        "id": "aLUWdL06GwX8",
        "outputId": "f723f3f4-6dcd-43cf-ed69-1d0dbe749c24"
      },
      "execution_count": 37,
      "outputs": [
        {
          "output_type": "display_data",
          "data": {
            "text/plain": [
              "<Figure size 1000x700 with 1 Axes>"
            ],
            "image/png": "[encoded data removed]"
          },
          "metadata": {}
        }
      ]
    },
    {
      "cell_type": "markdown",
      "source": [
        "###Evaluating our models predictions with regression evaluation metrics"
      ],
      "metadata": {
        "id": "qm14pu9-HwsW"
      }
    },
    {
      "cell_type": "markdown",
      "source": [
        "depending on the problem we are working on there are different metrics that we can perform to evaluate the models performance\n",
        "\n",
        "now we are doing regression problems\n",
        "* MAE -> mean absolute error -- on average how wrong is each of my models predictions\n",
        "\n",
        "* MSE -> mean Square error -- we square the average errors\n",
        "\n"
      ],
      "metadata": {
        "id": "fmsHmhrbxvck"
      }
    },
    {
      "cell_type": "code",
      "source": [
        "xamp1.evaluate(X_test, y_test)"
      ],
      "metadata": {
        "colab": {
          "base_uri": "https://localhost:8080/"
        },
        "id": "1biyBAjEG1n1",
        "outputId": "f41b98f7-39e5-4fa0-fb61-8ae4aaa9cf77"
      },
      "execution_count": 38,
      "outputs": [
        {
          "output_type": "stream",
          "name": "stdout",
          "text": [
            "1/1 [==============================] - 0s 182ms/step - loss: 0.0813 - mae: 0.0813\n"
          ]
        },
        {
          "output_type": "execute_result",
          "data": {
            "text/plain": [
              "[0.08133773505687714, 0.08133773505687714]"
            ]
          },
          "metadata": {},
          "execution_count": 38
        }
      ]
    },
    {
      "cell_type": "code",
      "source": [
        "#mae\n",
        "xamp1P"
      ],
      "metadata": {
        "colab": {
          "base_uri": "https://localhost:8080/"
        },
        "id": "XrnhrNKZ2RUf",
        "outputId": "9361deb8-5491-4a51-a2f5-003b3590f374"
      },
      "execution_count": 39,
      "outputs": [
        {
          "output_type": "execute_result",
          "data": {
            "text/plain": [
              "array([[ 69.93824 ],\n",
              "       [ 73.93388 ],\n",
              "       [ 77.92954 ],\n",
              "       [ 81.92519 ],\n",
              "       [ 85.920845],\n",
              "       [ 89.9165  ],\n",
              "       [ 93.91214 ],\n",
              "       [ 97.907776],\n",
              "       [101.903435],\n",
              "       [105.89907 ]], dtype=float32)"
            ]
          },
          "metadata": {},
          "execution_count": 39
        }
      ]
    },
    {
      "cell_type": "code",
      "source": [
        "#calculate the Mae here\n",
        "#mean absolute error\n",
        "mae = tf.metrics.mean_absolute_error(y_true = y_test ,y_pred = tf.squeeze(xamp1P))\n",
        "#same result as xamp1.evaluate(X_test, y_test)\n",
        "mae , xamp1.evaluate(X_test, y_test)"
      ],
      "metadata": {
        "colab": {
          "base_uri": "https://localhost:8080/"
        },
        "id": "b9m-39ba2kLY",
        "outputId": "5a4e31d6-7288-4444-815d-48466304dc21"
      },
      "execution_count": 40,
      "outputs": [
        {
          "output_type": "stream",
          "name": "stdout",
          "text": [
            "1/1 [==============================] - 0s 27ms/step - loss: 0.0813 - mae: 0.0813\n"
          ]
        },
        {
          "output_type": "execute_result",
          "data": {
            "text/plain": [
              "(<tf.Tensor: shape=(), dtype=float32, numpy=0.081337735>,\n",
              " [0.08133773505687714, 0.08133773505687714])"
            ]
          },
          "metadata": {},
          "execution_count": 40
        }
      ]
    },
    {
      "cell_type": "code",
      "source": [
        "y_pred = xamp1P\n",
        "tf.constant(y_pred)"
      ],
      "metadata": {
        "colab": {
          "base_uri": "https://localhost:8080/"
        },
        "id": "tG4Q2BP177vv",
        "outputId": "5c6b3a66-b295-4fbc-d9ac-114b391f77ed"
      },
      "execution_count": 41,
      "outputs": [
        {
          "output_type": "execute_result",
          "data": {
            "text/plain": [
              "<tf.Tensor: shape=(10, 1), dtype=float32, numpy=\n",
              "array([[ 69.93824 ],\n",
              "       [ 73.93388 ],\n",
              "       [ 77.92954 ],\n",
              "       [ 81.92519 ],\n",
              "       [ 85.920845],\n",
              "       [ 89.9165  ],\n",
              "       [ 93.91214 ],\n",
              "       [ 97.907776],\n",
              "       [101.903435],\n",
              "       [105.89907 ]], dtype=float32)>"
            ]
          },
          "metadata": {},
          "execution_count": 41
        }
      ]
    },
    {
      "cell_type": "code",
      "source": [
        "y_test"
      ],
      "metadata": {
        "colab": {
          "base_uri": "https://localhost:8080/"
        },
        "id": "FsArKs7T2ZDZ",
        "outputId": "4f8afb3e-8cd6-43a5-e05a-3e8bd71ea6d7"
      },
      "execution_count": 42,
      "outputs": [
        {
          "output_type": "execute_result",
          "data": {
            "text/plain": [
              "<tf.Tensor: shape=(10,), dtype=int32, numpy=array([ 70,  74,  78,  82,  86,  90,  94,  98, 102, 106], dtype=int32)>"
            ]
          },
          "metadata": {},
          "execution_count": 42
        }
      ]
    },
    {
      "cell_type": "code",
      "source": [
        "#calculate the mean square error\n",
        "\n",
        "# here\n",
        "\n",
        "mse = tf.metrics.mean_squared_error(y_test, y_pred = tf.squeeze(xamp1P))\n",
        "#we use squeeze because if we put only xamp1P or y_pred it will return an array as it is tons of data we have to squeeze in\n",
        "#we have to make a single dimension\n",
        "mse\n",
        "\n",
        "#typically it will be larger because of the formula that has square on it"
      ],
      "metadata": {
        "colab": {
          "base_uri": "https://localhost:8080/"
        },
        "id": "o7zdG-c-2al-",
        "outputId": "dbcbee94-fc71-4cc6-ce47-341374a02c72"
      },
      "execution_count": 43,
      "outputs": [
        {
          "output_type": "execute_result",
          "data": {
            "text/plain": [
              "<tf.Tensor: shape=(), dtype=float32, numpy=0.0067720516>"
            ]
          },
          "metadata": {},
          "execution_count": 43
        }
      ]
    },
    {
      "cell_type": "markdown",
      "source": [
        "###function for the MAE AND MSE"
      ],
      "metadata": {
        "id": "K2AP3XhIU_wJ"
      }
    },
    {
      "cell_type": "code",
      "source": [
        "#making function to calculate the MAE and MSE\n",
        "def MAE(y_true , y_pred):\n",
        "  return tf.metrics.mean_absolute_error(y_true = y_test,\n",
        "                                        y_pred = tf.squeeze(xamp1P));"
      ],
      "metadata": {
        "id": "3IMcjfkY_a7t"
      },
      "execution_count": 44,
      "outputs": []
    },
    {
      "cell_type": "code",
      "source": [
        "def MSE(y_true , y_pred):\n",
        "  return tf.metrics.mean_squared_error(y_true = y_test,\n",
        "                                        y_pred = tf.squeeze(xamp1P));"
      ],
      "metadata": {
        "id": "8_bw71XeT-P0"
      },
      "execution_count": 45,
      "outputs": []
    },
    {
      "cell_type": "code",
      "source": [
        "MSE(y_test , xamp1P)"
      ],
      "metadata": {
        "colab": {
          "base_uri": "https://localhost:8080/"
        },
        "id": "yQeWUbofUTnN",
        "outputId": "e709964b-e758-4b42-8163-ef0e82deb29a"
      },
      "execution_count": 46,
      "outputs": [
        {
          "output_type": "execute_result",
          "data": {
            "text/plain": [
              "<tf.Tensor: shape=(), dtype=float32, numpy=0.0067720516>"
            ]
          },
          "metadata": {},
          "execution_count": 46
        }
      ]
    },
    {
      "cell_type": "code",
      "source": [
        "MAE(y_test, xamp1P)"
      ],
      "metadata": {
        "colab": {
          "base_uri": "https://localhost:8080/"
        },
        "id": "PdYIJ0JTUV5y",
        "outputId": "54c728f2-c1a3-462b-e7cb-4681af39ca14"
      },
      "execution_count": 47,
      "outputs": [
        {
          "output_type": "execute_result",
          "data": {
            "text/plain": [
              "<tf.Tensor: shape=(), dtype=float32, numpy=0.081337735>"
            ]
          },
          "metadata": {},
          "execution_count": 47
        }
      ]
    },
    {
      "cell_type": "code",
      "source": [],
      "metadata": {
        "id": "mXXEF0AqUiBS"
      },
      "execution_count": 47,
      "outputs": []
    },
    {
      "cell_type": "markdown",
      "source": [
        "#Sample for review"
      ],
      "metadata": {
        "id": "aBnCcDs2VFDA"
      }
    },
    {
      "cell_type": "code",
      "source": [
        "from matplotlib.font_manager import X11FontDirectories\n",
        "#review / redoing something\n",
        "import tensorflow as tf\n",
        "import numpy as np\n",
        "import keras\n",
        "from keras import *\n",
        "\n",
        "tf.random.set_seed(42)\n",
        "\n",
        "X1 = tf.range(-200,200,5)\n",
        "y1 = X1 + 5\n",
        "\n",
        "X1, y1"
      ],
      "metadata": {
        "colab": {
          "base_uri": "https://localhost:8080/"
        },
        "id": "S969Vn5XpLm9",
        "outputId": "6ef4834b-8719-4d76-8210-6f24efb07d0e"
      },
      "execution_count": 48,
      "outputs": [
        {
          "output_type": "execute_result",
          "data": {
            "text/plain": [
              "(<tf.Tensor: shape=(80,), dtype=int32, numpy=\n",
              " array([-200, -195, -190, -185, -180, -175, -170, -165, -160, -155, -150,\n",
              "        -145, -140, -135, -130, -125, -120, -115, -110, -105, -100,  -95,\n",
              "         -90,  -85,  -80,  -75,  -70,  -65,  -60,  -55,  -50,  -45,  -40,\n",
              "         -35,  -30,  -25,  -20,  -15,  -10,   -5,    0,    5,   10,   15,\n",
              "          20,   25,   30,   35,   40,   45,   50,   55,   60,   65,   70,\n",
              "          75,   80,   85,   90,   95,  100,  105,  110,  115,  120,  125,\n",
              "         130,  135,  140,  145,  150,  155,  160,  165,  170,  175,  180,\n",
              "         185,  190,  195], dtype=int32)>,\n",
              " <tf.Tensor: shape=(80,), dtype=int32, numpy=\n",
              " array([-195, -190, -185, -180, -175, -170, -165, -160, -155, -150, -145,\n",
              "        -140, -135, -130, -125, -120, -115, -110, -105, -100,  -95,  -90,\n",
              "         -85,  -80,  -75,  -70,  -65,  -60,  -55,  -50,  -45,  -40,  -35,\n",
              "         -30,  -25,  -20,  -15,  -10,   -5,    0,    5,   10,   15,   20,\n",
              "          25,   30,   35,   40,   45,   50,   55,   60,   65,   70,   75,\n",
              "          80,   85,   90,   95,  100,  105,  110,  115,  120,  125,  130,\n",
              "         135,  140,  145,  150,  155,  160,  165,  170,  175,  180,  185,\n",
              "         190,  195,  200], dtype=int32)>)"
            ]
          },
          "metadata": {},
          "execution_count": 48
        }
      ]
    },
    {
      "cell_type": "code",
      "source": [
        "X1_train = X1[:60]\n",
        "y1_train = y1[:60]\n",
        "\n",
        "X1_test = X1[60:]\n",
        "y1_test = y1[60:]\n",
        "\n",
        "X1_train, y1_train, X1_test, y1_test"
      ],
      "metadata": {
        "colab": {
          "base_uri": "https://localhost:8080/"
        },
        "id": "hcG5t_I7q3Y5",
        "outputId": "9dbe8277-eb60-4f95-b9f2-f33f2769d2c8"
      },
      "execution_count": 49,
      "outputs": [
        {
          "output_type": "execute_result",
          "data": {
            "text/plain": [
              "(<tf.Tensor: shape=(60,), dtype=int32, numpy=\n",
              " array([-200, -195, -190, -185, -180, -175, -170, -165, -160, -155, -150,\n",
              "        -145, -140, -135, -130, -125, -120, -115, -110, -105, -100,  -95,\n",
              "         -90,  -85,  -80,  -75,  -70,  -65,  -60,  -55,  -50,  -45,  -40,\n",
              "         -35,  -30,  -25,  -20,  -15,  -10,   -5,    0,    5,   10,   15,\n",
              "          20,   25,   30,   35,   40,   45,   50,   55,   60,   65,   70,\n",
              "          75,   80,   85,   90,   95], dtype=int32)>,\n",
              " <tf.Tensor: shape=(60,), dtype=int32, numpy=\n",
              " array([-195, -190, -185, -180, -175, -170, -165, -160, -155, -150, -145,\n",
              "        -140, -135, -130, -125, -120, -115, -110, -105, -100,  -95,  -90,\n",
              "         -85,  -80,  -75,  -70,  -65,  -60,  -55,  -50,  -45,  -40,  -35,\n",
              "         -30,  -25,  -20,  -15,  -10,   -5,    0,    5,   10,   15,   20,\n",
              "          25,   30,   35,   40,   45,   50,   55,   60,   65,   70,   75,\n",
              "          80,   85,   90,   95,  100], dtype=int32)>,\n",
              " <tf.Tensor: shape=(20,), dtype=int32, numpy=\n",
              " array([100, 105, 110, 115, 120, 125, 130, 135, 140, 145, 150, 155, 160,\n",
              "        165, 170, 175, 180, 185, 190, 195], dtype=int32)>,\n",
              " <tf.Tensor: shape=(20,), dtype=int32, numpy=\n",
              " array([105, 110, 115, 120, 125, 130, 135, 140, 145, 150, 155, 160, 165,\n",
              "        170, 175, 180, 185, 190, 195, 200], dtype=int32)>)"
            ]
          },
          "metadata": {},
          "execution_count": 49
        }
      ]
    },
    {
      "cell_type": "code",
      "source": [
        "\n",
        "modelsamp = tf.keras.Sequential([\n",
        "    tf.keras.layers.Dense(1000, input_shape=[1], activation=None),\n",
        "    tf.keras.layers.Dense(1)\n",
        "])\n",
        "\n",
        "modelsamp.compile(optimizer = tf.keras.optimizers.Adam(learning_rate=0.0001),\n",
        "                  loss = tf.keras.losses.mae,\n",
        "                  metrics=\"mae\")\n",
        "\n",
        "modelsamp.fit(tf.expand_dims(X1_train, axis=-1), y1_train, epochs=1000, verbose=0)"
      ],
      "metadata": {
        "colab": {
          "base_uri": "https://localhost:8080/"
        },
        "id": "RtryZFeno1BC",
        "outputId": "5fe768ec-a52d-4110-9dfe-c6b723564e23"
      },
      "execution_count": 50,
      "outputs": [
        {
          "output_type": "execute_result",
          "data": {
            "text/plain": [
              "<keras.callbacks.History at 0x79edede459c0>"
            ]
          },
          "metadata": {},
          "execution_count": 50
        }
      ]
    },
    {
      "cell_type": "code",
      "source": [
        "predsamp = modelsamp.predict(X1_test)\n",
        "predsamp"
      ],
      "metadata": {
        "colab": {
          "base_uri": "https://localhost:8080/"
        },
        "id": "8RDZOSeVu0KT",
        "outputId": "21bb5249-4514-48b3-a5fd-2128a411b6ff"
      },
      "execution_count": 51,
      "outputs": [
        {
          "output_type": "stream",
          "name": "stderr",
          "text": [
            "WARNING:tensorflow:5 out of the last 5 calls to <function Model.make_predict_function.<locals>.predict_function at 0x79ededed8820> triggered tf.function retracing. Tracing is expensive and the excessive number of tracings could be due to (1) creating @tf.function repeatedly in a loop, (2) passing tensors with different shapes, (3) passing Python objects instead of tensors. For (1), please define your @tf.function outside of the loop. For (2), @tf.function has reduce_retracing=True option that can avoid unnecessary retracing. For (3), please refer to https://www.tensorflow.org/guide/function#controlling_retracing and https://www.tensorflow.org/api_docs/python/tf/function for  more details.\n"
          ]
        },
        {
          "output_type": "stream",
          "name": "stdout",
          "text": [
            "1/1 [==============================] - 0s 62ms/step\n"
          ]
        },
        {
          "output_type": "execute_result",
          "data": {
            "text/plain": [
              "array([[105.056694],\n",
              "       [110.05949 ],\n",
              "       [115.062294],\n",
              "       [120.065094],\n",
              "       [125.067894],\n",
              "       [130.07071 ],\n",
              "       [135.07352 ],\n",
              "       [140.0763  ],\n",
              "       [145.07913 ],\n",
              "       [150.08192 ],\n",
              "       [155.08472 ],\n",
              "       [160.08752 ],\n",
              "       [165.09033 ],\n",
              "       [170.09312 ],\n",
              "       [175.09592 ],\n",
              "       [180.09874 ],\n",
              "       [185.10153 ],\n",
              "       [190.10432 ],\n",
              "       [195.10712 ],\n",
              "       [200.10992 ]], dtype=float32)"
            ]
          },
          "metadata": {},
          "execution_count": 51
        }
      ]
    },
    {
      "cell_type": "code",
      "source": [
        "def plot_predictions(train_data = X1_train,\n",
        "                     train_labels = y1_train,\n",
        "                     test_data = X1_test,\n",
        "                     test_labels = y1_test,\n",
        "                     predictions = predsamp\n",
        "                     ):\n",
        "  \"\"\"\n",
        "  Plots Training data, test Data and compares the predictions to ground truth\n",
        "  \"\"\"\n",
        "\n",
        "  plt.figure(figsize=(10,7))\n",
        "  #plot here\n",
        "  plt.scatter(train_data, train_labels, c=\"b\", label=\"Training data\")\n",
        "  #plot the other on green for the prediction or test\n",
        "  plt.scatter(test_data, test_labels, c=\"g\", label=\"Test Data\")\n",
        "  # plot the models predictions in red\n",
        "  plt.scatter(test_data, predictions, c=\"r\", label = \"predictions\")\n",
        "  plt.legend();"
      ],
      "metadata": {
        "id": "cmftuqPoVJlQ"
      },
      "execution_count": 52,
      "outputs": []
    },
    {
      "cell_type": "code",
      "source": [],
      "metadata": {
        "id": "MGT-CCvfuaRJ"
      },
      "execution_count": 52,
      "outputs": []
    },
    {
      "cell_type": "code",
      "source": [
        "import matplotlib.pyplot as plt\n",
        "\n",
        "plot_predictions()"
      ],
      "metadata": {
        "colab": {
          "base_uri": "https://localhost:8080/",
          "height": 599
        },
        "id": "m2856w8Kt97a",
        "outputId": "5f4b166c-5053-48e3-8191-9786e080037e"
      },
      "execution_count": 53,
      "outputs": [
        {
          "output_type": "display_data",
          "data": {
            "text/plain": [
              "<Figure size 1000x700 with 1 Axes>"
            ],
            "image/png": "[encoded data removed]"
          },
          "metadata": {}
        }
      ]
    },
    {
      "cell_type": "code",
      "source": [],
      "metadata": {
        "id": "cINBIkScuEoN"
      },
      "execution_count": 53,
      "outputs": []
    },
    {
      "cell_type": "markdown",
      "source": [
        "#Setting up TensorFlow modelling experiments part 1"
      ],
      "metadata": {
        "id": "oyZY4DCouPW1"
      }
    },
    {
      "cell_type": "markdown",
      "source": [
        "The machine learning practicioner motto\n",
        "\n",
        "**Experiment Experiment Experiment**\n",
        "\n",
        "1. get more data - get more examples for your model to train on\n",
        "\n",
        "2. make your model more larger (using more complex model) - this might come in the form of more layers or more hidden units in each layer.\n",
        "\n",
        "3. train for longer - give model more of a chance to find the patterns in the data.\n"
      ],
      "metadata": {
        "id": "opp2M2LKeMF9"
      }
    },
    {
      "cell_type": "markdown",
      "source": [
        "lets make models for this\n",
        "1. model1 - 1layer , 100 epochs\n",
        "2. model2 - 2layers, trained for 100 epochs\n",
        "3. model3 - 2 layers, trained for 500 epochs"
      ],
      "metadata": {
        "id": "hB_R3h4MgBaX"
      }
    },
    {
      "cell_type": "code",
      "source": [
        "X_train, y_train , X_test, y_test"
      ],
      "metadata": {
        "colab": {
          "base_uri": "https://localhost:8080/"
        },
        "id": "1bt-yIfMuP3Y",
        "outputId": "c3666dd0-0790-4145-e493-fc14a9c5dd18"
      },
      "execution_count": 54,
      "outputs": [
        {
          "output_type": "execute_result",
          "data": {
            "text/plain": [
              "(<tf.Tensor: shape=(40,), dtype=int32, numpy=\n",
              " array([-100,  -96,  -92,  -88,  -84,  -80,  -76,  -72,  -68,  -64,  -60,\n",
              "         -56,  -52,  -48,  -44,  -40,  -36,  -32,  -28,  -24,  -20,  -16,\n",
              "         -12,   -8,   -4,    0,    4,    8,   12,   16,   20,   24,   28,\n",
              "          32,   36,   40,   44,   48,   52,   56], dtype=int32)>,\n",
              " <tf.Tensor: shape=(40,), dtype=int32, numpy=\n",
              " array([-90, -86, -82, -78, -74, -70, -66, -62, -58, -54, -50, -46, -42,\n",
              "        -38, -34, -30, -26, -22, -18, -14, -10,  -6,  -2,   2,   6,  10,\n",
              "         14,  18,  22,  26,  30,  34,  38,  42,  46,  50,  54,  58,  62,\n",
              "         66], dtype=int32)>,\n",
              " <tf.Tensor: shape=(10,), dtype=int32, numpy=array([60, 64, 68, 72, 76, 80, 84, 88, 92, 96], dtype=int32)>,\n",
              " <tf.Tensor: shape=(10,), dtype=int32, numpy=array([ 70,  74,  78,  82,  86,  90,  94,  98, 102, 106], dtype=int32)>)"
            ]
          },
          "metadata": {},
          "execution_count": 54
        }
      ]
    },
    {
      "cell_type": "code",
      "source": [
        "#always set random seed first\n",
        "tf.random.set_seed(42)\n",
        "\n",
        "model1_1 = tf.keras.Sequential([\n",
        "    tf.keras.layers.Dense(1)\n",
        "])\n",
        "\n",
        "model1_1.compile(optimizer=tf.keras.optimizers.SGD(),\n",
        "                 loss=tf.keras.losses.mae,\n",
        "                 metrics=[\"mae\"])\n",
        "\n",
        "model1_1.fit(tf.expand_dims(X_train, axis=-1), y_train , epochs=100, verbose=0)"
      ],
      "metadata": {
        "colab": {
          "base_uri": "https://localhost:8080/"
        },
        "id": "zD07bhcvfNUM",
        "outputId": "e2ae7847-3786-47d1-aee8-0caef1dff81e"
      },
      "execution_count": 55,
      "outputs": [
        {
          "output_type": "execute_result",
          "data": {
            "text/plain": [
              "<keras.callbacks.History at 0x79ededce9c90>"
            ]
          },
          "metadata": {},
          "execution_count": 55
        }
      ]
    },
    {
      "cell_type": "code",
      "source": [
        "model1_1_pred = model1_1.predict(X_test)\n",
        "model1_1_pred, y_test"
      ],
      "metadata": {
        "colab": {
          "base_uri": "https://localhost:8080/"
        },
        "id": "dX5aXFlvhHz-",
        "outputId": "c5f5fe65-c01f-4605-d73d-1433bd5c6289"
      },
      "execution_count": 56,
      "outputs": [
        {
          "output_type": "stream",
          "name": "stderr",
          "text": [
            "WARNING:tensorflow:6 out of the last 6 calls to <function Model.make_predict_function.<locals>.predict_function at 0x79ededee4550> triggered tf.function retracing. Tracing is expensive and the excessive number of tracings could be due to (1) creating @tf.function repeatedly in a loop, (2) passing tensors with different shapes, (3) passing Python objects instead of tensors. For (1), please define your @tf.function outside of the loop. For (2), @tf.function has reduce_retracing=True option that can avoid unnecessary retracing. For (3), please refer to https://www.tensorflow.org/guide/function#controlling_retracing and https://www.tensorflow.org/api_docs/python/tf/function for  more details.\n"
          ]
        },
        {
          "output_type": "stream",
          "name": "stdout",
          "text": [
            "1/1 [==============================] - 0s 54ms/step\n"
          ]
        },
        {
          "output_type": "execute_result",
          "data": {
            "text/plain": [
              "(array([[44.47936 ],\n",
              "        [47.357525],\n",
              "        [50.23569 ],\n",
              "        [53.113857],\n",
              "        [55.992023],\n",
              "        [58.87019 ],\n",
              "        [61.748352],\n",
              "        [64.62652 ],\n",
              "        [67.50469 ],\n",
              "        [70.38285 ]], dtype=float32),\n",
              " <tf.Tensor: shape=(10,), dtype=int32, numpy=array([ 70,  74,  78,  82,  86,  90,  94,  98, 102, 106], dtype=int32)>)"
            ]
          },
          "metadata": {},
          "execution_count": 56
        }
      ]
    },
    {
      "cell_type": "code",
      "source": [
        "plot_predictions(predictions= model1_1_pred)"
      ],
      "metadata": {
        "colab": {
          "base_uri": "https://localhost:8080/",
          "height": 599
        },
        "id": "0Kz2IocKh57X",
        "outputId": "42359528-8dce-484b-b85c-e53092753d6b"
      },
      "execution_count": 68,
      "outputs": [
        {
          "output_type": "display_data",
          "data": {
            "text/plain": [
              "<Figure size 1000x700 with 1 Axes>"
            ],
            "image/png": "[encoded data removed]"
          },
          "metadata": {}
        }
      ]
    },
    {
      "cell_type": "code",
      "source": [
        "mse1_1 = MSE(y_test, tf.squeeze(model1_1_pred))\n",
        "mae1_1 = MAE(y_test, tf.squeeze(model1_1_pred))\n",
        "mse1_1, mae1_1"
      ],
      "metadata": {
        "colab": {
          "base_uri": "https://localhost:8080/"
        },
        "id": "1-MazhYJiiyr",
        "outputId": "c48ce3ff-e557-49bd-f459-b1121d5b855b"
      },
      "execution_count": 61,
      "outputs": [
        {
          "output_type": "execute_result",
          "data": {
            "text/plain": [
              "(<tf.Tensor: shape=(), dtype=float32, numpy=0.0067720516>,\n",
              " <tf.Tensor: shape=(), dtype=float32, numpy=0.081337735>)"
            ]
          },
          "metadata": {},
          "execution_count": 61
        }
      ]
    },
    {
      "cell_type": "markdown",
      "source": [
        "**Model number 2**\n",
        "\n",
        "2 dense layer trained for 100epochs"
      ],
      "metadata": {
        "id": "KFcp1k3vkXG9"
      }
    },
    {
      "cell_type": "code",
      "source": [
        "tf.random.set_seed(42)\n",
        "model2 = tf.keras.Sequential([\n",
        "    tf.keras.layers.Dense(10),\n",
        "    tf.keras.layers.Dense(1)\n",
        "])\n",
        "\n",
        "model2.compile(optimizer = tf.keras.optimizers.SGD(),\n",
        "               loss = tf.keras.losses.mae,\n",
        "               metrics=[\"mae\"])\n",
        "model2.fit(tf.expand_dims(X_train, axis=-1), y_train, epochs = 100, verbose = 0)\n"
      ],
      "metadata": {
        "colab": {
          "base_uri": "https://localhost:8080/"
        },
        "id": "hCq3dI3mjm-p",
        "outputId": "a2fb2d35-240d-408d-f698-e46fa4e28e1b"
      },
      "execution_count": 62,
      "outputs": [
        {
          "output_type": "execute_result",
          "data": {
            "text/plain": [
              "<keras.callbacks.History at 0x79eded7ce350>"
            ]
          },
          "metadata": {},
          "execution_count": 62
        }
      ]
    },
    {
      "cell_type": "code",
      "source": [
        "model2_pred = model2.predict(X_test)\n",
        "model2_pred"
      ],
      "metadata": {
        "colab": {
          "base_uri": "https://localhost:8080/"
        },
        "id": "i2Y3CcE3ovzY",
        "outputId": "42b145e6-3bb8-4d6b-cee9-375eb7aa0307"
      },
      "execution_count": 63,
      "outputs": [
        {
          "output_type": "stream",
          "name": "stdout",
          "text": [
            "1/1 [==============================] - 0s 67ms/step\n"
          ]
        },
        {
          "output_type": "execute_result",
          "data": {
            "text/plain": [
              "array([[ 69.48303 ],\n",
              "       [ 73.99957 ],\n",
              "       [ 78.51611 ],\n",
              "       [ 83.03265 ],\n",
              "       [ 87.5492  ],\n",
              "       [ 92.06574 ],\n",
              "       [ 96.582275],\n",
              "       [101.098816],\n",
              "       [105.615364],\n",
              "       [110.13189 ]], dtype=float32)"
            ]
          },
          "metadata": {},
          "execution_count": 63
        }
      ]
    },
    {
      "cell_type": "code",
      "source": [
        "plot_predictions(predictions=model2_pred)\n",
        "#basically comparing the y_true to y_pred\n",
        "mse2 = MSE(y_test, tf.squeeze(model2_pred))\n",
        "mae2 = MAE(y_test, tf.squeeze(model2_pred))\n",
        "mse2, mae2"
      ],
      "metadata": {
        "colab": {
          "base_uri": "https://localhost:8080/",
          "height": 634
        },
        "id": "-V4hYw6bo2kX",
        "outputId": "b8655b0f-d839-4ff9-c36e-5739a576ea57"
      },
      "execution_count": 69,
      "outputs": [
        {
          "output_type": "execute_result",
          "data": {
            "text/plain": [
              "(<tf.Tensor: shape=(), dtype=float32, numpy=0.0067720516>,\n",
              " <tf.Tensor: shape=(), dtype=float32, numpy=0.081337735>)"
            ]
          },
          "metadata": {},
          "execution_count": 69
        },
        {
          "output_type": "display_data",
          "data": {
            "text/plain": [
              "<Figure size 1000x700 with 1 Axes>"
            ],
            "image/png": "[encoded data removed]"
          },
          "metadata": {}
        }
      ]
    },
    {
      "cell_type": "markdown",
      "source": [
        "**Model 3**\n",
        "\n",
        "2 layers and 500 epochs"
      ],
      "metadata": {
        "id": "MPDZuiacqzfd"
      }
    },
    {
      "cell_type": "code",
      "source": [
        "import matplotlib.pyplot as plt\n",
        "\n",
        "\n",
        "tf.random.set_seed(42)\n",
        "\n",
        "model3 = tf.keras.Sequential([\n",
        "    tf.keras.layers.Dense(100, activation=None),\n",
        "    tf.keras.layers.Dense(1)\n",
        "])\n",
        "\n",
        "model3.compile(\n",
        "    optimizer = tf.keras.optimizers.SGD(),\n",
        "    loss = tf.keras.losses.mae,\n",
        "    metrics = [\"mae\"]\n",
        ")\n",
        "\n",
        "model3.fit(tf.expand_dims(X_train, axis=-1), y_train, epochs=500, verbose=0)\n",
        "\n",
        "model3_pred = model3.predict(X_test)\n",
        "\n",
        "def plotter(train_data = X_train,\n",
        "            label_data = y_train,\n",
        "            test_data = X_test,\n",
        "            label_test = y_test,\n",
        "            pred = model3_pred):\n",
        "\n",
        "  #always x first\n",
        "  plt.figure(figsize=(10,7));\n",
        "  plt.scatter(train_data, label_data, c=\"b\" , label=\"data trained\")\n",
        "  plt.scatter(test_data, label_test, c=\"g\" , label=\"data test\")\n",
        "  plt.scatter(test_data, pred, c=\"r\" , label=\"predictions\")\n",
        "  plt.legend()\n",
        "\n",
        "plotter()"
      ],
      "metadata": {
        "colab": {
          "base_uri": "https://localhost:8080/",
          "height": 616
        },
        "id": "s3ktw2_gqGt_",
        "outputId": "4e8809dd-26af-4f24-f0e2-ce9b28669583"
      },
      "execution_count": 70,
      "outputs": [
        {
          "output_type": "stream",
          "name": "stdout",
          "text": [
            "1/1 [==============================] - 0s 85ms/step\n"
          ]
        },
        {
          "output_type": "display_data",
          "data": {
            "text/plain": [
              "<Figure size 1000x700 with 1 Axes>"
            ],
            "image/png": "[encoded data removed]"
          },
          "metadata": {}
        }
      ]
    },
    {
      "cell_type": "markdown",
      "source": [
        "###Comparing the results of our experiments"
      ],
      "metadata": {
        "id": "Sc2g8kOtxE82"
      }
    },
    {
      "cell_type": "code",
      "source": [
        "import numpy as np\n",
        "import pandas as pd\n",
        "\n",
        "model_results = [[\"model1_1\"]]\n"
      ],
      "metadata": {
        "id": "CSf2jYIOtAVR"
      },
      "execution_count": 71,
      "outputs": []
    },
    {
      "cell_type": "markdown",
      "source": [
        "## Saving tensor models"
      ],
      "metadata": {
        "id": "U7uZoGxDyHTn"
      }
    },
    {
      "cell_type": "markdown",
      "source": [
        "saving them allow us to use them outside of google colab\n",
        "or whatever they we trained for? ,"
      ],
      "metadata": {
        "id": "NfDpNJJX0FTU"
      }
    },
    {
      "cell_type": "markdown",
      "source": [
        "**Ways to save the models**\n",
        "\n",
        "1.   The savemodel format\n",
        "2.   The HDF5 format\n",
        "\n"
      ],
      "metadata": {
        "id": "17VLgRFKMb9D"
      }
    },
    {
      "cell_type": "code",
      "source": [
        "xamp1.save(\"almost_perfect_prediction_xamp1\")"
      ],
      "metadata": {
        "id": "No3IEbWxyI_j",
        "colab": {
          "base_uri": "https://localhost:8080/"
        },
        "outputId": "a2b8263b-b3d6-42a2-da66-f84af62e7052"
      },
      "execution_count": 72,
      "outputs": [
        {
          "output_type": "stream",
          "name": "stderr",
          "text": [
            "WARNING:absl:Found untraced functions such as _update_step_xla while saving (showing 1 of 1). These functions will not be directly callable after loading.\n"
          ]
        }
      ]
    },
    {
      "cell_type": "code",
      "source": [],
      "metadata": {
        "id": "ofZ43f_2ZmKb"
      },
      "execution_count": null,
      "outputs": []
    }
  ]
}