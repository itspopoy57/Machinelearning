{
  "nbformat": 4,
  "nbformat_minor": 0,
  "metadata": {
    "colab": {
      "provenance": [],
      "toc_visible": true,
      "authorship_tag": "ABX9TyMzvNYzXxKoqA4PSPRDBr+u",
      "include_colab_link": true
    },
    "kernelspec": {
      "name": "python3",
      "display_name": "Python 3"
    },
    "language_info": {
      "name": "python"
    }
  },
  "cells": [
    {
      "cell_type": "markdown",
      "metadata": {
        "id": "view-in-github",
        "colab_type": "text"
      },
      "source": [
        "<a href=\"https://colab.research.google.com/github/itspopoy57/Machinelearning/blob/main/01_neural_network_Regression.ipynb\" target=\"_parent\"><img src=\"https://colab.research.google.com/assets/colab-badge.svg\" alt=\"Open In Colab\"/></a>"
      ]
    },
    {
      "cell_type": "code",
      "execution_count": null,
      "metadata": {
        "id": "WealIK4IVMPG"
      },
      "outputs": [],
      "source": []
    },
    {
      "cell_type": "markdown",
      "source": [
        "# 00 Regression problems\n"
      ],
      "metadata": {
        "id": "hAfbY7XvVM1n"
      }
    },
    {
      "cell_type": "markdown",
      "source": [
        "## intro to regression"
      ],
      "metadata": {
        "id": "9-0qSBxxVlYz"
      }
    },
    {
      "cell_type": "code",
      "source": [
        "import tensorflow as tf\n",
        "tf.__version__"
      ],
      "metadata": {
        "colab": {
          "base_uri": "https://localhost:8080/",
          "height": 36
        },
        "id": "FPWAym77Vipw",
        "outputId": "db9d0418-9682-4cd2-935d-94451425c71a"
      },
      "execution_count": 1,
      "outputs": [
        {
          "output_type": "execute_result",
          "data": {
            "text/plain": [
              "'2.12.0'"
            ],
            "application/vnd.google.colaboratory.intrinsic+json": {
              "type": "string"
            }
          },
          "metadata": {},
          "execution_count": 1
        }
      ]
    },
    {
      "cell_type": "markdown",
      "source": [
        "##Create data to view and fit\n"
      ],
      "metadata": {
        "id": "l_ehDvg-hywn"
      }
    },
    {
      "cell_type": "code",
      "source": [
        "import numpy as np\n",
        "import matplotlib.pyplot as plt\n",
        "\n",
        "\n",
        "#create the features\n",
        "#capital variables when making the matrix or tensor\n",
        "X = np.array([-7.0, -4.0 , -1.0 , 2.0, 5.0, 8.0, 11.0, 14.0 ])\n",
        "\n",
        "#creating the labels\n",
        "y = np.array([3.0, 6.0, 9.0, 12.0, 15.0, 18.0, 21.0, 24.0,])\n",
        "\n",
        "#visualize it\n",
        "plt.scatter(X,y)"
      ],
      "metadata": {
        "colab": {
          "base_uri": "https://localhost:8080/",
          "height": 452
        },
        "id": "w4X847Y_Vi33",
        "outputId": "1f7fa241-d95e-4789-eec7-3dae1252c322"
      },
      "execution_count": 2,
      "outputs": [
        {
          "output_type": "execute_result",
          "data": {
            "text/plain": [
              "<matplotlib.collections.PathCollection at 0x785f4008af50>"
            ]
          },
          "metadata": {},
          "execution_count": 2
        },
        {
          "output_type": "display_data",
          "data": {
            "text/plain": [
              "<Figure size 640x480 with 1 Axes>"
            ],
            "image/png": "[encoded data removed]"
          },
          "metadata": {}
        }
      ]
    },
    {
      "cell_type": "code",
      "source": [
        "y == X+10"
      ],
      "metadata": {
        "colab": {
          "base_uri": "https://localhost:8080/"
        },
        "id": "SNN5soQrVQq2",
        "outputId": "0089234b-c5bc-4791-bd17-970e644d1441"
      },
      "execution_count": 3,
      "outputs": [
        {
          "output_type": "execute_result",
          "data": {
            "text/plain": [
              "array([ True,  True,  True,  True,  True,  True,  True,  True])"
            ]
          },
          "metadata": {},
          "execution_count": 3
        }
      ]
    },
    {
      "cell_type": "code",
      "source": [
        "y.shape , X.shape"
      ],
      "metadata": {
        "colab": {
          "base_uri": "https://localhost:8080/"
        },
        "id": "LMMte0fY29sl",
        "outputId": "08d5251a-6f35-48a6-f164-c57a553bda9e"
      },
      "execution_count": 4,
      "outputs": [
        {
          "output_type": "execute_result",
          "data": {
            "text/plain": [
              "((8,), (8,))"
            ]
          },
          "metadata": {},
          "execution_count": 4
        }
      ]
    },
    {
      "cell_type": "markdown",
      "source": [
        "##Input Output shapes"
      ],
      "metadata": {
        "id": "1DbGTjzF4Ov9"
      }
    },
    {
      "cell_type": "markdown",
      "source": [
        "lets create a demo tensor for our housing prediction prolbem"
      ],
      "metadata": {
        "id": "Qm6P9J9L4SQR"
      }
    },
    {
      "cell_type": "code",
      "source": [
        "house_info = tf.constant([\"bedroom\" , \"bathroom\", \"garage\"])\n",
        "house_price = tf.constant([939700])\n",
        "house_info, house_price"
      ],
      "metadata": {
        "colab": {
          "base_uri": "https://localhost:8080/"
        },
        "id": "WkWwGY8x3vTi",
        "outputId": "05c92670-7f1e-4f96-cddd-1363a4acbf2a"
      },
      "execution_count": 5,
      "outputs": [
        {
          "output_type": "execute_result",
          "data": {
            "text/plain": [
              "(<tf.Tensor: shape=(3,), dtype=string, numpy=array([b'bedroom', b'bathroom', b'garage'], dtype=object)>,\n",
              " <tf.Tensor: shape=(1,), dtype=int32, numpy=array([939700], dtype=int32)>)"
            ]
          },
          "metadata": {},
          "execution_count": 5
        }
      ]
    },
    {
      "cell_type": "code",
      "source": [
        "input_shape = X.shape\n",
        "output_shape = y.shape\n",
        "input_shape, output_shape"
      ],
      "metadata": {
        "colab": {
          "base_uri": "https://localhost:8080/"
        },
        "id": "kZj_JpLK4xj9",
        "outputId": "243a96bc-268b-4549-987a-12cc0cda18b3"
      },
      "execution_count": 6,
      "outputs": [
        {
          "output_type": "execute_result",
          "data": {
            "text/plain": [
              "((8,), (8,))"
            ]
          },
          "metadata": {},
          "execution_count": 6
        }
      ]
    },
    {
      "cell_type": "code",
      "source": [
        "#turn all our numpy array to tensors\n",
        "\n",
        "X = tf.cast(tf.constant(X), dtype = tf.float32)\n",
        "y = tf.cast(tf.constant(y), dtype = tf.float32)\n",
        "X.ndim, y.ndim, X.shape, y.shape"
      ],
      "metadata": {
        "colab": {
          "base_uri": "https://localhost:8080/"
        },
        "id": "vUiuTNiJ5Wi3",
        "outputId": "2960a086-724b-4720-85ef-96c4849848da"
      },
      "execution_count": 7,
      "outputs": [
        {
          "output_type": "execute_result",
          "data": {
            "text/plain": [
              "(1, 1, TensorShape([8]), TensorShape([8]))"
            ]
          },
          "metadata": {},
          "execution_count": 7
        }
      ]
    },
    {
      "cell_type": "code",
      "source": [
        "plt.scatter(X, y)"
      ],
      "metadata": {
        "colab": {
          "base_uri": "https://localhost:8080/",
          "height": 452
        },
        "id": "K_BCOB3zXMx3",
        "outputId": "3e68af31-5db8-4ce2-b353-194b034c9c45"
      },
      "execution_count": 8,
      "outputs": [
        {
          "output_type": "execute_result",
          "data": {
            "text/plain": [
              "<matplotlib.collections.PathCollection at 0x785f3dfbdcf0>"
            ]
          },
          "metadata": {},
          "execution_count": 8
        },
        {
          "output_type": "display_data",
          "data": {
            "text/plain": [
              "<Figure size 640x480 with 1 Axes>"
            ],
            "image/png": "[encoded data removed]"
          },
          "metadata": {}
        }
      ]
    },
    {
      "cell_type": "markdown",
      "source": [
        "##Steps on Modeling on tensorFlow"
      ],
      "metadata": {
        "id": "bWMKCQWyZAKl"
      }
    },
    {
      "cell_type": "markdown",
      "source": [
        "here\n",
        "1. **Creating a Model** - Define the input and output Layers, as well as\n",
        "    Hidden layers of a deep learning model\n",
        "2.** Compile the model**\n",
        "  - define the loss function ( the function that tell use how wrong it is) and the Optimizer (tells our model how to improve and patters our samples / Model) and Evaluation metrics ( to interpret the performance of our model)\n",
        "\n",
        "3. **Fitting a Model **- letting the models find patters between X & y\n",
        "  or Features and labels.\n",
        "\n"
      ],
      "metadata": {
        "id": "m-Mu1Gv6ZL_o"
      }
    },
    {
      "cell_type": "code",
      "source": [
        "from keras.engine.sequential import Sequential\n",
        "from keras.api._v2 import keras\n",
        "#set random Seed\n",
        "tf.random.set_seed(42)\n",
        "\n",
        "# 1 create model using sequential API\n",
        "model = tf.keras.Sequential([\n",
        "    tf.keras.layers.Dense(1)\n",
        "    #we put one because we want to get to predict 1 number and return 1 number\n",
        "    #or input one number then predict one number\n",
        "])\n",
        "\n",
        "#or you can do it like this\n",
        "#model = tf.keras.Sequential()\n",
        "#model.add(tf.keras.layers.Dense(1))\n",
        "\n",
        "# 2. Compile\n",
        "model.compile(loss=tf.keras.losses.mae, #mae is mean absolute error\n",
        "              optimizer=tf.keras.optimizers.SGD(), #STG is short for stochastic gradient descent\n",
        "              metrics=[\"mae\"])\n",
        "\n",
        "\n",
        "# 3. Fit the model for 5 laps\n",
        "    #model.fit(X, y , epochs=5) - have to change this because of the update 2.7+\n",
        "model.fit(tf.expand_dims(X, axis=-1), y, epochs = 5)\n"
      ],
      "metadata": {
        "colab": {
          "base_uri": "https://localhost:8080/"
        },
        "id": "aVEFK7jqY_qi",
        "outputId": "e1173991-8770-44d5-994c-a4d7ea55f41b"
      },
      "execution_count": 9,
      "outputs": [
        {
          "output_type": "stream",
          "name": "stdout",
          "text": [
            "Epoch 1/5\n",
            "1/1 [==============================] - 1s 1s/step - loss: 7.5805 - mae: 7.5805\n",
            "Epoch 2/5\n",
            "1/1 [==============================] - 0s 19ms/step - loss: 7.4925 - mae: 7.4925\n",
            "Epoch 3/5\n",
            "1/1 [==============================] - 0s 25ms/step - loss: 7.4869 - mae: 7.4869\n",
            "Epoch 4/5\n",
            "1/1 [==============================] - 0s 26ms/step - loss: 7.4812 - mae: 7.4812\n",
            "Epoch 5/5\n",
            "1/1 [==============================] - 0s 24ms/step - loss: 7.4756 - mae: 7.4756\n"
          ]
        },
        {
          "output_type": "execute_result",
          "data": {
            "text/plain": [
              "<keras.callbacks.History at 0x785f3ad36f80>"
            ]
          },
          "metadata": {},
          "execution_count": 9
        }
      ]
    },
    {
      "cell_type": "code",
      "source": [
        "#check X, y\n",
        "X, y"
      ],
      "metadata": {
        "colab": {
          "base_uri": "https://localhost:8080/"
        },
        "id": "fbRbxZIrXjmu",
        "outputId": "4f8cf368-76c2-486a-d67f-05c4d4d80658"
      },
      "execution_count": 10,
      "outputs": [
        {
          "output_type": "execute_result",
          "data": {
            "text/plain": [
              "(<tf.Tensor: shape=(8,), dtype=float32, numpy=array([-7., -4., -1.,  2.,  5.,  8., 11., 14.], dtype=float32)>,\n",
              " <tf.Tensor: shape=(8,), dtype=float32, numpy=array([ 3.,  6.,  9., 12., 15., 18., 21., 24.], dtype=float32)>)"
            ]
          },
          "metadata": {},
          "execution_count": 10
        }
      ]
    },
    {
      "cell_type": "code",
      "source": [
        "#try to make a prediction using our trained model\n",
        "# the input is X we  predicting y so the 17 is X\n",
        "y_pred  = model.predict([17.0])\n",
        "y_pred"
      ],
      "metadata": {
        "colab": {
          "base_uri": "https://localhost:8080/"
        },
        "id": "XNr3bn67lNtF",
        "outputId": "c6dca60c-c7a3-44bc-b5fa-87d12ee581e9"
      },
      "execution_count": 11,
      "outputs": [
        {
          "output_type": "stream",
          "name": "stdout",
          "text": [
            "1/1 [==============================] - 0s 195ms/step\n"
          ]
        },
        {
          "output_type": "execute_result",
          "data": {
            "text/plain": [
              "array([[29.38685]], dtype=float32)"
            ]
          },
          "metadata": {},
          "execution_count": 11
        }
      ]
    },
    {
      "cell_type": "markdown",
      "source": [
        "now that is wrong lol\n"
      ],
      "metadata": {
        "id": "6vMZ_sRmlmPV"
      }
    },
    {
      "cell_type": "markdown",
      "source": [
        "##Now we have to know how to improve the model\n",
        "\n",
        "1. we can improve our model by altering the steps we tppk\n",
        "to create a  model.\n",
        "\n",
        "    - increase the the number of the hiddenlayers change the\n",
        "      activation fuction of each layer\n",
        "    -\n",
        "2. compiling a model\n",
        "    - we might change the optimization function or perhaps the learning rate\n",
        "\n",
        "3. fitting a model\n",
        "    - epochs -- leave it training for longer"
      ],
      "metadata": {
        "id": "lLZeW675l2ys"
      }
    },
    {
      "cell_type": "code",
      "source": [
        "from keras.engine.training import optimizer\n",
        "from keras.engine.sequential import Sequential\n",
        "from keras.api._v2 import keras\n",
        "\n",
        "# redoing it here\n",
        "\n",
        "#Step 1 :\n",
        "\n",
        "modelp2 = tf.keras.Sequential([\n",
        "    tf.keras.layers.Dense(100, activation=None),\n",
        "    tf.keras.layers.Dense(100, activation=None),\n",
        "    tf.keras.layers.Dense(100, activation=None),\n",
        "    tf.keras.layers.Dense(100, activation=None),\n",
        "    tf.keras.layers.Dense(1)\n",
        "])\n",
        "\n",
        "#step 2:\n",
        "modelp2.compile(loss=tf.keras.losses.mae,\n",
        "                #optimizer=tf.keras.optimizers.SGD(),\n",
        "                optimizer=tf.keras.optimizers.Adam(lr=0.0001),\n",
        "                metrics=[\"mae\"])\n",
        "\n",
        "#step 3\n",
        "  #x = input , y = output , epoch\n",
        "modelp2.fit(tf.expand_dims(X, axis=-1), y, epochs=500)\n",
        "\n"
      ],
      "metadata": {
        "colab": {
          "base_uri": "https://localhost:8080/"
        },
        "id": "n_bfM3nnlbKp",
        "outputId": "302d83bc-f1fe-4483-febe-74bfb355fbc5"
      },
      "execution_count": 20,
      "outputs": [
        {
          "output_type": "stream",
          "name": "stderr",
          "text": [
            "WARNING:absl:`lr` is deprecated in Keras optimizer, please use `learning_rate` or use the legacy optimizer, e.g.,tf.keras.optimizers.legacy.Adam.\n"
          ]
        },
        {
          "output_type": "stream",
          "name": "stdout",
          "text": [
            "Epoch 1/500\n",
            "1/1 [==============================] - 2s 2s/step - loss: 12.9810 - mae: 12.9810\n",
            "Epoch 2/500\n",
            "1/1 [==============================] - 0s 18ms/step - loss: 11.2802 - mae: 11.2802\n",
            "Epoch 3/500\n",
            "1/1 [==============================] - 0s 12ms/step - loss: 9.5037 - mae: 9.5037\n",
            "Epoch 4/500\n",
            "1/1 [==============================] - 0s 11ms/step - loss: 7.5961 - mae: 7.5961\n",
            "Epoch 5/500\n",
            "1/1 [==============================] - 0s 12ms/step - loss: 8.2426 - mae: 8.2426\n",
            "Epoch 6/500\n",
            "1/1 [==============================] - 0s 12ms/step - loss: 9.6003 - mae: 9.6003\n",
            "Epoch 7/500\n",
            "1/1 [==============================] - 0s 11ms/step - loss: 9.4480 - mae: 9.4480\n",
            "Epoch 8/500\n",
            "1/1 [==============================] - 0s 13ms/step - loss: 8.5386 - mae: 8.5386\n",
            "Epoch 9/500\n",
            "1/1 [==============================] - 0s 12ms/step - loss: 7.6104 - mae: 7.6104\n",
            "Epoch 10/500\n",
            "1/1 [==============================] - 0s 11ms/step - loss: 7.1894 - mae: 7.1894\n",
            "Epoch 11/500\n",
            "1/1 [==============================] - 0s 11ms/step - loss: 7.7553 - mae: 7.7553\n",
            "Epoch 12/500\n",
            "1/1 [==============================] - 0s 10ms/step - loss: 8.1537 - mae: 8.1537\n",
            "Epoch 13/500\n",
            "1/1 [==============================] - 0s 12ms/step - loss: 8.2805 - mae: 8.2805\n",
            "Epoch 14/500\n",
            "1/1 [==============================] - 0s 11ms/step - loss: 8.1988 - mae: 8.1988\n",
            "Epoch 15/500\n",
            "1/1 [==============================] - 0s 12ms/step - loss: 7.9461 - mae: 7.9461\n",
            "Epoch 16/500\n",
            "1/1 [==============================] - 0s 10ms/step - loss: 7.5432 - mae: 7.5432\n",
            "Epoch 17/500\n",
            "1/1 [==============================] - 0s 13ms/step - loss: 6.9982 - mae: 6.9982\n",
            "Epoch 18/500\n",
            "1/1 [==============================] - 0s 11ms/step - loss: 6.8953 - mae: 6.8953\n",
            "Epoch 19/500\n",
            "1/1 [==============================] - 0s 12ms/step - loss: 7.2726 - mae: 7.2726\n",
            "Epoch 20/500\n",
            "1/1 [==============================] - 0s 9ms/step - loss: 7.5258 - mae: 7.5258\n",
            "Epoch 21/500\n",
            "1/1 [==============================] - 0s 11ms/step - loss: 7.6705 - mae: 7.6705\n",
            "Epoch 22/500\n",
            "1/1 [==============================] - 0s 11ms/step - loss: 7.5030 - mae: 7.5030\n",
            "Epoch 23/500\n",
            "1/1 [==============================] - 0s 11ms/step - loss: 7.2767 - mae: 7.2767\n",
            "Epoch 24/500\n",
            "1/1 [==============================] - 0s 10ms/step - loss: 6.9709 - mae: 6.9709\n",
            "Epoch 25/500\n",
            "1/1 [==============================] - 0s 12ms/step - loss: 6.6376 - mae: 6.6376\n",
            "Epoch 26/500\n",
            "1/1 [==============================] - 0s 11ms/step - loss: 6.6227 - mae: 6.6227\n",
            "Epoch 27/500\n",
            "1/1 [==============================] - 0s 10ms/step - loss: 6.7519 - mae: 6.7519\n",
            "Epoch 28/500\n",
            "1/1 [==============================] - 0s 16ms/step - loss: 6.8464 - mae: 6.8464\n",
            "Epoch 29/500\n",
            "1/1 [==============================] - 0s 11ms/step - loss: 6.7581 - mae: 6.7581\n",
            "Epoch 30/500\n",
            "1/1 [==============================] - 0s 11ms/step - loss: 6.5041 - mae: 6.5041\n",
            "Epoch 31/500\n",
            "1/1 [==============================] - 0s 16ms/step - loss: 6.4076 - mae: 6.4076\n",
            "Epoch 32/500\n",
            "1/1 [==============================] - 0s 14ms/step - loss: 6.3969 - mae: 6.3969\n",
            "Epoch 33/500\n",
            "1/1 [==============================] - 0s 11ms/step - loss: 6.4877 - mae: 6.4877\n",
            "Epoch 34/500\n",
            "1/1 [==============================] - 0s 18ms/step - loss: 6.4759 - mae: 6.4759\n",
            "Epoch 35/500\n",
            "1/1 [==============================] - 0s 11ms/step - loss: 6.3705 - mae: 6.3705\n",
            "Epoch 36/500\n",
            "1/1 [==============================] - 0s 9ms/step - loss: 6.1834 - mae: 6.1834\n",
            "Epoch 37/500\n",
            "1/1 [==============================] - 0s 19ms/step - loss: 6.1298 - mae: 6.1298\n",
            "Epoch 38/500\n",
            "1/1 [==============================] - 0s 9ms/step - loss: 6.1022 - mae: 6.1022\n",
            "Epoch 39/500\n",
            "1/1 [==============================] - 0s 12ms/step - loss: 6.2340 - mae: 6.2340\n",
            "Epoch 40/500\n",
            "1/1 [==============================] - 0s 17ms/step - loss: 6.1996 - mae: 6.1996\n",
            "Epoch 41/500\n",
            "1/1 [==============================] - 0s 15ms/step - loss: 5.9707 - mae: 5.9707\n",
            "Epoch 42/500\n",
            "1/1 [==============================] - 0s 15ms/step - loss: 5.8571 - mae: 5.8571\n",
            "Epoch 43/500\n",
            "1/1 [==============================] - 0s 12ms/step - loss: 5.8462 - mae: 5.8462\n",
            "Epoch 44/500\n",
            "1/1 [==============================] - 0s 10ms/step - loss: 5.9055 - mae: 5.9055\n",
            "Epoch 45/500\n",
            "1/1 [==============================] - 0s 12ms/step - loss: 5.8582 - mae: 5.8582\n",
            "Epoch 46/500\n",
            "1/1 [==============================] - 0s 11ms/step - loss: 5.7115 - mae: 5.7115\n",
            "Epoch 47/500\n",
            "1/1 [==============================] - 0s 13ms/step - loss: 5.5035 - mae: 5.5035\n",
            "Epoch 48/500\n",
            "1/1 [==============================] - 0s 11ms/step - loss: 5.4480 - mae: 5.4480\n",
            "Epoch 49/500\n",
            "1/1 [==============================] - 0s 19ms/step - loss: 5.3839 - mae: 5.3839\n",
            "Epoch 50/500\n",
            "1/1 [==============================] - 0s 23ms/step - loss: 5.3568 - mae: 5.3568\n",
            "Epoch 51/500\n",
            "1/1 [==============================] - 0s 28ms/step - loss: 5.2074 - mae: 5.2074\n",
            "Epoch 52/500\n",
            "1/1 [==============================] - 0s 15ms/step - loss: 5.0944 - mae: 5.0944\n",
            "Epoch 53/500\n",
            "1/1 [==============================] - 0s 16ms/step - loss: 4.9710 - mae: 4.9710\n",
            "Epoch 54/500\n",
            "1/1 [==============================] - 0s 17ms/step - loss: 4.8634 - mae: 4.8634\n",
            "Epoch 55/500\n",
            "1/1 [==============================] - 0s 20ms/step - loss: 4.7181 - mae: 4.7181\n",
            "Epoch 56/500\n",
            "1/1 [==============================] - 0s 18ms/step - loss: 4.6012 - mae: 4.6012\n",
            "Epoch 57/500\n",
            "1/1 [==============================] - 0s 19ms/step - loss: 4.4731 - mae: 4.4731\n",
            "Epoch 58/500\n",
            "1/1 [==============================] - 0s 17ms/step - loss: 4.4800 - mae: 4.4800\n",
            "Epoch 59/500\n",
            "1/1 [==============================] - 0s 23ms/step - loss: 4.1336 - mae: 4.1336\n",
            "Epoch 60/500\n",
            "1/1 [==============================] - 0s 43ms/step - loss: 3.9189 - mae: 3.9189\n",
            "Epoch 61/500\n",
            "1/1 [==============================] - 0s 41ms/step - loss: 3.8229 - mae: 3.8229\n",
            "Epoch 62/500\n",
            "1/1 [==============================] - 0s 31ms/step - loss: 3.5691 - mae: 3.5691\n",
            "Epoch 63/500\n",
            "1/1 [==============================] - 0s 22ms/step - loss: 3.2269 - mae: 3.2269\n",
            "Epoch 64/500\n",
            "1/1 [==============================] - 0s 20ms/step - loss: 3.1752 - mae: 3.1752\n",
            "Epoch 65/500\n",
            "1/1 [==============================] - 0s 12ms/step - loss: 2.6386 - mae: 2.6386\n",
            "Epoch 66/500\n",
            "1/1 [==============================] - 0s 14ms/step - loss: 2.3348 - mae: 2.3348\n",
            "Epoch 67/500\n",
            "1/1 [==============================] - 0s 12ms/step - loss: 1.8888 - mae: 1.8888\n",
            "Epoch 68/500\n",
            "1/1 [==============================] - 0s 11ms/step - loss: 1.4582 - mae: 1.4582\n",
            "Epoch 69/500\n",
            "1/1 [==============================] - 0s 12ms/step - loss: 1.0146 - mae: 1.0146\n",
            "Epoch 70/500\n",
            "1/1 [==============================] - 0s 11ms/step - loss: 1.3900 - mae: 1.3900\n",
            "Epoch 71/500\n",
            "1/1 [==============================] - 0s 12ms/step - loss: 0.3308 - mae: 0.3308\n",
            "Epoch 72/500\n",
            "1/1 [==============================] - 0s 11ms/step - loss: 2.6515 - mae: 2.6515\n",
            "Epoch 73/500\n",
            "1/1 [==============================] - 0s 12ms/step - loss: 2.9245 - mae: 2.9245\n",
            "Epoch 74/500\n",
            "1/1 [==============================] - 0s 22ms/step - loss: 1.5346 - mae: 1.5346\n",
            "Epoch 75/500\n",
            "1/1 [==============================] - 0s 15ms/step - loss: 2.5159 - mae: 2.5159\n",
            "Epoch 76/500\n",
            "1/1 [==============================] - 0s 19ms/step - loss: 3.5226 - mae: 3.5226\n",
            "Epoch 77/500\n",
            "1/1 [==============================] - 0s 32ms/step - loss: 3.0918 - mae: 3.0918\n",
            "Epoch 78/500\n",
            "1/1 [==============================] - 0s 23ms/step - loss: 1.6310 - mae: 1.6310\n",
            "Epoch 79/500\n",
            "1/1 [==============================] - 0s 30ms/step - loss: 1.4744 - mae: 1.4744\n",
            "Epoch 80/500\n",
            "1/1 [==============================] - 0s 14ms/step - loss: 2.0726 - mae: 2.0726\n",
            "Epoch 81/500\n",
            "1/1 [==============================] - 0s 27ms/step - loss: 1.4033 - mae: 1.4033\n",
            "Epoch 82/500\n",
            "1/1 [==============================] - 0s 33ms/step - loss: 0.2830 - mae: 0.2830\n",
            "Epoch 83/500\n",
            "1/1 [==============================] - 0s 18ms/step - loss: 0.9295 - mae: 0.9295\n",
            "Epoch 84/500\n",
            "1/1 [==============================] - 0s 16ms/step - loss: 0.6804 - mae: 0.6804\n",
            "Epoch 85/500\n",
            "1/1 [==============================] - 0s 19ms/step - loss: 0.9395 - mae: 0.9395\n",
            "Epoch 86/500\n",
            "1/1 [==============================] - 0s 26ms/step - loss: 1.1153 - mae: 1.1153\n",
            "Epoch 87/500\n",
            "1/1 [==============================] - 0s 17ms/step - loss: 0.8595 - mae: 0.8595\n",
            "Epoch 88/500\n",
            "1/1 [==============================] - 0s 23ms/step - loss: 0.4824 - mae: 0.4824\n",
            "Epoch 89/500\n",
            "1/1 [==============================] - 0s 16ms/step - loss: 0.4814 - mae: 0.4814\n",
            "Epoch 90/500\n",
            "1/1 [==============================] - 0s 18ms/step - loss: 0.3278 - mae: 0.3278\n",
            "Epoch 91/500\n",
            "1/1 [==============================] - 0s 27ms/step - loss: 0.1685 - mae: 0.1685\n",
            "Epoch 92/500\n",
            "1/1 [==============================] - 0s 33ms/step - loss: 0.5987 - mae: 0.5987\n",
            "Epoch 93/500\n",
            "1/1 [==============================] - 0s 20ms/step - loss: 0.4393 - mae: 0.4393\n",
            "Epoch 94/500\n",
            "1/1 [==============================] - 0s 21ms/step - loss: 0.7272 - mae: 0.7272\n",
            "Epoch 95/500\n",
            "1/1 [==============================] - 0s 30ms/step - loss: 0.6395 - mae: 0.6395\n",
            "Epoch 96/500\n",
            "1/1 [==============================] - 0s 23ms/step - loss: 0.3497 - mae: 0.3497\n",
            "Epoch 97/500\n",
            "1/1 [==============================] - 0s 24ms/step - loss: 0.3087 - mae: 0.3087\n",
            "Epoch 98/500\n",
            "1/1 [==============================] - 0s 33ms/step - loss: 0.5788 - mae: 0.5788\n",
            "Epoch 99/500\n",
            "1/1 [==============================] - 0s 36ms/step - loss: 0.5568 - mae: 0.5568\n",
            "Epoch 100/500\n",
            "1/1 [==============================] - 0s 21ms/step - loss: 0.3376 - mae: 0.3376\n",
            "Epoch 101/500\n",
            "1/1 [==============================] - 0s 34ms/step - loss: 0.3524 - mae: 0.3524\n",
            "Epoch 102/500\n",
            "1/1 [==============================] - 0s 19ms/step - loss: 0.4595 - mae: 0.4595\n",
            "Epoch 103/500\n",
            "1/1 [==============================] - 0s 20ms/step - loss: 0.3839 - mae: 0.3839\n",
            "Epoch 104/500\n",
            "1/1 [==============================] - 0s 17ms/step - loss: 0.3642 - mae: 0.3642\n",
            "Epoch 105/500\n",
            "1/1 [==============================] - 0s 18ms/step - loss: 0.2250 - mae: 0.2250\n",
            "Epoch 106/500\n",
            "1/1 [==============================] - 0s 20ms/step - loss: 0.6941 - mae: 0.6941\n",
            "Epoch 107/500\n",
            "1/1 [==============================] - 0s 18ms/step - loss: 0.7364 - mae: 0.7364\n",
            "Epoch 108/500\n",
            "1/1 [==============================] - 0s 19ms/step - loss: 0.2107 - mae: 0.2107\n",
            "Epoch 109/500\n",
            "1/1 [==============================] - 0s 20ms/step - loss: 0.2583 - mae: 0.2583\n",
            "Epoch 110/500\n",
            "1/1 [==============================] - 0s 25ms/step - loss: 0.1383 - mae: 0.1383\n",
            "Epoch 111/500\n",
            "1/1 [==============================] - 0s 20ms/step - loss: 0.3206 - mae: 0.3206\n",
            "Epoch 112/500\n",
            "1/1 [==============================] - 0s 21ms/step - loss: 0.1984 - mae: 0.1984\n",
            "Epoch 113/500\n",
            "1/1 [==============================] - 0s 30ms/step - loss: 0.3012 - mae: 0.3012\n",
            "Epoch 114/500\n",
            "1/1 [==============================] - 0s 18ms/step - loss: 0.2196 - mae: 0.2196\n",
            "Epoch 115/500\n",
            "1/1 [==============================] - 0s 18ms/step - loss: 0.2035 - mae: 0.2035\n",
            "Epoch 116/500\n",
            "1/1 [==============================] - 0s 15ms/step - loss: 0.1214 - mae: 0.1214\n",
            "Epoch 117/500\n",
            "1/1 [==============================] - 0s 18ms/step - loss: 0.1430 - mae: 0.1430\n",
            "Epoch 118/500\n",
            "1/1 [==============================] - 0s 17ms/step - loss: 0.3652 - mae: 0.3652\n",
            "Epoch 119/500\n",
            "1/1 [==============================] - 0s 20ms/step - loss: 0.1116 - mae: 0.1116\n",
            "Epoch 120/500\n",
            "1/1 [==============================] - 0s 16ms/step - loss: 0.6520 - mae: 0.6520\n",
            "Epoch 121/500\n",
            "1/1 [==============================] - 0s 17ms/step - loss: 0.6179 - mae: 0.6179\n",
            "Epoch 122/500\n",
            "1/1 [==============================] - 0s 12ms/step - loss: 0.1943 - mae: 0.1943\n",
            "Epoch 123/500\n",
            "1/1 [==============================] - 0s 22ms/step - loss: 0.5277 - mae: 0.5277\n",
            "Epoch 124/500\n",
            "1/1 [==============================] - 0s 24ms/step - loss: 0.3031 - mae: 0.3031\n",
            "Epoch 125/500\n",
            "1/1 [==============================] - 0s 18ms/step - loss: 0.5791 - mae: 0.5791\n",
            "Epoch 126/500\n",
            "1/1 [==============================] - 0s 17ms/step - loss: 0.6489 - mae: 0.6489\n",
            "Epoch 127/500\n",
            "1/1 [==============================] - 0s 13ms/step - loss: 0.0804 - mae: 0.0804\n",
            "Epoch 128/500\n",
            "1/1 [==============================] - 0s 16ms/step - loss: 0.9034 - mae: 0.9034\n",
            "Epoch 129/500\n",
            "1/1 [==============================] - 0s 14ms/step - loss: 1.1060 - mae: 1.1060\n",
            "Epoch 130/500\n",
            "1/1 [==============================] - 0s 12ms/step - loss: 0.6210 - mae: 0.6210\n",
            "Epoch 131/500\n",
            "1/1 [==============================] - 0s 13ms/step - loss: 0.5778 - mae: 0.5778\n",
            "Epoch 132/500\n",
            "1/1 [==============================] - 0s 19ms/step - loss: 0.9070 - mae: 0.9070\n",
            "Epoch 133/500\n",
            "1/1 [==============================] - 0s 13ms/step - loss: 0.5593 - mae: 0.5593\n",
            "Epoch 134/500\n",
            "1/1 [==============================] - 0s 13ms/step - loss: 0.4425 - mae: 0.4425\n",
            "Epoch 135/500\n",
            "1/1 [==============================] - 0s 12ms/step - loss: 0.6300 - mae: 0.6300\n",
            "Epoch 136/500\n",
            "1/1 [==============================] - 0s 16ms/step - loss: 0.1660 - mae: 0.1660\n",
            "Epoch 137/500\n",
            "1/1 [==============================] - 0s 12ms/step - loss: 0.8589 - mae: 0.8589\n",
            "Epoch 138/500\n",
            "1/1 [==============================] - 0s 13ms/step - loss: 1.1708 - mae: 1.1708\n",
            "Epoch 139/500\n",
            "1/1 [==============================] - 0s 14ms/step - loss: 0.8797 - mae: 0.8797\n",
            "Epoch 140/500\n",
            "1/1 [==============================] - 0s 13ms/step - loss: 0.1887 - mae: 0.1887\n",
            "Epoch 141/500\n",
            "1/1 [==============================] - 0s 13ms/step - loss: 1.1567 - mae: 1.1567\n",
            "Epoch 142/500\n",
            "1/1 [==============================] - 0s 13ms/step - loss: 1.5888 - mae: 1.5888\n",
            "Epoch 143/500\n",
            "1/1 [==============================] - 0s 21ms/step - loss: 1.3561 - mae: 1.3561\n",
            "Epoch 144/500\n",
            "1/1 [==============================] - 0s 19ms/step - loss: 0.5366 - mae: 0.5366\n",
            "Epoch 145/500\n",
            "1/1 [==============================] - 0s 28ms/step - loss: 0.7749 - mae: 0.7749\n",
            "Epoch 146/500\n",
            "1/1 [==============================] - 0s 22ms/step - loss: 1.3585 - mae: 1.3585\n",
            "Epoch 147/500\n",
            "1/1 [==============================] - 0s 12ms/step - loss: 1.3201 - mae: 1.3201\n",
            "Epoch 148/500\n",
            "1/1 [==============================] - 0s 21ms/step - loss: 0.7379 - mae: 0.7379\n",
            "Epoch 149/500\n",
            "1/1 [==============================] - 0s 20ms/step - loss: 0.3398 - mae: 0.3398\n",
            "Epoch 150/500\n",
            "1/1 [==============================] - 0s 16ms/step - loss: 0.7436 - mae: 0.7436\n",
            "Epoch 151/500\n",
            "1/1 [==============================] - 0s 22ms/step - loss: 0.5395 - mae: 0.5395\n",
            "Epoch 152/500\n",
            "1/1 [==============================] - 0s 14ms/step - loss: 0.2146 - mae: 0.2146\n",
            "Epoch 153/500\n",
            "1/1 [==============================] - 0s 16ms/step - loss: 0.3828 - mae: 0.3828\n",
            "Epoch 154/500\n",
            "1/1 [==============================] - 0s 14ms/step - loss: 0.0267 - mae: 0.0267\n",
            "Epoch 155/500\n",
            "1/1 [==============================] - 0s 15ms/step - loss: 0.2780 - mae: 0.2780\n",
            "Epoch 156/500\n",
            "1/1 [==============================] - 0s 22ms/step - loss: 0.0456 - mae: 0.0456\n",
            "Epoch 157/500\n",
            "1/1 [==============================] - 0s 12ms/step - loss: 0.0832 - mae: 0.0832\n",
            "Epoch 158/500\n",
            "1/1 [==============================] - 0s 17ms/step - loss: 0.3694 - mae: 0.3694\n",
            "Epoch 159/500\n",
            "1/1 [==============================] - 0s 14ms/step - loss: 0.2450 - mae: 0.2450\n",
            "Epoch 160/500\n",
            "1/1 [==============================] - 0s 17ms/step - loss: 0.4044 - mae: 0.4044\n",
            "Epoch 161/500\n",
            "1/1 [==============================] - 0s 16ms/step - loss: 0.4435 - mae: 0.4435\n",
            "Epoch 162/500\n",
            "1/1 [==============================] - 0s 20ms/step - loss: 0.0527 - mae: 0.0527\n",
            "Epoch 163/500\n",
            "1/1 [==============================] - 0s 17ms/step - loss: 0.0292 - mae: 0.0292\n",
            "Epoch 164/500\n",
            "1/1 [==============================] - 0s 15ms/step - loss: 0.4583 - mae: 0.4583\n",
            "Epoch 165/500\n",
            "1/1 [==============================] - 0s 21ms/step - loss: 0.3672 - mae: 0.3672\n",
            "Epoch 166/500\n",
            "1/1 [==============================] - 0s 18ms/step - loss: 0.2376 - mae: 0.2376\n",
            "Epoch 167/500\n",
            "1/1 [==============================] - 0s 13ms/step - loss: 0.2653 - mae: 0.2653\n",
            "Epoch 168/500\n",
            "1/1 [==============================] - 0s 20ms/step - loss: 0.2194 - mae: 0.2194\n",
            "Epoch 169/500\n",
            "1/1 [==============================] - 0s 20ms/step - loss: 0.1422 - mae: 0.1422\n",
            "Epoch 170/500\n",
            "1/1 [==============================] - 0s 11ms/step - loss: 0.4416 - mae: 0.4416\n",
            "Epoch 171/500\n",
            "1/1 [==============================] - 0s 23ms/step - loss: 0.4588 - mae: 0.4588\n",
            "Epoch 172/500\n",
            "1/1 [==============================] - 0s 19ms/step - loss: 0.0233 - mae: 0.0233\n",
            "Epoch 173/500\n",
            "1/1 [==============================] - 0s 20ms/step - loss: 0.0081 - mae: 0.0081\n",
            "Epoch 174/500\n",
            "1/1 [==============================] - 0s 25ms/step - loss: 0.5010 - mae: 0.5010\n",
            "Epoch 175/500\n",
            "1/1 [==============================] - 0s 27ms/step - loss: 0.4679 - mae: 0.4679\n",
            "Epoch 176/500\n",
            "1/1 [==============================] - 0s 18ms/step - loss: 0.0508 - mae: 0.0508\n",
            "Epoch 177/500\n",
            "1/1 [==============================] - 0s 15ms/step - loss: 0.0232 - mae: 0.0232\n",
            "Epoch 178/500\n",
            "1/1 [==============================] - 0s 20ms/step - loss: 0.4933 - mae: 0.4933\n",
            "Epoch 179/500\n",
            "1/1 [==============================] - 0s 15ms/step - loss: 0.4723 - mae: 0.4723\n",
            "Epoch 180/500\n",
            "1/1 [==============================] - 0s 14ms/step - loss: 0.0302 - mae: 0.0302\n",
            "Epoch 181/500\n",
            "1/1 [==============================] - 0s 19ms/step - loss: 0.0078 - mae: 0.0078\n",
            "Epoch 182/500\n",
            "1/1 [==============================] - 0s 15ms/step - loss: 0.4500 - mae: 0.4500\n",
            "Epoch 183/500\n",
            "1/1 [==============================] - 0s 23ms/step - loss: 0.3636 - mae: 0.3636\n",
            "Epoch 184/500\n",
            "1/1 [==============================] - 0s 28ms/step - loss: 0.2048 - mae: 0.2048\n",
            "Epoch 185/500\n",
            "1/1 [==============================] - 0s 19ms/step - loss: 0.2322 - mae: 0.2322\n",
            "Epoch 186/500\n",
            "1/1 [==============================] - 0s 25ms/step - loss: 0.2295 - mae: 0.2295\n",
            "Epoch 187/500\n",
            "1/1 [==============================] - 0s 14ms/step - loss: 0.1547 - mae: 0.1547\n",
            "Epoch 188/500\n",
            "1/1 [==============================] - 0s 18ms/step - loss: 0.3904 - mae: 0.3904\n",
            "Epoch 189/500\n",
            "1/1 [==============================] - 0s 20ms/step - loss: 0.4074 - mae: 0.4074\n",
            "Epoch 190/500\n",
            "1/1 [==============================] - 0s 30ms/step - loss: 0.0518 - mae: 0.0518\n",
            "Epoch 191/500\n",
            "1/1 [==============================] - 0s 20ms/step - loss: 0.0230 - mae: 0.0230\n",
            "Epoch 192/500\n",
            "1/1 [==============================] - 0s 18ms/step - loss: 0.2540 - mae: 0.2540\n",
            "Epoch 193/500\n",
            "1/1 [==============================] - 0s 19ms/step - loss: 0.0806 - mae: 0.0806\n",
            "Epoch 194/500\n",
            "1/1 [==============================] - 0s 27ms/step - loss: 0.5434 - mae: 0.5434\n",
            "Epoch 195/500\n",
            "1/1 [==============================] - 0s 19ms/step - loss: 0.5594 - mae: 0.5594\n",
            "Epoch 196/500\n",
            "1/1 [==============================] - 0s 20ms/step - loss: 0.1359 - mae: 0.1359\n",
            "Epoch 197/500\n",
            "1/1 [==============================] - 0s 20ms/step - loss: 0.6068 - mae: 0.6068\n",
            "Epoch 198/500\n",
            "1/1 [==============================] - 0s 20ms/step - loss: 0.7839 - mae: 0.7839\n",
            "Epoch 199/500\n",
            "1/1 [==============================] - 0s 19ms/step - loss: 0.4571 - mae: 0.4571\n",
            "Epoch 200/500\n",
            "1/1 [==============================] - 0s 19ms/step - loss: 0.3255 - mae: 0.3255\n",
            "Epoch 201/500\n",
            "1/1 [==============================] - 0s 15ms/step - loss: 0.5455 - mae: 0.5455\n",
            "Epoch 202/500\n",
            "1/1 [==============================] - 0s 26ms/step - loss: 0.2875 - mae: 0.2875\n",
            "Epoch 203/500\n",
            "1/1 [==============================] - 0s 21ms/step - loss: 0.4018 - mae: 0.4018\n",
            "Epoch 204/500\n",
            "1/1 [==============================] - 0s 21ms/step - loss: 0.5578 - mae: 0.5578\n",
            "Epoch 205/500\n",
            "1/1 [==============================] - 0s 24ms/step - loss: 0.2306 - mae: 0.2306\n",
            "Epoch 206/500\n",
            "1/1 [==============================] - 0s 27ms/step - loss: 0.5167 - mae: 0.5167\n",
            "Epoch 207/500\n",
            "1/1 [==============================] - 0s 21ms/step - loss: 0.7391 - mae: 0.7391\n",
            "Epoch 208/500\n",
            "1/1 [==============================] - 0s 33ms/step - loss: 0.4961 - mae: 0.4961\n",
            "Epoch 209/500\n",
            "1/1 [==============================] - 0s 16ms/step - loss: 0.1806 - mae: 0.1806\n",
            "Epoch 210/500\n",
            "1/1 [==============================] - 0s 11ms/step - loss: 0.3223 - mae: 0.3223\n",
            "Epoch 211/500\n",
            "1/1 [==============================] - 0s 15ms/step - loss: 0.0447 - mae: 0.0447\n",
            "Epoch 212/500\n",
            "1/1 [==============================] - 0s 10ms/step - loss: 0.0118 - mae: 0.0118\n",
            "Epoch 213/500\n",
            "1/1 [==============================] - 0s 11ms/step - loss: 0.4283 - mae: 0.4283\n",
            "Epoch 214/500\n",
            "1/1 [==============================] - 0s 13ms/step - loss: 0.3814 - mae: 0.3814\n",
            "Epoch 215/500\n",
            "1/1 [==============================] - 0s 11ms/step - loss: 0.1712 - mae: 0.1712\n",
            "Epoch 216/500\n",
            "1/1 [==============================] - 0s 11ms/step - loss: 0.2609 - mae: 0.2609\n",
            "Epoch 217/500\n",
            "1/1 [==============================] - 0s 11ms/step - loss: 0.1045 - mae: 0.1045\n",
            "Epoch 218/500\n",
            "1/1 [==============================] - 0s 11ms/step - loss: 0.0931 - mae: 0.0931\n",
            "Epoch 219/500\n",
            "1/1 [==============================] - 0s 13ms/step - loss: 0.2465 - mae: 0.2465\n",
            "Epoch 220/500\n",
            "1/1 [==============================] - 0s 12ms/step - loss: 0.1390 - mae: 0.1390\n",
            "Epoch 221/500\n",
            "1/1 [==============================] - 0s 11ms/step - loss: 0.4047 - mae: 0.4047\n",
            "Epoch 222/500\n",
            "1/1 [==============================] - 0s 13ms/step - loss: 0.3728 - mae: 0.3728\n",
            "Epoch 223/500\n",
            "1/1 [==============================] - 0s 16ms/step - loss: 0.0910 - mae: 0.0910\n",
            "Epoch 224/500\n",
            "1/1 [==============================] - 0s 11ms/step - loss: 0.0735 - mae: 0.0735\n",
            "Epoch 225/500\n",
            "1/1 [==============================] - 0s 12ms/step - loss: 0.3518 - mae: 0.3518\n",
            "Epoch 226/500\n",
            "1/1 [==============================] - 0s 11ms/step - loss: 0.2845 - mae: 0.2845\n",
            "Epoch 227/500\n",
            "1/1 [==============================] - 0s 11ms/step - loss: 0.2129 - mae: 0.2129\n",
            "Epoch 228/500\n",
            "1/1 [==============================] - 0s 11ms/step - loss: 0.2176 - mae: 0.2176\n",
            "Epoch 229/500\n",
            "1/1 [==============================] - 0s 11ms/step - loss: 0.2211 - mae: 0.2211\n",
            "Epoch 230/500\n",
            "1/1 [==============================] - 0s 11ms/step - loss: 0.1800 - mae: 0.1800\n",
            "Epoch 231/500\n",
            "1/1 [==============================] - 0s 10ms/step - loss: 0.2883 - mae: 0.2883\n",
            "Epoch 232/500\n",
            "1/1 [==============================] - 0s 11ms/step - loss: 0.2735 - mae: 0.2735\n",
            "Epoch 233/500\n",
            "1/1 [==============================] - 0s 11ms/step - loss: 0.1840 - mae: 0.1840\n",
            "Epoch 234/500\n",
            "1/1 [==============================] - 0s 11ms/step - loss: 0.1573 - mae: 0.1573\n",
            "Epoch 235/500\n",
            "1/1 [==============================] - 0s 11ms/step - loss: 0.3037 - mae: 0.3037\n",
            "Epoch 236/500\n",
            "1/1 [==============================] - 0s 14ms/step - loss: 0.2786 - mae: 0.2786\n",
            "Epoch 237/500\n",
            "1/1 [==============================] - 0s 11ms/step - loss: 0.1782 - mae: 0.1782\n",
            "Epoch 238/500\n",
            "1/1 [==============================] - 0s 10ms/step - loss: 0.1626 - mae: 0.1626\n",
            "Epoch 239/500\n",
            "1/1 [==============================] - 0s 11ms/step - loss: 0.2809 - mae: 0.2809\n",
            "Epoch 240/500\n",
            "1/1 [==============================] - 0s 11ms/step - loss: 0.2448 - mae: 0.2448\n",
            "Epoch 241/500\n",
            "1/1 [==============================] - 0s 11ms/step - loss: 0.2151 - mae: 0.2151\n",
            "Epoch 242/500\n",
            "1/1 [==============================] - 0s 11ms/step - loss: 0.2010 - mae: 0.2010\n",
            "Epoch 243/500\n",
            "1/1 [==============================] - 0s 11ms/step - loss: 0.2394 - mae: 0.2394\n",
            "Epoch 244/500\n",
            "1/1 [==============================] - 0s 10ms/step - loss: 0.2021 - mae: 0.2021\n",
            "Epoch 245/500\n",
            "1/1 [==============================] - 0s 10ms/step - loss: 0.2687 - mae: 0.2687\n",
            "Epoch 246/500\n",
            "1/1 [==============================] - 0s 11ms/step - loss: 0.2630 - mae: 0.2630\n",
            "Epoch 247/500\n",
            "1/1 [==============================] - 0s 12ms/step - loss: 0.1603 - mae: 0.1603\n",
            "Epoch 248/500\n",
            "1/1 [==============================] - 0s 15ms/step - loss: 0.1194 - mae: 0.1194\n",
            "Epoch 249/500\n",
            "1/1 [==============================] - 0s 13ms/step - loss: 0.3350 - mae: 0.3350\n",
            "Epoch 250/500\n",
            "1/1 [==============================] - 0s 11ms/step - loss: 0.3304 - mae: 0.3304\n",
            "Epoch 251/500\n",
            "1/1 [==============================] - 0s 10ms/step - loss: 0.0919 - mae: 0.0919\n",
            "Epoch 252/500\n",
            "1/1 [==============================] - 0s 11ms/step - loss: 0.0478 - mae: 0.0478\n",
            "Epoch 253/500\n",
            "1/1 [==============================] - 0s 11ms/step - loss: 0.4121 - mae: 0.4121\n",
            "Epoch 254/500\n",
            "1/1 [==============================] - 0s 11ms/step - loss: 0.4115 - mae: 0.4115\n",
            "Epoch 255/500\n",
            "1/1 [==============================] - 0s 13ms/step - loss: 0.0083 - mae: 0.0083\n",
            "Epoch 256/500\n",
            "1/1 [==============================] - 0s 14ms/step - loss: 0.2580 - mae: 0.2580\n",
            "Epoch 257/500\n",
            "1/1 [==============================] - 0s 11ms/step - loss: 0.1341 - mae: 0.1341\n",
            "Epoch 258/500\n",
            "1/1 [==============================] - 0s 11ms/step - loss: 0.4415 - mae: 0.4415\n",
            "Epoch 259/500\n",
            "1/1 [==============================] - 0s 10ms/step - loss: 0.4465 - mae: 0.4465\n",
            "Epoch 260/500\n",
            "1/1 [==============================] - 0s 10ms/step - loss: 0.0720 - mae: 0.0720\n",
            "Epoch 261/500\n",
            "1/1 [==============================] - 0s 11ms/step - loss: 0.5902 - mae: 0.5902\n",
            "Epoch 262/500\n",
            "1/1 [==============================] - 0s 10ms/step - loss: 0.7480 - mae: 0.7480\n",
            "Epoch 263/500\n",
            "1/1 [==============================] - 0s 10ms/step - loss: 0.4600 - mae: 0.4600\n",
            "Epoch 264/500\n",
            "1/1 [==============================] - 0s 16ms/step - loss: 0.2160 - mae: 0.2160\n",
            "Epoch 265/500\n",
            "1/1 [==============================] - 0s 11ms/step - loss: 0.4053 - mae: 0.4053\n",
            "Epoch 266/500\n",
            "1/1 [==============================] - 0s 10ms/step - loss: 0.1703 - mae: 0.1703\n",
            "Epoch 267/500\n",
            "1/1 [==============================] - 0s 16ms/step - loss: 0.4581 - mae: 0.4581\n",
            "Epoch 268/500\n",
            "1/1 [==============================] - 0s 13ms/step - loss: 0.6026 - mae: 0.6026\n",
            "Epoch 269/500\n",
            "1/1 [==============================] - 0s 11ms/step - loss: 0.3045 - mae: 0.3045\n",
            "Epoch 270/500\n",
            "1/1 [==============================] - 0s 10ms/step - loss: 0.3750 - mae: 0.3750\n",
            "Epoch 271/500\n",
            "1/1 [==============================] - 0s 11ms/step - loss: 0.5762 - mae: 0.5762\n",
            "Epoch 272/500\n",
            "1/1 [==============================] - 0s 10ms/step - loss: 0.3603 - mae: 0.3603\n",
            "Epoch 273/500\n",
            "1/1 [==============================] - 0s 10ms/step - loss: 0.2393 - mae: 0.2393\n",
            "Epoch 274/500\n",
            "1/1 [==============================] - 0s 10ms/step - loss: 0.3687 - mae: 0.3687\n",
            "Epoch 275/500\n",
            "1/1 [==============================] - 0s 11ms/step - loss: 0.0775 - mae: 0.0775\n",
            "Epoch 276/500\n",
            "1/1 [==============================] - 0s 10ms/step - loss: 0.5875 - mae: 0.5875\n",
            "Epoch 277/500\n",
            "1/1 [==============================] - 0s 10ms/step - loss: 0.7829 - mae: 0.7829\n",
            "Epoch 278/500\n",
            "1/1 [==============================] - 0s 12ms/step - loss: 0.5728 - mae: 0.5728\n",
            "Epoch 279/500\n",
            "1/1 [==============================] - 0s 18ms/step - loss: 0.0121 - mae: 0.0121\n",
            "Epoch 280/500\n",
            "1/1 [==============================] - 0s 14ms/step - loss: 0.1783 - mae: 0.1783\n",
            "Epoch 281/500\n",
            "1/1 [==============================] - 0s 11ms/step - loss: 0.0841 - mae: 0.0841\n",
            "Epoch 282/500\n",
            "1/1 [==============================] - 0s 10ms/step - loss: 0.0340 - mae: 0.0340\n",
            "Epoch 283/500\n",
            "1/1 [==============================] - 0s 10ms/step - loss: 0.2922 - mae: 0.2922\n",
            "Epoch 284/500\n",
            "1/1 [==============================] - 0s 12ms/step - loss: 0.1595 - mae: 0.1595\n",
            "Epoch 285/500\n",
            "1/1 [==============================] - 0s 11ms/step - loss: 0.3611 - mae: 0.3611\n",
            "Epoch 286/500\n",
            "1/1 [==============================] - 0s 11ms/step - loss: 0.4328 - mae: 0.4328\n",
            "Epoch 287/500\n",
            "1/1 [==============================] - 0s 10ms/step - loss: 0.1069 - mae: 0.1069\n",
            "Epoch 288/500\n",
            "1/1 [==============================] - 0s 11ms/step - loss: 0.5911 - mae: 0.5911\n",
            "Epoch 289/500\n",
            "1/1 [==============================] - 0s 11ms/step - loss: 0.8118 - mae: 0.8118\n",
            "Epoch 290/500\n",
            "1/1 [==============================] - 0s 11ms/step - loss: 0.5931 - mae: 0.5931\n",
            "Epoch 291/500\n",
            "1/1 [==============================] - 0s 11ms/step - loss: 0.0448 - mae: 0.0448\n",
            "Epoch 292/500\n",
            "1/1 [==============================] - 0s 10ms/step - loss: 0.2549 - mae: 0.2549\n",
            "Epoch 293/500\n",
            "1/1 [==============================] - 0s 11ms/step - loss: 0.1051 - mae: 0.1051\n",
            "Epoch 294/500\n",
            "1/1 [==============================] - 0s 11ms/step - loss: 0.4025 - mae: 0.4025\n",
            "Epoch 295/500\n",
            "1/1 [==============================] - 0s 11ms/step - loss: 0.4396 - mae: 0.4396\n",
            "Epoch 296/500\n",
            "1/1 [==============================] - 0s 11ms/step - loss: 0.0741 - mae: 0.0741\n",
            "Epoch 297/500\n",
            "1/1 [==============================] - 0s 13ms/step - loss: 0.5408 - mae: 0.5408\n",
            "Epoch 298/500\n",
            "1/1 [==============================] - 0s 10ms/step - loss: 0.7028 - mae: 0.7028\n",
            "Epoch 299/500\n",
            "1/1 [==============================] - 0s 11ms/step - loss: 0.5153 - mae: 0.5153\n",
            "Epoch 300/500\n",
            "1/1 [==============================] - 0s 14ms/step - loss: 0.2050 - mae: 0.2050\n",
            "Epoch 301/500\n",
            "1/1 [==============================] - 0s 10ms/step - loss: 0.4926 - mae: 0.4926\n",
            "Epoch 302/500\n",
            "1/1 [==============================] - 0s 10ms/step - loss: 0.4448 - mae: 0.4448\n",
            "Epoch 303/500\n",
            "1/1 [==============================] - 0s 11ms/step - loss: 0.0529 - mae: 0.0529\n",
            "Epoch 304/500\n",
            "1/1 [==============================] - 0s 12ms/step - loss: 0.3236 - mae: 0.3236\n",
            "Epoch 305/500\n",
            "1/1 [==============================] - 0s 11ms/step - loss: 0.2714 - mae: 0.2714\n",
            "Epoch 306/500\n",
            "1/1 [==============================] - 0s 11ms/step - loss: 0.3451 - mae: 0.3451\n",
            "Epoch 307/500\n",
            "1/1 [==============================] - 0s 11ms/step - loss: 0.3825 - mae: 0.3825\n",
            "Epoch 308/500\n",
            "1/1 [==============================] - 0s 11ms/step - loss: 0.1425 - mae: 0.1425\n",
            "Epoch 309/500\n",
            "1/1 [==============================] - 0s 11ms/step - loss: 0.3501 - mae: 0.3501\n",
            "Epoch 310/500\n",
            "1/1 [==============================] - 0s 10ms/step - loss: 0.4779 - mae: 0.4779\n",
            "Epoch 311/500\n",
            "1/1 [==============================] - 0s 11ms/step - loss: 0.3626 - mae: 0.3626\n",
            "Epoch 312/500\n",
            "1/1 [==============================] - 0s 11ms/step - loss: 0.3408 - mae: 0.3408\n",
            "Epoch 313/500\n",
            "1/1 [==============================] - 0s 11ms/step - loss: 0.3848 - mae: 0.3848\n",
            "Epoch 314/500\n",
            "1/1 [==============================] - 0s 12ms/step - loss: 0.0804 - mae: 0.0804\n",
            "Epoch 315/500\n",
            "1/1 [==============================] - 0s 16ms/step - loss: 0.4688 - mae: 0.4688\n",
            "Epoch 316/500\n",
            "1/1 [==============================] - 0s 11ms/step - loss: 0.5820 - mae: 0.5820\n",
            "Epoch 317/500\n",
            "1/1 [==============================] - 0s 13ms/step - loss: 0.3283 - mae: 0.3283\n",
            "Epoch 318/500\n",
            "1/1 [==============================] - 0s 15ms/step - loss: 0.4516 - mae: 0.4516\n",
            "Epoch 319/500\n",
            "1/1 [==============================] - 0s 13ms/step - loss: 0.6333 - mae: 0.6333\n",
            "Epoch 320/500\n",
            "1/1 [==============================] - 0s 10ms/step - loss: 0.4890 - mae: 0.4890\n",
            "Epoch 321/500\n",
            "1/1 [==============================] - 0s 11ms/step - loss: 0.0632 - mae: 0.0632\n",
            "Epoch 322/500\n",
            "1/1 [==============================] - 0s 14ms/step - loss: 0.2194 - mae: 0.2194\n",
            "Epoch 323/500\n",
            "1/1 [==============================] - 0s 11ms/step - loss: 0.0635 - mae: 0.0635\n",
            "Epoch 324/500\n",
            "1/1 [==============================] - 0s 11ms/step - loss: 0.4098 - mae: 0.4098\n",
            "Epoch 325/500\n",
            "1/1 [==============================] - 0s 10ms/step - loss: 0.4248 - mae: 0.4248\n",
            "Epoch 326/500\n",
            "1/1 [==============================] - 0s 11ms/step - loss: 0.1628 - mae: 0.1628\n",
            "Epoch 327/500\n",
            "1/1 [==============================] - 0s 16ms/step - loss: 0.5582 - mae: 0.5582\n",
            "Epoch 328/500\n",
            "1/1 [==============================] - 0s 17ms/step - loss: 0.6999 - mae: 0.6999\n",
            "Epoch 329/500\n",
            "1/1 [==============================] - 0s 12ms/step - loss: 0.4800 - mae: 0.4800\n",
            "Epoch 330/500\n",
            "1/1 [==============================] - 0s 11ms/step - loss: 0.1213 - mae: 0.1213\n",
            "Epoch 331/500\n",
            "1/1 [==============================] - 0s 11ms/step - loss: 0.3025 - mae: 0.3025\n",
            "Epoch 332/500\n",
            "1/1 [==============================] - 0s 12ms/step - loss: 0.1142 - mae: 0.1142\n",
            "Epoch 333/500\n",
            "1/1 [==============================] - 0s 13ms/step - loss: 0.4144 - mae: 0.4144\n",
            "Epoch 334/500\n",
            "1/1 [==============================] - 0s 18ms/step - loss: 0.4913 - mae: 0.4913\n",
            "Epoch 335/500\n",
            "1/1 [==============================] - 0s 13ms/step - loss: 0.2074 - mae: 0.2074\n",
            "Epoch 336/500\n",
            "1/1 [==============================] - 0s 17ms/step - loss: 0.4549 - mae: 0.4549\n",
            "Epoch 337/500\n",
            "1/1 [==============================] - 0s 13ms/step - loss: 0.6507 - mae: 0.6507\n",
            "Epoch 338/500\n",
            "1/1 [==============================] - 0s 13ms/step - loss: 0.4300 - mae: 0.4300\n",
            "Epoch 339/500\n",
            "1/1 [==============================] - 0s 13ms/step - loss: 0.1744 - mae: 0.1744\n",
            "Epoch 340/500\n",
            "1/1 [==============================] - 0s 14ms/step - loss: 0.3130 - mae: 0.3130\n",
            "Epoch 341/500\n",
            "1/1 [==============================] - 0s 11ms/step - loss: 0.0782 - mae: 0.0782\n",
            "Epoch 342/500\n",
            "1/1 [==============================] - 0s 11ms/step - loss: 0.5036 - mae: 0.5036\n",
            "Epoch 343/500\n",
            "1/1 [==============================] - 0s 11ms/step - loss: 0.6556 - mae: 0.6556\n",
            "Epoch 344/500\n",
            "1/1 [==============================] - 0s 10ms/step - loss: 0.4197 - mae: 0.4197\n",
            "Epoch 345/500\n",
            "1/1 [==============================] - 0s 11ms/step - loss: 0.1756 - mae: 0.1756\n",
            "Epoch 346/500\n",
            "1/1 [==============================] - 0s 10ms/step - loss: 0.3548 - mae: 0.3548\n",
            "Epoch 347/500\n",
            "1/1 [==============================] - 0s 14ms/step - loss: 0.1685 - mae: 0.1685\n",
            "Epoch 348/500\n",
            "1/1 [==============================] - 0s 11ms/step - loss: 0.3901 - mae: 0.3901\n",
            "Epoch 349/500\n",
            "1/1 [==============================] - 0s 11ms/step - loss: 0.5026 - mae: 0.5026\n",
            "Epoch 350/500\n",
            "1/1 [==============================] - 0s 10ms/step - loss: 0.2321 - mae: 0.2321\n",
            "Epoch 351/500\n",
            "1/1 [==============================] - 0s 13ms/step - loss: 0.3843 - mae: 0.3843\n",
            "Epoch 352/500\n",
            "1/1 [==============================] - 0s 11ms/step - loss: 0.5502 - mae: 0.5502\n",
            "Epoch 353/500\n",
            "1/1 [==============================] - 0s 13ms/step - loss: 0.3526 - mae: 0.3526\n",
            "Epoch 354/500\n",
            "1/1 [==============================] - 0s 10ms/step - loss: 0.2081 - mae: 0.2081\n",
            "Epoch 355/500\n",
            "1/1 [==============================] - 0s 10ms/step - loss: 0.3387 - mae: 0.3387\n",
            "Epoch 356/500\n",
            "1/1 [==============================] - 0s 11ms/step - loss: 0.1210 - mae: 0.1210\n",
            "Epoch 357/500\n",
            "1/1 [==============================] - 0s 10ms/step - loss: 0.3657 - mae: 0.3657\n",
            "Epoch 358/500\n",
            "1/1 [==============================] - 0s 10ms/step - loss: 0.4023 - mae: 0.4023\n",
            "Epoch 359/500\n",
            "1/1 [==============================] - 0s 10ms/step - loss: 0.0981 - mae: 0.0981\n",
            "Epoch 360/500\n",
            "1/1 [==============================] - 0s 15ms/step - loss: 0.5316 - mae: 0.5316\n",
            "Epoch 361/500\n",
            "1/1 [==============================] - 0s 12ms/step - loss: 0.7046 - mae: 0.7046\n",
            "Epoch 362/500\n",
            "1/1 [==============================] - 0s 12ms/step - loss: 0.4766 - mae: 0.4766\n",
            "Epoch 363/500\n",
            "1/1 [==============================] - 0s 12ms/step - loss: 0.1034 - mae: 0.1034\n",
            "Epoch 364/500\n",
            "1/1 [==============================] - 0s 11ms/step - loss: 0.2565 - mae: 0.2565\n",
            "Epoch 365/500\n",
            "1/1 [==============================] - 0s 10ms/step - loss: 0.0718 - mae: 0.0718\n",
            "Epoch 366/500\n",
            "1/1 [==============================] - 0s 11ms/step - loss: 0.4155 - mae: 0.4155\n",
            "Epoch 367/500\n",
            "1/1 [==============================] - 0s 10ms/step - loss: 0.4620 - mae: 0.4620\n",
            "Epoch 368/500\n",
            "1/1 [==============================] - 0s 11ms/step - loss: 0.1385 - mae: 0.1385\n",
            "Epoch 369/500\n",
            "1/1 [==============================] - 0s 11ms/step - loss: 0.4933 - mae: 0.4933\n",
            "Epoch 370/500\n",
            "1/1 [==============================] - 0s 14ms/step - loss: 0.6989 - mae: 0.6989\n",
            "Epoch 371/500\n",
            "1/1 [==============================] - 0s 10ms/step - loss: 0.5408 - mae: 0.5408\n",
            "Epoch 372/500\n",
            "1/1 [==============================] - 0s 14ms/step - loss: 0.0502 - mae: 0.0502\n",
            "Epoch 373/500\n",
            "1/1 [==============================] - 0s 12ms/step - loss: 0.7610 - mae: 0.7610\n",
            "Epoch 374/500\n",
            "1/1 [==============================] - 0s 13ms/step - loss: 1.1252 - mae: 1.1252\n",
            "Epoch 375/500\n",
            "1/1 [==============================] - 0s 15ms/step - loss: 1.0692 - mae: 1.0692\n",
            "Epoch 376/500\n",
            "1/1 [==============================] - 0s 12ms/step - loss: 0.6553 - mae: 0.6553\n",
            "Epoch 377/500\n",
            "1/1 [==============================] - 0s 11ms/step - loss: 0.1483 - mae: 0.1483\n",
            "Epoch 378/500\n",
            "1/1 [==============================] - 0s 12ms/step - loss: 0.4711 - mae: 0.4711\n",
            "Epoch 379/500\n",
            "1/1 [==============================] - 0s 11ms/step - loss: 0.4785 - mae: 0.4785\n",
            "Epoch 380/500\n",
            "1/1 [==============================] - 0s 11ms/step - loss: 0.1565 - mae: 0.1565\n",
            "Epoch 381/500\n",
            "1/1 [==============================] - 0s 12ms/step - loss: 0.5169 - mae: 0.5169\n",
            "Epoch 382/500\n",
            "1/1 [==============================] - 0s 13ms/step - loss: 0.7470 - mae: 0.7470\n",
            "Epoch 383/500\n",
            "1/1 [==============================] - 0s 10ms/step - loss: 0.5793 - mae: 0.5793\n",
            "Epoch 384/500\n",
            "1/1 [==============================] - 0s 10ms/step - loss: 0.1256 - mae: 0.1256\n",
            "Epoch 385/500\n",
            "1/1 [==============================] - 0s 11ms/step - loss: 0.6467 - mae: 0.6467\n",
            "Epoch 386/500\n",
            "1/1 [==============================] - 0s 13ms/step - loss: 0.9361 - mae: 0.9361\n",
            "Epoch 387/500\n",
            "1/1 [==============================] - 0s 10ms/step - loss: 0.8713 - mae: 0.8713\n",
            "Epoch 388/500\n",
            "1/1 [==============================] - 0s 12ms/step - loss: 0.5170 - mae: 0.5170\n",
            "Epoch 389/500\n",
            "1/1 [==============================] - 0s 12ms/step - loss: 0.2373 - mae: 0.2373\n",
            "Epoch 390/500\n",
            "1/1 [==============================] - 0s 13ms/step - loss: 0.5036 - mae: 0.5036\n",
            "Epoch 391/500\n",
            "1/1 [==============================] - 0s 13ms/step - loss: 0.4308 - mae: 0.4308\n",
            "Epoch 392/500\n",
            "1/1 [==============================] - 0s 12ms/step - loss: 0.0653 - mae: 0.0653\n",
            "Epoch 393/500\n",
            "1/1 [==============================] - 0s 13ms/step - loss: 0.4369 - mae: 0.4369\n",
            "Epoch 394/500\n",
            "1/1 [==============================] - 0s 13ms/step - loss: 0.5309 - mae: 0.5309\n",
            "Epoch 395/500\n",
            "1/1 [==============================] - 0s 13ms/step - loss: 0.2931 - mae: 0.2931\n",
            "Epoch 396/500\n",
            "1/1 [==============================] - 0s 12ms/step - loss: 0.3491 - mae: 0.3491\n",
            "Epoch 397/500\n",
            "1/1 [==============================] - 0s 14ms/step - loss: 0.5177 - mae: 0.5177\n",
            "Epoch 398/500\n",
            "1/1 [==============================] - 0s 13ms/step - loss: 0.3549 - mae: 0.3549\n",
            "Epoch 399/500\n",
            "1/1 [==============================] - 0s 14ms/step - loss: 0.1641 - mae: 0.1641\n",
            "Epoch 400/500\n",
            "1/1 [==============================] - 0s 12ms/step - loss: 0.3231 - mae: 0.3231\n",
            "Epoch 401/500\n",
            "1/1 [==============================] - 0s 11ms/step - loss: 0.1809 - mae: 0.1809\n",
            "Epoch 402/500\n",
            "1/1 [==============================] - 0s 14ms/step - loss: 0.2608 - mae: 0.2608\n",
            "Epoch 403/500\n",
            "1/1 [==============================] - 0s 13ms/step - loss: 0.3194 - mae: 0.3194\n",
            "Epoch 404/500\n",
            "1/1 [==============================] - 0s 10ms/step - loss: 0.1039 - mae: 0.1039\n",
            "Epoch 405/500\n",
            "1/1 [==============================] - 0s 17ms/step - loss: 0.4638 - mae: 0.4638\n",
            "Epoch 406/500\n",
            "1/1 [==============================] - 0s 13ms/step - loss: 0.5764 - mae: 0.5764\n",
            "Epoch 407/500\n",
            "1/1 [==============================] - 0s 12ms/step - loss: 0.3535 - mae: 0.3535\n",
            "Epoch 408/500\n",
            "1/1 [==============================] - 0s 14ms/step - loss: 0.2101 - mae: 0.2101\n",
            "Epoch 409/500\n",
            "1/1 [==============================] - 0s 9ms/step - loss: 0.4000 - mae: 0.4000\n",
            "Epoch 410/500\n",
            "1/1 [==============================] - 0s 14ms/step - loss: 0.2450 - mae: 0.2450\n",
            "Epoch 411/500\n",
            "1/1 [==============================] - 0s 14ms/step - loss: 0.2386 - mae: 0.2386\n",
            "Epoch 412/500\n",
            "1/1 [==============================] - 0s 13ms/step - loss: 0.3234 - mae: 0.3234\n",
            "Epoch 413/500\n",
            "1/1 [==============================] - 0s 13ms/step - loss: 0.0765 - mae: 0.0765\n",
            "Epoch 414/500\n",
            "1/1 [==============================] - 0s 14ms/step - loss: 0.4933 - mae: 0.4933\n",
            "Epoch 415/500\n",
            "1/1 [==============================] - 0s 13ms/step - loss: 0.6541 - mae: 0.6541\n",
            "Epoch 416/500\n",
            "1/1 [==============================] - 0s 14ms/step - loss: 0.4445 - mae: 0.4445\n",
            "Epoch 417/500\n",
            "1/1 [==============================] - 0s 14ms/step - loss: 0.0913 - mae: 0.0913\n",
            "Epoch 418/500\n",
            "1/1 [==============================] - 0s 13ms/step - loss: 0.2336 - mae: 0.2336\n",
            "Epoch 419/500\n",
            "1/1 [==============================] - 0s 11ms/step - loss: 0.0580 - mae: 0.0580\n",
            "Epoch 420/500\n",
            "1/1 [==============================] - 0s 12ms/step - loss: 0.3934 - mae: 0.3934\n",
            "Epoch 421/500\n",
            "1/1 [==============================] - 0s 13ms/step - loss: 0.4396 - mae: 0.4396\n",
            "Epoch 422/500\n",
            "1/1 [==============================] - 0s 12ms/step - loss: 0.1588 - mae: 0.1588\n",
            "Epoch 423/500\n",
            "1/1 [==============================] - 0s 13ms/step - loss: 0.3859 - mae: 0.3859\n",
            "Epoch 424/500\n",
            "1/1 [==============================] - 0s 10ms/step - loss: 0.5228 - mae: 0.5228\n",
            "Epoch 425/500\n",
            "1/1 [==============================] - 0s 11ms/step - loss: 0.3264 - mae: 0.3264\n",
            "Epoch 426/500\n",
            "1/1 [==============================] - 0s 13ms/step - loss: 0.1984 - mae: 0.1984\n",
            "Epoch 427/500\n",
            "1/1 [==============================] - 0s 13ms/step - loss: 0.3301 - mae: 0.3301\n",
            "Epoch 428/500\n",
            "1/1 [==============================] - 0s 14ms/step - loss: 0.1348 - mae: 0.1348\n",
            "Epoch 429/500\n",
            "1/1 [==============================] - 0s 10ms/step - loss: 0.3526 - mae: 0.3526\n",
            "Epoch 430/500\n",
            "1/1 [==============================] - 0s 15ms/step - loss: 0.4402 - mae: 0.4402\n",
            "Epoch 431/500\n",
            "1/1 [==============================] - 0s 13ms/step - loss: 0.2097 - mae: 0.2097\n",
            "Epoch 432/500\n",
            "1/1 [==============================] - 0s 13ms/step - loss: 0.3496 - mae: 0.3496\n",
            "Epoch 433/500\n",
            "1/1 [==============================] - 0s 14ms/step - loss: 0.5262 - mae: 0.5262\n",
            "Epoch 434/500\n",
            "1/1 [==============================] - 0s 13ms/step - loss: 0.3409 - mae: 0.3409\n",
            "Epoch 435/500\n",
            "1/1 [==============================] - 0s 12ms/step - loss: 0.1586 - mae: 0.1586\n",
            "Epoch 436/500\n",
            "1/1 [==============================] - 0s 12ms/step - loss: 0.2772 - mae: 0.2772\n",
            "Epoch 437/500\n",
            "1/1 [==============================] - 0s 9ms/step - loss: 0.0860 - mae: 0.0860\n",
            "Epoch 438/500\n",
            "1/1 [==============================] - 0s 13ms/step - loss: 0.3801 - mae: 0.3801\n",
            "Epoch 439/500\n",
            "1/1 [==============================] - 0s 13ms/step - loss: 0.4445 - mae: 0.4445\n",
            "Epoch 440/500\n",
            "1/1 [==============================] - 0s 13ms/step - loss: 0.1862 - mae: 0.1862\n",
            "Epoch 441/500\n",
            "1/1 [==============================] - 0s 13ms/step - loss: 0.3401 - mae: 0.3401\n",
            "Epoch 442/500\n",
            "1/1 [==============================] - 0s 10ms/step - loss: 0.4697 - mae: 0.4697\n",
            "Epoch 443/500\n",
            "1/1 [==============================] - 0s 12ms/step - loss: 0.2842 - mae: 0.2842\n",
            "Epoch 444/500\n",
            "1/1 [==============================] - 0s 12ms/step - loss: 0.2247 - mae: 0.2247\n",
            "Epoch 445/500\n",
            "1/1 [==============================] - 0s 12ms/step - loss: 0.3325 - mae: 0.3325\n",
            "Epoch 446/500\n",
            "1/1 [==============================] - 0s 10ms/step - loss: 0.1189 - mae: 0.1189\n",
            "Epoch 447/500\n",
            "1/1 [==============================] - 0s 12ms/step - loss: 0.3692 - mae: 0.3692\n",
            "Epoch 448/500\n",
            "1/1 [==============================] - 0s 11ms/step - loss: 0.4701 - mae: 0.4701\n",
            "Epoch 449/500\n",
            "1/1 [==============================] - 0s 12ms/step - loss: 0.2664 - mae: 0.2664\n",
            "Epoch 450/500\n",
            "1/1 [==============================] - 0s 11ms/step - loss: 0.2734 - mae: 0.2734\n",
            "Epoch 451/500\n",
            "1/1 [==============================] - 0s 11ms/step - loss: 0.4216 - mae: 0.4216\n",
            "Epoch 452/500\n",
            "1/1 [==============================] - 0s 12ms/step - loss: 0.2259 - mae: 0.2259\n",
            "Epoch 453/500\n",
            "1/1 [==============================] - 0s 13ms/step - loss: 0.2727 - mae: 0.2727\n",
            "Epoch 454/500\n",
            "1/1 [==============================] - 0s 14ms/step - loss: 0.4000 - mae: 0.4000\n",
            "Epoch 455/500\n",
            "1/1 [==============================] - 0s 12ms/step - loss: 0.2373 - mae: 0.2373\n",
            "Epoch 456/500\n",
            "1/1 [==============================] - 0s 12ms/step - loss: 0.2260 - mae: 0.2260\n",
            "Epoch 457/500\n",
            "1/1 [==============================] - 0s 12ms/step - loss: 0.2785 - mae: 0.2785\n",
            "Epoch 458/500\n",
            "1/1 [==============================] - 0s 12ms/step - loss: 0.0468 - mae: 0.0468\n",
            "Epoch 459/500\n",
            "1/1 [==============================] - 0s 9ms/step - loss: 0.4757 - mae: 0.4757\n",
            "Epoch 460/500\n",
            "1/1 [==============================] - 0s 13ms/step - loss: 0.5931 - mae: 0.5931\n",
            "Epoch 461/500\n",
            "1/1 [==============================] - 0s 14ms/step - loss: 0.3908 - mae: 0.3908\n",
            "Epoch 462/500\n",
            "1/1 [==============================] - 0s 11ms/step - loss: 0.1162 - mae: 0.1162\n",
            "Epoch 463/500\n",
            "1/1 [==============================] - 0s 13ms/step - loss: 0.2504 - mae: 0.2504\n",
            "Epoch 464/500\n",
            "1/1 [==============================] - 0s 11ms/step - loss: 0.0596 - mae: 0.0596\n",
            "Epoch 465/500\n",
            "1/1 [==============================] - 0s 11ms/step - loss: 0.4199 - mae: 0.4199\n",
            "Epoch 466/500\n",
            "1/1 [==============================] - 0s 13ms/step - loss: 0.5422 - mae: 0.5422\n",
            "Epoch 467/500\n",
            "1/1 [==============================] - 0s 12ms/step - loss: 0.3536 - mae: 0.3536\n",
            "Epoch 468/500\n",
            "1/1 [==============================] - 0s 12ms/step - loss: 0.1684 - mae: 0.1684\n",
            "Epoch 469/500\n",
            "1/1 [==============================] - 0s 13ms/step - loss: 0.3456 - mae: 0.3456\n",
            "Epoch 470/500\n",
            "1/1 [==============================] - 0s 11ms/step - loss: 0.2194 - mae: 0.2194\n",
            "Epoch 471/500\n",
            "1/1 [==============================] - 0s 14ms/step - loss: 0.3138 - mae: 0.3138\n",
            "Epoch 472/500\n",
            "1/1 [==============================] - 0s 12ms/step - loss: 0.4267 - mae: 0.4267\n",
            "Epoch 473/500\n",
            "1/1 [==============================] - 0s 9ms/step - loss: 0.2786 - mae: 0.2786\n",
            "Epoch 474/500\n",
            "1/1 [==============================] - 0s 10ms/step - loss: 0.1520 - mae: 0.1520\n",
            "Epoch 475/500\n",
            "1/1 [==============================] - 0s 10ms/step - loss: 0.2178 - mae: 0.2178\n",
            "Epoch 476/500\n",
            "1/1 [==============================] - 0s 10ms/step - loss: 0.0852 - mae: 0.0852\n",
            "Epoch 477/500\n",
            "1/1 [==============================] - 0s 14ms/step - loss: 0.0887 - mae: 0.0887\n",
            "Epoch 478/500\n",
            "1/1 [==============================] - 0s 13ms/step - loss: 0.1622 - mae: 0.1622\n",
            "Epoch 479/500\n",
            "1/1 [==============================] - 0s 16ms/step - loss: 0.0900 - mae: 0.0900\n",
            "Epoch 480/500\n",
            "1/1 [==============================] - 0s 10ms/step - loss: 0.2990 - mae: 0.2990\n",
            "Epoch 481/500\n",
            "1/1 [==============================] - 0s 9ms/step - loss: 0.3181 - mae: 0.3181\n",
            "Epoch 482/500\n",
            "1/1 [==============================] - 0s 13ms/step - loss: 0.0367 - mae: 0.0367\n",
            "Epoch 483/500\n",
            "1/1 [==============================] - 0s 11ms/step - loss: 0.4726 - mae: 0.4726\n",
            "Epoch 484/500\n",
            "1/1 [==============================] - 0s 14ms/step - loss: 0.6207 - mae: 0.6207\n",
            "Epoch 485/500\n",
            "1/1 [==============================] - 0s 13ms/step - loss: 0.4703 - mae: 0.4703\n",
            "Epoch 486/500\n",
            "1/1 [==============================] - 0s 11ms/step - loss: 0.1446 - mae: 0.1446\n",
            "Epoch 487/500\n",
            "1/1 [==============================] - 0s 10ms/step - loss: 0.3361 - mae: 0.3361\n",
            "Epoch 488/500\n",
            "1/1 [==============================] - 0s 12ms/step - loss: 0.2925 - mae: 0.2925\n",
            "Epoch 489/500\n",
            "1/1 [==============================] - 0s 10ms/step - loss: 0.1146 - mae: 0.1146\n",
            "Epoch 490/500\n",
            "1/1 [==============================] - 0s 9ms/step - loss: 0.2672 - mae: 0.2672\n",
            "Epoch 491/500\n",
            "1/1 [==============================] - 0s 9ms/step - loss: 0.1846 - mae: 0.1846\n",
            "Epoch 492/500\n",
            "1/1 [==============================] - 0s 9ms/step - loss: 0.1676 - mae: 0.1676\n",
            "Epoch 493/500\n",
            "1/1 [==============================] - 0s 11ms/step - loss: 0.1635 - mae: 0.1635\n",
            "Epoch 494/500\n",
            "1/1 [==============================] - 0s 10ms/step - loss: 0.2078 - mae: 0.2078\n",
            "Epoch 495/500\n",
            "1/1 [==============================] - 0s 10ms/step - loss: 0.2256 - mae: 0.2256\n",
            "Epoch 496/500\n",
            "1/1 [==============================] - 0s 12ms/step - loss: 0.0384 - mae: 0.0384\n",
            "Epoch 497/500\n",
            "1/1 [==============================] - 0s 11ms/step - loss: 0.0730 - mae: 0.0730\n",
            "Epoch 498/500\n",
            "1/1 [==============================] - 0s 10ms/step - loss: 0.1612 - mae: 0.1612\n",
            "Epoch 499/500\n",
            "1/1 [==============================] - 0s 12ms/step - loss: 0.0673 - mae: 0.0673\n",
            "Epoch 500/500\n",
            "1/1 [==============================] - 0s 13ms/step - loss: 0.3127 - mae: 0.3127\n"
          ]
        },
        {
          "output_type": "execute_result",
          "data": {
            "text/plain": [
              "<keras.callbacks.History at 0x785f3a9936a0>"
            ]
          },
          "metadata": {},
          "execution_count": 20
        }
      ]
    },
    {
      "cell_type": "code",
      "source": [
        "X, y"
      ],
      "metadata": {
        "colab": {
          "base_uri": "https://localhost:8080/"
        },
        "id": "CH2cF7kzL3hN",
        "outputId": "8e4ab89d-84e4-4a2f-e0e3-ef85b77ebdd9"
      },
      "execution_count": 13,
      "outputs": [
        {
          "output_type": "execute_result",
          "data": {
            "text/plain": [
              "(<tf.Tensor: shape=(8,), dtype=float32, numpy=array([-7., -4., -1.,  2.,  5.,  8., 11., 14.], dtype=float32)>,\n",
              " <tf.Tensor: shape=(8,), dtype=float32, numpy=array([ 3.,  6.,  9., 12., 15., 18., 21., 24.], dtype=float32)>)"
            ]
          },
          "metadata": {},
          "execution_count": 13
        }
      ]
    },
    {
      "cell_type": "code",
      "source": [
        "y_pred123 = modelp2.predict([17.0])\n",
        "y_pred123"
      ],
      "metadata": {
        "colab": {
          "base_uri": "https://localhost:8080/"
        },
        "id": "F1GJ7ZWA-JbX",
        "outputId": "4aceabd5-32a8-49b8-f0fb-6bf604aebf6c"
      },
      "execution_count": 19,
      "outputs": [
        {
          "output_type": "stream",
          "name": "stdout",
          "text": [
            "1/1 [==============================] - 0s 132ms/step\n"
          ]
        },
        {
          "output_type": "execute_result",
          "data": {
            "text/plain": [
              "array([[26.422058]], dtype=float32)"
            ]
          },
          "metadata": {},
          "execution_count": 19
        }
      ]
    },
    {
      "cell_type": "markdown",
      "source": [
        "##typical work flow with neural networks\n",
        "\n",
        "make the model -> fit it -> evaluate it\n",
        "-> twick it -> fit it -> evaluate it -> twick that model\n",
        "-> fit it -> evalua..."
      ],
      "metadata": {
        "id": "kfYwtHPcd9PP"
      }
    },
    {
      "cell_type": "markdown",
      "source": [
        "for evaluations of model --> visualize , visualize, VISUALIZE!"
      ],
      "metadata": {
        "id": "16rnSM47ex6R"
      }
    },
    {
      "cell_type": "code",
      "source": [
        "#making a bigger dataset\n",
        "\n",
        "X = tf.range(-100,100 , 4)\n",
        "#-100 to 100 by 4\n",
        "X"
      ],
      "metadata": {
        "colab": {
          "base_uri": "https://localhost:8080/"
        },
        "id": "JqfHtXcv-Nqz",
        "outputId": "5cb736af-4839-4325-d0da-8badce8017ff"
      },
      "execution_count": 21,
      "outputs": [
        {
          "output_type": "execute_result",
          "data": {
            "text/plain": [
              "<tf.Tensor: shape=(50,), dtype=int32, numpy=\n",
              "array([-100,  -96,  -92,  -88,  -84,  -80,  -76,  -72,  -68,  -64,  -60,\n",
              "        -56,  -52,  -48,  -44,  -40,  -36,  -32,  -28,  -24,  -20,  -16,\n",
              "        -12,   -8,   -4,    0,    4,    8,   12,   16,   20,   24,   28,\n",
              "         32,   36,   40,   44,   48,   52,   56,   60,   64,   68,   72,\n",
              "         76,   80,   84,   88,   92,   96], dtype=int32)>"
            ]
          },
          "metadata": {},
          "execution_count": 21
        }
      ]
    },
    {
      "cell_type": "code",
      "source": [
        "#make labels for the dataset\n",
        "y = X + 10\n",
        "y"
      ],
      "metadata": {
        "colab": {
          "base_uri": "https://localhost:8080/"
        },
        "id": "tGlLGI6dmr4F",
        "outputId": "d1522367-5deb-4af5-ca5c-e2bc2839c938"
      },
      "execution_count": 22,
      "outputs": [
        {
          "output_type": "execute_result",
          "data": {
            "text/plain": [
              "<tf.Tensor: shape=(50,), dtype=int32, numpy=\n",
              "array([-90, -86, -82, -78, -74, -70, -66, -62, -58, -54, -50, -46, -42,\n",
              "       -38, -34, -30, -26, -22, -18, -14, -10,  -6,  -2,   2,   6,  10,\n",
              "        14,  18,  22,  26,  30,  34,  38,  42,  46,  50,  54,  58,  62,\n",
              "        66,  70,  74,  78,  82,  86,  90,  94,  98, 102, 106], dtype=int32)>"
            ]
          },
          "metadata": {},
          "execution_count": 22
        }
      ]
    },
    {
      "cell_type": "code",
      "source": [
        "plt.scatter(X,y)"
      ],
      "metadata": {
        "colab": {
          "base_uri": "https://localhost:8080/",
          "height": 465
        },
        "id": "ygPCBY08nhcM",
        "outputId": "68f9830d-f845-4a48-af80-615e953eb90b"
      },
      "execution_count": 24,
      "outputs": [
        {
          "output_type": "execute_result",
          "data": {
            "text/plain": [
              "(<matplotlib.collections.PathCollection at 0x785f3ad36050>,\n",
              " [<matplotlib.lines.Line2D at 0x785f3ad35570>])"
            ]
          },
          "metadata": {},
          "execution_count": 24
        },
        {
          "output_type": "display_data",
          "data": {
            "text/plain": [
              "<Figure size 640x480 with 1 Axes>"
            ],
            "image/png": "[encoded data removed]"
          },
          "metadata": {}
        }
      ]
    },
    {
      "cell_type": "code",
      "source": [
        "plt.plot(X,y)"
      ],
      "metadata": {
        "colab": {
          "base_uri": "https://localhost:8080/",
          "height": 447
        },
        "id": "P_5diZCWnk9_",
        "outputId": "39726cd0-1694-48fd-f6fb-196b4911c54e"
      },
      "execution_count": 25,
      "outputs": [
        {
          "output_type": "execute_result",
          "data": {
            "text/plain": [
              "[<matplotlib.lines.Line2D at 0x785f3abce650>]"
            ]
          },
          "metadata": {},
          "execution_count": 25
        },
        {
          "output_type": "display_data",
          "data": {
            "text/plain": [
              "<Figure size 640x480 with 1 Axes>"
            ],
            "image/png": "[encoded data removed]"
          },
          "metadata": {}
        }
      ]
    },
    {
      "cell_type": "markdown",
      "source": [
        "##concepts of 3 sets\n",
        "\n",
        "1.   you can start here again\n",
        "\n"
      ],
      "metadata": {
        "id": "ha_GZqnqE3vB"
      }
    },
    {
      "cell_type": "markdown",
      "source": [
        "split X and y to 80 percent training set 10-15 percent validation set\n",
        "then 5 percent test set"
      ],
      "metadata": {
        "id": "q1KIBXIhE64Y"
      }
    },
    {
      "cell_type": "code",
      "source": [],
      "metadata": {
        "id": "QjC0OZc_FInZ"
      },
      "execution_count": null,
      "outputs": []
    },
    {
      "cell_type": "code",
      "source": [],
      "metadata": {
        "id": "RFQXBou_n1ww"
      },
      "execution_count": null,
      "outputs": []
    }
  ]
}