{
  "nbformat": 4,
  "nbformat_minor": 0,
  "metadata": {
    "colab": {
      "provenance": [],
      "gpuType": "T4",
      "authorship_tag": "ABX9TyNjazucK9F+WiVP5tMTYC9s",
      "include_colab_link": true
    },
    "kernelspec": {
      "name": "python3",
      "display_name": "Python 3"
    },
    "language_info": {
      "name": "python"
    },
    "accelerator": "GPU"
  },
  "cells": [
    {
      "cell_type": "markdown",
      "metadata": {
        "id": "view-in-github",
        "colab_type": "text"
      },
      "source": [
        "<a href=\"https://colab.research.google.com/github/itspopoy57/Machinelearning/blob/main/04_Transfer_Learning_P1.ipynb\" target=\"_parent\"><img src=\"https://colab.research.google.com/assets/colab-badge.svg\" alt=\"Open In Colab\"/></a>"
      ]
    },
    {
      "cell_type": "markdown",
      "source": [
        "#Transfer Learning\n",
        "\n",
        "ctrl+ shift + space ==> docstring\n",
        "\n",
        "imagenet dataset"
      ],
      "metadata": {
        "id": "H5C9OqXOxJkw"
      }
    },
    {
      "cell_type": "code",
      "source": [
        "#are we using a gpu?\n",
        "!nvidia-smi\n",
        "#  0  Tesla T4"
      ],
      "metadata": {
        "colab": {
          "base_uri": "https://localhost:8080/"
        },
        "id": "ZgeSbH6BxJfG",
        "outputId": "b5c3f0b6-c093-47e3-aa20-fb3a76e70233"
      },
      "execution_count": 1,
      "outputs": [
        {
          "output_type": "stream",
          "name": "stdout",
          "text": [
            "Mon Oct 30 19:48:56 2023       \n",
            "+-----------------------------------------------------------------------------+\n",
            "| NVIDIA-SMI 525.105.17   Driver Version: 525.105.17   CUDA Version: 12.0     |\n",
            "|-------------------------------+----------------------+----------------------+\n",
            "| GPU  Name        Persistence-M| Bus-Id        Disp.A | Volatile Uncorr. ECC |\n",
            "| Fan  Temp  Perf  Pwr:Usage/Cap|         Memory-Usage | GPU-Util  Compute M. |\n",
            "|                               |                      |               MIG M. |\n",
            "|===============================+======================+======================|\n",
            "|   0  Tesla T4            Off  | 00000000:00:04.0 Off |                    0 |\n",
            "| N/A   58C    P8    12W /  70W |      0MiB / 15360MiB |      0%      Default |\n",
            "|                               |                      |                  N/A |\n",
            "+-------------------------------+----------------------+----------------------+\n",
            "                                                                               \n",
            "+-----------------------------------------------------------------------------+\n",
            "| Processes:                                                                  |\n",
            "|  GPU   GI   CI        PID   Type   Process name                  GPU Memory |\n",
            "|        ID   ID                                                   Usage      |\n",
            "|=============================================================================|\n",
            "|  No running processes found                                                 |\n",
            "+-----------------------------------------------------------------------------+\n"
          ]
        }
      ]
    },
    {
      "cell_type": "markdown",
      "source": [
        "##be one with the data"
      ],
      "metadata": {
        "id": "ioHYDP_E0bTc"
      }
    },
    {
      "cell_type": "code",
      "source": [
        "#download the data\n",
        "#get data 10% of 10 food classes from food 101\n",
        "import zipfile\n",
        "#download the data\n",
        "!wget https://storage.googleapis.com/ztm_tf_course/food_vision/10_food_classes_10_percent.zip\n",
        "\n",
        "#unzuip\n",
        "zip_ref = zipfile.ZipFile(\"10_food_classes_10_percent.zip\")\n",
        "zip_ref.extractall()\n",
        "zip_ref.close()"
      ],
      "metadata": {
        "colab": {
          "base_uri": "https://localhost:8080/"
        },
        "id": "6HXly6WcxJcv",
        "outputId": "5bf79575-b725-4061-8c58-e3b5c0357461"
      },
      "execution_count": 2,
      "outputs": [
        {
          "output_type": "stream",
          "name": "stdout",
          "text": [
            "--2023-10-30 19:48:56--  https://storage.googleapis.com/ztm_tf_course/food_vision/10_food_classes_10_percent.zip\n",
            "Resolving storage.googleapis.com (storage.googleapis.com)... 173.194.196.207, 173.194.197.207, 142.251.171.207, ...\n",
            "Connecting to storage.googleapis.com (storage.googleapis.com)|173.194.196.207|:443... connected.\n",
            "HTTP request sent, awaiting response... 200 OK\n",
            "Length: 168546183 (161M) [application/zip]\n",
            "Saving to: ‘10_food_classes_10_percent.zip’\n",
            "\n",
            "10_food_classes_10_ 100%[===================>] 160.74M   144MB/s    in 1.1s    \n",
            "\n",
            "2023-10-30 19:48:57 (144 MB/s) - ‘10_food_classes_10_percent.zip’ saved [168546183/168546183]\n",
            "\n"
          ]
        }
      ]
    },
    {
      "cell_type": "code",
      "source": [
        "import os\n",
        "#walkthrough 10 percent data directory\n",
        "\n",
        "for dirpath, dirnames, filenames in os.walk(\"10_food_classes_10_percent\"):\n",
        "  print(f\"there are {len(dirnames)} directories and {len(filenames)} images in '{dirpath}'.\")"
      ],
      "metadata": {
        "colab": {
          "base_uri": "https://localhost:8080/"
        },
        "id": "GsJAHAq7xJaQ",
        "outputId": "721d8ea0-1a76-4f94-ca53-948279e24001"
      },
      "execution_count": 3,
      "outputs": [
        {
          "output_type": "stream",
          "name": "stdout",
          "text": [
            "there are 2 directories and 0 images in '10_food_classes_10_percent'.\n",
            "there are 10 directories and 0 images in '10_food_classes_10_percent/test'.\n",
            "there are 0 directories and 250 images in '10_food_classes_10_percent/test/ramen'.\n",
            "there are 0 directories and 250 images in '10_food_classes_10_percent/test/sushi'.\n",
            "there are 0 directories and 250 images in '10_food_classes_10_percent/test/ice_cream'.\n",
            "there are 0 directories and 250 images in '10_food_classes_10_percent/test/chicken_curry'.\n",
            "there are 0 directories and 250 images in '10_food_classes_10_percent/test/steak'.\n",
            "there are 0 directories and 250 images in '10_food_classes_10_percent/test/fried_rice'.\n",
            "there are 0 directories and 250 images in '10_food_classes_10_percent/test/pizza'.\n",
            "there are 0 directories and 250 images in '10_food_classes_10_percent/test/grilled_salmon'.\n",
            "there are 0 directories and 250 images in '10_food_classes_10_percent/test/hamburger'.\n",
            "there are 0 directories and 250 images in '10_food_classes_10_percent/test/chicken_wings'.\n",
            "there are 10 directories and 0 images in '10_food_classes_10_percent/train'.\n",
            "there are 0 directories and 75 images in '10_food_classes_10_percent/train/ramen'.\n",
            "there are 0 directories and 75 images in '10_food_classes_10_percent/train/sushi'.\n",
            "there are 0 directories and 75 images in '10_food_classes_10_percent/train/ice_cream'.\n",
            "there are 0 directories and 75 images in '10_food_classes_10_percent/train/chicken_curry'.\n",
            "there are 0 directories and 75 images in '10_food_classes_10_percent/train/steak'.\n",
            "there are 0 directories and 75 images in '10_food_classes_10_percent/train/fried_rice'.\n",
            "there are 0 directories and 75 images in '10_food_classes_10_percent/train/pizza'.\n",
            "there are 0 directories and 75 images in '10_food_classes_10_percent/train/grilled_salmon'.\n",
            "there are 0 directories and 75 images in '10_food_classes_10_percent/train/hamburger'.\n",
            "there are 0 directories and 75 images in '10_food_classes_10_percent/train/chicken_wings'.\n"
          ]
        }
      ]
    },
    {
      "cell_type": "code",
      "source": [
        "#preparing the data\n",
        "#we are using the imagedatagenerator to laod the images into batches\n",
        "\n",
        "#setup data inputs\n",
        "\n",
        "from tensorflow.keras.preprocessing.image import ImageDataGenerator\n",
        "\n",
        "#CAPITAL ALL MEANS HYPER PARAMETERS\n",
        "IMAGE_SHAPE = (224,224)\n",
        "BATCH_SIZE = 32\n",
        "\n",
        "train_dir = \"10_food_classes_10_percent/train/\"\n",
        "test_dir = \"10_food_classes_10_percent/test/\"\n",
        "\n",
        "train_datagen = ImageDataGenerator(rescale=1/255.)\n",
        "test_datagen = ImageDataGenerator(rescale=1/255.)\n",
        "\n",
        "#training the datagen images\n",
        "print(\"training images: \")\n",
        "train_data_10_percent = train_datagen.flow_from_directory(train_dir,\n",
        "                                                          target_size = IMAGE_SHAPE,\n",
        "                                                          batch_size=BATCH_SIZE,\n",
        "                                                          class_mode = \"categorical\")\n",
        "\n",
        "print(\"Testing images\")\n",
        "test_data = test_datagen.flow_from_directory(test_dir,\n",
        "                                                        target_size = IMAGE_SHAPE,\n",
        "                                                        batch_size= BATCH_SIZE,\n",
        "                                                        class_mode = \"categorical\")\n",
        "\n"
      ],
      "metadata": {
        "colab": {
          "base_uri": "https://localhost:8080/"
        },
        "id": "4iqz84C5jcQd",
        "outputId": "9c11648a-ddac-4d4f-d838-1bff99a0d177"
      },
      "execution_count": 4,
      "outputs": [
        {
          "output_type": "stream",
          "name": "stdout",
          "text": [
            "training images: \n",
            "Found 750 images belonging to 10 classes.\n",
            "Testing images\n",
            "Found 2500 images belonging to 10 classes.\n"
          ]
        }
      ]
    },
    {
      "cell_type": "code",
      "source": [
        "##introducing callbacks\n",
        "####key role for the future\n",
        "##things to run while our model trains\n",
        "\n",
        "\n",
        "#are extra functionality to add on our models\n",
        "#to be performed before or after training\n",
        "\n",
        "##popular callbacks\n",
        "\n",
        "##tracking experiments with --- TensorBoard callback\n",
        "##Model checkpoint with --- ModelCheckpoint callback\n",
        "##stopping a model from training --- EarlyStopping callback\n",
        "\n",
        "## there are alot of callbacks but these 3 are the most popular\n"
      ],
      "metadata": {
        "id": "7pxzBOW2xJXy"
      },
      "execution_count": 5,
      "outputs": []
    },
    {
      "cell_type": "code",
      "source": [
        "####lets make a tensor board callbacks\n",
        "  ###to keep track of the experiment\n",
        "  ### we making it function because we need it to each model we create"
      ],
      "metadata": {
        "id": "z3J34EYOxJVV"
      },
      "execution_count": 6,
      "outputs": []
    },
    {
      "cell_type": "code",
      "execution_count": 7,
      "metadata": {
        "id": "sZOj_RxjxGPk"
      },
      "outputs": [],
      "source": [
        "import datetime\n",
        "\n",
        "def create_tensorboard_callback(dir_name, experiment_name):\n",
        "  log_dir = dir_name + \"/\" + experiment_name + \"/\" + datetime.datetime.now().strftime(\"%Y%m%d-%H%M%S\")\n",
        "  tensorboard_callback = tf.keras.callbacks.TensorBoard(log_dir=log_dir)\n",
        "  print(f\"Saving tensorboard log files to: {log_dir}\")\n",
        "  return tensorboard_callback\n",
        ""
      ]
    },
    {
      "cell_type": "markdown",
      "source": [
        "#tensorflow hub pre trained model!"
      ],
      "metadata": {
        "id": "q21nzfCfTKaZ"
      }
    },
    {
      "cell_type": "code",
      "source": [
        "################# tfhub.dev\n",
        "##tensorhub is like huggingman its pretrainned models\n",
        "\n",
        "##papers withcode.com is the one we can use to see the most reliable and recent\n",
        "#sample https://paperswithcode.com/task/image-classification\n",
        "##\n",
        "##\n",
        "##browsing the tensorflow hb page and sorting for image classification\n",
        "##https://tfhub.dev/tensorflow/efficientnet/b0/feature-vector/1"
      ],
      "metadata": {
        "id": "q14K88ryTIFY"
      },
      "execution_count": 8,
      "outputs": []
    },
    {
      "cell_type": "code",
      "source": [
        "#lets compare resnet and efficientnet\n",
        "resnet_url = \"https://tfhub.dev/google/imagenet/resnet_v2_50/feature_vector/4\"\n",
        "\n",
        "efficientnet_url = \"https://tfhub.dev/tensorflow/efficientnet/b0/feature-vector/1\""
      ],
      "metadata": {
        "id": "mxdlelqETJYw"
      },
      "execution_count": 9,
      "outputs": []
    },
    {
      "cell_type": "code",
      "source": [
        "#import dependencies\n",
        "import tensorflow as tf\n",
        "import tensorflow_hub as hub\n",
        "from tensorflow.keras import layers"
      ],
      "metadata": {
        "id": "8BFgeUpPTJWX"
      },
      "execution_count": 10,
      "outputs": []
    },
    {
      "cell_type": "code",
      "source": [
        "## lets make a create_model func to create model from url\n",
        "def create_model(model_url, num_classes=10):\n",
        "  \"\"\"\n",
        "  Takes a Tensorflow Hub URL and creates a Keras Sequesntial model with it.\n",
        "\n",
        "  Args:\n",
        "    model_url (str): A TensorFlow Hub feature extraction URL.\n",
        "    num_classes (int): Number of output neurons in the output layer,\n",
        "    should be equal to number of target classes, default 10.\n",
        "\n",
        "  returns :\n",
        "    an uncompiled keras sequentiual model with model_url as feature extractor\n",
        "    layer and dense output layer with num_classes output neurons.\n",
        "  \"\"\"\n",
        "  #Download the pretrained model and save it as a keras layer\n",
        "  feature_extractor_layer = hub.KerasLayer(model_url,\n",
        "                                           trainable=False,\n",
        "                                           name=\"Feature_extraction_layer\",\n",
        "                                           input_shape=IMAGE_SHAPE+(3,))\n",
        "\n",
        "  ##creating our own model\n",
        "  model = tf.keras.Sequential([\n",
        "      feature_extractor_layer,\n",
        "      layers.Dense(num_classes, activation=\"softmax\", name=\"output_layer\")\n",
        "  ])\n",
        "\n",
        "  return model"
      ],
      "metadata": {
        "id": "4-3wbtpcTJT2"
      },
      "execution_count": 13,
      "outputs": []
    },
    {
      "cell_type": "markdown",
      "source": [
        "##creating Resnet TensorFlow Hub Feature Extraction Model"
      ],
      "metadata": {
        "id": "B_jkyBaBzFsm"
      }
    },
    {
      "cell_type": "code",
      "source": [
        "###########Create Resnet Model\n",
        "resnet_model = create_model(resnet_url,\n",
        "                            num_classes=train_data_10_percent.num_classes)"
      ],
      "metadata": {
        "id": "ZPwGlA-DTJRT"
      },
      "execution_count": 14,
      "outputs": []
    },
    {
      "cell_type": "code",
      "source": [
        "#compile resnet model\n",
        "resnet_model.compile(loss=tf.keras.losses.categorical_crossentropy,\n",
        "                     optimizer=tf.keras.optimizers.Adam(),\n",
        "                     metrics=[\"accuracy\"])\n"
      ],
      "metadata": {
        "id": "a4GfnxrFJphL"
      },
      "execution_count": 16,
      "outputs": []
    },
    {
      "cell_type": "code",
      "source": [
        "resnet_history = resnet_model.fit(train_data_10_percent, epochs=5,\n",
        "                                  steps_per_epoch=len(train_data_10_percent),\n",
        "                                  validation_data=test_data,\n",
        "                                  validation_steps=len(test_data),\n",
        "                                  callbacks=[create_tensorboard_callback(dir_name=\"tensorflow_hub\",\n",
        "                                                                          experiment_name=\"resnet50V2\")])\n",
        "\n"
      ],
      "metadata": {
        "colab": {
          "base_uri": "https://localhost:8080/"
        },
        "id": "UKHlk-DAJpdQ",
        "outputId": "f4550f59-de78-423f-e748-3974b8c188a4"
      },
      "execution_count": 22,
      "outputs": [
        {
          "output_type": "stream",
          "name": "stdout",
          "text": [
            "Saving tensorboard log files to: tensorflow_hub/resnet50V2/20231030-200303\n",
            "Epoch 1/5\n",
            "24/24 [==============================] - 26s 563ms/step - loss: 1.8232 - accuracy: 0.3947 - val_loss: 1.1585 - val_accuracy: 0.6456\n",
            "Epoch 2/5\n",
            "24/24 [==============================] - 11s 485ms/step - loss: 0.8642 - accuracy: 0.7533 - val_loss: 0.8439 - val_accuracy: 0.7268\n",
            "Epoch 3/5\n",
            "24/24 [==============================] - 12s 524ms/step - loss: 0.6049 - accuracy: 0.8387 - val_loss: 0.7470 - val_accuracy: 0.7572\n",
            "Epoch 4/5\n",
            "24/24 [==============================] - 12s 500ms/step - loss: 0.4659 - accuracy: 0.8800 - val_loss: 0.6964 - val_accuracy: 0.7752\n",
            "Epoch 5/5\n",
            "24/24 [==============================] - 12s 504ms/step - loss: 0.3792 - accuracy: 0.9120 - val_loss: 0.6904 - val_accuracy: 0.7756\n"
          ]
        }
      ]
    },
    {
      "cell_type": "code",
      "source": [
        "resnet_model.summary()"
      ],
      "metadata": {
        "colab": {
          "base_uri": "https://localhost:8080/"
        },
        "id": "s3YEB8q6Jb05",
        "outputId": "30153998-a290-4b51-a35a-f1ceeb4aeccf"
      },
      "execution_count": 15,
      "outputs": [
        {
          "output_type": "stream",
          "name": "stdout",
          "text": [
            "Model: \"sequential\"\n",
            "_________________________________________________________________\n",
            " Layer (type)                Output Shape              Param #   \n",
            "=================================================================\n",
            " Feature_extraction_layer (  (None, 2048)              23564800  \n",
            " KerasLayer)                                                     \n",
            "                                                                 \n",
            " output_layer (Dense)        (None, 10)                20490     \n",
            "                                                                 \n",
            "=================================================================\n",
            "Total params: 23585290 (89.97 MB)\n",
            "Trainable params: 20490 (80.04 KB)\n",
            "Non-trainable params: 23564800 (89.89 MB)\n",
            "_________________________________________________________________\n"
          ]
        }
      ]
    },
    {
      "cell_type": "markdown",
      "source": [
        "##better val_accuracy on the transfer learning technique"
      ],
      "metadata": {
        "id": "xlkz84XmMSEm"
      }
    },
    {
      "cell_type": "code",
      "source": [],
      "metadata": {
        "id": "xATNmeNsK2Wq"
      },
      "execution_count": null,
      "outputs": []
    },
    {
      "cell_type": "code",
      "source": [],
      "metadata": {
        "id": "5XUrkK8RJbye"
      },
      "execution_count": null,
      "outputs": []
    },
    {
      "cell_type": "code",
      "source": [],
      "metadata": {
        "id": "DMyguWtTJbv2"
      },
      "execution_count": null,
      "outputs": []
    },
    {
      "cell_type": "code",
      "source": [],
      "metadata": {
        "id": "VDA_vVbxTJOo"
      },
      "execution_count": null,
      "outputs": []
    }
  ]
}