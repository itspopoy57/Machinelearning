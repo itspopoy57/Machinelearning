{
  "nbformat": 4,
  "nbformat_minor": 0,
  "metadata": {
    "colab": {
      "provenance": [],
      "gpuType": "T4",
      "authorship_tag": "ABX9TyNkHg9keid4NNI9CzLk+OiH",
      "include_colab_link": true
    },
    "kernelspec": {
      "name": "python3",
      "display_name": "Python 3"
    },
    "language_info": {
      "name": "python"
    },
    "accelerator": "GPU"
  },
  "cells": [
    {
      "cell_type": "markdown",
      "metadata": {
        "id": "view-in-github",
        "colab_type": "text"
      },
      "source": [
        "<a href=\"https://colab.research.google.com/github/itspopoy57/Machinelearning/blob/main/04_Transfer_Learning_P1.ipynb\" target=\"_parent\"><img src=\"https://colab.research.google.com/assets/colab-badge.svg\" alt=\"Open In Colab\"/></a>"
      ]
    },
    {
      "cell_type": "markdown",
      "source": [
        "#Transfer Learning\n",
        "\n",
        "ctrl+ shift + space ==> docstring\n",
        "\n",
        "imagenet dataset"
      ],
      "metadata": {
        "id": "H5C9OqXOxJkw"
      }
    },
    {
      "cell_type": "code",
      "source": [
        "#are we using a gpu?\n",
        "!nvidia-smi\n",
        "#  0  Tesla T4"
      ],
      "metadata": {
        "colab": {
          "base_uri": "https://localhost:8080/"
        },
        "id": "ZgeSbH6BxJfG",
        "outputId": "3d5a56d4-f2b5-4fb1-b1ae-56a1ee5c0f48"
      },
      "execution_count": 1,
      "outputs": [
        {
          "output_type": "stream",
          "name": "stdout",
          "text": [
            "Fri Oct 27 20:26:10 2023       \n",
            "+-----------------------------------------------------------------------------+\n",
            "| NVIDIA-SMI 525.105.17   Driver Version: 525.105.17   CUDA Version: 12.0     |\n",
            "|-------------------------------+----------------------+----------------------+\n",
            "| GPU  Name        Persistence-M| Bus-Id        Disp.A | Volatile Uncorr. ECC |\n",
            "| Fan  Temp  Perf  Pwr:Usage/Cap|         Memory-Usage | GPU-Util  Compute M. |\n",
            "|                               |                      |               MIG M. |\n",
            "|===============================+======================+======================|\n",
            "|   0  Tesla T4            Off  | 00000000:00:04.0 Off |                    0 |\n",
            "| N/A   44C    P8    11W /  70W |      0MiB / 15360MiB |      0%      Default |\n",
            "|                               |                      |                  N/A |\n",
            "+-------------------------------+----------------------+----------------------+\n",
            "                                                                               \n",
            "+-----------------------------------------------------------------------------+\n",
            "| Processes:                                                                  |\n",
            "|  GPU   GI   CI        PID   Type   Process name                  GPU Memory |\n",
            "|        ID   ID                                                   Usage      |\n",
            "|=============================================================================|\n",
            "|  No running processes found                                                 |\n",
            "+-----------------------------------------------------------------------------+\n"
          ]
        }
      ]
    },
    {
      "cell_type": "markdown",
      "source": [
        "##be one with the data"
      ],
      "metadata": {
        "id": "ioHYDP_E0bTc"
      }
    },
    {
      "cell_type": "code",
      "source": [
        "#download the data\n",
        "#get data 10% of 10 food classes from food 101\n",
        "import zipfile\n",
        "#download the data\n",
        "!wget https://storage.googleapis.com/ztm_tf_course/food_vision/10_food_classes_10_percent.zip\n",
        "\n",
        "#unzuip\n",
        "zip_ref = zipfile.ZipFile(\"10_food_classes_10_percent.zip\")\n",
        "zip_ref.extractall()\n",
        "zip_ref.close()"
      ],
      "metadata": {
        "colab": {
          "base_uri": "https://localhost:8080/"
        },
        "id": "6HXly6WcxJcv",
        "outputId": "6de48fb6-de34-4a18-f58b-d5cc7911fc1b"
      },
      "execution_count": 1,
      "outputs": [
        {
          "output_type": "stream",
          "name": "stdout",
          "text": [
            "--2023-10-30 01:47:45--  https://storage.googleapis.com/ztm_tf_course/food_vision/10_food_classes_10_percent.zip\n",
            "Resolving storage.googleapis.com (storage.googleapis.com)... 108.177.111.207, 142.250.128.207, 172.253.119.207, ...\n",
            "Connecting to storage.googleapis.com (storage.googleapis.com)|108.177.111.207|:443... connected.\n",
            "HTTP request sent, awaiting response... 200 OK\n",
            "Length: 168546183 (161M) [application/zip]\n",
            "Saving to: ‘10_food_classes_10_percent.zip’\n",
            "\n",
            "10_food_classes_10_ 100%[===================>] 160.74M   188MB/s    in 0.9s    \n",
            "\n",
            "2023-10-30 01:47:46 (188 MB/s) - ‘10_food_classes_10_percent.zip’ saved [168546183/168546183]\n",
            "\n"
          ]
        }
      ]
    },
    {
      "cell_type": "code",
      "source": [
        "import os\n",
        "#walkthrough 10 percent data directory\n",
        "\n",
        "for dirpath, dirnames, filenames in os.walk(\"10_food_classes_10_percent\"):\n",
        "  print(f\"there are {len(dirnames)} directories and {len(filenames)} images in '{dirpath}'.\")"
      ],
      "metadata": {
        "colab": {
          "base_uri": "https://localhost:8080/"
        },
        "id": "GsJAHAq7xJaQ",
        "outputId": "a388d5fa-b12b-4180-9a70-18ed9de6ec10"
      },
      "execution_count": 4,
      "outputs": [
        {
          "output_type": "stream",
          "name": "stdout",
          "text": [
            "there are 2 directories and 0 images in '10_food_classes_10_percent'.\n",
            "there are 10 directories and 0 images in '10_food_classes_10_percent/train'.\n",
            "there are 0 directories and 75 images in '10_food_classes_10_percent/train/chicken_curry'.\n",
            "there are 0 directories and 75 images in '10_food_classes_10_percent/train/grilled_salmon'.\n",
            "there are 0 directories and 75 images in '10_food_classes_10_percent/train/ice_cream'.\n",
            "there are 0 directories and 75 images in '10_food_classes_10_percent/train/ramen'.\n",
            "there are 0 directories and 75 images in '10_food_classes_10_percent/train/chicken_wings'.\n",
            "there are 0 directories and 75 images in '10_food_classes_10_percent/train/pizza'.\n",
            "there are 0 directories and 75 images in '10_food_classes_10_percent/train/steak'.\n",
            "there are 0 directories and 75 images in '10_food_classes_10_percent/train/sushi'.\n",
            "there are 0 directories and 75 images in '10_food_classes_10_percent/train/fried_rice'.\n",
            "there are 0 directories and 75 images in '10_food_classes_10_percent/train/hamburger'.\n",
            "there are 10 directories and 0 images in '10_food_classes_10_percent/test'.\n",
            "there are 0 directories and 250 images in '10_food_classes_10_percent/test/chicken_curry'.\n",
            "there are 0 directories and 250 images in '10_food_classes_10_percent/test/grilled_salmon'.\n",
            "there are 0 directories and 250 images in '10_food_classes_10_percent/test/ice_cream'.\n",
            "there are 0 directories and 250 images in '10_food_classes_10_percent/test/ramen'.\n",
            "there are 0 directories and 250 images in '10_food_classes_10_percent/test/chicken_wings'.\n",
            "there are 0 directories and 250 images in '10_food_classes_10_percent/test/pizza'.\n",
            "there are 0 directories and 250 images in '10_food_classes_10_percent/test/steak'.\n",
            "there are 0 directories and 250 images in '10_food_classes_10_percent/test/sushi'.\n",
            "there are 0 directories and 250 images in '10_food_classes_10_percent/test/fried_rice'.\n",
            "there are 0 directories and 250 images in '10_food_classes_10_percent/test/hamburger'.\n"
          ]
        }
      ]
    },
    {
      "cell_type": "code",
      "source": [
        "#preparing the data\n",
        "#we are using the imagedatagenerator to laod the images into batches\n",
        "\n",
        "#setup data inputs\n",
        "\n",
        "from tensorflow.keras.preprocessing.image import ImageDataGenerator\n",
        "\n",
        "#CAPITAL ALL MEANS HYPER PARAMETERS\n",
        "IMAGE_SHAPE = (224,224)\n",
        "BATCH_SIZE = 32\n",
        "\n",
        "train_dir = \"10_food_classes_10_percent/train/\"\n",
        "test_dir = \"10_food_classes_10_percent/test/\"\n",
        "\n",
        "train_datagen = ImageDataGenerator(rescale=1/255.)\n",
        "test_datagen = ImageDataGenerator(rescale=1/255.)\n",
        "\n",
        "#training the datagen images\n",
        "print(\"training images: \")\n",
        "train_data_10_percent = train_datagen.flow_from_directory(train_dir,\n",
        "                                                          target_size = IMAGE_SHAPE,\n",
        "                                                          batch_size=BATCH_SIZE,\n",
        "                                                          class_mode = \"categorical\")\n",
        "\n",
        "print(\"Testing images\")\n",
        "test_data = test_datagen.flow_from_directory(test_dir,\n",
        "                                                        target_size = IMAGE_SHAPE,\n",
        "                                                        batch_size= BATCH_SIZE,\n",
        "                                                        class_mode = \"categorical\")\n",
        "\n"
      ],
      "metadata": {
        "colab": {
          "base_uri": "https://localhost:8080/"
        },
        "id": "4iqz84C5jcQd",
        "outputId": "1a87ec9e-a7d7-46f4-f692-b5830db0f902"
      },
      "execution_count": 5,
      "outputs": [
        {
          "output_type": "stream",
          "name": "stdout",
          "text": [
            "training images: \n",
            "Found 750 images belonging to 10 classes.\n",
            "Testing images\n",
            "Found 2500 images belonging to 10 classes.\n"
          ]
        }
      ]
    },
    {
      "cell_type": "code",
      "source": [
        "##introducing callbacks\n",
        "####key role for the future\n",
        "##things to run while our model trains\n",
        "\n",
        "\n",
        "#are extra functionality to add on our models\n",
        "#to be performed before or after training\n",
        "\n",
        "##popular callbacks\n",
        "\n",
        "##tracking experiments with --- TensorBoard callback\n",
        "##Model checkpoint with --- ModelCheckpoint callback\n",
        "##stopping a model from training --- EarlyStopping callback\n",
        "\n",
        "## there are alot of callbacks but these 3 are the most popular\n"
      ],
      "metadata": {
        "id": "7pxzBOW2xJXy"
      },
      "execution_count": 6,
      "outputs": []
    },
    {
      "cell_type": "code",
      "source": [
        "####lets make a tensor board callbacks\n",
        "  ###to keep track of the experiment\n",
        "  ### we making it function because we need it to each model we create"
      ],
      "metadata": {
        "id": "z3J34EYOxJVV"
      },
      "execution_count": null,
      "outputs": []
    },
    {
      "cell_type": "code",
      "execution_count": 7,
      "metadata": {
        "id": "sZOj_RxjxGPk"
      },
      "outputs": [],
      "source": [
        "import datetime\n",
        "\n",
        "def create_tensorboard_callback(dir_name, experiment_name):\n",
        "  log_dir = dir_name + \"/\" + experiment_name + \"/\" + datetime.datetime.now().strftime(\"%Y%m%d-%H%M%S\")\n",
        "  tensorboard_callback = tf.keras.callbacks.TensorBoard(log_dir=log_dir)\n",
        "  print(f\"Saving tensorboard log files to: {log_dir}\")\n",
        "  return tensorboard_callback\n",
        ""
      ]
    },
    {
      "cell_type": "markdown",
      "source": [
        "#tensorflow hub pre trained model!"
      ],
      "metadata": {
        "id": "q21nzfCfTKaZ"
      }
    },
    {
      "cell_type": "code",
      "source": [
        "################# tfhub.dev\n",
        "##tensorhub is like huggingman its pretrainned models\n",
        "\n",
        "##papers withcode.com is the one we can use to see the most reliable and recent\n",
        "#sample https://paperswithcode.com/task/image-classification\n",
        "##\n",
        "##\n",
        "##browsing the tensorflow hb page and sorting for image classification\n",
        "##https://tfhub.dev/tensorflow/efficientnet/b0/feature-vector/1"
      ],
      "metadata": {
        "id": "q14K88ryTIFY"
      },
      "execution_count": 7,
      "outputs": []
    },
    {
      "cell_type": "code",
      "source": [
        "#lets compare resnet and efficientnet\n",
        "resnet_url = \"https://tfhub.dev/google/imagenet/resnet_v2_50/feature_vector/4\"\n",
        "\n",
        "efficientnet_url = \"https://tfhub.dev/tensorflow/efficientnet/b0/feature-vector/1\""
      ],
      "metadata": {
        "id": "mxdlelqETJYw"
      },
      "execution_count": null,
      "outputs": []
    },
    {
      "cell_type": "code",
      "source": [
        "#import dependencies\n",
        "import tensorflow as tf\n",
        "import tensorflow_hub as hub\n",
        "from tensorflow.keras import layers"
      ],
      "metadata": {
        "id": "8BFgeUpPTJWX"
      },
      "execution_count": null,
      "outputs": []
    },
    {
      "cell_type": "code",
      "source": [
        "## lets make a create_model func to create model from url\n",
        "def create_model(model_url, num_classes=10):\n",
        "  \"\"\"\n",
        "  Takes a Tensorflow Hub URL and creates a Keras Sequesntial model with it.\n",
        "\n",
        "  Args:\n",
        "    model_url (str): A TensorFlow Hub feature extraction URL.\n",
        "    num_classes (int): Number of output neurons in the output layer,\n",
        "    should be equal to number of target classes, default 10.\n",
        "\n",
        "  returns :\n",
        "    an uncompiled keras sequentiual model with model_url as feature extractor\n",
        "    layer and dense output layer with num_classes output neurons.\n",
        "  \"\"\"\n",
        "  #Download the pretrained model and save it as a keras layer\n",
        "  feature_extractor_layer = hub.KerasLayer(model_url,\n",
        "                                           trainable=False,\n",
        "                                           name=\"Feature_extraction_layer\",\n",
        "                                           input_shape=IMAGE_SHAPE+(3,))\n",
        "\n",
        "  ##creating our own model\n",
        "  model = tf.keras.Sequential([\n",
        "      feature_extraction_layers,\n",
        "      layers.Dense(num_classes, activation=\"softmax\", name=\"output_layer\")\n",
        "  ])\n",
        "\n",
        "  return model"
      ],
      "metadata": {
        "id": "4-3wbtpcTJT2"
      },
      "execution_count": null,
      "outputs": []
    },
    {
      "cell_type": "markdown",
      "source": [
        "##creating Resnet TensorFlow Hub Feature Extraction Model"
      ],
      "metadata": {
        "id": "B_jkyBaBzFsm"
      }
    },
    {
      "cell_type": "code",
      "source": [
        "###########Create Resnet Model\n",
        "resnet_model = create_model(resnet_url,\n",
        "                            num_classes=train_data_10_percent.num_classes)"
      ],
      "metadata": {
        "id": "ZPwGlA-DTJRT"
      },
      "execution_count": null,
      "outputs": []
    },
    {
      "cell_type": "code",
      "source": [],
      "metadata": {
        "id": "VDA_vVbxTJOo"
      },
      "execution_count": null,
      "outputs": []
    }
  ]
}