{
  "nbformat": 4,
  "nbformat_minor": 0,
  "metadata": {
    "colab": {
      "provenance": [],
      "toc_visible": true,
      "gpuType": "T4",
      "authorship_tag": "ABX9TyNxOxX/akuhklTvBs5Ac8ii",
      "include_colab_link": true
    },
    "kernelspec": {
      "name": "python3",
      "display_name": "Python 3"
    },
    "language_info": {
      "name": "python"
    },
    "accelerator": "GPU"
  },
  "cells": [
    {
      "cell_type": "markdown",
      "metadata": {
        "id": "view-in-github",
        "colab_type": "text"
      },
      "source": [
        "<a href=\"https://colab.research.google.com/github/itspopoy57/Machinelearning/blob/main/04_Transfer_Learning_P2_finetune.ipynb\" target=\"_parent\"><img src=\"https://colab.research.google.com/assets/colab-badge.svg\" alt=\"Open In Colab\"/></a>"
      ]
    },
    {
      "cell_type": "markdown",
      "source": [
        "#FineTuning\n",
        "\n"
      ],
      "metadata": {
        "id": "BVHIM4_Qp4vP"
      }
    },
    {
      "cell_type": "code",
      "execution_count": 1,
      "metadata": {
        "colab": {
          "base_uri": "https://localhost:8080/"
        },
        "id": "Ej15T3eWpbA_",
        "outputId": "982d76c1-7357-46a8-9aea-91619d4fc2a1"
      },
      "outputs": [
        {
          "output_type": "stream",
          "name": "stdout",
          "text": [
            "--2023-10-31 02:59:39--  https://raw.githubusercontent.com/itspopoy57/Machinelearning/main/extras/helper_func.py\n",
            "Resolving raw.githubusercontent.com (raw.githubusercontent.com)... 185.199.108.133, 185.199.109.133, 185.199.110.133, ...\n",
            "Connecting to raw.githubusercontent.com (raw.githubusercontent.com)|185.199.108.133|:443... connected.\n",
            "HTTP request sent, awaiting response... 200 OK\n",
            "Length: 10246 (10K) [text/plain]\n",
            "Saving to: ‘helper_func.py’\n",
            "\n",
            "\rhelper_func.py        0%[                    ]       0  --.-KB/s               \rhelper_func.py      100%[===================>]  10.01K  --.-KB/s    in 0s      \n",
            "\n",
            "2023-10-31 02:59:39 (90.3 MB/s) - ‘helper_func.py’ saved [10246/10246]\n",
            "\n"
          ]
        }
      ],
      "source": [
        "###FineTuning\n",
        "\n",
        "\"\"\"\n",
        "in previous notebooks weve created a bunch of helper functions, now we can rewrite them\n",
        "or we can use this\n",
        "\n",
        "i have a file on github named helper_func.py there\n",
        "all the function that ill need to use on here\n",
        "\n",
        "\"\"\"\n",
        "\n",
        "!wget https://raw.githubusercontent.com/itspopoy57/Machinelearning/main/extras/helper_func.py"
      ]
    },
    {
      "cell_type": "code",
      "source": [
        "from helper_func import *\n",
        "\n",
        "!wget https://storage.googleapis.com/ztm_tf_course/food_vision/10_food_classes_10_percent.zip"
      ],
      "metadata": {
        "colab": {
          "base_uri": "https://localhost:8080/"
        },
        "id": "KizqQ0-9rMMl",
        "outputId": "cec86988-1828-4e46-9227-fe7ca148cdd0"
      },
      "execution_count": 3,
      "outputs": [
        {
          "output_type": "stream",
          "name": "stdout",
          "text": [
            "--2023-10-31 03:03:50--  https://storage.googleapis.com/ztm_tf_course/food_vision/10_food_classes_10_percent.zip\n",
            "Resolving storage.googleapis.com (storage.googleapis.com)... 74.125.20.207, 74.125.197.207, 74.125.135.207, ...\n",
            "Connecting to storage.googleapis.com (storage.googleapis.com)|74.125.20.207|:443... connected.\n",
            "HTTP request sent, awaiting response... 200 OK\n",
            "Length: 168546183 (161M) [application/zip]\n",
            "Saving to: ‘10_food_classes_10_percent.zip’\n",
            "\n",
            "10_food_classes_10_ 100%[===================>] 160.74M   258MB/s    in 0.6s    \n",
            "\n",
            "2023-10-31 03:03:51 (258 MB/s) - ‘10_food_classes_10_percent.zip’ saved [168546183/168546183]\n",
            "\n"
          ]
        }
      ]
    },
    {
      "cell_type": "code",
      "source": [
        "unzip_data(\"/content/10_food_classes_10_percent.zip\")\n",
        "### btw this one is because of the helper_func.py"
      ],
      "metadata": {
        "id": "RdEMwDngrMJ5"
      },
      "execution_count": 4,
      "outputs": []
    },
    {
      "cell_type": "markdown",
      "source": [
        "##Lets get some data\n",
        "\n",
        "we are getting some pretrained models at\n",
        "tf.keras.applications\n"
      ],
      "metadata": {
        "id": "CAIINn88sUu5"
      }
    },
    {
      "cell_type": "code",
      "source": [],
      "metadata": {
        "id": "W-mHHXVwrMG_"
      },
      "execution_count": null,
      "outputs": []
    },
    {
      "cell_type": "markdown",
      "source": [],
      "metadata": {
        "id": "StR3T-0Bp8kT"
      }
    }
  ]
}