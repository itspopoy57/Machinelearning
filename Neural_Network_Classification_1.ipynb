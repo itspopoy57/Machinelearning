{
  "nbformat": 4,
  "nbformat_minor": 0,
  "metadata": {
    "colab": {
      "provenance": [],
      "authorship_tag": "ABX9TyN9FzJcKxTawjYUxVywdatw",
      "include_colab_link": true
    },
    "kernelspec": {
      "name": "python3",
      "display_name": "Python 3"
    },
    "language_info": {
      "name": "python"
    }
  },
  "cells": [
    {
      "cell_type": "markdown",
      "metadata": {
        "id": "view-in-github",
        "colab_type": "text"
      },
      "source": [
        "<a href=\"https://colab.research.google.com/github/itspopoy57/Machinelearning/blob/main/Neural_Network_Classification_1.ipynb\" target=\"_parent\"><img src=\"https://colab.research.google.com/assets/colab-badge.svg\" alt=\"Open In Colab\"/></a>"
      ]
    },
    {
      "cell_type": "markdown",
      "source": [
        "#Classification Problems"
      ],
      "metadata": {
        "id": "z_pDCgWeOlip"
      }
    },
    {
      "cell_type": "markdown",
      "source": [
        "Architecture of Classification Problem\n",
        "\n",
        "model = tf.keras.Sequential([\n",
        "    tf.keras.input(shape=(224, 224, 3)\n",
        "    tf.keras.layers.Dense(100, activation='relu')\n",
        "    tf.keras.layers.Dense(3, activation='softmax') #3 here because we are classifying 3 things (pizza, sushi and steak)\n",
        "])\n",
        "\n",
        "model.compile(optimizer=tf.keras.optimizers.Adam(),\n",
        "  loss = tf.keras.losses.CategoricalCrossentropy(),\n",
        "  metrics=[\"accuracy\"]\n",
        ")\n",
        "\n",
        "model.fit(X_train, y_train, epochs=5)\n",
        "model.evaluate(X_test,y_test_)"
      ],
      "metadata": {
        "id": "zHtuqoWRUvhr"
      }
    },
    {
      "cell_type": "markdown",
      "source": [
        "##Creating the Data to view and fit"
      ],
      "metadata": {
        "id": "8aosIPSNXMgR"
      }
    },
    {
      "cell_type": "code",
      "execution_count": 22,
      "metadata": {
        "id": "UjCld9eOH0xn"
      },
      "outputs": [],
      "source": [
        "from sklearn.datasets import make_circles\n",
        "\n",
        "#make 100 samples of circles\n",
        "n_samples = 1000\n",
        "\n",
        "#create circles\n",
        "X, y = make_circles(n_samples,\n",
        "                    noise = 0.03,\n",
        "                    random_state=42)\n",
        "\n"
      ]
    },
    {
      "cell_type": "code",
      "source": [
        "#check out the features that we made\n",
        "X"
      ],
      "metadata": {
        "colab": {
          "base_uri": "https://localhost:8080/"
        },
        "id": "E3ANiOmsIjSg",
        "outputId": "ca477d72-8255-404b-80d3-44f7a85ccd9c"
      },
      "execution_count": 23,
      "outputs": [
        {
          "output_type": "execute_result",
          "data": {
            "text/plain": [
              "array([[ 0.75424625,  0.23148074],\n",
              "       [-0.75615888,  0.15325888],\n",
              "       [-0.81539193,  0.17328203],\n",
              "       ...,\n",
              "       [-0.13690036, -0.81001183],\n",
              "       [ 0.67036156, -0.76750154],\n",
              "       [ 0.28105665,  0.96382443]])"
            ]
          },
          "metadata": {},
          "execution_count": 23
        }
      ]
    },
    {
      "cell_type": "code",
      "source": [
        "#check the labels\n",
        "y"
      ],
      "metadata": {
        "colab": {
          "base_uri": "https://localhost:8080/"
        },
        "id": "cY7hmDLhX4xt",
        "outputId": "fad239bd-639c-4e08-9275-837b5b52e0ea"
      },
      "execution_count": 24,
      "outputs": [
        {
          "output_type": "execute_result",
          "data": {
            "text/plain": [
              "array([1, 1, 1, 1, 0, 1, 1, 1, 1, 0, 1, 0, 1, 1, 1, 1, 0, 1, 1, 0, 1, 0,\n",
              "       0, 1, 0, 0, 0, 1, 1, 1, 0, 0, 1, 0, 0, 0, 1, 1, 1, 0, 0, 0, 0, 1,\n",
              "       0, 0, 1, 1, 0, 1, 1, 1, 0, 1, 0, 0, 1, 0, 0, 1, 0, 0, 1, 0, 1, 1,\n",
              "       1, 1, 0, 1, 0, 0, 1, 1, 0, 0, 1, 0, 1, 0, 1, 0, 0, 0, 0, 1, 1, 1,\n",
              "       1, 0, 0, 0, 1, 0, 1, 0, 1, 0, 0, 1, 1, 0, 1, 0, 1, 1, 1, 1, 0, 1,\n",
              "       1, 1, 1, 1, 0, 0, 0, 1, 1, 0, 1, 0, 1, 0, 0, 1, 1, 0, 1, 1, 1, 1,\n",
              "       0, 1, 1, 0, 0, 0, 0, 0, 0, 0, 1, 0, 1, 1, 1, 0, 1, 0, 1, 0, 1, 0,\n",
              "       1, 0, 0, 1, 0, 1, 1, 1, 1, 1, 1, 1, 0, 1, 0, 0, 0, 0, 0, 1, 0, 0,\n",
              "       0, 0, 1, 1, 0, 1, 0, 1, 1, 0, 0, 0, 1, 1, 1, 1, 1, 0, 0, 0, 0, 0,\n",
              "       1, 0, 0, 1, 1, 1, 1, 1, 0, 1, 0, 1, 0, 0, 1, 1, 1, 0, 1, 0, 1, 1,\n",
              "       0, 1, 1, 0, 1, 0, 1, 0, 1, 1, 0, 1, 0, 1, 0, 0, 0, 1, 0, 0, 0, 0,\n",
              "       1, 1, 0, 0, 0, 0, 0, 0, 0, 1, 1, 1, 0, 0, 1, 1, 1, 0, 1, 0, 0, 0,\n",
              "       0, 1, 1, 0, 1, 0, 0, 0, 1, 0, 1, 0, 0, 1, 0, 1, 1, 1, 0, 0, 0, 1,\n",
              "       0, 0, 0, 1, 1, 1, 1, 0, 0, 0, 1, 0, 0, 0, 1, 0, 0, 0, 1, 1, 0, 1,\n",
              "       1, 1, 1, 1, 1, 1, 0, 0, 0, 0, 1, 0, 0, 0, 0, 1, 1, 1, 0, 0, 1, 0,\n",
              "       1, 0, 1, 1, 0, 0, 1, 1, 1, 1, 0, 0, 0, 0, 0, 0, 1, 1, 0, 1, 0, 0,\n",
              "       1, 0, 0, 0, 0, 0, 0, 0, 0, 1, 0, 0, 0, 0, 1, 0, 0, 1, 0, 1, 0, 0,\n",
              "       0, 1, 0, 0, 1, 1, 0, 0, 1, 0, 0, 1, 1, 0, 1, 1, 0, 0, 1, 0, 1, 0,\n",
              "       0, 0, 1, 1, 0, 0, 1, 1, 1, 1, 1, 0, 0, 1, 1, 1, 1, 0, 1, 1, 1, 1,\n",
              "       1, 0, 0, 1, 0, 1, 0, 0, 0, 0, 1, 0, 0, 0, 0, 0, 0, 0, 0, 0, 1, 1,\n",
              "       0, 1, 1, 1, 1, 1, 1, 0, 1, 1, 1, 1, 0, 0, 0, 1, 1, 1, 0, 0, 0, 0,\n",
              "       1, 1, 0, 0, 0, 0, 1, 0, 0, 0, 1, 0, 0, 1, 1, 1, 1, 1, 1, 0, 0, 0,\n",
              "       1, 0, 0, 0, 0, 0, 1, 1, 1, 0, 0, 0, 0, 0, 1, 1, 1, 0, 0, 1, 1, 1,\n",
              "       1, 0, 1, 1, 0, 1, 0, 0, 0, 1, 0, 0, 1, 0, 0, 1, 1, 0, 0, 1, 1, 0,\n",
              "       1, 0, 1, 0, 1, 0, 1, 0, 0, 0, 1, 0, 0, 0, 0, 0, 0, 1, 1, 1, 1, 0,\n",
              "       0, 0, 1, 0, 1, 1, 0, 0, 0, 0, 0, 1, 1, 1, 0, 0, 1, 0, 0, 1, 0, 0,\n",
              "       1, 0, 0, 1, 0, 0, 0, 1, 0, 0, 1, 1, 1, 0, 1, 1, 0, 0, 0, 1, 1, 1,\n",
              "       1, 0, 0, 1, 1, 1, 0, 0, 0, 0, 1, 1, 0, 0, 1, 1, 0, 0, 1, 1, 1, 1,\n",
              "       1, 1, 1, 0, 1, 0, 1, 0, 0, 1, 0, 1, 1, 1, 1, 0, 0, 1, 1, 0, 0, 1,\n",
              "       0, 1, 0, 0, 0, 1, 0, 0, 1, 1, 1, 1, 0, 1, 1, 1, 1, 1, 1, 1, 0, 1,\n",
              "       0, 1, 1, 1, 0, 0, 1, 0, 0, 0, 1, 1, 1, 1, 0, 0, 0, 0, 1, 0, 1, 1,\n",
              "       1, 0, 1, 0, 0, 1, 0, 0, 1, 1, 1, 1, 1, 0, 1, 0, 0, 0, 1, 1, 1, 1,\n",
              "       1, 0, 0, 0, 1, 1, 1, 1, 0, 0, 0, 0, 0, 1, 1, 0, 1, 0, 1, 0, 0, 0,\n",
              "       0, 0, 0, 0, 0, 0, 1, 1, 1, 1, 1, 0, 1, 0, 1, 1, 1, 1, 0, 1, 1, 1,\n",
              "       1, 1, 1, 1, 1, 0, 1, 1, 0, 1, 0, 0, 0, 1, 0, 1, 1, 1, 0, 1, 1, 0,\n",
              "       1, 1, 0, 1, 0, 1, 1, 0, 0, 1, 1, 1, 0, 0, 0, 0, 1, 1, 0, 0, 1, 1,\n",
              "       1, 1, 1, 1, 1, 1, 1, 1, 1, 1, 1, 1, 0, 0, 1, 0, 1, 0, 1, 0, 1, 1,\n",
              "       1, 1, 1, 1, 0, 1, 0, 1, 1, 1, 0, 1, 1, 0, 0, 1, 0, 1, 1, 0, 0, 1,\n",
              "       1, 1, 1, 1, 1, 1, 1, 0, 1, 1, 1, 0, 1, 0, 0, 1, 1, 0, 0, 0, 1, 0,\n",
              "       0, 1, 0, 0, 0, 1, 0, 1, 0, 0, 0, 0, 1, 0, 1, 1, 1, 1, 0, 1, 0, 0,\n",
              "       0, 0, 0, 0, 1, 0, 1, 0, 1, 0, 1, 1, 1, 0, 1, 0, 1, 0, 0, 1, 1, 1,\n",
              "       0, 0, 0, 1, 1, 0, 1, 0, 1, 1, 0, 1, 0, 0, 1, 1, 1, 0, 0, 0, 1, 1,\n",
              "       0, 0, 0, 0, 0, 1, 1, 0, 1, 0, 0, 0, 1, 0, 0, 0, 1, 1, 1, 1, 0, 1,\n",
              "       1, 1, 0, 1, 1, 1, 1, 0, 1, 1, 0, 1, 1, 0, 0, 1, 1, 1, 0, 0, 0, 0,\n",
              "       0, 0, 1, 0, 0, 1, 0, 0, 0, 1, 0, 1, 0, 1, 1, 0, 0, 0, 0, 0, 0, 0,\n",
              "       0, 1, 0, 1, 0, 0, 0, 1, 0, 0])"
            ]
          },
          "metadata": {},
          "execution_count": 24
        }
      ]
    },
    {
      "cell_type": "code",
      "source": [],
      "metadata": {
        "id": "_ApousKPlni3"
      },
      "execution_count": 24,
      "outputs": []
    },
    {
      "cell_type": "markdown",
      "source": [
        "lets visualize our data\n"
      ],
      "metadata": {
        "id": "GACV0HO6YT97"
      }
    },
    {
      "cell_type": "code",
      "source": [
        "import pandas as pd\n",
        "circles = pd.DataFrame({\"X0\":X[:, 0], \"X1\":X[:, 1], \"label\":y})\n",
        "circles"
      ],
      "metadata": {
        "colab": {
          "base_uri": "https://localhost:8080/",
          "height": 423
        },
        "id": "k9CepHOwX7bQ",
        "outputId": "63eb6f6b-9784-414a-c4ad-96a7d170140b"
      },
      "execution_count": 25,
      "outputs": [
        {
          "output_type": "execute_result",
          "data": {
            "text/plain": [
              "           X0        X1  label\n",
              "0    0.754246  0.231481      1\n",
              "1   -0.756159  0.153259      1\n",
              "2   -0.815392  0.173282      1\n",
              "3   -0.393731  0.692883      1\n",
              "4    0.442208 -0.896723      0\n",
              "..        ...       ...    ...\n",
              "995  0.244054  0.944125      0\n",
              "996 -0.978655 -0.272373      0\n",
              "997 -0.136900 -0.810012      1\n",
              "998  0.670362 -0.767502      0\n",
              "999  0.281057  0.963824      0\n",
              "\n",
              "[1000 rows x 3 columns]"
            ],
            "text/html": [
              "\n",
              "  <div id=\"df-87c2de96-3a63-4608-8e4b-de44f0ef8e01\" class=\"colab-df-container\">\n",
              "    <div>\n",
              "<style scoped>\n",
              "    .dataframe tbody tr th:only-of-type {\n",
              "        vertical-align: middle;\n",
              "    }\n",
              "\n",
              "    .dataframe tbody tr th {\n",
              "        vertical-align: top;\n",
              "    }\n",
              "\n",
              "    .dataframe thead th {\n",
              "        text-align: right;\n",
              "    }\n",
              "</style>\n",
              "<table border=\"1\" class=\"dataframe\">\n",
              "  <thead>\n",
              "    <tr style=\"text-align: right;\">\n",
              "      <th></th>\n",
              "      <th>X0</th>\n",
              "      <th>X1</th>\n",
              "      <th>label</th>\n",
              "    </tr>\n",
              "  </thead>\n",
              "  <tbody>\n",
              "    <tr>\n",
              "      <th>0</th>\n",
              "      <td>0.754246</td>\n",
              "      <td>0.231481</td>\n",
              "      <td>1</td>\n",
              "    </tr>\n",
              "    <tr>\n",
              "      <th>1</th>\n",
              "      <td>-0.756159</td>\n",
              "      <td>0.153259</td>\n",
              "      <td>1</td>\n",
              "    </tr>\n",
              "    <tr>\n",
              "      <th>2</th>\n",
              "      <td>-0.815392</td>\n",
              "      <td>0.173282</td>\n",
              "      <td>1</td>\n",
              "    </tr>\n",
              "    <tr>\n",
              "      <th>3</th>\n",
              "      <td>-0.393731</td>\n",
              "      <td>0.692883</td>\n",
              "      <td>1</td>\n",
              "    </tr>\n",
              "    <tr>\n",
              "      <th>4</th>\n",
              "      <td>0.442208</td>\n",
              "      <td>-0.896723</td>\n",
              "      <td>0</td>\n",
              "    </tr>\n",
              "    <tr>\n",
              "      <th>...</th>\n",
              "      <td>...</td>\n",
              "      <td>...</td>\n",
              "      <td>...</td>\n",
              "    </tr>\n",
              "    <tr>\n",
              "      <th>995</th>\n",
              "      <td>0.244054</td>\n",
              "      <td>0.944125</td>\n",
              "      <td>0</td>\n",
              "    </tr>\n",
              "    <tr>\n",
              "      <th>996</th>\n",
              "      <td>-0.978655</td>\n",
              "      <td>-0.272373</td>\n",
              "      <td>0</td>\n",
              "    </tr>\n",
              "    <tr>\n",
              "      <th>997</th>\n",
              "      <td>-0.136900</td>\n",
              "      <td>-0.810012</td>\n",
              "      <td>1</td>\n",
              "    </tr>\n",
              "    <tr>\n",
              "      <th>998</th>\n",
              "      <td>0.670362</td>\n",
              "      <td>-0.767502</td>\n",
              "      <td>0</td>\n",
              "    </tr>\n",
              "    <tr>\n",
              "      <th>999</th>\n",
              "      <td>0.281057</td>\n",
              "      <td>0.963824</td>\n",
              "      <td>0</td>\n",
              "    </tr>\n",
              "  </tbody>\n",
              "</table>\n",
              "<p>1000 rows × 3 columns</p>\n",
              "</div>\n",
              "    <div class=\"colab-df-buttons\">\n",
              "\n",
              "  <div class=\"colab-df-container\">\n",
              "    <button class=\"colab-df-convert\" onclick=\"convertToInteractive('df-87c2de96-3a63-4608-8e4b-de44f0ef8e01')\"\n",
              "            title=\"Convert this dataframe to an interactive table.\"\n",
              "            style=\"display:none;\">\n",
              "\n",
              "  <svg xmlns=\"http://www.w3.org/2000/svg\" height=\"24px\" viewBox=\"0 -960 960 960\">\n",
              "    <path d=\"M120-120v-720h720v720H120Zm60-500h600v-160H180v160Zm220 220h160v-160H400v160Zm0 220h160v-160H400v160ZM180-400h160v-160H180v160Zm440 0h160v-160H620v160ZM180-180h160v-160H180v160Zm440 0h160v-160H620v160Z\"/>\n",
              "  </svg>\n",
              "    </button>\n",
              "\n",
              "  <style>\n",
              "    .colab-df-container {\n",
              "      display:flex;\n",
              "      gap: 12px;\n",
              "    }\n",
              "\n",
              "    .colab-df-convert {\n",
              "      background-color: #E8F0FE;\n",
              "      border: none;\n",
              "      border-radius: 50%;\n",
              "      cursor: pointer;\n",
              "      display: none;\n",
              "      fill: #1967D2;\n",
              "      height: 32px;\n",
              "      padding: 0 0 0 0;\n",
              "      width: 32px;\n",
              "    }\n",
              "\n",
              "    .colab-df-convert:hover {\n",
              "      background-color: #E2EBFA;\n",
              "      box-shadow: 0px 1px 2px rgba(60, 64, 67, 0.3), 0px 1px 3px 1px rgba(60, 64, 67, 0.15);\n",
              "      fill: #174EA6;\n",
              "    }\n",
              "\n",
              "    .colab-df-buttons div {\n",
              "      margin-bottom: 4px;\n",
              "    }\n",
              "\n",
              "    [theme=dark] .colab-df-convert {\n",
              "      background-color: #3B4455;\n",
              "      fill: #D2E3FC;\n",
              "    }\n",
              "\n",
              "    [theme=dark] .colab-df-convert:hover {\n",
              "      background-color: #434B5C;\n",
              "      box-shadow: 0px 1px 3px 1px rgba(0, 0, 0, 0.15);\n",
              "      filter: drop-shadow(0px 1px 2px rgba(0, 0, 0, 0.3));\n",
              "      fill: #FFFFFF;\n",
              "    }\n",
              "  </style>\n",
              "\n",
              "    <script>\n",
              "      const buttonEl =\n",
              "        document.querySelector('#df-87c2de96-3a63-4608-8e4b-de44f0ef8e01 button.colab-df-convert');\n",
              "      buttonEl.style.display =\n",
              "        google.colab.kernel.accessAllowed ? 'block' : 'none';\n",
              "\n",
              "      async function convertToInteractive(key) {\n",
              "        const element = document.querySelector('#df-87c2de96-3a63-4608-8e4b-de44f0ef8e01');\n",
              "        const dataTable =\n",
              "          await google.colab.kernel.invokeFunction('convertToInteractive',\n",
              "                                                    [key], {});\n",
              "        if (!dataTable) return;\n",
              "\n",
              "        const docLinkHtml = 'Like what you see? Visit the ' +\n",
              "          '<a target=\"_blank\" href=https://colab.research.google.com/notebooks/data_table.ipynb>data table notebook</a>'\n",
              "          + ' to learn more about interactive tables.';\n",
              "        element.innerHTML = '';\n",
              "        dataTable['output_type'] = 'display_data';\n",
              "        await google.colab.output.renderOutput(dataTable, element);\n",
              "        const docLink = document.createElement('div');\n",
              "        docLink.innerHTML = docLinkHtml;\n",
              "        element.appendChild(docLink);\n",
              "      }\n",
              "    </script>\n",
              "  </div>\n",
              "\n",
              "\n",
              "<div id=\"df-5f1f8015-4550-4815-8b05-ddbd703387ed\">\n",
              "  <button class=\"colab-df-quickchart\" onclick=\"quickchart('df-5f1f8015-4550-4815-8b05-ddbd703387ed')\"\n",
              "            title=\"Suggest charts.\"\n",
              "            style=\"display:none;\">\n",
              "\n",
              "<svg xmlns=\"http://www.w3.org/2000/svg\" height=\"24px\"viewBox=\"0 0 24 24\"\n",
              "     width=\"24px\">\n",
              "    <g>\n",
              "        <path d=\"M19 3H5c-1.1 0-2 .9-2 2v14c0 1.1.9 2 2 2h14c1.1 0 2-.9 2-2V5c0-1.1-.9-2-2-2zM9 17H7v-7h2v7zm4 0h-2V7h2v10zm4 0h-2v-4h2v4z\"/>\n",
              "    </g>\n",
              "</svg>\n",
              "  </button>\n",
              "\n",
              "<style>\n",
              "  .colab-df-quickchart {\n",
              "    background-color: #E8F0FE;\n",
              "    border: none;\n",
              "    border-radius: 50%;\n",
              "    cursor: pointer;\n",
              "    display: none;\n",
              "    fill: #1967D2;\n",
              "    height: 32px;\n",
              "    padding: 0 0 0 0;\n",
              "    width: 32px;\n",
              "  }\n",
              "\n",
              "  .colab-df-quickchart:hover {\n",
              "    background-color: #E2EBFA;\n",
              "    box-shadow: 0px 1px 2px rgba(60, 64, 67, 0.3), 0px 1px 3px 1px rgba(60, 64, 67, 0.15);\n",
              "    fill: #174EA6;\n",
              "  }\n",
              "\n",
              "  [theme=dark] .colab-df-quickchart {\n",
              "    background-color: #3B4455;\n",
              "    fill: #D2E3FC;\n",
              "  }\n",
              "\n",
              "  [theme=dark] .colab-df-quickchart:hover {\n",
              "    background-color: #434B5C;\n",
              "    box-shadow: 0px 1px 3px 1px rgba(0, 0, 0, 0.15);\n",
              "    filter: drop-shadow(0px 1px 2px rgba(0, 0, 0, 0.3));\n",
              "    fill: #FFFFFF;\n",
              "  }\n",
              "</style>\n",
              "\n",
              "  <script>\n",
              "    async function quickchart(key) {\n",
              "      const charts = await google.colab.kernel.invokeFunction(\n",
              "          'suggestCharts', [key], {});\n",
              "    }\n",
              "    (() => {\n",
              "      let quickchartButtonEl =\n",
              "        document.querySelector('#df-5f1f8015-4550-4815-8b05-ddbd703387ed button');\n",
              "      quickchartButtonEl.style.display =\n",
              "        google.colab.kernel.accessAllowed ? 'block' : 'none';\n",
              "    })();\n",
              "  </script>\n",
              "</div>\n",
              "    </div>\n",
              "  </div>\n"
            ]
          },
          "metadata": {},
          "execution_count": 25
        }
      ]
    },
    {
      "cell_type": "code",
      "source": [
        "circles[\"label\"].value_counts()"
      ],
      "metadata": {
        "colab": {
          "base_uri": "https://localhost:8080/"
        },
        "id": "nsDJ0ixtkzqq",
        "outputId": "6e8377e5-f37d-448c-e3d0-6f8db0912909"
      },
      "execution_count": 26,
      "outputs": [
        {
          "output_type": "execute_result",
          "data": {
            "text/plain": [
              "1    500\n",
              "0    500\n",
              "Name: label, dtype: int64"
            ]
          },
          "metadata": {},
          "execution_count": 26
        }
      ]
    },
    {
      "cell_type": "code",
      "source": [
        "#visualize with a plot\n",
        "import matplotlib.pyplot as plt\n",
        "\n",
        "plt.scatter(X[:, 0 ], X[:, 1], c= y, cmap=plt.cm.RdYlBu)"
      ],
      "metadata": {
        "colab": {
          "base_uri": "https://localhost:8080/",
          "height": 447
        },
        "id": "TRp3nlaOY5kF",
        "outputId": "5890014e-981e-45a8-a063-69e0d3ff109d"
      },
      "execution_count": 27,
      "outputs": [
        {
          "output_type": "execute_result",
          "data": {
            "text/plain": [
              "<matplotlib.collections.PathCollection at 0x7ae0e530eaa0>"
            ]
          },
          "metadata": {},
          "execution_count": 27
        },
        {
          "output_type": "display_data",
          "data": {
            "text/plain": [
              "<Figure size 640x480 with 1 Axes>"
            ],
            "image/png": "[encoded data removed]"
          },
          "metadata": {}
        }
      ]
    },
    {
      "cell_type": "markdown",
      "source": [
        "##input output shapes"
      ],
      "metadata": {
        "id": "_VJlasLKbJUF"
      }
    },
    {
      "cell_type": "code",
      "source": [
        "X.shape, y.shape"
      ],
      "metadata": {
        "colab": {
          "base_uri": "https://localhost:8080/"
        },
        "id": "YgMZ1s_rZWOV",
        "outputId": "ad5fc7b8-a4a1-4487-e2b2-ce7a3e47bc04"
      },
      "execution_count": 28,
      "outputs": [
        {
          "output_type": "execute_result",
          "data": {
            "text/plain": [
              "((1000, 2), (1000,))"
            ]
          },
          "metadata": {},
          "execution_count": 28
        }
      ]
    },
    {
      "cell_type": "code",
      "source": [
        "len(X), len(y)"
      ],
      "metadata": {
        "colab": {
          "base_uri": "https://localhost:8080/"
        },
        "id": "C_QINi8KbOhA",
        "outputId": "17e7c199-b3cc-45ef-acc8-186be3506a79"
      },
      "execution_count": 29,
      "outputs": [
        {
          "output_type": "execute_result",
          "data": {
            "text/plain": [
              "(1000, 1000)"
            ]
          },
          "metadata": {},
          "execution_count": 29
        }
      ]
    },
    {
      "cell_type": "code",
      "source": [
        "X[0], y[0]"
      ],
      "metadata": {
        "colab": {
          "base_uri": "https://localhost:8080/"
        },
        "id": "9ba4m-JpbZar",
        "outputId": "cb69f2fd-e8db-4a6d-ea36-ed9cb9db1e0e"
      },
      "execution_count": 30,
      "outputs": [
        {
          "output_type": "execute_result",
          "data": {
            "text/plain": [
              "(array([0.75424625, 0.23148074]), 1)"
            ]
          },
          "metadata": {},
          "execution_count": 30
        }
      ]
    },
    {
      "cell_type": "markdown",
      "source": [
        "##Steps on Modeling if its a red dot or a blue dot"
      ],
      "metadata": {
        "id": "jWOxeNFZbkDt"
      }
    },
    {
      "cell_type": "markdown",
      "source": [
        "### creating a model neural network"
      ],
      "metadata": {
        "id": "L7IUmD2hcE8h"
      }
    },
    {
      "cell_type": "code",
      "source": [],
      "metadata": {
        "id": "H9UhfuXfc42C"
      },
      "execution_count": 30,
      "outputs": []
    },
    {
      "cell_type": "markdown",
      "source": [
        "https://www.ritchieng.com/machine-learning-evaluate-classification-model/"
      ],
      "metadata": {
        "id": "2fDxot4RdUkq"
      }
    },
    {
      "cell_type": "code",
      "source": [
        "import tensorflow as tf\n",
        "\n",
        "tf.random.set_seed(42)\n",
        "\n",
        "model = tf.keras.Sequential([\n",
        "    tf.keras.layers.Dense(1)\n",
        "])\n",
        "\n",
        "model.compile(optimizer=tf.keras.optimizers.SGD(),\n",
        "              loss=tf.keras.losses.binary_crossentropy,\n",
        "              metrics=[\"accuracy\"])\n",
        "\n",
        "model.fit(X, y, epochs=5)"
      ],
      "metadata": {
        "colab": {
          "base_uri": "https://localhost:8080/"
        },
        "id": "_qIfFeQkbc0n",
        "outputId": "38edd411-8f6c-499b-a4f1-660aeedbef7e"
      },
      "execution_count": 31,
      "outputs": [
        {
          "output_type": "stream",
          "name": "stdout",
          "text": [
            "Epoch 1/5\n",
            "32/32 [==============================] - 2s 5ms/step - loss: 4.9672 - accuracy: 0.4910\n",
            "Epoch 2/5\n",
            "32/32 [==============================] - 0s 3ms/step - loss: 1.2376 - accuracy: 0.4990\n",
            "Epoch 3/5\n",
            "32/32 [==============================] - 0s 4ms/step - loss: 0.7284 - accuracy: 0.4940\n",
            "Epoch 4/5\n",
            "32/32 [==============================] - 0s 3ms/step - loss: 0.7045 - accuracy: 0.5040\n",
            "Epoch 5/5\n",
            "32/32 [==============================] - 0s 4ms/step - loss: 0.6977 - accuracy: 0.5030\n"
          ]
        },
        {
          "output_type": "execute_result",
          "data": {
            "text/plain": [
              "<keras.callbacks.History at 0x7ae0e325bfa0>"
            ]
          },
          "metadata": {},
          "execution_count": 31
        }
      ]
    },
    {
      "cell_type": "code",
      "source": [
        "model.fit(X,y, epochs=200, verbose=0)"
      ],
      "metadata": {
        "colab": {
          "base_uri": "https://localhost:8080/"
        },
        "id": "LiqgF2cvdiJZ",
        "outputId": "50896f2b-3413-4a91-a41a-bd8ef78658fc"
      },
      "execution_count": 32,
      "outputs": [
        {
          "output_type": "execute_result",
          "data": {
            "text/plain": [
              "<keras.callbacks.History at 0x7ae0d3e0c6a0>"
            ]
          },
          "metadata": {},
          "execution_count": 32
        }
      ]
    },
    {
      "cell_type": "code",
      "source": [
        "model.evaluate(X, y)"
      ],
      "metadata": {
        "colab": {
          "base_uri": "https://localhost:8080/"
        },
        "id": "WYT7M4Yrjjwq",
        "outputId": "6e188843-5921-496d-87e7-8428e9059c5f"
      },
      "execution_count": 33,
      "outputs": [
        {
          "output_type": "stream",
          "name": "stdout",
          "text": [
            "32/32 [==============================] - 0s 5ms/step - loss: 0.6935 - accuracy: 0.5000\n"
          ]
        },
        {
          "output_type": "execute_result",
          "data": {
            "text/plain": [
              "[0.6934831142425537, 0.5]"
            ]
          },
          "metadata": {},
          "execution_count": 33
        }
      ]
    },
    {
      "cell_type": "markdown",
      "source": [
        "Since we are working on a binary classification model\n",
        "and its getting 50 percent accuracy its playing like its guessing\n",
        "lets make another layer"
      ],
      "metadata": {
        "id": "NpRWPCdzkduS"
      }
    },
    {
      "cell_type": "code",
      "source": [
        "#set randomseed\n",
        "tf.random.set_seed(42)\n",
        "\n",
        "model2 = tf.keras.Sequential([\n",
        "    tf.keras.layers.Dense(100, activation=\"relu\"),\n",
        "    tf.keras.layers.Dense(100, activation=\"relu\"),\n",
        "    tf.keras.layers.Dense(100, activation=\"relu\"),\n",
        "    tf.keras.layers.Dense(1)\n",
        "])\n",
        "\n",
        "model2.compile(optimizer=tf.keras.optimizers.Adam(learning_rate=0.0001),\n",
        "               loss = tf.keras.losses.binary_crossentropy,\n",
        "               metrics=[\"accuracy\"])\n",
        "\n",
        "model2.fit(X,y, epochs= 100 , verbose=0)"
      ],
      "metadata": {
        "colab": {
          "base_uri": "https://localhost:8080/"
        },
        "id": "RSwZpqbdkSkA",
        "outputId": "a63d8080-bbfd-4af2-d94d-6dc42eca0a30"
      },
      "execution_count": 34,
      "outputs": [
        {
          "output_type": "execute_result",
          "data": {
            "text/plain": [
              "<keras.callbacks.History at 0x7ae0d3e84400>"
            ]
          },
          "metadata": {},
          "execution_count": 34
        }
      ]
    },
    {
      "cell_type": "code",
      "source": [
        "model2.evaluate(X,y)"
      ],
      "metadata": {
        "colab": {
          "base_uri": "https://localhost:8080/"
        },
        "id": "LgqDkLQOlGmI",
        "outputId": "61e60a36-2309-4e26-ca97-5ee7db42d793"
      },
      "execution_count": 35,
      "outputs": [
        {
          "output_type": "stream",
          "name": "stdout",
          "text": [
            "32/32 [==============================] - 0s 2ms/step - loss: 0.0059 - accuracy: 1.0000\n"
          ]
        },
        {
          "output_type": "execute_result",
          "data": {
            "text/plain": [
              "[0.005886887665838003, 1.0]"
            ]
          },
          "metadata": {},
          "execution_count": 35
        }
      ]
    },
    {
      "cell_type": "markdown",
      "source": [
        "##no need to code more we got 100 percent model prediction just watch the video"
      ],
      "metadata": {
        "id": "S3Wu7pcLnLKh"
      }
    },
    {
      "cell_type": "markdown",
      "source": [
        "to visualize the model prediction"
      ],
      "metadata": {
        "id": "TqviPaqL2bFH"
      }
    },
    {
      "cell_type": "code",
      "source": [
        "import numpy as np"
      ],
      "metadata": {
        "id": "DDIrM1Kc3Y2q"
      },
      "execution_count": 36,
      "outputs": []
    },
    {
      "cell_type": "code",
      "source": [
        "import numpy as np\n",
        "\n",
        "def plot_decision_boundary(model, X, y):\n",
        "  \"\"\"\n",
        "  Plots the decision boundary created by a model predicting on X.\n",
        "  This function has been adapted from two phenomenal resources:\n",
        "   1. CS231n - https://cs231n.github.io/neural-networks-case-study/\n",
        "   2. Made with ML basics - https://github.com/GokuMohandas/MadeWithML/blob/main/notebooks/08_Neural_Networks.ipynb\n",
        "  \"\"\"\n",
        "  # Define the axis boundaries of the plot and create a meshgrid\n",
        "  x_min, x_max = X[:, 0].min() - 0.1, X[:, 0].max() + 0.1\n",
        "  y_min, y_max = X[:, 1].min() - 0.1, X[:, 1].max() + 0.1\n",
        "  xx, yy = np.meshgrid(np.linspace(x_min, x_max, 100),\n",
        "                       np.linspace(y_min, y_max, 100))\n",
        "\n",
        "  # Create X values (we're going to predict on all of these)\n",
        "  x_in = np.c_[xx.ravel(), yy.ravel()] # stack 2D arrays together: https://numpy.org/devdocs/reference/generated/numpy.c_.html\n",
        "\n",
        "  # Make predictions using the trained model\n",
        "  y_pred = model.predict(x_in)\n",
        "\n",
        "  # Check for multi-class\n",
        "  if model.output_shape[-1] > 1: # checks the final dimension of the model's output shape, if this is > (greater than) 1, it's multi-class\n",
        "    print(\"doing multiclass classification...\")\n",
        "    # We have to reshape our predictions to get them ready for plotting\n",
        "    y_pred = np.argmax(y_pred, axis=1).reshape(xx.shape)\n",
        "  else:\n",
        "    print(\"doing binary classifcation...\")\n",
        "    y_pred = np.round(np.max(y_pred, axis=1)).reshape(xx.shape)\n",
        "\n",
        "  # Plot decision boundary\n",
        "  plt.contourf(xx, yy, y_pred, cmap=plt.cm.RdYlBu, alpha=0.7)\n",
        "  plt.scatter(X[:, 0], X[:, 1], c=y, s=40, cmap=plt.cm.RdYlBu)\n",
        "  plt.xlim(xx.min(), xx.max())\n",
        "  plt.ylim(yy.min(), yy.max())"
      ],
      "metadata": {
        "id": "TUMOZ8qplLjC"
      },
      "execution_count": 37,
      "outputs": []
    },
    {
      "cell_type": "code",
      "source": [
        "#check out the predictions of our model\n",
        "plot_decision_boundary(model2, X, y)"
      ],
      "metadata": {
        "colab": {
          "base_uri": "https://localhost:8080/",
          "height": 465
        },
        "id": "KUp7SqzExL2D",
        "outputId": "2ae51010-adb0-4e26-c588-7556fe38571c"
      },
      "execution_count": 38,
      "outputs": [
        {
          "output_type": "stream",
          "name": "stdout",
          "text": [
            "313/313 [==============================] - 1s 1ms/step\n",
            "doing binary classifcation...\n"
          ]
        },
        {
          "output_type": "display_data",
          "data": {
            "text/plain": [
              "<Figure size 640x480 with 1 Axes>"
            ],
            "image/png": "[encoded data removed]"
          },
          "metadata": {}
        }
      ]
    },
    {
      "cell_type": "markdown",
      "source": [
        "#working with larger example\n",
        "#Multiclass Classification\n",
        "\n",
        "if you have 3 different classes it means its\n",
        "multiclass classification"
      ],
      "metadata": {
        "id": "iTFfKeBGoFJX"
      }
    },
    {
      "cell_type": "markdown",
      "source": [
        "##take the data"
      ],
      "metadata": {
        "id": "OLWQI2vhoquP"
      }
    },
    {
      "cell_type": "markdown",
      "source": [
        "to practice multiclass classification\n",
        "we are going to create a neural network to classify different items\n",
        "of clothing\n"
      ],
      "metadata": {
        "id": "BoukEHdFo0nZ"
      }
    },
    {
      "cell_type": "code",
      "source": [
        "import pandas as pd\n",
        "import tensorflow as tf\n",
        "from tensorflow.keras.datasets import fashion_mnist\n",
        "\n",
        "#data has already been sorted as training and test sets for us\n",
        "#we can use tuples\n",
        "#here is the documentation for this\n",
        "#https://www.tensorflow.org/datasets/catalog/fashion_mnist\n",
        "\n",
        "(train_data, train_labels), (test_data, test_labels) = fashion_mnist.load_data()\n"
      ],
      "metadata": {
        "colab": {
          "base_uri": "https://localhost:8080/"
        },
        "id": "uAw9dKS75zil",
        "outputId": "f28aa413-83c8-4bdf-dff8-c6ac7fc1e874"
      },
      "execution_count": 1,
      "outputs": [
        {
          "output_type": "stream",
          "name": "stdout",
          "text": [
            "Downloading data from https://storage.googleapis.com/tensorflow/tf-keras-datasets/train-labels-idx1-ubyte.gz\n",
            "29515/29515 [==============================] - 0s 1us/step\n",
            "Downloading data from https://storage.googleapis.com/tensorflow/tf-keras-datasets/train-images-idx3-ubyte.gz\n",
            "26421880/26421880 [==============================] - 2s 0us/step\n",
            "Downloading data from https://storage.googleapis.com/tensorflow/tf-keras-datasets/t10k-labels-idx1-ubyte.gz\n",
            "5148/5148 [==============================] - 0s 0us/step\n",
            "Downloading data from https://storage.googleapis.com/tensorflow/tf-keras-datasets/t10k-images-idx3-ubyte.gz\n",
            "4422102/4422102 [==============================] - 1s 0us/step\n"
          ]
        }
      ]
    },
    {
      "cell_type": "code",
      "source": [
        "#show the first training example\n",
        "print(f\"training sample: \\n{train_data[0]}\\n\")\n",
        "print(f\"training sample: \\n{train_labels[0]}\\n\")"
      ],
      "metadata": {
        "colab": {
          "base_uri": "https://localhost:8080/"
        },
        "id": "pIJd6Juxp1_H",
        "outputId": "87ca384d-290e-47d5-b6ab-c7c87b050f5b"
      },
      "execution_count": 2,
      "outputs": [
        {
          "output_type": "stream",
          "name": "stdout",
          "text": [
            "training sample: \n",
            "[[  0   0   0   0   0   0   0   0   0   0   0   0   0   0   0   0   0   0\n",
            "    0   0   0   0   0   0   0   0   0   0]\n",
            " [  0   0   0   0   0   0   0   0   0   0   0   0   0   0   0   0   0   0\n",
            "    0   0   0   0   0   0   0   0   0   0]\n",
            " [  0   0   0   0   0   0   0   0   0   0   0   0   0   0   0   0   0   0\n",
            "    0   0   0   0   0   0   0   0   0   0]\n",
            " [  0   0   0   0   0   0   0   0   0   0   0   0   1   0   0  13  73   0\n",
            "    0   1   4   0   0   0   0   1   1   0]\n",
            " [  0   0   0   0   0   0   0   0   0   0   0   0   3   0  36 136 127  62\n",
            "   54   0   0   0   1   3   4   0   0   3]\n",
            " [  0   0   0   0   0   0   0   0   0   0   0   0   6   0 102 204 176 134\n",
            "  144 123  23   0   0   0   0  12  10   0]\n",
            " [  0   0   0   0   0   0   0   0   0   0   0   0   0   0 155 236 207 178\n",
            "  107 156 161 109  64  23  77 130  72  15]\n",
            " [  0   0   0   0   0   0   0   0   0   0   0   1   0  69 207 223 218 216\n",
            "  216 163 127 121 122 146 141  88 172  66]\n",
            " [  0   0   0   0   0   0   0   0   0   1   1   1   0 200 232 232 233 229\n",
            "  223 223 215 213 164 127 123 196 229   0]\n",
            " [  0   0   0   0   0   0   0   0   0   0   0   0   0 183 225 216 223 228\n",
            "  235 227 224 222 224 221 223 245 173   0]\n",
            " [  0   0   0   0   0   0   0   0   0   0   0   0   0 193 228 218 213 198\n",
            "  180 212 210 211 213 223 220 243 202   0]\n",
            " [  0   0   0   0   0   0   0   0   0   1   3   0  12 219 220 212 218 192\n",
            "  169 227 208 218 224 212 226 197 209  52]\n",
            " [  0   0   0   0   0   0   0   0   0   0   6   0  99 244 222 220 218 203\n",
            "  198 221 215 213 222 220 245 119 167  56]\n",
            " [  0   0   0   0   0   0   0   0   0   4   0   0  55 236 228 230 228 240\n",
            "  232 213 218 223 234 217 217 209  92   0]\n",
            " [  0   0   1   4   6   7   2   0   0   0   0   0 237 226 217 223 222 219\n",
            "  222 221 216 223 229 215 218 255  77   0]\n",
            " [  0   3   0   0   0   0   0   0   0  62 145 204 228 207 213 221 218 208\n",
            "  211 218 224 223 219 215 224 244 159   0]\n",
            " [  0   0   0   0  18  44  82 107 189 228 220 222 217 226 200 205 211 230\n",
            "  224 234 176 188 250 248 233 238 215   0]\n",
            " [  0  57 187 208 224 221 224 208 204 214 208 209 200 159 245 193 206 223\n",
            "  255 255 221 234 221 211 220 232 246   0]\n",
            " [  3 202 228 224 221 211 211 214 205 205 205 220 240  80 150 255 229 221\n",
            "  188 154 191 210 204 209 222 228 225   0]\n",
            " [ 98 233 198 210 222 229 229 234 249 220 194 215 217 241  65  73 106 117\n",
            "  168 219 221 215 217 223 223 224 229  29]\n",
            " [ 75 204 212 204 193 205 211 225 216 185 197 206 198 213 240 195 227 245\n",
            "  239 223 218 212 209 222 220 221 230  67]\n",
            " [ 48 203 183 194 213 197 185 190 194 192 202 214 219 221 220 236 225 216\n",
            "  199 206 186 181 177 172 181 205 206 115]\n",
            " [  0 122 219 193 179 171 183 196 204 210 213 207 211 210 200 196 194 191\n",
            "  195 191 198 192 176 156 167 177 210  92]\n",
            " [  0   0  74 189 212 191 175 172 175 181 185 188 189 188 193 198 204 209\n",
            "  210 210 211 188 188 194 192 216 170   0]\n",
            " [  2   0   0   0  66 200 222 237 239 242 246 243 244 221 220 193 191 179\n",
            "  182 182 181 176 166 168  99  58   0   0]\n",
            " [  0   0   0   0   0   0   0  40  61  44  72  41  35   0   0   0   0   0\n",
            "    0   0   0   0   0   0   0   0   0   0]\n",
            " [  0   0   0   0   0   0   0   0   0   0   0   0   0   0   0   0   0   0\n",
            "    0   0   0   0   0   0   0   0   0   0]\n",
            " [  0   0   0   0   0   0   0   0   0   0   0   0   0   0   0   0   0   0\n",
            "    0   0   0   0   0   0   0   0   0   0]]\n",
            "\n",
            "training sample: \n",
            "9\n",
            "\n"
          ]
        }
      ]
    },
    {
      "cell_type": "code",
      "source": [
        "#check the shape of the example\n",
        "train_data[0].shape, train_labels[0].shape"
      ],
      "metadata": {
        "colab": {
          "base_uri": "https://localhost:8080/"
        },
        "id": "eApdMrlmqGZu",
        "outputId": "f8dc0436-d9b7-4d01-b415-baf0632cd24c"
      },
      "execution_count": 3,
      "outputs": [
        {
          "output_type": "execute_result",
          "data": {
            "text/plain": [
              "((28, 28), ())"
            ]
          },
          "metadata": {},
          "execution_count": 3
        }
      ]
    },
    {
      "cell_type": "code",
      "source": [
        "#plot a single example\n",
        "import matplotlib.pyplot as plt\n",
        "\n",
        "plt.imshow(train_data[7])"
      ],
      "metadata": {
        "colab": {
          "base_uri": "https://localhost:8080/",
          "height": 447
        },
        "id": "ue_MN856rVg-",
        "outputId": "2e4f54f2-6af4-45f5-aaab-58fbf861ef4b"
      },
      "execution_count": 4,
      "outputs": [
        {
          "output_type": "execute_result",
          "data": {
            "text/plain": [
              "<matplotlib.image.AxesImage at 0x7de797a769b0>"
            ]
          },
          "metadata": {},
          "execution_count": 4
        },
        {
          "output_type": "display_data",
          "data": {
            "text/plain": [
              "<Figure size 640x480 with 1 Axes>"
            ],
            "image/png": "[encoded data removed]"
          },
          "metadata": {}
        }
      ]
    },
    {
      "cell_type": "code",
      "source": [
        "#check the label of that picture\n",
        "train_labels[7]"
      ],
      "metadata": {
        "colab": {
          "base_uri": "https://localhost:8080/"
        },
        "id": "3hpslHFaup0a",
        "outputId": "ba6aa06c-998d-43f2-ca1f-81f86ef61caf"
      },
      "execution_count": 5,
      "outputs": [
        {
          "output_type": "execute_result",
          "data": {
            "text/plain": [
              "2"
            ]
          },
          "metadata": {},
          "execution_count": 5
        }
      ]
    },
    {
      "cell_type": "code",
      "source": [
        "class_names = [\"T-shirt/top\", \"Trouser\", \"Pullover\", \"Dress\", \"Coat\", \"Sandal\", \"Shirt\", \"Sneaker\", \"Bag\", \"Ankle Boot\"]\n",
        "len(class_names)\n",
        "#more than 2 is multiclass we have 10!"
      ],
      "metadata": {
        "colab": {
          "base_uri": "https://localhost:8080/"
        },
        "id": "pRLgkwUwu2Z8",
        "outputId": "c06c3b59-24ed-4378-cbee-f0bdf22d8cfd"
      },
      "execution_count": 6,
      "outputs": [
        {
          "output_type": "execute_result",
          "data": {
            "text/plain": [
              "10"
            ]
          },
          "metadata": {},
          "execution_count": 6
        }
      ]
    },
    {
      "cell_type": "code",
      "source": [
        "#plot the training model and the class\n",
        "index = 18\n",
        "plt.imshow(train_data[index], cmap=plt.cm.binary)\n",
        "plt.title(class_names[train_labels[index]])"
      ],
      "metadata": {
        "colab": {
          "base_uri": "https://localhost:8080/",
          "height": 469
        },
        "id": "pky83_qT0AXT",
        "outputId": "2e0f9e2e-b82b-470c-d034-24f5aa7d1ec5"
      },
      "execution_count": 7,
      "outputs": [
        {
          "output_type": "execute_result",
          "data": {
            "text/plain": [
              "Text(0.5, 1.0, 'Shirt')"
            ]
          },
          "metadata": {},
          "execution_count": 7
        },
        {
          "output_type": "display_data",
          "data": {
            "text/plain": [
              "<Figure size 640x480 with 1 Axes>"
            ],
            "image/png": "[encoded data removed]"
          },
          "metadata": {}
        }
      ]
    },
    {
      "cell_type": "code",
      "source": [
        "#plot multiple random image of fashion MNIST\n",
        "import random\n",
        "plt.figure(figsize=(7,7))\n",
        "for i in range(4):\n",
        "  #2 rows , 2 columns, index plus 1\n",
        "  ax = plt.subplot(2, 2, i+1)\n",
        "  rand_index = random.choice(range(len(train_data)))\n",
        "  plt.imshow(train_data[rand_index], cmap=plt.cm.binary)\n",
        "  plt.title(class_names[train_labels[rand_index]])\n",
        "  plt.axis(False)"
      ],
      "metadata": {
        "colab": {
          "base_uri": "https://localhost:8080/",
          "height": 598
        },
        "id": "qHHeRe6J237e",
        "outputId": "f1ae63bc-5da3-48c4-b14e-39f91fce6160"
      },
      "execution_count": 8,
      "outputs": [
        {
          "output_type": "display_data",
          "data": {
            "text/plain": [
              "<Figure size 700x700 with 4 Axes>"
            ],
            "image/png": "[encoded data removed]"
          },
          "metadata": {}
        }
      ]
    },
    {
      "cell_type": "code",
      "source": [
        "train_data.shape, train_labels.shape"
      ],
      "metadata": {
        "colab": {
          "base_uri": "https://localhost:8080/"
        },
        "id": "R_y8VEJj11W9",
        "outputId": "f5edcc70-a425-4c88-9f0c-d0ae5ee7fedf"
      },
      "execution_count": 9,
      "outputs": [
        {
          "output_type": "execute_result",
          "data": {
            "text/plain": [
              "((60000, 28, 28), (60000,))"
            ]
          },
          "metadata": {},
          "execution_count": 9
        }
      ]
    },
    {
      "cell_type": "code",
      "source": [
        "#check the shape of the example\n",
        "train_data[0].shape, train_labels[0].shape\n",
        "#shape is 28,28"
      ],
      "metadata": {
        "colab": {
          "base_uri": "https://localhost:8080/"
        },
        "id": "j9pCr12J0HVP",
        "outputId": "c88b22fc-6df3-46cd-a524-7774d2686758"
      },
      "execution_count": 10,
      "outputs": [
        {
          "output_type": "execute_result",
          "data": {
            "text/plain": [
              "((28, 28), ())"
            ]
          },
          "metadata": {},
          "execution_count": 10
        }
      ]
    },
    {
      "cell_type": "code",
      "source": [
        "flatten_model1 = tf.keras.Sequential([tf.keras.layers.Flatten(input_shape=(28, 28))])\n",
        "flatten_model1.output_shape"
      ],
      "metadata": {
        "colab": {
          "base_uri": "https://localhost:8080/"
        },
        "id": "QhBukPZMJzCG",
        "outputId": "6651dccd-5faf-42c6-88a7-7741b049d534"
      },
      "execution_count": 11,
      "outputs": [
        {
          "output_type": "execute_result",
          "data": {
            "text/plain": [
              "(None, 784)"
            ]
          },
          "metadata": {},
          "execution_count": 11
        }
      ]
    },
    {
      "cell_type": "code",
      "source": [
        "train_data.dtype, train_labels.dtype"
      ],
      "metadata": {
        "colab": {
          "base_uri": "https://localhost:8080/"
        },
        "id": "LpsPWBxgJ21Z",
        "outputId": "bd595614-eb30-4465-a99c-fe7659810fc7"
      },
      "execution_count": 12,
      "outputs": [
        {
          "output_type": "execute_result",
          "data": {
            "text/plain": [
              "(dtype('uint8'), dtype('uint8'))"
            ]
          },
          "metadata": {},
          "execution_count": 12
        }
      ]
    },
    {
      "cell_type": "markdown",
      "source": [
        "*if your labels are one-hot encoded , use categoricalCrossentropy()*\n",
        "\n",
        "\n",
        "*if your labels are in integer\n",
        "  - use SparseCategoricalCrossEntropy()\n",
        "    like what we did\n",
        "\n"
      ],
      "metadata": {
        "id": "h9KHTKzLSUnt"
      }
    },
    {
      "cell_type": "code",
      "source": [
        "#now building a model for this dataset\n",
        "tf.random.set_seed(42)\n",
        "\n",
        "import tensorflow as tf\n",
        "\n",
        "model_class = tf.keras.Sequential([\n",
        "    tf.keras.layers.Flatten(input_shape=(28, 28)),\n",
        "    tf.keras.layers.Dense(100, activation=\"relu\"),\n",
        "    tf.keras.layers.Dense(100, activation=\"relu\"),\n",
        "    tf.keras.layers.Dense(10, activation=\"softmax\")\n",
        "])\n",
        "\n",
        "model_class.compile(optimizer=tf.keras.optimizers.Adam(learning_rate=0.0001),\n",
        "                    loss=tf.keras.losses.SparseCategoricalCrossentropy(), #dont forget the () here\n",
        "                    metrics=[\"accuracy\"])\n",
        "\n",
        "\n",
        "\n",
        "non_norm_history = model_class.fit(train_data, train_labels, epochs=100, validation_data=(test_data, test_labels))"
      ],
      "metadata": {
        "colab": {
          "base_uri": "https://localhost:8080/"
        },
        "id": "6k61o7mtvonF",
        "outputId": "cd96c1e9-ff9a-4f51-d745-36bf7b555fe0"
      },
      "execution_count": 13,
      "outputs": [
        {
          "output_type": "stream",
          "name": "stdout",
          "text": [
            "Epoch 1/100\n",
            "1875/1875 [==============================] - 15s 7ms/step - loss: 5.7790 - accuracy: 0.7110 - val_loss: 2.3918 - val_accuracy: 0.7605\n",
            "Epoch 2/100\n",
            "1875/1875 [==============================] - 10s 6ms/step - loss: 1.6089 - accuracy: 0.7814 - val_loss: 1.4812 - val_accuracy: 0.7714\n",
            "Epoch 3/100\n",
            "1875/1875 [==============================] - 6s 3ms/step - loss: 0.9910 - accuracy: 0.8025 - val_loss: 1.0122 - val_accuracy: 0.7859\n",
            "Epoch 4/100\n",
            "1875/1875 [==============================] - 7s 4ms/step - loss: 0.7261 - accuracy: 0.8199 - val_loss: 0.8316 - val_accuracy: 0.8045\n",
            "Epoch 5/100\n",
            "1875/1875 [==============================] - 6s 3ms/step - loss: 0.5908 - accuracy: 0.8313 - val_loss: 0.7560 - val_accuracy: 0.8052\n",
            "Epoch 6/100\n",
            "1875/1875 [==============================] - 7s 4ms/step - loss: 0.5093 - accuracy: 0.8435 - val_loss: 0.6687 - val_accuracy: 0.8164\n",
            "Epoch 7/100\n",
            "1875/1875 [==============================] - 6s 3ms/step - loss: 0.4573 - accuracy: 0.8516 - val_loss: 0.6017 - val_accuracy: 0.8338\n",
            "Epoch 8/100\n",
            "1875/1875 [==============================] - 7s 4ms/step - loss: 0.4204 - accuracy: 0.8585 - val_loss: 0.6000 - val_accuracy: 0.8310\n",
            "Epoch 9/100\n",
            "1875/1875 [==============================] - 6s 3ms/step - loss: 0.3877 - accuracy: 0.8657 - val_loss: 0.5879 - val_accuracy: 0.8328\n",
            "Epoch 10/100\n",
            "1875/1875 [==============================] - 7s 4ms/step - loss: 0.3678 - accuracy: 0.8709 - val_loss: 0.5751 - val_accuracy: 0.8418\n",
            "Epoch 11/100\n",
            "1875/1875 [==============================] - 6s 3ms/step - loss: 0.3545 - accuracy: 0.8739 - val_loss: 0.5698 - val_accuracy: 0.8398\n",
            "Epoch 12/100\n",
            "1875/1875 [==============================] - 7s 4ms/step - loss: 0.3379 - accuracy: 0.8779 - val_loss: 0.5585 - val_accuracy: 0.8473\n",
            "Epoch 13/100\n",
            "1875/1875 [==============================] - 6s 3ms/step - loss: 0.3274 - accuracy: 0.8832 - val_loss: 0.5314 - val_accuracy: 0.8520\n",
            "Epoch 14/100\n",
            "1875/1875 [==============================] - 7s 4ms/step - loss: 0.3109 - accuracy: 0.8863 - val_loss: 0.5229 - val_accuracy: 0.8510\n",
            "Epoch 15/100\n",
            "1875/1875 [==============================] - 6s 3ms/step - loss: 0.3081 - accuracy: 0.8874 - val_loss: 0.5397 - val_accuracy: 0.8358\n",
            "Epoch 16/100\n",
            "1875/1875 [==============================] - 7s 4ms/step - loss: 0.2941 - accuracy: 0.8918 - val_loss: 0.5374 - val_accuracy: 0.8423\n",
            "Epoch 17/100\n",
            "1875/1875 [==============================] - 6s 3ms/step - loss: 0.2879 - accuracy: 0.8943 - val_loss: 0.5541 - val_accuracy: 0.8501\n",
            "Epoch 18/100\n",
            "1875/1875 [==============================] - 7s 4ms/step - loss: 0.2817 - accuracy: 0.8966 - val_loss: 0.4900 - val_accuracy: 0.8597\n",
            "Epoch 19/100\n",
            "1875/1875 [==============================] - 6s 3ms/step - loss: 0.2795 - accuracy: 0.8974 - val_loss: 0.5138 - val_accuracy: 0.8547\n",
            "Epoch 20/100\n",
            "1875/1875 [==============================] - 7s 4ms/step - loss: 0.2692 - accuracy: 0.9010 - val_loss: 0.5089 - val_accuracy: 0.8578\n",
            "Epoch 21/100\n",
            "1875/1875 [==============================] - 6s 3ms/step - loss: 0.2655 - accuracy: 0.9017 - val_loss: 0.5099 - val_accuracy: 0.8623\n",
            "Epoch 22/100\n",
            "1875/1875 [==============================] - 7s 4ms/step - loss: 0.2574 - accuracy: 0.9038 - val_loss: 0.5261 - val_accuracy: 0.8570\n",
            "Epoch 23/100\n",
            "1875/1875 [==============================] - 6s 3ms/step - loss: 0.2560 - accuracy: 0.9043 - val_loss: 0.5278 - val_accuracy: 0.8552\n",
            "Epoch 24/100\n",
            "1875/1875 [==============================] - 7s 4ms/step - loss: 0.2496 - accuracy: 0.9059 - val_loss: 0.5422 - val_accuracy: 0.8553\n",
            "Epoch 25/100\n",
            "1875/1875 [==============================] - 6s 3ms/step - loss: 0.2441 - accuracy: 0.9087 - val_loss: 0.5524 - val_accuracy: 0.8516\n",
            "Epoch 26/100\n",
            "1875/1875 [==============================] - 7s 4ms/step - loss: 0.2440 - accuracy: 0.9099 - val_loss: 0.5049 - val_accuracy: 0.8612\n",
            "Epoch 27/100\n",
            "1875/1875 [==============================] - 7s 4ms/step - loss: 0.2404 - accuracy: 0.9094 - val_loss: 0.5709 - val_accuracy: 0.8503\n",
            "Epoch 28/100\n",
            "1875/1875 [==============================] - 7s 4ms/step - loss: 0.2326 - accuracy: 0.9123 - val_loss: 0.5172 - val_accuracy: 0.8669\n",
            "Epoch 29/100\n",
            "1875/1875 [==============================] - 6s 3ms/step - loss: 0.2302 - accuracy: 0.9137 - val_loss: 0.5193 - val_accuracy: 0.8644\n",
            "Epoch 30/100\n",
            "1875/1875 [==============================] - 7s 4ms/step - loss: 0.2285 - accuracy: 0.9148 - val_loss: 0.5511 - val_accuracy: 0.8523\n",
            "Epoch 31/100\n",
            "1875/1875 [==============================] - 6s 3ms/step - loss: 0.2277 - accuracy: 0.9143 - val_loss: 0.5673 - val_accuracy: 0.8482\n",
            "Epoch 32/100\n",
            "1875/1875 [==============================] - 7s 4ms/step - loss: 0.2242 - accuracy: 0.9154 - val_loss: 0.5479 - val_accuracy: 0.8670\n",
            "Epoch 33/100\n",
            "1875/1875 [==============================] - 6s 3ms/step - loss: 0.2187 - accuracy: 0.9180 - val_loss: 0.5356 - val_accuracy: 0.8668\n",
            "Epoch 34/100\n",
            "1875/1875 [==============================] - 7s 4ms/step - loss: 0.2148 - accuracy: 0.9196 - val_loss: 0.5410 - val_accuracy: 0.8628\n",
            "Epoch 35/100\n",
            "1875/1875 [==============================] - 6s 3ms/step - loss: 0.2155 - accuracy: 0.9186 - val_loss: 0.5614 - val_accuracy: 0.8594\n",
            "Epoch 36/100\n",
            "1875/1875 [==============================] - 7s 4ms/step - loss: 0.2125 - accuracy: 0.9203 - val_loss: 0.5456 - val_accuracy: 0.8651\n",
            "Epoch 37/100\n",
            "1875/1875 [==============================] - 6s 3ms/step - loss: 0.2064 - accuracy: 0.9223 - val_loss: 0.5637 - val_accuracy: 0.8623\n",
            "Epoch 38/100\n",
            "1875/1875 [==============================] - 7s 4ms/step - loss: 0.2046 - accuracy: 0.9233 - val_loss: 0.5650 - val_accuracy: 0.8578\n",
            "Epoch 39/100\n",
            "1875/1875 [==============================] - 6s 3ms/step - loss: 0.2015 - accuracy: 0.9241 - val_loss: 0.5426 - val_accuracy: 0.8621\n",
            "Epoch 40/100\n",
            "1875/1875 [==============================] - 7s 4ms/step - loss: 0.2025 - accuracy: 0.9232 - val_loss: 0.5647 - val_accuracy: 0.8616\n",
            "Epoch 41/100\n",
            "1875/1875 [==============================] - 6s 3ms/step - loss: 0.1957 - accuracy: 0.9267 - val_loss: 0.5982 - val_accuracy: 0.8589\n",
            "Epoch 42/100\n",
            "1875/1875 [==============================] - 7s 4ms/step - loss: 0.1972 - accuracy: 0.9258 - val_loss: 0.5763 - val_accuracy: 0.8611\n",
            "Epoch 43/100\n",
            "1875/1875 [==============================] - 6s 3ms/step - loss: 0.1920 - accuracy: 0.9285 - val_loss: 0.5904 - val_accuracy: 0.8642\n",
            "Epoch 44/100\n",
            "1875/1875 [==============================] - 7s 4ms/step - loss: 0.1935 - accuracy: 0.9269 - val_loss: 0.5394 - val_accuracy: 0.8671\n",
            "Epoch 45/100\n",
            "1875/1875 [==============================] - 6s 3ms/step - loss: 0.1881 - accuracy: 0.9276 - val_loss: 0.5628 - val_accuracy: 0.8646\n",
            "Epoch 46/100\n",
            "1875/1875 [==============================] - 7s 4ms/step - loss: 0.1844 - accuracy: 0.9296 - val_loss: 0.5950 - val_accuracy: 0.8610\n",
            "Epoch 47/100\n",
            "1875/1875 [==============================] - 6s 3ms/step - loss: 0.1841 - accuracy: 0.9298 - val_loss: 0.6133 - val_accuracy: 0.8591\n",
            "Epoch 48/100\n",
            "1875/1875 [==============================] - 7s 4ms/step - loss: 0.1836 - accuracy: 0.9299 - val_loss: 0.5988 - val_accuracy: 0.8581\n",
            "Epoch 49/100\n",
            "1875/1875 [==============================] - 6s 3ms/step - loss: 0.1817 - accuracy: 0.9310 - val_loss: 0.5945 - val_accuracy: 0.8654\n",
            "Epoch 50/100\n",
            "1875/1875 [==============================] - 7s 4ms/step - loss: 0.1806 - accuracy: 0.9317 - val_loss: 0.6108 - val_accuracy: 0.8697\n",
            "Epoch 51/100\n",
            "1875/1875 [==============================] - 6s 3ms/step - loss: 0.1767 - accuracy: 0.9335 - val_loss: 0.5977 - val_accuracy: 0.8651\n",
            "Epoch 52/100\n",
            "1875/1875 [==============================] - 7s 4ms/step - loss: 0.1761 - accuracy: 0.9347 - val_loss: 0.5817 - val_accuracy: 0.8694\n",
            "Epoch 53/100\n",
            "1875/1875 [==============================] - 6s 3ms/step - loss: 0.1728 - accuracy: 0.9355 - val_loss: 0.6568 - val_accuracy: 0.8547\n",
            "Epoch 54/100\n",
            "1875/1875 [==============================] - 7s 4ms/step - loss: 0.1744 - accuracy: 0.9344 - val_loss: 0.6284 - val_accuracy: 0.8615\n",
            "Epoch 55/100\n",
            "1875/1875 [==============================] - 6s 3ms/step - loss: 0.1711 - accuracy: 0.9359 - val_loss: 0.6434 - val_accuracy: 0.8646\n",
            "Epoch 56/100\n",
            "1875/1875 [==============================] - 7s 4ms/step - loss: 0.1708 - accuracy: 0.9351 - val_loss: 0.6280 - val_accuracy: 0.8677\n",
            "Epoch 57/100\n",
            "1875/1875 [==============================] - 6s 3ms/step - loss: 0.1649 - accuracy: 0.9374 - val_loss: 0.6326 - val_accuracy: 0.8656\n",
            "Epoch 58/100\n",
            "1875/1875 [==============================] - 7s 4ms/step - loss: 0.1696 - accuracy: 0.9353 - val_loss: 0.6319 - val_accuracy: 0.8675\n",
            "Epoch 59/100\n",
            "1875/1875 [==============================] - 6s 3ms/step - loss: 0.1642 - accuracy: 0.9378 - val_loss: 0.6189 - val_accuracy: 0.8677\n",
            "Epoch 60/100\n",
            "1875/1875 [==============================] - 7s 4ms/step - loss: 0.1676 - accuracy: 0.9365 - val_loss: 0.6940 - val_accuracy: 0.8510\n",
            "Epoch 61/100\n",
            "1875/1875 [==============================] - 6s 3ms/step - loss: 0.1603 - accuracy: 0.9399 - val_loss: 0.6998 - val_accuracy: 0.8585\n",
            "Epoch 62/100\n",
            "1875/1875 [==============================] - 7s 4ms/step - loss: 0.1613 - accuracy: 0.9382 - val_loss: 0.6515 - val_accuracy: 0.8673\n",
            "Epoch 63/100\n",
            "1875/1875 [==============================] - 6s 3ms/step - loss: 0.1615 - accuracy: 0.9396 - val_loss: 0.6656 - val_accuracy: 0.8623\n",
            "Epoch 64/100\n",
            "1875/1875 [==============================] - 7s 4ms/step - loss: 0.1588 - accuracy: 0.9416 - val_loss: 0.6360 - val_accuracy: 0.8670\n",
            "Epoch 65/100\n",
            "1875/1875 [==============================] - 6s 3ms/step - loss: 0.1571 - accuracy: 0.9410 - val_loss: 0.6844 - val_accuracy: 0.8653\n",
            "Epoch 66/100\n",
            "1875/1875 [==============================] - 7s 4ms/step - loss: 0.1575 - accuracy: 0.9409 - val_loss: 0.6677 - val_accuracy: 0.8688\n",
            "Epoch 67/100\n",
            "1875/1875 [==============================] - 6s 3ms/step - loss: 0.1518 - accuracy: 0.9436 - val_loss: 0.6876 - val_accuracy: 0.8637\n",
            "Epoch 68/100\n",
            "1875/1875 [==============================] - 7s 4ms/step - loss: 0.1515 - accuracy: 0.9427 - val_loss: 0.6830 - val_accuracy: 0.8665\n",
            "Epoch 69/100\n",
            "1875/1875 [==============================] - 6s 3ms/step - loss: 0.1523 - accuracy: 0.9427 - val_loss: 0.6741 - val_accuracy: 0.8629\n",
            "Epoch 70/100\n",
            "1875/1875 [==============================] - 7s 4ms/step - loss: 0.1519 - accuracy: 0.9438 - val_loss: 0.6862 - val_accuracy: 0.8579\n",
            "Epoch 71/100\n",
            "1875/1875 [==============================] - 6s 3ms/step - loss: 0.1491 - accuracy: 0.9443 - val_loss: 0.6647 - val_accuracy: 0.8660\n",
            "Epoch 72/100\n",
            "1875/1875 [==============================] - 7s 4ms/step - loss: 0.1486 - accuracy: 0.9445 - val_loss: 0.6935 - val_accuracy: 0.8641\n",
            "Epoch 73/100\n",
            "1875/1875 [==============================] - 6s 3ms/step - loss: 0.1462 - accuracy: 0.9444 - val_loss: 0.6903 - val_accuracy: 0.8707\n",
            "Epoch 74/100\n",
            "1875/1875 [==============================] - 6s 3ms/step - loss: 0.1461 - accuracy: 0.9450 - val_loss: 0.7105 - val_accuracy: 0.8601\n",
            "Epoch 75/100\n",
            "1875/1875 [==============================] - 6s 3ms/step - loss: 0.1453 - accuracy: 0.9455 - val_loss: 0.7112 - val_accuracy: 0.8684\n",
            "Epoch 76/100\n",
            "1875/1875 [==============================] - 7s 4ms/step - loss: 0.1423 - accuracy: 0.9464 - val_loss: 0.7103 - val_accuracy: 0.8662\n",
            "Epoch 77/100\n",
            "1875/1875 [==============================] - 6s 3ms/step - loss: 0.1447 - accuracy: 0.9452 - val_loss: 0.7321 - val_accuracy: 0.8623\n",
            "Epoch 78/100\n",
            "1875/1875 [==============================] - 7s 4ms/step - loss: 0.1402 - accuracy: 0.9479 - val_loss: 0.7305 - val_accuracy: 0.8662\n",
            "Epoch 79/100\n",
            "1875/1875 [==============================] - 6s 3ms/step - loss: 0.1401 - accuracy: 0.9478 - val_loss: 0.7174 - val_accuracy: 0.8664\n",
            "Epoch 80/100\n",
            "1875/1875 [==============================] - 7s 4ms/step - loss: 0.1363 - accuracy: 0.9481 - val_loss: 0.7389 - val_accuracy: 0.8689\n",
            "Epoch 81/100\n",
            "1875/1875 [==============================] - 6s 3ms/step - loss: 0.1387 - accuracy: 0.9487 - val_loss: 0.7229 - val_accuracy: 0.8674\n",
            "Epoch 82/100\n",
            "1875/1875 [==============================] - 6s 3ms/step - loss: 0.1364 - accuracy: 0.9484 - val_loss: 0.7578 - val_accuracy: 0.8571\n",
            "Epoch 83/100\n",
            "1875/1875 [==============================] - 6s 3ms/step - loss: 0.1362 - accuracy: 0.9495 - val_loss: 0.7729 - val_accuracy: 0.8644\n",
            "Epoch 84/100\n",
            "1875/1875 [==============================] - 7s 4ms/step - loss: 0.1358 - accuracy: 0.9495 - val_loss: 0.8009 - val_accuracy: 0.8629\n",
            "Epoch 85/100\n",
            "1875/1875 [==============================] - 6s 3ms/step - loss: 0.1415 - accuracy: 0.9478 - val_loss: 0.7480 - val_accuracy: 0.8672\n",
            "Epoch 86/100\n",
            "1875/1875 [==============================] - 7s 4ms/step - loss: 0.1316 - accuracy: 0.9514 - val_loss: 0.7864 - val_accuracy: 0.8673\n",
            "Epoch 87/100\n",
            "1875/1875 [==============================] - 6s 3ms/step - loss: 0.1326 - accuracy: 0.9505 - val_loss: 0.7431 - val_accuracy: 0.8613\n",
            "Epoch 88/100\n",
            "1875/1875 [==============================] - 7s 4ms/step - loss: 0.1313 - accuracy: 0.9506 - val_loss: 0.7777 - val_accuracy: 0.8690\n",
            "Epoch 89/100\n",
            "1875/1875 [==============================] - 6s 3ms/step - loss: 0.1308 - accuracy: 0.9513 - val_loss: 0.7926 - val_accuracy: 0.8649\n",
            "Epoch 90/100\n",
            "1875/1875 [==============================] - 7s 4ms/step - loss: 0.1302 - accuracy: 0.9511 - val_loss: 0.8054 - val_accuracy: 0.8592\n",
            "Epoch 91/100\n",
            "1875/1875 [==============================] - 6s 3ms/step - loss: 0.1286 - accuracy: 0.9516 - val_loss: 0.7965 - val_accuracy: 0.8612\n",
            "Epoch 92/100\n",
            "1875/1875 [==============================] - 7s 4ms/step - loss: 0.1318 - accuracy: 0.9514 - val_loss: 0.7691 - val_accuracy: 0.8685\n",
            "Epoch 93/100\n",
            "1875/1875 [==============================] - 6s 3ms/step - loss: 0.1258 - accuracy: 0.9531 - val_loss: 0.7727 - val_accuracy: 0.8702\n",
            "Epoch 94/100\n",
            "1875/1875 [==============================] - 7s 4ms/step - loss: 0.1274 - accuracy: 0.9514 - val_loss: 0.7859 - val_accuracy: 0.8685\n",
            "Epoch 95/100\n",
            "1875/1875 [==============================] - 6s 3ms/step - loss: 0.1289 - accuracy: 0.9516 - val_loss: 0.8101 - val_accuracy: 0.8652\n",
            "Epoch 96/100\n",
            "1875/1875 [==============================] - 7s 4ms/step - loss: 0.1260 - accuracy: 0.9527 - val_loss: 0.7823 - val_accuracy: 0.8691\n",
            "Epoch 97/100\n",
            "1875/1875 [==============================] - 6s 3ms/step - loss: 0.1263 - accuracy: 0.9520 - val_loss: 0.7964 - val_accuracy: 0.8666\n",
            "Epoch 98/100\n",
            "1875/1875 [==============================] - 7s 4ms/step - loss: 0.1212 - accuracy: 0.9539 - val_loss: 0.8222 - val_accuracy: 0.8645\n",
            "Epoch 99/100\n",
            "1875/1875 [==============================] - 6s 3ms/step - loss: 0.1244 - accuracy: 0.9534 - val_loss: 0.8289 - val_accuracy: 0.8674\n",
            "Epoch 100/100\n",
            "1875/1875 [==============================] - 7s 4ms/step - loss: 0.1206 - accuracy: 0.9553 - val_loss: 0.7825 - val_accuracy: 0.8681\n"
          ]
        }
      ]
    },
    {
      "cell_type": "code",
      "source": [
        "'''\n",
        "this is back up\n",
        "import tensorflow as tf\n",
        "from tensorflow.keras.datasets import fashion_mnist\n",
        "import numpy as np\n",
        "\n",
        "(train_data, train_labels), (test_data, test_labels) = fashion_mnist.load_data()\n",
        "\n",
        "# store shapes as variables\n",
        "# I don't you made any mistakes here, but it helps\n",
        "# for understanding the shapes TF expects\n",
        "input_data_shape = train_data[0].shape\n",
        "n_labels = len(set(train_labels))\n",
        "\n",
        "train_data_norm = train_data / train_data.max()\n",
        "test_data_norm = test_data / test_data.max()\n",
        "\n",
        "model = tf.keras.Sequential([\n",
        "  # initial flattened layer\n",
        "  tf.keras.layers.Flatten(\n",
        "    input_shape=input_data_shape),\n",
        "  # hidden layer with 10 nuerons\n",
        "  tf.keras.layers.Dense(\n",
        "    10,\n",
        "    activation=\"relu\"),\n",
        "  # output layer\n",
        "  tf.keras.layers.Dense(\n",
        "    n_labels,activation=\"softmax\"),\n",
        "])\n",
        "\n",
        "model.compile(\n",
        "  # use SparseCategoricalCrossentropy\n",
        "  # b/c labels are integers, and not\n",
        "  # one-hot encoded (e.g. tf.one_hot())\n",
        "  loss = tf.keras.losses.SparseCategoricalCrossentropy(),\n",
        "  optimizer=tf.keras.optimizers.legacy.Adam(\n",
        "    learning_rate=0.001,\n",
        "  ),\n",
        "  metrics=[\"accuracy\"]\n",
        ")\n",
        "\n",
        "history = model.fit(\n",
        "  train_data_norm,\n",
        "  train_labels,\n",
        "  epochs=10,\n",
        ")\n",
        "\n",
        "'''"
      ],
      "metadata": {
        "colab": {
          "base_uri": "https://localhost:8080/",
          "height": 123
        },
        "id": "v8xOOjN0zRlP",
        "outputId": "240c0864-3847-49bd-b5cb-7dd7798d8e99"
      },
      "execution_count": 14,
      "outputs": [
        {
          "output_type": "execute_result",
          "data": {
            "text/plain": [
              "'\\nthis is back up\\nimport tensorflow as tf\\nfrom tensorflow.keras.datasets import fashion_mnist\\nimport numpy as np\\n\\n(train_data, train_labels), (test_data, test_labels) = fashion_mnist.load_data()\\n\\n# store shapes as variables\\n# I don\\'t you made any mistakes here, but it helps\\n# for understanding the shapes TF expects\\ninput_data_shape = train_data[0].shape\\nn_labels = len(set(train_labels))\\n\\ntrain_data_norm = train_data / train_data.max()\\ntest_data_norm = test_data / test_data.max()\\n\\nmodel = tf.keras.Sequential([\\n  # initial flattened layer\\n  tf.keras.layers.Flatten(\\n    input_shape=input_data_shape),\\n  # hidden layer with 10 nuerons\\n  tf.keras.layers.Dense(\\n    10,\\n    activation=\"relu\"), \\n  # output layer \\n  tf.keras.layers.Dense(\\n    n_labels,activation=\"softmax\"),\\n])\\n\\nmodel.compile(\\n  # use SparseCategoricalCrossentropy \\n  # b/c labels are integers, and not \\n  # one-hot encoded (e.g. tf.one_hot())\\n  loss = tf.keras.losses.SparseCategoricalCrossentropy(),\\n  optimizer=tf.keras.optimizers.legacy.Adam(\\n    learning_rate=0.001,\\n  ),    \\n  metrics=[\"accuracy\"]\\n)\\n\\nhistory = model.fit(\\n  train_data_norm,\\n  train_labels,\\n  epochs=10,\\n)\\n\\n'"
            ],
            "application/vnd.google.colaboratory.intrinsic+json": {
              "type": "string"
            }
          },
          "metadata": {},
          "execution_count": 14
        }
      ]
    },
    {
      "cell_type": "code",
      "source": [],
      "metadata": {
        "id": "TBfKDKmyE2Oo"
      },
      "execution_count": 14,
      "outputs": []
    },
    {
      "cell_type": "code",
      "source": [
        "non_norm_history.history\n",
        "model_class.evaluate(test_data,test_labels)"
      ],
      "metadata": {
        "colab": {
          "base_uri": "https://localhost:8080/"
        },
        "id": "ftcCi-7uES1c",
        "outputId": "40bb8cc8-aad4-4556-cccf-8bac4fea626f"
      },
      "execution_count": 15,
      "outputs": [
        {
          "output_type": "stream",
          "name": "stdout",
          "text": [
            "313/313 [==============================] - 1s 2ms/step - loss: 0.7825 - accuracy: 0.8681\n"
          ]
        },
        {
          "output_type": "execute_result",
          "data": {
            "text/plain": [
              "[0.7825360894203186, 0.8680999875068665]"
            ]
          },
          "metadata": {},
          "execution_count": 15
        }
      ]
    },
    {
      "cell_type": "code",
      "source": [
        "model_class.summary()"
      ],
      "metadata": {
        "colab": {
          "base_uri": "https://localhost:8080/"
        },
        "id": "pAzStk05WtYd",
        "outputId": "d340b46c-490b-4a76-9432-6c4fed14f254"
      },
      "execution_count": 16,
      "outputs": [
        {
          "output_type": "stream",
          "name": "stdout",
          "text": [
            "Model: \"sequential_1\"\n",
            "_________________________________________________________________\n",
            " Layer (type)                Output Shape              Param #   \n",
            "=================================================================\n",
            " flatten_1 (Flatten)         (None, 784)               0         \n",
            "                                                                 \n",
            " dense (Dense)               (None, 100)               78500     \n",
            "                                                                 \n",
            " dense_1 (Dense)             (None, 100)               10100     \n",
            "                                                                 \n",
            " dense_2 (Dense)             (None, 10)                1010      \n",
            "                                                                 \n",
            "=================================================================\n",
            "Total params: 89,610\n",
            "Trainable params: 89,610\n",
            "Non-trainable params: 0\n",
            "_________________________________________________________________\n"
          ]
        }
      ]
    },
    {
      "cell_type": "code",
      "source": [
        "#check the min / max of the value\n",
        "train_data.min(), train_data.max()"
      ],
      "metadata": {
        "colab": {
          "base_uri": "https://localhost:8080/"
        },
        "id": "tXfLnx4xXNPs",
        "outputId": "597255a9-757c-4808-c518-525d2c2c1269"
      },
      "execution_count": 17,
      "outputs": [
        {
          "output_type": "execute_result",
          "data": {
            "text/plain": [
              "(0, 255)"
            ]
          },
          "metadata": {},
          "execution_count": 17
        }
      ]
    },
    {
      "cell_type": "markdown",
      "source": [
        "Neural networks prefer data to be scaled( or normalized ) this means they like to have the numbers in between 0 and 1"
      ],
      "metadata": {
        "id": "m7aIDrxfYOfI"
      }
    },
    {
      "cell_type": "code",
      "source": [
        "#we can get our training and test data by dividing itself by max\n",
        "train_data_norm = train_data / 255.0\n",
        "test_data_norm = test_data / 255.0\n",
        "\n",
        "#now check the min max value of the scaled data\n",
        "train_data_norm.min(), train_data_norm.max()"
      ],
      "metadata": {
        "colab": {
          "base_uri": "https://localhost:8080/"
        },
        "id": "oC-m-jsXYNcN",
        "outputId": "05b022e1-adbb-4e33-e216-c4a1808fc54a"
      },
      "execution_count": 18,
      "outputs": [
        {
          "output_type": "execute_result",
          "data": {
            "text/plain": [
              "(0.0, 1.0)"
            ]
          },
          "metadata": {},
          "execution_count": 18
        }
      ]
    },
    {
      "cell_type": "code",
      "source": [
        "from keras.layers.attention.multi_head_attention import activation\n",
        "#new model that is normalized\n",
        "tf.random.set_seed(42)\n",
        "\n",
        "model_norm = tf.keras.Sequential([\n",
        "    #flatten the shape\n",
        "    tf.keras.layers.Flatten(input_shape =(28,28)),\n",
        "    tf.keras.layers.Dense(100, activation=\"relu\"),\n",
        "    tf.keras.layers.Dense(100, activation=\"relu\"),\n",
        "    tf.keras.layers.Dense(10, activation=\"softmax\"),\n",
        "\n",
        "])\n",
        "\n",
        "model_norm.compile(optimizer=tf.keras.optimizers.Adam(learning_rate=0.0001),\n",
        "                   loss = tf.keras.losses.SparseCategoricalCrossentropy(),\n",
        "                   metrics=[\"accuracy\"])\n",
        "\n",
        "norm_model_history = model_norm.fit(train_data_norm, train_labels, epochs=100 , validation_data=(test_data_norm, test_labels))\n"
      ],
      "metadata": {
        "colab": {
          "base_uri": "https://localhost:8080/"
        },
        "id": "Wyny0K_8afNj",
        "outputId": "c9016e04-43f3-4b09-eda1-17b8e91e8ebc"
      },
      "execution_count": 19,
      "outputs": [
        {
          "output_type": "stream",
          "name": "stdout",
          "text": [
            "Epoch 1/100\n",
            "1875/1875 [==============================] - 7s 3ms/step - loss: 0.6940 - accuracy: 0.7703 - val_loss: 0.5022 - val_accuracy: 0.8286\n",
            "Epoch 2/100\n",
            "1875/1875 [==============================] - 7s 4ms/step - loss: 0.4492 - accuracy: 0.8447 - val_loss: 0.4664 - val_accuracy: 0.8344\n",
            "Epoch 3/100\n",
            "1875/1875 [==============================] - 6s 3ms/step - loss: 0.4081 - accuracy: 0.8574 - val_loss: 0.4328 - val_accuracy: 0.8459\n",
            "Epoch 4/100\n",
            "1875/1875 [==============================] - 7s 4ms/step - loss: 0.3829 - accuracy: 0.8645 - val_loss: 0.4103 - val_accuracy: 0.8568\n",
            "Epoch 5/100\n",
            "1875/1875 [==============================] - 6s 3ms/step - loss: 0.3675 - accuracy: 0.8694 - val_loss: 0.4047 - val_accuracy: 0.8550\n",
            "Epoch 6/100\n",
            "1875/1875 [==============================] - 7s 4ms/step - loss: 0.3530 - accuracy: 0.8745 - val_loss: 0.4071 - val_accuracy: 0.8545\n",
            "Epoch 7/100\n",
            "1875/1875 [==============================] - 6s 3ms/step - loss: 0.3421 - accuracy: 0.8777 - val_loss: 0.4038 - val_accuracy: 0.8555\n",
            "Epoch 8/100\n",
            "1875/1875 [==============================] - 7s 4ms/step - loss: 0.3314 - accuracy: 0.8824 - val_loss: 0.3764 - val_accuracy: 0.8667\n",
            "Epoch 9/100\n",
            "1875/1875 [==============================] - 6s 3ms/step - loss: 0.3233 - accuracy: 0.8838 - val_loss: 0.3692 - val_accuracy: 0.8703\n",
            "Epoch 10/100\n",
            "1875/1875 [==============================] - 7s 4ms/step - loss: 0.3158 - accuracy: 0.8859 - val_loss: 0.3666 - val_accuracy: 0.8688\n",
            "Epoch 11/100\n",
            "1875/1875 [==============================] - 6s 3ms/step - loss: 0.3086 - accuracy: 0.8890 - val_loss: 0.3587 - val_accuracy: 0.8728\n",
            "Epoch 12/100\n",
            "1875/1875 [==============================] - 7s 4ms/step - loss: 0.3001 - accuracy: 0.8921 - val_loss: 0.3628 - val_accuracy: 0.8705\n",
            "Epoch 13/100\n",
            "1875/1875 [==============================] - 6s 3ms/step - loss: 0.2950 - accuracy: 0.8939 - val_loss: 0.3504 - val_accuracy: 0.8764\n",
            "Epoch 14/100\n",
            "1875/1875 [==============================] - 6s 3ms/step - loss: 0.2890 - accuracy: 0.8960 - val_loss: 0.3494 - val_accuracy: 0.8742\n",
            "Epoch 15/100\n",
            "1875/1875 [==============================] - 6s 3ms/step - loss: 0.2831 - accuracy: 0.8985 - val_loss: 0.3531 - val_accuracy: 0.8713\n",
            "Epoch 16/100\n",
            "1875/1875 [==============================] - 6s 3ms/step - loss: 0.2782 - accuracy: 0.8995 - val_loss: 0.3459 - val_accuracy: 0.8772\n",
            "Epoch 17/100\n",
            "1875/1875 [==============================] - 6s 3ms/step - loss: 0.2727 - accuracy: 0.9005 - val_loss: 0.3431 - val_accuracy: 0.8780\n",
            "Epoch 18/100\n",
            "1875/1875 [==============================] - 6s 3ms/step - loss: 0.2690 - accuracy: 0.9025 - val_loss: 0.3380 - val_accuracy: 0.8805\n",
            "Epoch 19/100\n",
            "1875/1875 [==============================] - 6s 3ms/step - loss: 0.2641 - accuracy: 0.9047 - val_loss: 0.3436 - val_accuracy: 0.8749\n",
            "Epoch 20/100\n",
            "1875/1875 [==============================] - 6s 3ms/step - loss: 0.2604 - accuracy: 0.9058 - val_loss: 0.3386 - val_accuracy: 0.8801\n",
            "Epoch 21/100\n",
            "1875/1875 [==============================] - 7s 4ms/step - loss: 0.2552 - accuracy: 0.9075 - val_loss: 0.3367 - val_accuracy: 0.8815\n",
            "Epoch 22/100\n",
            "1875/1875 [==============================] - 6s 3ms/step - loss: 0.2505 - accuracy: 0.9084 - val_loss: 0.3376 - val_accuracy: 0.8793\n",
            "Epoch 23/100\n",
            "1875/1875 [==============================] - 7s 4ms/step - loss: 0.2478 - accuracy: 0.9094 - val_loss: 0.3364 - val_accuracy: 0.8799\n",
            "Epoch 24/100\n",
            "1875/1875 [==============================] - 6s 3ms/step - loss: 0.2453 - accuracy: 0.9108 - val_loss: 0.3415 - val_accuracy: 0.8800\n",
            "Epoch 25/100\n",
            "1875/1875 [==============================] - 7s 4ms/step - loss: 0.2408 - accuracy: 0.9123 - val_loss: 0.3429 - val_accuracy: 0.8802\n",
            "Epoch 26/100\n",
            "1875/1875 [==============================] - 6s 3ms/step - loss: 0.2380 - accuracy: 0.9140 - val_loss: 0.3291 - val_accuracy: 0.8850\n",
            "Epoch 27/100\n",
            "1875/1875 [==============================] - 7s 4ms/step - loss: 0.2351 - accuracy: 0.9137 - val_loss: 0.3402 - val_accuracy: 0.8800\n",
            "Epoch 28/100\n",
            "1875/1875 [==============================] - 6s 3ms/step - loss: 0.2308 - accuracy: 0.9161 - val_loss: 0.3340 - val_accuracy: 0.8830\n",
            "Epoch 29/100\n",
            "1875/1875 [==============================] - 7s 4ms/step - loss: 0.2276 - accuracy: 0.9175 - val_loss: 0.3385 - val_accuracy: 0.8824\n",
            "Epoch 30/100\n",
            "1875/1875 [==============================] - 6s 3ms/step - loss: 0.2245 - accuracy: 0.9187 - val_loss: 0.3397 - val_accuracy: 0.8795\n",
            "Epoch 31/100\n",
            "1875/1875 [==============================] - 7s 4ms/step - loss: 0.2219 - accuracy: 0.9190 - val_loss: 0.3354 - val_accuracy: 0.8818\n",
            "Epoch 32/100\n",
            "1875/1875 [==============================] - 6s 3ms/step - loss: 0.2197 - accuracy: 0.9194 - val_loss: 0.3308 - val_accuracy: 0.8852\n",
            "Epoch 33/100\n",
            "1875/1875 [==============================] - 7s 4ms/step - loss: 0.2161 - accuracy: 0.9214 - val_loss: 0.3332 - val_accuracy: 0.8848\n",
            "Epoch 34/100\n",
            "1875/1875 [==============================] - 6s 3ms/step - loss: 0.2136 - accuracy: 0.9224 - val_loss: 0.3358 - val_accuracy: 0.8803\n",
            "Epoch 35/100\n",
            "1875/1875 [==============================] - 7s 4ms/step - loss: 0.2106 - accuracy: 0.9237 - val_loss: 0.3305 - val_accuracy: 0.8854\n",
            "Epoch 36/100\n",
            "1875/1875 [==============================] - 6s 3ms/step - loss: 0.2079 - accuracy: 0.9241 - val_loss: 0.3322 - val_accuracy: 0.8860\n",
            "Epoch 37/100\n",
            "1875/1875 [==============================] - 7s 4ms/step - loss: 0.2049 - accuracy: 0.9255 - val_loss: 0.3297 - val_accuracy: 0.8872\n",
            "Epoch 38/100\n",
            "1875/1875 [==============================] - 6s 3ms/step - loss: 0.2031 - accuracy: 0.9263 - val_loss: 0.3362 - val_accuracy: 0.8825\n",
            "Epoch 39/100\n",
            "1875/1875 [==============================] - 7s 4ms/step - loss: 0.2005 - accuracy: 0.9270 - val_loss: 0.3353 - val_accuracy: 0.8841\n",
            "Epoch 40/100\n",
            "1875/1875 [==============================] - 6s 3ms/step - loss: 0.1971 - accuracy: 0.9287 - val_loss: 0.3337 - val_accuracy: 0.8866\n",
            "Epoch 41/100\n",
            "1875/1875 [==============================] - 7s 4ms/step - loss: 0.1948 - accuracy: 0.9287 - val_loss: 0.3374 - val_accuracy: 0.8824\n",
            "Epoch 42/100\n",
            "1875/1875 [==============================] - 6s 3ms/step - loss: 0.1933 - accuracy: 0.9301 - val_loss: 0.3446 - val_accuracy: 0.8822\n",
            "Epoch 43/100\n",
            "1875/1875 [==============================] - 7s 4ms/step - loss: 0.1908 - accuracy: 0.9298 - val_loss: 0.3328 - val_accuracy: 0.8869\n",
            "Epoch 44/100\n",
            "1875/1875 [==============================] - 6s 3ms/step - loss: 0.1883 - accuracy: 0.9308 - val_loss: 0.3349 - val_accuracy: 0.8869\n",
            "Epoch 45/100\n",
            "1875/1875 [==============================] - 7s 4ms/step - loss: 0.1867 - accuracy: 0.9317 - val_loss: 0.3307 - val_accuracy: 0.8891\n",
            "Epoch 46/100\n",
            "1875/1875 [==============================] - 6s 3ms/step - loss: 0.1829 - accuracy: 0.9333 - val_loss: 0.3313 - val_accuracy: 0.8875\n",
            "Epoch 47/100\n",
            "1875/1875 [==============================] - 7s 4ms/step - loss: 0.1811 - accuracy: 0.9341 - val_loss: 0.3459 - val_accuracy: 0.8848\n",
            "Epoch 48/100\n",
            "1875/1875 [==============================] - 6s 3ms/step - loss: 0.1796 - accuracy: 0.9347 - val_loss: 0.3436 - val_accuracy: 0.8832\n",
            "Epoch 49/100\n",
            "1875/1875 [==============================] - 7s 4ms/step - loss: 0.1776 - accuracy: 0.9350 - val_loss: 0.3384 - val_accuracy: 0.8861\n",
            "Epoch 50/100\n",
            "1875/1875 [==============================] - 6s 3ms/step - loss: 0.1760 - accuracy: 0.9359 - val_loss: 0.3405 - val_accuracy: 0.8860\n",
            "Epoch 51/100\n",
            "1875/1875 [==============================] - 7s 3ms/step - loss: 0.1736 - accuracy: 0.9358 - val_loss: 0.3449 - val_accuracy: 0.8841\n",
            "Epoch 52/100\n",
            "1875/1875 [==============================] - 6s 3ms/step - loss: 0.1718 - accuracy: 0.9374 - val_loss: 0.3465 - val_accuracy: 0.8835\n",
            "Epoch 53/100\n",
            "1875/1875 [==============================] - 6s 3ms/step - loss: 0.1696 - accuracy: 0.9385 - val_loss: 0.3433 - val_accuracy: 0.8846\n",
            "Epoch 54/100\n",
            "1875/1875 [==============================] - 6s 3ms/step - loss: 0.1682 - accuracy: 0.9390 - val_loss: 0.3466 - val_accuracy: 0.8853\n",
            "Epoch 55/100\n",
            "1875/1875 [==============================] - 6s 3ms/step - loss: 0.1661 - accuracy: 0.9392 - val_loss: 0.3426 - val_accuracy: 0.8888\n",
            "Epoch 56/100\n",
            "1875/1875 [==============================] - 7s 3ms/step - loss: 0.1634 - accuracy: 0.9406 - val_loss: 0.3437 - val_accuracy: 0.8857\n",
            "Epoch 57/100\n",
            "1875/1875 [==============================] - 6s 3ms/step - loss: 0.1608 - accuracy: 0.9426 - val_loss: 0.3496 - val_accuracy: 0.8848\n",
            "Epoch 58/100\n",
            "1875/1875 [==============================] - 7s 4ms/step - loss: 0.1599 - accuracy: 0.9422 - val_loss: 0.3418 - val_accuracy: 0.8874\n",
            "Epoch 59/100\n",
            "1875/1875 [==============================] - 6s 3ms/step - loss: 0.1582 - accuracy: 0.9435 - val_loss: 0.3476 - val_accuracy: 0.8876\n",
            "Epoch 60/100\n",
            "1875/1875 [==============================] - 7s 4ms/step - loss: 0.1565 - accuracy: 0.9435 - val_loss: 0.3692 - val_accuracy: 0.8787\n",
            "Epoch 61/100\n",
            "1875/1875 [==============================] - 6s 3ms/step - loss: 0.1543 - accuracy: 0.9438 - val_loss: 0.3579 - val_accuracy: 0.8843\n",
            "Epoch 62/100\n",
            "1875/1875 [==============================] - 7s 4ms/step - loss: 0.1523 - accuracy: 0.9449 - val_loss: 0.3629 - val_accuracy: 0.8840\n",
            "Epoch 63/100\n",
            "1875/1875 [==============================] - 6s 3ms/step - loss: 0.1505 - accuracy: 0.9456 - val_loss: 0.3492 - val_accuracy: 0.8859\n",
            "Epoch 64/100\n",
            "1875/1875 [==============================] - 7s 4ms/step - loss: 0.1492 - accuracy: 0.9455 - val_loss: 0.3619 - val_accuracy: 0.8815\n",
            "Epoch 65/100\n",
            "1875/1875 [==============================] - 6s 3ms/step - loss: 0.1473 - accuracy: 0.9469 - val_loss: 0.3490 - val_accuracy: 0.8869\n",
            "Epoch 66/100\n",
            "1875/1875 [==============================] - 7s 4ms/step - loss: 0.1453 - accuracy: 0.9472 - val_loss: 0.3558 - val_accuracy: 0.8898\n",
            "Epoch 67/100\n",
            "1875/1875 [==============================] - 6s 3ms/step - loss: 0.1429 - accuracy: 0.9479 - val_loss: 0.3573 - val_accuracy: 0.8905\n",
            "Epoch 68/100\n",
            "1875/1875 [==============================] - 7s 4ms/step - loss: 0.1429 - accuracy: 0.9482 - val_loss: 0.3581 - val_accuracy: 0.8907\n",
            "Epoch 69/100\n",
            "1875/1875 [==============================] - 6s 3ms/step - loss: 0.1402 - accuracy: 0.9503 - val_loss: 0.3809 - val_accuracy: 0.8810\n",
            "Epoch 70/100\n",
            "1875/1875 [==============================] - 7s 4ms/step - loss: 0.1400 - accuracy: 0.9500 - val_loss: 0.3573 - val_accuracy: 0.8903\n",
            "Epoch 71/100\n",
            "1875/1875 [==============================] - 6s 3ms/step - loss: 0.1370 - accuracy: 0.9515 - val_loss: 0.3557 - val_accuracy: 0.8891\n",
            "Epoch 72/100\n",
            "1875/1875 [==============================] - 7s 4ms/step - loss: 0.1363 - accuracy: 0.9515 - val_loss: 0.3696 - val_accuracy: 0.8851\n",
            "Epoch 73/100\n",
            "1875/1875 [==============================] - 6s 3ms/step - loss: 0.1350 - accuracy: 0.9513 - val_loss: 0.3637 - val_accuracy: 0.8890\n",
            "Epoch 74/100\n",
            "1875/1875 [==============================] - 7s 4ms/step - loss: 0.1325 - accuracy: 0.9528 - val_loss: 0.3697 - val_accuracy: 0.8859\n",
            "Epoch 75/100\n",
            "1875/1875 [==============================] - 6s 3ms/step - loss: 0.1297 - accuracy: 0.9540 - val_loss: 0.3767 - val_accuracy: 0.8862\n",
            "Epoch 76/100\n",
            "1875/1875 [==============================] - 7s 4ms/step - loss: 0.1295 - accuracy: 0.9542 - val_loss: 0.3743 - val_accuracy: 0.8864\n",
            "Epoch 77/100\n",
            "1875/1875 [==============================] - 6s 3ms/step - loss: 0.1292 - accuracy: 0.9535 - val_loss: 0.3684 - val_accuracy: 0.8865\n",
            "Epoch 78/100\n",
            "1875/1875 [==============================] - 7s 4ms/step - loss: 0.1262 - accuracy: 0.9547 - val_loss: 0.3762 - val_accuracy: 0.8869\n",
            "Epoch 79/100\n",
            "1875/1875 [==============================] - 6s 3ms/step - loss: 0.1243 - accuracy: 0.9550 - val_loss: 0.3762 - val_accuracy: 0.8866\n",
            "Epoch 80/100\n",
            "1875/1875 [==============================] - 7s 4ms/step - loss: 0.1234 - accuracy: 0.9560 - val_loss: 0.3945 - val_accuracy: 0.8857\n",
            "Epoch 81/100\n",
            "1875/1875 [==============================] - 6s 3ms/step - loss: 0.1228 - accuracy: 0.9560 - val_loss: 0.3799 - val_accuracy: 0.8876\n",
            "Epoch 82/100\n",
            "1875/1875 [==============================] - 7s 4ms/step - loss: 0.1205 - accuracy: 0.9569 - val_loss: 0.3794 - val_accuracy: 0.8872\n",
            "Epoch 83/100\n",
            "1875/1875 [==============================] - 6s 3ms/step - loss: 0.1191 - accuracy: 0.9572 - val_loss: 0.3886 - val_accuracy: 0.8851\n",
            "Epoch 84/100\n",
            "1875/1875 [==============================] - 7s 4ms/step - loss: 0.1177 - accuracy: 0.9579 - val_loss: 0.3854 - val_accuracy: 0.8856\n",
            "Epoch 85/100\n",
            "1875/1875 [==============================] - 6s 3ms/step - loss: 0.1169 - accuracy: 0.9585 - val_loss: 0.3806 - val_accuracy: 0.8864\n",
            "Epoch 86/100\n",
            "1875/1875 [==============================] - 7s 4ms/step - loss: 0.1164 - accuracy: 0.9593 - val_loss: 0.3907 - val_accuracy: 0.8885\n",
            "Epoch 87/100\n",
            "1875/1875 [==============================] - 6s 3ms/step - loss: 0.1136 - accuracy: 0.9603 - val_loss: 0.3937 - val_accuracy: 0.8864\n",
            "Epoch 88/100\n",
            "1875/1875 [==============================] - 7s 4ms/step - loss: 0.1127 - accuracy: 0.9602 - val_loss: 0.3862 - val_accuracy: 0.8878\n",
            "Epoch 89/100\n",
            "1875/1875 [==============================] - 6s 3ms/step - loss: 0.1113 - accuracy: 0.9610 - val_loss: 0.4264 - val_accuracy: 0.8825\n",
            "Epoch 90/100\n",
            "1875/1875 [==============================] - 7s 4ms/step - loss: 0.1105 - accuracy: 0.9607 - val_loss: 0.3983 - val_accuracy: 0.8830\n",
            "Epoch 91/100\n",
            "1875/1875 [==============================] - 6s 3ms/step - loss: 0.1087 - accuracy: 0.9615 - val_loss: 0.4033 - val_accuracy: 0.8828\n",
            "Epoch 92/100\n",
            "1875/1875 [==============================] - 7s 4ms/step - loss: 0.1077 - accuracy: 0.9617 - val_loss: 0.3911 - val_accuracy: 0.8900\n",
            "Epoch 93/100\n",
            "1875/1875 [==============================] - 6s 3ms/step - loss: 0.1053 - accuracy: 0.9635 - val_loss: 0.3913 - val_accuracy: 0.8890\n",
            "Epoch 94/100\n",
            "1875/1875 [==============================] - 7s 4ms/step - loss: 0.1050 - accuracy: 0.9634 - val_loss: 0.4000 - val_accuracy: 0.8893\n",
            "Epoch 95/100\n",
            "1875/1875 [==============================] - 6s 3ms/step - loss: 0.1046 - accuracy: 0.9635 - val_loss: 0.4025 - val_accuracy: 0.8872\n",
            "Epoch 96/100\n",
            "1875/1875 [==============================] - 7s 4ms/step - loss: 0.1023 - accuracy: 0.9647 - val_loss: 0.4024 - val_accuracy: 0.8892\n",
            "Epoch 97/100\n",
            "1875/1875 [==============================] - 6s 3ms/step - loss: 0.0998 - accuracy: 0.9655 - val_loss: 0.4015 - val_accuracy: 0.8889\n",
            "Epoch 98/100\n",
            "1875/1875 [==============================] - 7s 4ms/step - loss: 0.1010 - accuracy: 0.9635 - val_loss: 0.4068 - val_accuracy: 0.8899\n",
            "Epoch 99/100\n",
            "1875/1875 [==============================] - 6s 3ms/step - loss: 0.0986 - accuracy: 0.9661 - val_loss: 0.4268 - val_accuracy: 0.8840\n",
            "Epoch 100/100\n",
            "1875/1875 [==============================] - 7s 4ms/step - loss: 0.0968 - accuracy: 0.9667 - val_loss: 0.4184 - val_accuracy: 0.8865\n"
          ]
        }
      ]
    },
    {
      "cell_type": "code",
      "source": [
        "model_norm.evaluate(test_data, test_labels)\n",
        "# by scaling the dataset to 0 to 1 we have a better accuracy on the model"
      ],
      "metadata": {
        "colab": {
          "base_uri": "https://localhost:8080/"
        },
        "id": "b8YWPktfclug",
        "outputId": "9d33037f-7177-4a3a-cb47-80f082c530c7"
      },
      "execution_count": 20,
      "outputs": [
        {
          "output_type": "stream",
          "name": "stdout",
          "text": [
            "313/313 [==============================] - 1s 2ms/step - loss: 96.3664 - accuracy: 0.8552\n"
          ]
        },
        {
          "output_type": "execute_result",
          "data": {
            "text/plain": [
              "[96.36644744873047, 0.8551999926567078]"
            ]
          },
          "metadata": {},
          "execution_count": 20
        }
      ]
    },
    {
      "cell_type": "code",
      "source": [
        "import pandas as pd\n",
        "#plot non_normalized model\n",
        "pd.DataFrame(non_norm_history.history).plot(title=\"non normalized\")\n",
        "pd.DataFrame(norm_model_history.history).plot(title=\"normalized\")"
      ],
      "metadata": {
        "colab": {
          "base_uri": "https://localhost:8080/",
          "height": 904
        },
        "id": "8H_04Z-GY4xk",
        "outputId": "552701b2-9777-477e-e3ef-99fed3685e9d"
      },
      "execution_count": 22,
      "outputs": [
        {
          "output_type": "execute_result",
          "data": {
            "text/plain": [
              "<Axes: title={'center': 'normalized'}>"
            ]
          },
          "metadata": {},
          "execution_count": 22
        },
        {
          "output_type": "display_data",
          "data": {
            "text/plain": [
              "<Figure size 640x480 with 1 Axes>"
            ],
            "image/png": "[encoded data removed]"
          },
          "metadata": {}
        },
        {
          "output_type": "display_data",
          "data": {
            "text/plain": [
              "<Figure size 640x480 with 1 Axes>"
            ],
            "image/png": "[encoded data removed]"
          },
          "metadata": {}
        }
      ]
    },
    {
      "cell_type": "code",
      "source": [
        "model_norm.save(\"normalize_fashion.h5\")"
      ],
      "metadata": {
        "id": "5JIsA1M4ZXY5"
      },
      "execution_count": 23,
      "outputs": []
    },
    {
      "cell_type": "code",
      "source": [
        "model_class.save(\"non-normalized_fashion.h5\")"
      ],
      "metadata": {
        "id": "ESuRPwntHJUr"
      },
      "execution_count": 24,
      "outputs": []
    },
    {
      "cell_type": "code",
      "source": [
        "tf.random.set_seed(42)\n",
        "\n",
        "model_norm_2 = tf.keras.Sequential([\n",
        "    #flatten the shape\n",
        "    tf.keras.layers.Flatten(input_shape =(28,28)),\n",
        "    tf.keras.layers.Dense(100, activation=\"relu\"),\n",
        "    tf.keras.layers.Dense(100, activation=\"relu\"),\n",
        "    tf.keras.layers.Dense(10, activation=\"softmax\"),\n",
        "\n",
        "])\n",
        "\n",
        "model_norm_2.compile(optimizer=tf.keras.optimizers.Adam(0.001),\n",
        "                   loss = tf.keras.losses.SparseCategoricalCrossentropy(),\n",
        "                   metrics=[\"accuracy\"])\n",
        "\n",
        "#but here we are creating the learning rate\n",
        "lr_scheduler = tf.keras.callbacks.LearningRateScheduler(lambda epoch: 1e-3 * 10**(epoch/20))\n",
        "#basically its just every epoch start at the value \"1e-3\"\n",
        "#and slowly increase the learning rate every epoch 10^(epoch/20)\n",
        "\n",
        "norm_model_2_history = model_norm_2.fit(train_data_norm, train_labels, epochs=100 , validation_data=(test_data_norm, test_labels),\n",
        "                                        callbacks = [lr_scheduler])\n"
      ],
      "metadata": {
        "colab": {
          "base_uri": "https://localhost:8080/"
        },
        "id": "6sYIXfeYHX_g",
        "outputId": "e5216882-d649-41aa-de94-8770d7c93edf"
      },
      "execution_count": 32,
      "outputs": [
        {
          "output_type": "stream",
          "name": "stdout",
          "text": [
            "Epoch 1/100\n",
            "1875/1875 [==============================] - 8s 4ms/step - loss: 0.4868 - accuracy: 0.8260 - val_loss: 0.4111 - val_accuracy: 0.8497 - lr: 0.0010\n",
            "Epoch 2/100\n",
            "1875/1875 [==============================] - 6s 3ms/step - loss: 0.3654 - accuracy: 0.8666 - val_loss: 0.4444 - val_accuracy: 0.8433 - lr: 0.0011\n",
            "Epoch 3/100\n",
            "1875/1875 [==============================] - 7s 4ms/step - loss: 0.3379 - accuracy: 0.8744 - val_loss: 0.3801 - val_accuracy: 0.8634 - lr: 0.0013\n",
            "Epoch 4/100\n",
            "1875/1875 [==============================] - 6s 3ms/step - loss: 0.3219 - accuracy: 0.8819 - val_loss: 0.3742 - val_accuracy: 0.8648 - lr: 0.0014\n",
            "Epoch 5/100\n",
            "1875/1875 [==============================] - 7s 4ms/step - loss: 0.3092 - accuracy: 0.8845 - val_loss: 0.3670 - val_accuracy: 0.8663 - lr: 0.0016\n",
            "Epoch 6/100\n",
            "1875/1875 [==============================] - 6s 3ms/step - loss: 0.3005 - accuracy: 0.8892 - val_loss: 0.3819 - val_accuracy: 0.8582 - lr: 0.0018\n",
            "Epoch 7/100\n",
            "1875/1875 [==============================] - 7s 4ms/step - loss: 0.2955 - accuracy: 0.8897 - val_loss: 0.3791 - val_accuracy: 0.8680 - lr: 0.0020\n",
            "Epoch 8/100\n",
            "1875/1875 [==============================] - 6s 3ms/step - loss: 0.2971 - accuracy: 0.8896 - val_loss: 0.3820 - val_accuracy: 0.8608 - lr: 0.0022\n",
            "Epoch 9/100\n",
            "1875/1875 [==============================] - 7s 4ms/step - loss: 0.2943 - accuracy: 0.8913 - val_loss: 0.3759 - val_accuracy: 0.8713 - lr: 0.0025\n",
            "Epoch 10/100\n",
            "1875/1875 [==============================] - 6s 3ms/step - loss: 0.2943 - accuracy: 0.8914 - val_loss: 0.3760 - val_accuracy: 0.8658 - lr: 0.0028\n",
            "Epoch 11/100\n",
            "1875/1875 [==============================] - 7s 4ms/step - loss: 0.2924 - accuracy: 0.8928 - val_loss: 0.4116 - val_accuracy: 0.8616 - lr: 0.0032\n",
            "Epoch 12/100\n",
            "1875/1875 [==============================] - 6s 3ms/step - loss: 0.3012 - accuracy: 0.8899 - val_loss: 0.4142 - val_accuracy: 0.8668 - lr: 0.0035\n",
            "Epoch 13/100\n",
            "1875/1875 [==============================] - 7s 4ms/step - loss: 0.3062 - accuracy: 0.8877 - val_loss: 0.4276 - val_accuracy: 0.8561 - lr: 0.0040\n",
            "Epoch 14/100\n",
            "1875/1875 [==============================] - 6s 3ms/step - loss: 0.3090 - accuracy: 0.8876 - val_loss: 0.3847 - val_accuracy: 0.8672 - lr: 0.0045\n",
            "Epoch 15/100\n",
            "1875/1875 [==============================] - 7s 4ms/step - loss: 0.3217 - accuracy: 0.8842 - val_loss: 0.3697 - val_accuracy: 0.8701 - lr: 0.0050\n",
            "Epoch 16/100\n",
            "1875/1875 [==============================] - 6s 3ms/step - loss: 0.3271 - accuracy: 0.8826 - val_loss: 0.3989 - val_accuracy: 0.8618 - lr: 0.0056\n",
            "Epoch 17/100\n",
            "1875/1875 [==============================] - 7s 4ms/step - loss: 0.3288 - accuracy: 0.8805 - val_loss: 0.3821 - val_accuracy: 0.8721 - lr: 0.0063\n",
            "Epoch 18/100\n",
            "1875/1875 [==============================] - 6s 3ms/step - loss: 0.3422 - accuracy: 0.8792 - val_loss: 0.4261 - val_accuracy: 0.8597 - lr: 0.0071\n",
            "Epoch 19/100\n",
            "1875/1875 [==============================] - 7s 4ms/step - loss: 0.3474 - accuracy: 0.8775 - val_loss: 0.4388 - val_accuracy: 0.8563 - lr: 0.0079\n",
            "Epoch 20/100\n",
            "1875/1875 [==============================] - 6s 3ms/step - loss: 0.3593 - accuracy: 0.8756 - val_loss: 0.4385 - val_accuracy: 0.8629 - lr: 0.0089\n",
            "Epoch 21/100\n",
            "1875/1875 [==============================] - 7s 4ms/step - loss: 0.3750 - accuracy: 0.8723 - val_loss: 0.4777 - val_accuracy: 0.8402 - lr: 0.0100\n",
            "Epoch 22/100\n",
            "1875/1875 [==============================] - 6s 3ms/step - loss: 0.3956 - accuracy: 0.8674 - val_loss: 0.4858 - val_accuracy: 0.8330 - lr: 0.0112\n",
            "Epoch 23/100\n",
            "1875/1875 [==============================] - 7s 4ms/step - loss: 0.4066 - accuracy: 0.8643 - val_loss: 0.4810 - val_accuracy: 0.8388 - lr: 0.0126\n",
            "Epoch 24/100\n",
            "1875/1875 [==============================] - 6s 3ms/step - loss: 0.4468 - accuracy: 0.8507 - val_loss: 0.4644 - val_accuracy: 0.8494 - lr: 0.0141\n",
            "Epoch 25/100\n",
            "1875/1875 [==============================] - 7s 4ms/step - loss: 0.4521 - accuracy: 0.8519 - val_loss: 0.5508 - val_accuracy: 0.8300 - lr: 0.0158\n",
            "Epoch 26/100\n",
            "1875/1875 [==============================] - 6s 3ms/step - loss: 0.5085 - accuracy: 0.8333 - val_loss: 0.6913 - val_accuracy: 0.7869 - lr: 0.0178\n",
            "Epoch 27/100\n",
            "1875/1875 [==============================] - 7s 4ms/step - loss: 0.5755 - accuracy: 0.8077 - val_loss: 0.7097 - val_accuracy: 0.7884 - lr: 0.0200\n",
            "Epoch 28/100\n",
            "1875/1875 [==============================] - 6s 3ms/step - loss: 0.5499 - accuracy: 0.8241 - val_loss: 0.5796 - val_accuracy: 0.8112 - lr: 0.0224\n",
            "Epoch 29/100\n",
            "1875/1875 [==============================] - 7s 4ms/step - loss: 0.6470 - accuracy: 0.8015 - val_loss: 0.7757 - val_accuracy: 0.7808 - lr: 0.0251\n",
            "Epoch 30/100\n",
            "1875/1875 [==============================] - 6s 3ms/step - loss: 0.7270 - accuracy: 0.7594 - val_loss: 0.6586 - val_accuracy: 0.7758 - lr: 0.0282\n",
            "Epoch 31/100\n",
            "1875/1875 [==============================] - 7s 4ms/step - loss: 0.7091 - accuracy: 0.7544 - val_loss: 0.8895 - val_accuracy: 0.7588 - lr: 0.0316\n",
            "Epoch 32/100\n",
            "1875/1875 [==============================] - 6s 3ms/step - loss: 1.0991 - accuracy: 0.5943 - val_loss: 0.9128 - val_accuracy: 0.6116 - lr: 0.0355\n",
            "Epoch 33/100\n",
            "1875/1875 [==============================] - 7s 4ms/step - loss: 1.1468 - accuracy: 0.5477 - val_loss: 1.0589 - val_accuracy: 0.5422 - lr: 0.0398\n",
            "Epoch 34/100\n",
            "1875/1875 [==============================] - 6s 3ms/step - loss: 1.2731 - accuracy: 0.4972 - val_loss: 1.2888 - val_accuracy: 0.4764 - lr: 0.0447\n",
            "Epoch 35/100\n",
            "1875/1875 [==============================] - 7s 4ms/step - loss: 1.2352 - accuracy: 0.4912 - val_loss: 1.2976 - val_accuracy: 0.4226 - lr: 0.0501\n",
            "Epoch 36/100\n",
            "1875/1875 [==============================] - 6s 3ms/step - loss: 1.2613 - accuracy: 0.4918 - val_loss: 1.1931 - val_accuracy: 0.4997 - lr: 0.0562\n",
            "Epoch 37/100\n",
            "1875/1875 [==============================] - 7s 4ms/step - loss: 1.4228 - accuracy: 0.4170 - val_loss: 1.4581 - val_accuracy: 0.4218 - lr: 0.0631\n",
            "Epoch 38/100\n",
            "1875/1875 [==============================] - 6s 3ms/step - loss: 1.4309 - accuracy: 0.4098 - val_loss: 1.3141 - val_accuracy: 0.4352 - lr: 0.0708\n",
            "Epoch 39/100\n",
            "1875/1875 [==============================] - 7s 4ms/step - loss: 1.7308 - accuracy: 0.3061 - val_loss: 1.8655 - val_accuracy: 0.1983 - lr: 0.0794\n",
            "Epoch 40/100\n",
            "1875/1875 [==============================] - 6s 3ms/step - loss: 1.8342 - accuracy: 0.1993 - val_loss: 1.8308 - val_accuracy: 0.1956 - lr: 0.0891\n",
            "Epoch 41/100\n",
            "1875/1875 [==============================] - 7s 4ms/step - loss: 1.8202 - accuracy: 0.1976 - val_loss: 1.8220 - val_accuracy: 0.2048 - lr: 0.1000\n",
            "Epoch 42/100\n",
            "1875/1875 [==============================] - 6s 3ms/step - loss: 1.9897 - accuracy: 0.1909 - val_loss: 2.0969 - val_accuracy: 0.1786 - lr: 0.1122\n",
            "Epoch 43/100\n",
            "1875/1875 [==============================] - 7s 4ms/step - loss: 2.2965 - accuracy: 0.1085 - val_loss: 2.3211 - val_accuracy: 0.1000 - lr: 0.1259\n",
            "Epoch 44/100\n",
            "1875/1875 [==============================] - 6s 3ms/step - loss: 2.3214 - accuracy: 0.1002 - val_loss: 2.3136 - val_accuracy: 0.1000 - lr: 0.1413\n",
            "Epoch 45/100\n",
            "1875/1875 [==============================] - 7s 4ms/step - loss: 2.3226 - accuracy: 0.0995 - val_loss: 2.3277 - val_accuracy: 0.1000 - lr: 0.1585\n",
            "Epoch 46/100\n",
            "1875/1875 [==============================] - 6s 3ms/step - loss: 2.3257 - accuracy: 0.0995 - val_loss: 2.3150 - val_accuracy: 0.1000 - lr: 0.1778\n",
            "Epoch 47/100\n",
            "1875/1875 [==============================] - 7s 4ms/step - loss: 2.3279 - accuracy: 0.0977 - val_loss: 2.3396 - val_accuracy: 0.1000 - lr: 0.1995\n",
            "Epoch 48/100\n",
            "1875/1875 [==============================] - 6s 3ms/step - loss: 2.3319 - accuracy: 0.0987 - val_loss: 2.3244 - val_accuracy: 0.1000 - lr: 0.2239\n",
            "Epoch 49/100\n",
            "1875/1875 [==============================] - 7s 4ms/step - loss: 2.3331 - accuracy: 0.1015 - val_loss: 2.3613 - val_accuracy: 0.1000 - lr: 0.2512\n",
            "Epoch 50/100\n",
            "1875/1875 [==============================] - 6s 3ms/step - loss: 2.3386 - accuracy: 0.0979 - val_loss: 2.3260 - val_accuracy: 0.1000 - lr: 0.2818\n",
            "Epoch 51/100\n",
            "1875/1875 [==============================] - 7s 4ms/step - loss: 2.3414 - accuracy: 0.0995 - val_loss: 2.3504 - val_accuracy: 0.1000 - lr: 0.3162\n",
            "Epoch 52/100\n",
            "1875/1875 [==============================] - 6s 3ms/step - loss: 2.3454 - accuracy: 0.0987 - val_loss: 2.3546 - val_accuracy: 0.1000 - lr: 0.3548\n",
            "Epoch 53/100\n",
            "1875/1875 [==============================] - 7s 4ms/step - loss: 2.3467 - accuracy: 0.1019 - val_loss: 2.3567 - val_accuracy: 0.1000 - lr: 0.3981\n",
            "Epoch 54/100\n",
            "1875/1875 [==============================] - 6s 3ms/step - loss: 2.3534 - accuracy: 0.1005 - val_loss: 2.3626 - val_accuracy: 0.1000 - lr: 0.4467\n",
            "Epoch 55/100\n",
            "1875/1875 [==============================] - 7s 4ms/step - loss: 2.3619 - accuracy: 0.0991 - val_loss: 2.3551 - val_accuracy: 0.1000 - lr: 0.5012\n",
            "Epoch 56/100\n",
            "1875/1875 [==============================] - 6s 3ms/step - loss: 2.3688 - accuracy: 0.0984 - val_loss: 2.3647 - val_accuracy: 0.1000 - lr: 0.5623\n",
            "Epoch 57/100\n",
            "1875/1875 [==============================] - 7s 4ms/step - loss: 2.3746 - accuracy: 0.0985 - val_loss: 2.3832 - val_accuracy: 0.1000 - lr: 0.6310\n",
            "Epoch 58/100\n",
            "1875/1875 [==============================] - 6s 3ms/step - loss: 2.3826 - accuracy: 0.1025 - val_loss: 2.4107 - val_accuracy: 0.1000 - lr: 0.7079\n",
            "Epoch 59/100\n",
            "1875/1875 [==============================] - 7s 4ms/step - loss: 2.3954 - accuracy: 0.0998 - val_loss: 2.3964 - val_accuracy: 0.1000 - lr: 0.7943\n",
            "Epoch 60/100\n",
            "1875/1875 [==============================] - 6s 3ms/step - loss: 2.3973 - accuracy: 0.1004 - val_loss: 2.3593 - val_accuracy: 0.1000 - lr: 0.8913\n",
            "Epoch 61/100\n",
            "1875/1875 [==============================] - 7s 4ms/step - loss: 2.4176 - accuracy: 0.1001 - val_loss: 2.3763 - val_accuracy: 0.1000 - lr: 1.0000\n",
            "Epoch 62/100\n",
            "1875/1875 [==============================] - 6s 3ms/step - loss: 2.4232 - accuracy: 0.0972 - val_loss: 2.3319 - val_accuracy: 0.1000 - lr: 1.1220\n",
            "Epoch 63/100\n",
            "1875/1875 [==============================] - 7s 4ms/step - loss: 2.4365 - accuracy: 0.1012 - val_loss: 2.3515 - val_accuracy: 0.1000 - lr: 1.2589\n",
            "Epoch 64/100\n",
            "1875/1875 [==============================] - 6s 3ms/step - loss: 2.4564 - accuracy: 0.0993 - val_loss: 2.4767 - val_accuracy: 0.1000 - lr: 1.4125\n",
            "Epoch 65/100\n",
            "1875/1875 [==============================] - 7s 4ms/step - loss: 2.4659 - accuracy: 0.1014 - val_loss: 2.4597 - val_accuracy: 0.1000 - lr: 1.5849\n",
            "Epoch 66/100\n",
            "1875/1875 [==============================] - 6s 3ms/step - loss: 2.4815 - accuracy: 0.1019 - val_loss: 2.4782 - val_accuracy: 0.1000 - lr: 1.7783\n",
            "Epoch 67/100\n",
            "1875/1875 [==============================] - 7s 4ms/step - loss: 2.4961 - accuracy: 0.1006 - val_loss: 2.4876 - val_accuracy: 0.1000 - lr: 1.9953\n",
            "Epoch 68/100\n",
            "1875/1875 [==============================] - 6s 3ms/step - loss: 2.5294 - accuracy: 0.1001 - val_loss: 2.5202 - val_accuracy: 0.1000 - lr: 2.2387\n",
            "Epoch 69/100\n",
            "1875/1875 [==============================] - 7s 4ms/step - loss: 2.5469 - accuracy: 0.0993 - val_loss: 2.6983 - val_accuracy: 0.1000 - lr: 2.5119\n",
            "Epoch 70/100\n",
            "1875/1875 [==============================] - 6s 3ms/step - loss: 2.5633 - accuracy: 0.0983 - val_loss: 2.5479 - val_accuracy: 0.1000 - lr: 2.8184\n",
            "Epoch 71/100\n",
            "1875/1875 [==============================] - 7s 4ms/step - loss: 2.6197 - accuracy: 0.1012 - val_loss: 2.7607 - val_accuracy: 0.1000 - lr: 3.1623\n",
            "Epoch 72/100\n",
            "1875/1875 [==============================] - 6s 3ms/step - loss: 2.6434 - accuracy: 0.0993 - val_loss: 2.6192 - val_accuracy: 0.1000 - lr: 3.5481\n",
            "Epoch 73/100\n",
            "1875/1875 [==============================] - 7s 4ms/step - loss: 2.6625 - accuracy: 0.1020 - val_loss: 2.5178 - val_accuracy: 0.1000 - lr: 3.9811\n",
            "Epoch 74/100\n",
            "1875/1875 [==============================] - 6s 3ms/step - loss: 2.7210 - accuracy: 0.0996 - val_loss: 2.9292 - val_accuracy: 0.1000 - lr: 4.4668\n",
            "Epoch 75/100\n",
            "1875/1875 [==============================] - 7s 4ms/step - loss: 2.7710 - accuracy: 0.1015 - val_loss: 2.8481 - val_accuracy: 0.1000 - lr: 5.0119\n",
            "Epoch 76/100\n",
            "1875/1875 [==============================] - 6s 3ms/step - loss: 2.7956 - accuracy: 0.1006 - val_loss: 3.0341 - val_accuracy: 0.1000 - lr: 5.6234\n",
            "Epoch 77/100\n",
            "1875/1875 [==============================] - 7s 4ms/step - loss: 2.8909 - accuracy: 0.1012 - val_loss: 2.6473 - val_accuracy: 0.1000 - lr: 6.3096\n",
            "Epoch 78/100\n",
            "1875/1875 [==============================] - 6s 3ms/step - loss: 2.9026 - accuracy: 0.0984 - val_loss: 3.2193 - val_accuracy: 0.1000 - lr: 7.0795\n",
            "Epoch 79/100\n",
            "1875/1875 [==============================] - 7s 4ms/step - loss: 3.0282 - accuracy: 0.0997 - val_loss: 3.4283 - val_accuracy: 0.1000 - lr: 7.9433\n",
            "Epoch 80/100\n",
            "1875/1875 [==============================] - 6s 3ms/step - loss: 3.1118 - accuracy: 0.0974 - val_loss: 2.9440 - val_accuracy: 0.1000 - lr: 8.9125\n",
            "Epoch 81/100\n",
            "1875/1875 [==============================] - 7s 4ms/step - loss: 3.3103 - accuracy: 0.1017 - val_loss: 3.1668 - val_accuracy: 0.1000 - lr: 10.0000\n",
            "Epoch 82/100\n",
            "1875/1875 [==============================] - 6s 3ms/step - loss: 3.4044 - accuracy: 0.1017 - val_loss: 3.4613 - val_accuracy: 0.1000 - lr: 11.2202\n",
            "Epoch 83/100\n",
            "1875/1875 [==============================] - 7s 4ms/step - loss: 3.7409 - accuracy: 0.1003 - val_loss: 3.6957 - val_accuracy: 0.1000 - lr: 12.5893\n",
            "Epoch 84/100\n",
            "1875/1875 [==============================] - 6s 3ms/step - loss: 4.1157 - accuracy: 0.0990 - val_loss: 5.0100 - val_accuracy: 0.1000 - lr: 14.1254\n",
            "Epoch 85/100\n",
            "1875/1875 [==============================] - 7s 4ms/step - loss: 4.5481 - accuracy: 0.1022 - val_loss: 5.1755 - val_accuracy: 0.1000 - lr: 15.8489\n",
            "Epoch 86/100\n",
            "1875/1875 [==============================] - 6s 3ms/step - loss: 5.5583 - accuracy: 0.0986 - val_loss: 3.8393 - val_accuracy: 0.1000 - lr: 17.7828\n",
            "Epoch 87/100\n",
            "1875/1875 [==============================] - 7s 4ms/step - loss: 6.3898 - accuracy: 0.1010 - val_loss: 5.8264 - val_accuracy: 0.1000 - lr: 19.9526\n",
            "Epoch 88/100\n",
            "1875/1875 [==============================] - 6s 3ms/step - loss: 7.2455 - accuracy: 0.1006 - val_loss: 4.1779 - val_accuracy: 0.1000 - lr: 22.3872\n",
            "Epoch 89/100\n",
            "1875/1875 [==============================] - 8s 4ms/step - loss: 8.6580 - accuracy: 0.0996 - val_loss: 10.3430 - val_accuracy: 0.1000 - lr: 25.1189\n",
            "Epoch 90/100\n",
            "1875/1875 [==============================] - 6s 3ms/step - loss: 10.6427 - accuracy: 0.1015 - val_loss: 14.8187 - val_accuracy: 0.1000 - lr: 28.1838\n",
            "Epoch 91/100\n",
            "1875/1875 [==============================] - 7s 4ms/step - loss: 12.3423 - accuracy: 0.0988 - val_loss: 7.4198 - val_accuracy: 0.1000 - lr: 31.6228\n",
            "Epoch 92/100\n",
            "1875/1875 [==============================] - 6s 3ms/step - loss: 14.0320 - accuracy: 0.1021 - val_loss: 14.9249 - val_accuracy: 0.1000 - lr: 35.4813\n",
            "Epoch 93/100\n",
            "1875/1875 [==============================] - 7s 4ms/step - loss: 17.4724 - accuracy: 0.1017 - val_loss: 24.8092 - val_accuracy: 0.1000 - lr: 39.8107\n",
            "Epoch 94/100\n",
            "1875/1875 [==============================] - 6s 3ms/step - loss: 20.2126 - accuracy: 0.1000 - val_loss: 11.3545 - val_accuracy: 0.1000 - lr: 44.6684\n",
            "Epoch 95/100\n",
            "1875/1875 [==============================] - 7s 4ms/step - loss: 23.5957 - accuracy: 0.1005 - val_loss: 23.9845 - val_accuracy: 0.1000 - lr: 50.1187\n",
            "Epoch 96/100\n",
            "1875/1875 [==============================] - 6s 3ms/step - loss: 27.9189 - accuracy: 0.0994 - val_loss: 43.0528 - val_accuracy: 0.1000 - lr: 56.2341\n",
            "Epoch 97/100\n",
            "1875/1875 [==============================] - 7s 4ms/step - loss: 31.8684 - accuracy: 0.1023 - val_loss: 30.1417 - val_accuracy: 0.1000 - lr: 63.0957\n",
            "Epoch 98/100\n",
            "1875/1875 [==============================] - 6s 3ms/step - loss: 37.1079 - accuracy: 0.1001 - val_loss: 41.3223 - val_accuracy: 0.1000 - lr: 70.7946\n",
            "Epoch 99/100\n",
            "1875/1875 [==============================] - 7s 3ms/step - loss: 41.5984 - accuracy: 0.1017 - val_loss: 43.9529 - val_accuracy: 0.1000 - lr: 79.4328\n",
            "Epoch 100/100\n",
            "1875/1875 [==============================] - 6s 3ms/step - loss: 48.5752 - accuracy: 0.0996 - val_loss: 42.1742 - val_accuracy: 0.1000 - lr: 89.1251\n"
          ]
        }
      ]
    },
    {
      "cell_type": "code",
      "source": [
        "pd.DataFrame(norm_model_2_history.history).plot(title=\"normalized_learning_Rate\")"
      ],
      "metadata": {
        "colab": {
          "base_uri": "https://localhost:8080/",
          "height": 469
        },
        "id": "OTIAO4kwLINw",
        "outputId": "13c7dd49-0468-4267-de46-17e03ce0feeb"
      },
      "execution_count": 33,
      "outputs": [
        {
          "output_type": "execute_result",
          "data": {
            "text/plain": [
              "<Axes: title={'center': 'normalized_learning_Rate'}>"
            ]
          },
          "metadata": {},
          "execution_count": 33
        },
        {
          "output_type": "display_data",
          "data": {
            "text/plain": [
              "<Figure size 640x480 with 1 Axes>"
            ],
            "image/png": "[encoded data removed]"
          },
          "metadata": {}
        }
      ]
    },
    {
      "cell_type": "code",
      "source": [
        "#plotting the learning rate\n",
        "import numpy as np\n",
        "import matplotlib.pyplot as plt\n",
        "\n",
        "lrs = 1e-3 * (10**(tf.range(40)/20))\n",
        "\n",
        "plt.semilogx(lrs, norm_model_2_history.history[\"loss\"])\n",
        "plt.xlabel(\"Learning rate\")\n",
        "plt.ylabel(\"loss\")\n",
        "plt.title(\"Finding the ideal learning rate\")"
      ],
      "metadata": {
        "colab": {
          "base_uri": "https://localhost:8080/",
          "height": 813
        },
        "id": "z51rLtwZMqD6",
        "outputId": "edcf34fa-a0f5-4b8d-e8cb-11a5adc0095a"
      },
      "execution_count": 35,
      "outputs": [
        {
          "output_type": "error",
          "ename": "ValueError",
          "evalue": "ignored",
          "traceback": [
            "\u001b[0;31m---------------------------------------------------------------------------\u001b[0m",
            "\u001b[0;31mValueError\u001b[0m                                Traceback (most recent call last)",
            "\u001b[0;32m<ipython-input-35-7a53c30907ae>\u001b[0m in \u001b[0;36m<cell line: 7>\u001b[0;34m()\u001b[0m\n\u001b[1;32m      5\u001b[0m \u001b[0mlrs\u001b[0m \u001b[0;34m=\u001b[0m \u001b[0;36m1e-3\u001b[0m \u001b[0;34m*\u001b[0m \u001b[0;34m(\u001b[0m\u001b[0;36m10\u001b[0m\u001b[0;34m**\u001b[0m\u001b[0;34m(\u001b[0m\u001b[0mtf\u001b[0m\u001b[0;34m.\u001b[0m\u001b[0mrange\u001b[0m\u001b[0;34m(\u001b[0m\u001b[0;36m40\u001b[0m\u001b[0;34m)\u001b[0m\u001b[0;34m/\u001b[0m\u001b[0;36m20\u001b[0m\u001b[0;34m)\u001b[0m\u001b[0;34m)\u001b[0m\u001b[0;34m\u001b[0m\u001b[0;34m\u001b[0m\u001b[0m\n\u001b[1;32m      6\u001b[0m \u001b[0;34m\u001b[0m\u001b[0m\n\u001b[0;32m----> 7\u001b[0;31m \u001b[0mplt\u001b[0m\u001b[0;34m.\u001b[0m\u001b[0msemilogx\u001b[0m\u001b[0;34m(\u001b[0m\u001b[0mlrs\u001b[0m\u001b[0;34m,\u001b[0m \u001b[0mnorm_model_2_history\u001b[0m\u001b[0;34m.\u001b[0m\u001b[0mhistory\u001b[0m\u001b[0;34m[\u001b[0m\u001b[0;34m\"loss\"\u001b[0m\u001b[0;34m]\u001b[0m\u001b[0;34m)\u001b[0m\u001b[0;34m\u001b[0m\u001b[0;34m\u001b[0m\u001b[0m\n\u001b[0m\u001b[1;32m      8\u001b[0m \u001b[0mplt\u001b[0m\u001b[0;34m.\u001b[0m\u001b[0mxlabel\u001b[0m\u001b[0;34m(\u001b[0m\u001b[0;34m\"Learning rate\"\u001b[0m\u001b[0;34m)\u001b[0m\u001b[0;34m\u001b[0m\u001b[0;34m\u001b[0m\u001b[0m\n\u001b[1;32m      9\u001b[0m \u001b[0mplt\u001b[0m\u001b[0;34m.\u001b[0m\u001b[0mylabel\u001b[0m\u001b[0;34m(\u001b[0m\u001b[0;34m\"loss\"\u001b[0m\u001b[0;34m)\u001b[0m\u001b[0;34m\u001b[0m\u001b[0;34m\u001b[0m\u001b[0m\n",
            "\u001b[0;32m/usr/local/lib/python3.10/dist-packages/matplotlib/pyplot.py\u001b[0m in \u001b[0;36msemilogx\u001b[0;34m(*args, **kwargs)\u001b[0m\n\u001b[1;32m   2872\u001b[0m \u001b[0;34m@\u001b[0m\u001b[0m_copy_docstring_and_deprecators\u001b[0m\u001b[0;34m(\u001b[0m\u001b[0mAxes\u001b[0m\u001b[0;34m.\u001b[0m\u001b[0msemilogx\u001b[0m\u001b[0;34m)\u001b[0m\u001b[0;34m\u001b[0m\u001b[0;34m\u001b[0m\u001b[0m\n\u001b[1;32m   2873\u001b[0m \u001b[0;32mdef\u001b[0m \u001b[0msemilogx\u001b[0m\u001b[0;34m(\u001b[0m\u001b[0;34m*\u001b[0m\u001b[0margs\u001b[0m\u001b[0;34m,\u001b[0m \u001b[0;34m**\u001b[0m\u001b[0mkwargs\u001b[0m\u001b[0;34m)\u001b[0m\u001b[0;34m:\u001b[0m\u001b[0;34m\u001b[0m\u001b[0;34m\u001b[0m\u001b[0m\n\u001b[0;32m-> 2874\u001b[0;31m     \u001b[0;32mreturn\u001b[0m \u001b[0mgca\u001b[0m\u001b[0;34m(\u001b[0m\u001b[0;34m)\u001b[0m\u001b[0;34m.\u001b[0m\u001b[0msemilogx\u001b[0m\u001b[0;34m(\u001b[0m\u001b[0;34m*\u001b[0m\u001b[0margs\u001b[0m\u001b[0;34m,\u001b[0m \u001b[0;34m**\u001b[0m\u001b[0mkwargs\u001b[0m\u001b[0;34m)\u001b[0m\u001b[0;34m\u001b[0m\u001b[0;34m\u001b[0m\u001b[0m\n\u001b[0m\u001b[1;32m   2875\u001b[0m \u001b[0;34m\u001b[0m\u001b[0m\n\u001b[1;32m   2876\u001b[0m \u001b[0;34m\u001b[0m\u001b[0m\n",
            "\u001b[0;32m/usr/local/lib/python3.10/dist-packages/matplotlib/axes/_axes.py\u001b[0m in \u001b[0;36msemilogx\u001b[0;34m(self, *args, **kwargs)\u001b[0m\n\u001b[1;32m   1874\u001b[0m                       'basex', 'subsx', 'nonposx']}\n\u001b[1;32m   1875\u001b[0m         \u001b[0mself\u001b[0m\u001b[0;34m.\u001b[0m\u001b[0mset_xscale\u001b[0m\u001b[0;34m(\u001b[0m\u001b[0;34m'log'\u001b[0m\u001b[0;34m,\u001b[0m \u001b[0;34m**\u001b[0m\u001b[0md\u001b[0m\u001b[0;34m)\u001b[0m\u001b[0;34m\u001b[0m\u001b[0;34m\u001b[0m\u001b[0m\n\u001b[0;32m-> 1876\u001b[0;31m         return self.plot(\n\u001b[0m\u001b[1;32m   1877\u001b[0m             *args, **{k: v for k, v in kwargs.items() if k not in d})\n\u001b[1;32m   1878\u001b[0m \u001b[0;34m\u001b[0m\u001b[0m\n",
            "\u001b[0;32m/usr/local/lib/python3.10/dist-packages/matplotlib/axes/_axes.py\u001b[0m in \u001b[0;36mplot\u001b[0;34m(self, scalex, scaley, data, *args, **kwargs)\u001b[0m\n\u001b[1;32m   1686\u001b[0m         \"\"\"\n\u001b[1;32m   1687\u001b[0m         \u001b[0mkwargs\u001b[0m \u001b[0;34m=\u001b[0m \u001b[0mcbook\u001b[0m\u001b[0;34m.\u001b[0m\u001b[0mnormalize_kwargs\u001b[0m\u001b[0;34m(\u001b[0m\u001b[0mkwargs\u001b[0m\u001b[0;34m,\u001b[0m \u001b[0mmlines\u001b[0m\u001b[0;34m.\u001b[0m\u001b[0mLine2D\u001b[0m\u001b[0;34m)\u001b[0m\u001b[0;34m\u001b[0m\u001b[0;34m\u001b[0m\u001b[0m\n\u001b[0;32m-> 1688\u001b[0;31m         \u001b[0mlines\u001b[0m \u001b[0;34m=\u001b[0m \u001b[0;34m[\u001b[0m\u001b[0;34m*\u001b[0m\u001b[0mself\u001b[0m\u001b[0;34m.\u001b[0m\u001b[0m_get_lines\u001b[0m\u001b[0;34m(\u001b[0m\u001b[0;34m*\u001b[0m\u001b[0margs\u001b[0m\u001b[0;34m,\u001b[0m \u001b[0mdata\u001b[0m\u001b[0;34m=\u001b[0m\u001b[0mdata\u001b[0m\u001b[0;34m,\u001b[0m \u001b[0;34m**\u001b[0m\u001b[0mkwargs\u001b[0m\u001b[0;34m)\u001b[0m\u001b[0;34m]\u001b[0m\u001b[0;34m\u001b[0m\u001b[0;34m\u001b[0m\u001b[0m\n\u001b[0m\u001b[1;32m   1689\u001b[0m         \u001b[0;32mfor\u001b[0m \u001b[0mline\u001b[0m \u001b[0;32min\u001b[0m \u001b[0mlines\u001b[0m\u001b[0;34m:\u001b[0m\u001b[0;34m\u001b[0m\u001b[0;34m\u001b[0m\u001b[0m\n\u001b[1;32m   1690\u001b[0m             \u001b[0mself\u001b[0m\u001b[0;34m.\u001b[0m\u001b[0madd_line\u001b[0m\u001b[0;34m(\u001b[0m\u001b[0mline\u001b[0m\u001b[0;34m)\u001b[0m\u001b[0;34m\u001b[0m\u001b[0;34m\u001b[0m\u001b[0m\n",
            "\u001b[0;32m/usr/local/lib/python3.10/dist-packages/matplotlib/axes/_base.py\u001b[0m in \u001b[0;36m__call__\u001b[0;34m(self, data, *args, **kwargs)\u001b[0m\n\u001b[1;32m    309\u001b[0m                 \u001b[0mthis\u001b[0m \u001b[0;34m+=\u001b[0m \u001b[0margs\u001b[0m\u001b[0;34m[\u001b[0m\u001b[0;36m0\u001b[0m\u001b[0;34m]\u001b[0m\u001b[0;34m,\u001b[0m\u001b[0;34m\u001b[0m\u001b[0;34m\u001b[0m\u001b[0m\n\u001b[1;32m    310\u001b[0m                 \u001b[0margs\u001b[0m \u001b[0;34m=\u001b[0m \u001b[0margs\u001b[0m\u001b[0;34m[\u001b[0m\u001b[0;36m1\u001b[0m\u001b[0;34m:\u001b[0m\u001b[0;34m]\u001b[0m\u001b[0;34m\u001b[0m\u001b[0;34m\u001b[0m\u001b[0m\n\u001b[0;32m--> 311\u001b[0;31m             yield from self._plot_args(\n\u001b[0m\u001b[1;32m    312\u001b[0m                 this, kwargs, ambiguous_fmt_datakey=ambiguous_fmt_datakey)\n\u001b[1;32m    313\u001b[0m \u001b[0;34m\u001b[0m\u001b[0m\n",
            "\u001b[0;32m/usr/local/lib/python3.10/dist-packages/matplotlib/axes/_base.py\u001b[0m in \u001b[0;36m_plot_args\u001b[0;34m(self, tup, kwargs, return_kwargs, ambiguous_fmt_datakey)\u001b[0m\n\u001b[1;32m    502\u001b[0m \u001b[0;34m\u001b[0m\u001b[0m\n\u001b[1;32m    503\u001b[0m         \u001b[0;32mif\u001b[0m \u001b[0mx\u001b[0m\u001b[0;34m.\u001b[0m\u001b[0mshape\u001b[0m\u001b[0;34m[\u001b[0m\u001b[0;36m0\u001b[0m\u001b[0;34m]\u001b[0m \u001b[0;34m!=\u001b[0m \u001b[0my\u001b[0m\u001b[0;34m.\u001b[0m\u001b[0mshape\u001b[0m\u001b[0;34m[\u001b[0m\u001b[0;36m0\u001b[0m\u001b[0;34m]\u001b[0m\u001b[0;34m:\u001b[0m\u001b[0;34m\u001b[0m\u001b[0;34m\u001b[0m\u001b[0m\n\u001b[0;32m--> 504\u001b[0;31m             raise ValueError(f\"x and y must have same first dimension, but \"\n\u001b[0m\u001b[1;32m    505\u001b[0m                              f\"have shapes {x.shape} and {y.shape}\")\n\u001b[1;32m    506\u001b[0m         \u001b[0;32mif\u001b[0m \u001b[0mx\u001b[0m\u001b[0;34m.\u001b[0m\u001b[0mndim\u001b[0m \u001b[0;34m>\u001b[0m \u001b[0;36m2\u001b[0m \u001b[0;32mor\u001b[0m \u001b[0my\u001b[0m\u001b[0;34m.\u001b[0m\u001b[0mndim\u001b[0m \u001b[0;34m>\u001b[0m \u001b[0;36m2\u001b[0m\u001b[0;34m:\u001b[0m\u001b[0;34m\u001b[0m\u001b[0;34m\u001b[0m\u001b[0m\n",
            "\u001b[0;31mValueError\u001b[0m: x and y must have same first dimension, but have shapes (40,) and (100,)"
          ]
        },
        {
          "output_type": "display_data",
          "data": {
            "text/plain": [
              "<Figure size 640x480 with 1 Axes>"
            ],
            "image/png": "[encoded data removed]"
          },
          "metadata": {}
        }
      ]
    },
    {
      "cell_type": "code",
      "source": [
        "tf.random.set_seed(42)\n",
        "\n",
        "model_norm_3 = tf.keras.Sequential([\n",
        "    #flatten the shape\n",
        "    tf.keras.layers.Flatten(input_shape =(28,28)),\n",
        "    tf.keras.layers.Dense(100, activation=\"relu\"),\n",
        "    tf.keras.layers.Dense(100, activation=\"relu\"),\n",
        "    tf.keras.layers.Dense(10, activation=\"softmax\"),\n",
        "\n",
        "])\n",
        "\n",
        "model_norm_3.compile(optimizer=tf.keras.optimizers.Adam(0.001),\n",
        "                   loss = tf.keras.losses.SparseCategoricalCrossentropy(),\n",
        "                   metrics=[\"accuracy\"])\n",
        "\n",
        "#but here we are creating the learning rate\n",
        "lr_scheduler = tf.keras.callbacks.LearningRateScheduler(lambda epoch: 1e-3 * 10**(epoch/20))\n",
        "#basically its just every epoch start at the value \"1e-3\"\n",
        "#and slowly increase the learning rate every epoch 10^(epoch/20)\n",
        "\n",
        "norm_model_3_history = model_norm_3.fit(train_data_norm, train_labels, epochs=100 , validation_data=(test_data_norm, test_labels),\n",
        "                                        )\n"
      ],
      "metadata": {
        "colab": {
          "base_uri": "https://localhost:8080/"
        },
        "id": "030tGMyJQPuh",
        "outputId": "e1c6c0df-f092-407f-99ef-63dd84068384"
      },
      "execution_count": 36,
      "outputs": [
        {
          "output_type": "stream",
          "name": "stdout",
          "text": [
            "Epoch 1/100\n",
            "1875/1875 [==============================] - 7s 3ms/step - loss: 0.4902 - accuracy: 0.8256 - val_loss: 0.4173 - val_accuracy: 0.8478\n",
            "Epoch 2/100\n",
            "1875/1875 [==============================] - 7s 4ms/step - loss: 0.3641 - accuracy: 0.8666 - val_loss: 0.4313 - val_accuracy: 0.8516\n",
            "Epoch 3/100\n",
            "1875/1875 [==============================] - 6s 3ms/step - loss: 0.3296 - accuracy: 0.8785 - val_loss: 0.3871 - val_accuracy: 0.8608\n",
            "Epoch 4/100\n",
            "1875/1875 [==============================] - 7s 4ms/step - loss: 0.3073 - accuracy: 0.8873 - val_loss: 0.3804 - val_accuracy: 0.8594\n",
            "Epoch 5/100\n",
            "1875/1875 [==============================] - 6s 3ms/step - loss: 0.2907 - accuracy: 0.8908 - val_loss: 0.3621 - val_accuracy: 0.8686\n",
            "Epoch 6/100\n",
            "1875/1875 [==============================] - 7s 4ms/step - loss: 0.2751 - accuracy: 0.8965 - val_loss: 0.3537 - val_accuracy: 0.8693\n",
            "Epoch 7/100\n",
            "1875/1875 [==============================] - 6s 3ms/step - loss: 0.2656 - accuracy: 0.9006 - val_loss: 0.3631 - val_accuracy: 0.8693\n",
            "Epoch 8/100\n",
            "1875/1875 [==============================] - 7s 4ms/step - loss: 0.2547 - accuracy: 0.9050 - val_loss: 0.3281 - val_accuracy: 0.8829\n",
            "Epoch 9/100\n",
            "1875/1875 [==============================] - 6s 3ms/step - loss: 0.2449 - accuracy: 0.9066 - val_loss: 0.3330 - val_accuracy: 0.8836\n",
            "Epoch 10/100\n",
            "1875/1875 [==============================] - 7s 4ms/step - loss: 0.2369 - accuracy: 0.9099 - val_loss: 0.3292 - val_accuracy: 0.8864\n",
            "Epoch 11/100\n",
            "1875/1875 [==============================] - 6s 3ms/step - loss: 0.2281 - accuracy: 0.9127 - val_loss: 0.3254 - val_accuracy: 0.8878\n",
            "Epoch 12/100\n",
            "1875/1875 [==============================] - 7s 4ms/step - loss: 0.2218 - accuracy: 0.9158 - val_loss: 0.3407 - val_accuracy: 0.8875\n",
            "Epoch 13/100\n",
            "1875/1875 [==============================] - 6s 3ms/step - loss: 0.2129 - accuracy: 0.9195 - val_loss: 0.3363 - val_accuracy: 0.8829\n",
            "Epoch 14/100\n",
            "1875/1875 [==============================] - 8s 4ms/step - loss: 0.2081 - accuracy: 0.9207 - val_loss: 0.3410 - val_accuracy: 0.8904\n",
            "Epoch 15/100\n",
            "1875/1875 [==============================] - 6s 3ms/step - loss: 0.2023 - accuracy: 0.9231 - val_loss: 0.3450 - val_accuracy: 0.8891\n",
            "Epoch 16/100\n",
            "1875/1875 [==============================] - 7s 4ms/step - loss: 0.1938 - accuracy: 0.9272 - val_loss: 0.3638 - val_accuracy: 0.8876\n",
            "Epoch 17/100\n",
            "1875/1875 [==============================] - 6s 3ms/step - loss: 0.1889 - accuracy: 0.9271 - val_loss: 0.3460 - val_accuracy: 0.8907\n",
            "Epoch 18/100\n",
            "1875/1875 [==============================] - 7s 4ms/step - loss: 0.1841 - accuracy: 0.9296 - val_loss: 0.3464 - val_accuracy: 0.8893\n",
            "Epoch 19/100\n",
            "1875/1875 [==============================] - 6s 3ms/step - loss: 0.1796 - accuracy: 0.9308 - val_loss: 0.3668 - val_accuracy: 0.8866\n",
            "Epoch 20/100\n",
            "1875/1875 [==============================] - 7s 4ms/step - loss: 0.1756 - accuracy: 0.9330 - val_loss: 0.4053 - val_accuracy: 0.8852\n",
            "Epoch 21/100\n",
            "1875/1875 [==============================] - 6s 3ms/step - loss: 0.1727 - accuracy: 0.9347 - val_loss: 0.3591 - val_accuracy: 0.8959\n",
            "Epoch 22/100\n",
            "1875/1875 [==============================] - 7s 4ms/step - loss: 0.1662 - accuracy: 0.9363 - val_loss: 0.3895 - val_accuracy: 0.8879\n",
            "Epoch 23/100\n",
            "1875/1875 [==============================] - 6s 3ms/step - loss: 0.1630 - accuracy: 0.9363 - val_loss: 0.3775 - val_accuracy: 0.8883\n",
            "Epoch 24/100\n",
            "1875/1875 [==============================] - 7s 4ms/step - loss: 0.1598 - accuracy: 0.9390 - val_loss: 0.3683 - val_accuracy: 0.8914\n",
            "Epoch 25/100\n",
            "1875/1875 [==============================] - 6s 3ms/step - loss: 0.1569 - accuracy: 0.9395 - val_loss: 0.4165 - val_accuracy: 0.8882\n",
            "Epoch 26/100\n",
            "1875/1875 [==============================] - 7s 4ms/step - loss: 0.1533 - accuracy: 0.9410 - val_loss: 0.3898 - val_accuracy: 0.8882\n",
            "Epoch 27/100\n",
            "1875/1875 [==============================] - 6s 3ms/step - loss: 0.1483 - accuracy: 0.9431 - val_loss: 0.4062 - val_accuracy: 0.8918\n",
            "Epoch 28/100\n",
            "1875/1875 [==============================] - 7s 4ms/step - loss: 0.1454 - accuracy: 0.9439 - val_loss: 0.4215 - val_accuracy: 0.8846\n",
            "Epoch 29/100\n",
            "1875/1875 [==============================] - 6s 3ms/step - loss: 0.1425 - accuracy: 0.9459 - val_loss: 0.4015 - val_accuracy: 0.8962\n",
            "Epoch 30/100\n",
            "1875/1875 [==============================] - 7s 4ms/step - loss: 0.1385 - accuracy: 0.9469 - val_loss: 0.4373 - val_accuracy: 0.8880\n",
            "Epoch 31/100\n",
            "1875/1875 [==============================] - 6s 3ms/step - loss: 0.1385 - accuracy: 0.9472 - val_loss: 0.4306 - val_accuracy: 0.8903\n",
            "Epoch 32/100\n",
            "1875/1875 [==============================] - 7s 4ms/step - loss: 0.1329 - accuracy: 0.9500 - val_loss: 0.4237 - val_accuracy: 0.8925\n",
            "Epoch 33/100\n",
            "1875/1875 [==============================] - 6s 3ms/step - loss: 0.1332 - accuracy: 0.9491 - val_loss: 0.4439 - val_accuracy: 0.8914\n",
            "Epoch 34/100\n",
            "1875/1875 [==============================] - 7s 3ms/step - loss: 0.1280 - accuracy: 0.9503 - val_loss: 0.4449 - val_accuracy: 0.8901\n",
            "Epoch 35/100\n",
            "1875/1875 [==============================] - 6s 3ms/step - loss: 0.1274 - accuracy: 0.9509 - val_loss: 0.4507 - val_accuracy: 0.8908\n",
            "Epoch 36/100\n",
            "1875/1875 [==============================] - 7s 4ms/step - loss: 0.1236 - accuracy: 0.9525 - val_loss: 0.4514 - val_accuracy: 0.8978\n",
            "Epoch 37/100\n",
            "1875/1875 [==============================] - 6s 3ms/step - loss: 0.1235 - accuracy: 0.9527 - val_loss: 0.4684 - val_accuracy: 0.8926\n",
            "Epoch 38/100\n",
            "1875/1875 [==============================] - 7s 4ms/step - loss: 0.1205 - accuracy: 0.9531 - val_loss: 0.4738 - val_accuracy: 0.8882\n",
            "Epoch 39/100\n",
            "1875/1875 [==============================] - 6s 3ms/step - loss: 0.1186 - accuracy: 0.9546 - val_loss: 0.4945 - val_accuracy: 0.8895\n",
            "Epoch 40/100\n",
            "1875/1875 [==============================] - 6s 3ms/step - loss: 0.1135 - accuracy: 0.9555 - val_loss: 0.4888 - val_accuracy: 0.8938\n",
            "Epoch 41/100\n",
            "1875/1875 [==============================] - 6s 3ms/step - loss: 0.1138 - accuracy: 0.9560 - val_loss: 0.4831 - val_accuracy: 0.8920\n",
            "Epoch 42/100\n",
            "1875/1875 [==============================] - 7s 4ms/step - loss: 0.1117 - accuracy: 0.9574 - val_loss: 0.5233 - val_accuracy: 0.8923\n",
            "Epoch 43/100\n",
            "1875/1875 [==============================] - 6s 3ms/step - loss: 0.1079 - accuracy: 0.9582 - val_loss: 0.5241 - val_accuracy: 0.8909\n",
            "Epoch 44/100\n",
            "1875/1875 [==============================] - 6s 3ms/step - loss: 0.1080 - accuracy: 0.9581 - val_loss: 0.4971 - val_accuracy: 0.8910\n",
            "Epoch 45/100\n",
            "1875/1875 [==============================] - 6s 3ms/step - loss: 0.1081 - accuracy: 0.9589 - val_loss: 0.5673 - val_accuracy: 0.8886\n",
            "Epoch 46/100\n",
            "1875/1875 [==============================] - 6s 3ms/step - loss: 0.1048 - accuracy: 0.9596 - val_loss: 0.5214 - val_accuracy: 0.8906\n",
            "Epoch 47/100\n",
            "1875/1875 [==============================] - 6s 3ms/step - loss: 0.1019 - accuracy: 0.9609 - val_loss: 0.5947 - val_accuracy: 0.8852\n",
            "Epoch 48/100\n",
            "1875/1875 [==============================] - 7s 4ms/step - loss: 0.0985 - accuracy: 0.9617 - val_loss: 0.5458 - val_accuracy: 0.8805\n",
            "Epoch 49/100\n",
            "1875/1875 [==============================] - 6s 3ms/step - loss: 0.1000 - accuracy: 0.9618 - val_loss: 0.5482 - val_accuracy: 0.8901\n",
            "Epoch 50/100\n",
            "1875/1875 [==============================] - 6s 3ms/step - loss: 0.0956 - accuracy: 0.9634 - val_loss: 0.5857 - val_accuracy: 0.8867\n",
            "Epoch 51/100\n",
            "1875/1875 [==============================] - 6s 3ms/step - loss: 0.0980 - accuracy: 0.9624 - val_loss: 0.5709 - val_accuracy: 0.8853\n",
            "Epoch 52/100\n",
            "1875/1875 [==============================] - 6s 3ms/step - loss: 0.0921 - accuracy: 0.9646 - val_loss: 0.5862 - val_accuracy: 0.8903\n",
            "Epoch 53/100\n",
            "1875/1875 [==============================] - 6s 3ms/step - loss: 0.0953 - accuracy: 0.9640 - val_loss: 0.5834 - val_accuracy: 0.8924\n",
            "Epoch 54/100\n",
            "1875/1875 [==============================] - 6s 3ms/step - loss: 0.0925 - accuracy: 0.9646 - val_loss: 0.6226 - val_accuracy: 0.8880\n",
            "Epoch 55/100\n",
            "1875/1875 [==============================] - 7s 4ms/step - loss: 0.0925 - accuracy: 0.9645 - val_loss: 0.5858 - val_accuracy: 0.8936\n",
            "Epoch 56/100\n",
            "1875/1875 [==============================] - 6s 3ms/step - loss: 0.0909 - accuracy: 0.9656 - val_loss: 0.6037 - val_accuracy: 0.8935\n",
            "Epoch 57/100\n",
            "1875/1875 [==============================] - 7s 4ms/step - loss: 0.0857 - accuracy: 0.9677 - val_loss: 0.6197 - val_accuracy: 0.8892\n",
            "Epoch 58/100\n",
            "1875/1875 [==============================] - 6s 3ms/step - loss: 0.0899 - accuracy: 0.9662 - val_loss: 0.6101 - val_accuracy: 0.8928\n",
            "Epoch 59/100\n",
            "1875/1875 [==============================] - 7s 4ms/step - loss: 0.0862 - accuracy: 0.9670 - val_loss: 0.6236 - val_accuracy: 0.8919\n",
            "Epoch 60/100\n",
            "1875/1875 [==============================] - 6s 3ms/step - loss: 0.0835 - accuracy: 0.9684 - val_loss: 0.6163 - val_accuracy: 0.8909\n",
            "Epoch 61/100\n",
            "1875/1875 [==============================] - 7s 4ms/step - loss: 0.0851 - accuracy: 0.9675 - val_loss: 0.6043 - val_accuracy: 0.8890\n",
            "Epoch 62/100\n",
            "1875/1875 [==============================] - 6s 3ms/step - loss: 0.0805 - accuracy: 0.9696 - val_loss: 0.6386 - val_accuracy: 0.8936\n",
            "Epoch 63/100\n",
            "1875/1875 [==============================] - 7s 4ms/step - loss: 0.0816 - accuracy: 0.9690 - val_loss: 0.6530 - val_accuracy: 0.8944\n",
            "Epoch 64/100\n",
            "1875/1875 [==============================] - 6s 3ms/step - loss: 0.0815 - accuracy: 0.9693 - val_loss: 0.7012 - val_accuracy: 0.8910\n",
            "Epoch 65/100\n",
            "1875/1875 [==============================] - 7s 4ms/step - loss: 0.0767 - accuracy: 0.9709 - val_loss: 0.6574 - val_accuracy: 0.8950\n",
            "Epoch 66/100\n",
            "1875/1875 [==============================] - 6s 3ms/step - loss: 0.0784 - accuracy: 0.9706 - val_loss: 0.6690 - val_accuracy: 0.8923\n",
            "Epoch 67/100\n",
            "1875/1875 [==============================] - 7s 4ms/step - loss: 0.0761 - accuracy: 0.9713 - val_loss: 0.6912 - val_accuracy: 0.8896\n",
            "Epoch 68/100\n",
            "1875/1875 [==============================] - 6s 3ms/step - loss: 0.0748 - accuracy: 0.9714 - val_loss: 0.6697 - val_accuracy: 0.8902\n",
            "Epoch 69/100\n",
            "1875/1875 [==============================] - 7s 4ms/step - loss: 0.0728 - accuracy: 0.9725 - val_loss: 0.7323 - val_accuracy: 0.8907\n",
            "Epoch 70/100\n",
            "1875/1875 [==============================] - 6s 3ms/step - loss: 0.0771 - accuracy: 0.9718 - val_loss: 0.7272 - val_accuracy: 0.8881\n",
            "Epoch 71/100\n",
            "1875/1875 [==============================] - 7s 4ms/step - loss: 0.0747 - accuracy: 0.9719 - val_loss: 0.7072 - val_accuracy: 0.8896\n",
            "Epoch 72/100\n",
            "1875/1875 [==============================] - 6s 3ms/step - loss: 0.0728 - accuracy: 0.9725 - val_loss: 0.7369 - val_accuracy: 0.8869\n",
            "Epoch 73/100\n",
            "1875/1875 [==============================] - 7s 4ms/step - loss: 0.0725 - accuracy: 0.9724 - val_loss: 0.7645 - val_accuracy: 0.8862\n",
            "Epoch 74/100\n",
            "1875/1875 [==============================] - 6s 3ms/step - loss: 0.0709 - accuracy: 0.9734 - val_loss: 0.7523 - val_accuracy: 0.8849\n",
            "Epoch 75/100\n",
            "1875/1875 [==============================] - 7s 4ms/step - loss: 0.0701 - accuracy: 0.9737 - val_loss: 0.7506 - val_accuracy: 0.8885\n",
            "Epoch 76/100\n",
            "1875/1875 [==============================] - 6s 3ms/step - loss: 0.0732 - accuracy: 0.9734 - val_loss: 0.7542 - val_accuracy: 0.8941\n",
            "Epoch 77/100\n",
            "1875/1875 [==============================] - 7s 4ms/step - loss: 0.0679 - accuracy: 0.9739 - val_loss: 0.7754 - val_accuracy: 0.8872\n",
            "Epoch 78/100\n",
            "1875/1875 [==============================] - 6s 3ms/step - loss: 0.0688 - accuracy: 0.9737 - val_loss: 0.7918 - val_accuracy: 0.8897\n",
            "Epoch 79/100\n",
            "1875/1875 [==============================] - 7s 4ms/step - loss: 0.0653 - accuracy: 0.9760 - val_loss: 0.8270 - val_accuracy: 0.8910\n",
            "Epoch 80/100\n",
            "1875/1875 [==============================] - 6s 3ms/step - loss: 0.0674 - accuracy: 0.9750 - val_loss: 0.7800 - val_accuracy: 0.8873\n",
            "Epoch 81/100\n",
            "1875/1875 [==============================] - 7s 4ms/step - loss: 0.0636 - accuracy: 0.9760 - val_loss: 0.7934 - val_accuracy: 0.8895\n",
            "Epoch 82/100\n",
            "1875/1875 [==============================] - 6s 3ms/step - loss: 0.0698 - accuracy: 0.9731 - val_loss: 0.7827 - val_accuracy: 0.8894\n",
            "Epoch 83/100\n",
            "1875/1875 [==============================] - 7s 4ms/step - loss: 0.0629 - accuracy: 0.9772 - val_loss: 0.7909 - val_accuracy: 0.8890\n",
            "Epoch 84/100\n",
            "1875/1875 [==============================] - 6s 3ms/step - loss: 0.0630 - accuracy: 0.9765 - val_loss: 0.8842 - val_accuracy: 0.8862\n",
            "Epoch 85/100\n",
            "1875/1875 [==============================] - 7s 4ms/step - loss: 0.0656 - accuracy: 0.9757 - val_loss: 0.8198 - val_accuracy: 0.8879\n",
            "Epoch 86/100\n",
            "1875/1875 [==============================] - 6s 3ms/step - loss: 0.0632 - accuracy: 0.9766 - val_loss: 0.7967 - val_accuracy: 0.8906\n",
            "Epoch 87/100\n",
            "1875/1875 [==============================] - 7s 4ms/step - loss: 0.0581 - accuracy: 0.9775 - val_loss: 0.8922 - val_accuracy: 0.8873\n",
            "Epoch 88/100\n",
            "1875/1875 [==============================] - 6s 3ms/step - loss: 0.0624 - accuracy: 0.9764 - val_loss: 0.8794 - val_accuracy: 0.8872\n",
            "Epoch 89/100\n",
            "1875/1875 [==============================] - 7s 4ms/step - loss: 0.0584 - accuracy: 0.9783 - val_loss: 0.8602 - val_accuracy: 0.8881\n",
            "Epoch 90/100\n",
            "1875/1875 [==============================] - 6s 3ms/step - loss: 0.0612 - accuracy: 0.9772 - val_loss: 0.8760 - val_accuracy: 0.8868\n",
            "Epoch 91/100\n",
            "1875/1875 [==============================] - 7s 4ms/step - loss: 0.0608 - accuracy: 0.9773 - val_loss: 0.8705 - val_accuracy: 0.8864\n",
            "Epoch 92/100\n",
            "1875/1875 [==============================] - 6s 3ms/step - loss: 0.0554 - accuracy: 0.9793 - val_loss: 0.8817 - val_accuracy: 0.8864\n",
            "Epoch 93/100\n",
            "1875/1875 [==============================] - 7s 4ms/step - loss: 0.0589 - accuracy: 0.9782 - val_loss: 0.8939 - val_accuracy: 0.8894\n",
            "Epoch 94/100\n",
            "1875/1875 [==============================] - 6s 3ms/step - loss: 0.0569 - accuracy: 0.9790 - val_loss: 0.9032 - val_accuracy: 0.8863\n",
            "Epoch 95/100\n",
            "1875/1875 [==============================] - 7s 4ms/step - loss: 0.0594 - accuracy: 0.9776 - val_loss: 0.9146 - val_accuracy: 0.8910\n",
            "Epoch 96/100\n",
            "1875/1875 [==============================] - 6s 3ms/step - loss: 0.0586 - accuracy: 0.9782 - val_loss: 0.9137 - val_accuracy: 0.8909\n",
            "Epoch 97/100\n",
            "1875/1875 [==============================] - 7s 4ms/step - loss: 0.0539 - accuracy: 0.9801 - val_loss: 0.9017 - val_accuracy: 0.8912\n",
            "Epoch 98/100\n",
            "1875/1875 [==============================] - 6s 3ms/step - loss: 0.0561 - accuracy: 0.9792 - val_loss: 0.9371 - val_accuracy: 0.8893\n",
            "Epoch 99/100\n",
            "1875/1875 [==============================] - 7s 4ms/step - loss: 0.0546 - accuracy: 0.9798 - val_loss: 0.9465 - val_accuracy: 0.8830\n",
            "Epoch 100/100\n",
            "1875/1875 [==============================] - 6s 3ms/step - loss: 0.0579 - accuracy: 0.9790 - val_loss: 0.9467 - val_accuracy: 0.8880\n"
          ]
        }
      ]
    },
    {
      "cell_type": "code",
      "source": [
        "pd.DataFrame(norm_model_3_history.history).plot(title=\"normalized_learning_Rate\")"
      ],
      "metadata": {
        "colab": {
          "base_uri": "https://localhost:8080/",
          "height": 469
        },
        "id": "jVNU9hDJd1OF",
        "outputId": "8ec44f9a-c529-428f-cdc1-d9b321c29aa7"
      },
      "execution_count": 37,
      "outputs": [
        {
          "output_type": "execute_result",
          "data": {
            "text/plain": [
              "<Axes: title={'center': 'normalized_learning_Rate'}>"
            ]
          },
          "metadata": {},
          "execution_count": 37
        },
        {
          "output_type": "display_data",
          "data": {
            "text/plain": [
              "<Figure size 640x480 with 1 Axes>"
            ],
            "image/png": "[encoded data removed]"
          },
          "metadata": {}
        }
      ]
    },
    {
      "cell_type": "code",
      "source": [],
      "metadata": {
        "id": "-24ircInd1Bd"
      },
      "execution_count": null,
      "outputs": []
    }
  ]
}